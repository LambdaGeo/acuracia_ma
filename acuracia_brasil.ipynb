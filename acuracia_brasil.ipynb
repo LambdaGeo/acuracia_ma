{
 "cells": [
  {
   "cell_type": "markdown",
   "metadata": {},
   "source": [
    "# Avaliação de desempenho"
   ]
  },
  {
   "cell_type": "markdown",
   "metadata": {},
   "source": [
    "Esse bate corrretamente com o que é gerado pelo codigo do repositorio"
   ]
  },
  {
   "cell_type": "markdown",
   "metadata": {
    "vscode": {
     "languageId": "plaintext"
    }
   },
   "source": [
    "## Imports"
   ]
  },
  {
   "cell_type": "code",
   "execution_count": 276,
   "metadata": {},
   "outputs": [],
   "source": [
    "import pandas as pd\n",
    "import numpy as np\n",
    "import json\n"
   ]
  },
  {
   "cell_type": "markdown",
   "metadata": {},
   "source": [
    "## Parâmetros e configurações"
   ]
  },
  {
   "cell_type": "code",
   "execution_count": 1085,
   "metadata": {},
   "outputs": [],
   "source": [
    "level = 'l1'\n",
    "path_acc = 'dados/completo_acc_mapbiomas_80_2022.csv'\n",
    "path_class_settings = 'dados/config_classes.json'\n",
    "path_strata = 'dados/strata.csv'"
   ]
  },
  {
   "cell_type": "markdown",
   "metadata": {},
   "source": [
    "ficar identico ao gerado pelo algoritmo do mapbiomas"
   ]
  },
  {
   "cell_type": "code",
   "execution_count": 1086,
   "metadata": {},
   "outputs": [],
   "source": [
    "IGNORED_CLASSES = [0]\n",
    "ALL_CLASSES = {\n",
    "    0: {\n",
    "        \"l1_val\": 0,\n",
    "        \"l1\": \"6. Não Observado\",\n",
    "        \"l2_val\": 0,\n",
    "        \"l2\": \"6. Não Observado\",\n",
    "        \"l3_val\": 0,\n",
    "        \"l3\": \"6. Não Observado\"\n",
    "    },\n",
    "    3: {\n",
    "        \"l1_val\": 1,\n",
    "        \"l1\": \"1. Floresta\",\n",
    "        \"l2_val\": 3,\n",
    "        \"l2\": \"1.1. Formação Florestal\",\n",
    "        \"l3_val\": 3,\n",
    "        \"l3\": \"1.1. Formação Florestal\"\n",
    "    },\n",
    "    4: {\n",
    "        \"l1_val\": 1,\n",
    "        \"l1\": \"1. Floresta\",\n",
    "        \"l2_val\": 4,\n",
    "        \"l2\": \"1.2. Formação Savânica\",\n",
    "        \"l3_val\": 4,\n",
    "        \"l3\": \"1.2. Formação Savânica\"\n",
    "    },\n",
    "    5: {\n",
    "        \"l1_val\": 1,\n",
    "        \"l1\": \"1. Floresta\",\n",
    "        \"l2_val\": 5,\n",
    "        \"l2\": \"1.3. Mangue\",\n",
    "        \"l3_val\": 5,\n",
    "        \"l3\": \"1.3. Mangue\"\n",
    "    },\n",
    "    9: {\n",
    "        \"l1_val\": 14,\n",
    "        \"l1\": \"3. Agropecuária\",\n",
    "        \"l2_val\": 9,\n",
    "        \"l2\": \"3.3. Floresta Plantada\",\n",
    "        \"l3_val\": 9,\n",
    "        \"l3\": \"3.3. Floresta Plantada\"\n",
    "    },\n",
    "    11: {\n",
    "        \"l1_val\": 10,\n",
    "        \"l1\": \"2. Formação Natural não Florestal\",\n",
    "        \"l2_val\": 11,\n",
    "        \"l2\": \"2.1. Campo Alagado e Área Pantanosa\",\n",
    "        \"l3_val\": 11,\n",
    "        \"l3\": \"2.1. Campo Alagado e Área Pantanosa\"\n",
    "    },\n",
    "    12: {\n",
    "        \"l1_val\": 10,\n",
    "        \"l1\": \"2. Formação Natural não Florestal\",\n",
    "        \"l2_val\": 12,\n",
    "        \"l2\": \"2.2. Formação Campestre (Campo)\",\n",
    "        \"l3_val\": 12,\n",
    "        \"l3\": \"2.2. Formação Campestre (Campo)\"\n",
    "    },\n",
    "    13: {\n",
    "        \"l1_val\": 10,\n",
    "        \"l1\": \"2. Formação Natural não Florestal\",\n",
    "        \"l2_val\": 13,\n",
    "        \"l2\": \"2.6. Outra Formação não Florestal\",\n",
    "        \"l3_val\": 13,\n",
    "        \"l3\": \"2.6. Outra Formação não Florestal\"\n",
    "    },\n",
    "    15: {\n",
    "        \"l1_val\": 14,\n",
    "        \"l1\": \"3. Agropecuária\",\n",
    "        \"l2_val\": 15,\n",
    "        \"l2\": \"3.1. Pastagem\",\n",
    "        \"l3_val\": 15,\n",
    "        \"l3\": \"3.1. Pastagem\"\n",
    "    },\n",
    "    19: {\n",
    "        \"l1_val\": 14,\n",
    "        \"l1\": \"3. Agropecuária\",\n",
    "        \"l2_val\": 18,\n",
    "        \"l2\": \"3.2. Agricultura\",\n",
    "        \"l3_val\": 19,\n",
    "        \"l3\": \"3.2.1. Lavoura Temporária\"\n",
    "    },\n",
    "    20: {\n",
    "        \"l1_val\": 14,\n",
    "        \"l1\": \"3. Agropecuária\",\n",
    "        \"l2_val\": 18,\n",
    "        \"l2\": \"3.2. Agricultura\",\n",
    "        \"l3_val\": 20,\n",
    "        \"l3\": \"3.2.2. Lavoura Perene\"\n",
    "    },\n",
    "    21: {\n",
    "        \"l1_val\": 14,\n",
    "        \"l1\": \"3. Agropecuária\",\n",
    "        \"l2_val\": 21,\n",
    "        \"l2\": \"3.4. Mosaico de Usos\",\n",
    "        \"l3_val\": 21,\n",
    "        \"l3\": \"3.4. Mosaico de Usos\"\n",
    "    },\n",
    "    23: {\n",
    "        \"l1_val\": 22,\n",
    "        \"l1\": \"4. Área não Vegetada\",\n",
    "        \"l2_val\": 23,\n",
    "        \"l2\": \"4.1. Praia e Duna\",\n",
    "        \"l3_val\": 23,\n",
    "        \"l3\": \"4.1. Praia e Duna\"\n",
    "    },\n",
    "    24: {\n",
    "        \"l1_val\": 22,\n",
    "        \"l1\": \"4. Área não Vegetada\",\n",
    "        \"l2_val\": 24,\n",
    "        \"l2\": \"4.2. Infraestrutura Urbana\",\n",
    "        \"l3_val\": 24,\n",
    "        \"l3\": \"4.2. Infraestrutura Urbana\"\n",
    "    },\n",
    "    25: {\n",
    "        \"l1_val\": 22,\n",
    "        \"l1\": \"4. Área não Vegetada\",\n",
    "        \"l2_val\": 25,\n",
    "        \"l2\": \"4.4. Outra Área não Vegetada\",\n",
    "        \"l3_val\": 25,\n",
    "        \"l3\": \"4.4. Outra Área não Vegetada\"\n",
    "    },\n",
    "    29: {\n",
    "        \"l1_val\": 10,\n",
    "        \"l1\": \"2. Formação Natural não Florestal\",\n",
    "        \"l2_val\": 29,\n",
    "        \"l2\": \"2.4. Afloramento Rochoso\",\n",
    "        \"l3_val\": 29,\n",
    "        \"l3\": \"2.4. Afloramento Rochoso\"\n",
    "    },\n",
    "    30: {\n",
    "        \"l1_val\": 22,\n",
    "        \"l1\": \"4. Área não Vegetada\",\n",
    "        \"l2_val\": 30,\n",
    "        \"l2\": \"4.3. Mineração\",\n",
    "        \"l3_val\": 30,\n",
    "        \"l3\": \"4.3. Mineração\"\n",
    "    },\n",
    "    31: {\n",
    "        \"l1_val\": 26,\n",
    "        \"l1\": \"5. Corpo D'água\",\n",
    "        \"l2_val\": 63,\n",
    "        \"l2\": \"5.2. Corpos D'Água Artificiais\",\n",
    "        \"l3_val\": 31,\n",
    "        \"l3\": \"5.2. Aquicultura\"\n",
    "    },\n",
    "    32: {\n",
    "        \"l1_val\": 10,\n",
    "        \"l1\": \"2. Formação Natural não Florestal\",\n",
    "        \"l2_val\": 32,\n",
    "        \"l2\": \"2.3. Apicum\",\n",
    "        \"l3_val\": 32,\n",
    "        \"l3\": \"2.3. Apicum\"\n",
    "    },\n",
    "    33: {\n",
    "        \"l1_val\": 26,\n",
    "        \"l1\": \"5. Corpo D'água\",\n",
    "        \"l2_val\": 33,\n",
    "        \"l2\": \"5.1. Rio, Lago e Oceano\",\n",
    "        \"l3_val\": 33,\n",
    "        \"l3\": \"5.1. Rio, Lago e Oceano\"\n",
    "    },\n",
    "    36: {\n",
    "        \"l1_val\": 14,\n",
    "        \"l1\": \"3. Agropecuária\",\n",
    "        \"l2_val\": 18,\n",
    "        \"l2\": \"3.2. Agricultura\",\n",
    "        \"l3_val\": 36,\n",
    "        \"l3\": \"3.2.2. Lavoura Perene\"\n",
    "    },\n",
    "    39: {\n",
    "        \"l1_val\": 14,\n",
    "        \"l1\": \"3. Agropecuária\",\n",
    "        \"l2_val\": 18,\n",
    "        \"l2\": \"3.2. Agricultura\",\n",
    "        \"l3_val\": 19,\n",
    "        \"l3\": \"3.2.1. Lavoura Temporária\",\n",
    "        #\"l4_val\": 39,\n",
    "        #\"l4\": \"3.2.2.1. Soja\"\n",
    "    },\n",
    "    40: {\n",
    "        \"l1_val\": 14,\n",
    "        \"l1\": \"3. Agropecuária\",\n",
    "        \"l2_val\": 18,\n",
    "        \"l2\": \"3.2. Agricultura\",\n",
    "        \"l3_val\": 19,\n",
    "        \"l3\": \"3.2.1. Lavoura Temporária\",\n",
    "        #\"l4_val\": 40,\n",
    "        #\"l4\": \"3.2.2.3. Arroz\"\n",
    "    },\n",
    "    41: {\n",
    "        \"l1_val\": 14,\n",
    "        \"l1\": \"3. Agropecuária\",\n",
    "        \"l2_val\": 18,\n",
    "        \"l2\": \"3.2. Agricultura\",\n",
    "        \"l3_val\": 19,\n",
    "        \"l3\": \"3.2.1. Lavoura Temporária\",\n",
    "        #\"l4_val\": 41,\n",
    "        #\"l4\": \"3.2.1.3. Outras Lavouras Temporárias\"\n",
    "    },\n",
    "    46: {\n",
    "        \"l1_val\": 14,\n",
    "        \"l1\": \"3. Agropecuária\",\n",
    "        \"l2_val\": 18,\n",
    "        \"l2\": \"3.2. Agricultura\",\n",
    "        \"l3_val\": 19,\n",
    "        \"l3\": \"3.2.1. Lavoura Temporária\",\n",
    "        #\"l4_val\": 46,\n",
    "        #\"l4\": \"3.2.1.1. Café\"\n",
    "    },\n",
    "    47: {\n",
    "        \"l1_val\": 14,\n",
    "        \"l1\": \"3. Agropecuária\",\n",
    "        \"l2_val\": 18,\n",
    "        \"l2\": \"3.2. Agricultura\",\n",
    "        \"l3_val\": 19,\n",
    "        \"l3\": \"3.2.1. Lavoura Temporária\",\n",
    "        #\"l4_val\": 47,\n",
    "        #\"l4\": \"3.2.1.2. Citrus\"\n",
    "    },\n",
    "    48: {\n",
    "        \"l1_val\": 14,\n",
    "        \"l1\": \"3. Agropecuária\",\n",
    "        \"l2_val\": 18,\n",
    "        \"l2\": \"3.2. Agricultura\",\n",
    "        \"l3_val\": 19,\n",
    "        \"l3\": \"3.2.1. Lavoura Temporária\",\n",
    "        #\"l4_val\": 48,\n",
    "        #\"l4\": \" 3.2.2.3. Outras Lavoura Perene\"\n",
    "    },\n",
    "    49: {\n",
    "        \"l1_val\": 1,\n",
    "        \"l1\": \"1. Floresta\",\n",
    "        \"l2_val\": 2,\n",
    "        \"l2\": \"1.4. Restinga Florestal\",\n",
    "        \"l3_val\": 49,\n",
    "        \"l3\": \"1.4. Restinga Florestal\"\n",
    "    },\n",
    "    50: {\n",
    "        \"l1_val\": 10,\n",
    "        \"l1\": \"2. Formação Natural não Florestal\",\n",
    "        \"l2_val\": 50,\n",
    "        \"l2\": \"2.5. Restinga Herbácea/Arbustiva\",\n",
    "        \"l3_val\": 50,\n",
    "        \"l3\": \"2.5. Restinga Herbácea/Arbustiva\"\n",
    "    },\n",
    "    62: {\n",
    "        \"l1_val\": 14,\n",
    "        \"l1\": \"3. Agropecuária\",\n",
    "        \"l2_val\": 18,\n",
    "        \"l2\": \"3.2. Agricultura\",\n",
    "        \"l3_val\": 19,\n",
    "        \"l3\": \"3.2.1. Lavoura Temporária\",\n",
    "        #\"l4_val\": 62,\n",
    "        #\"l4\": \"3.2.1.4. Algodão (beta)\"\n",
    "    },\n",
    "    63: {\n",
    "        \"l1_val\": 26,\n",
    "        \"l1\": \"5. Corpo D'água\",\n",
    "        \"l2_val\": 63,\n",
    "        \"l2\": \"5.2. Corpos D'Água Artificiais\",\n",
    "        \"l3_val\": 63,\n",
    "        \"l3\": \"5.2. Corpos D'Água Artificiais\"\n",
    "    },\n",
    "}"
   ]
  },
  {
   "cell_type": "markdown",
   "metadata": {},
   "source": [
    "## Entrada de dados"
   ]
  },
  {
   "cell_type": "markdown",
   "metadata": {},
   "source": [
    "Arquivo com os dados de classificação e os dados de referencia de 2022, gerado no google earth engine:\n",
    "\n",
    "https://code.earthengine.google.com/365963f4785378c21da4b24fa43061fb\n",
    "\n",
    "so adicionado como limite o grupode de cartas SA-23-Z"
   ]
  },
  {
   "cell_type": "code",
   "execution_count": 1130,
   "metadata": {},
   "outputs": [
    {
     "data": {
      "text/html": [
       "<div>\n",
       "<style scoped>\n",
       "    .dataframe tbody tr th:only-of-type {\n",
       "        vertical-align: middle;\n",
       "    }\n",
       "\n",
       "    .dataframe tbody tr th {\n",
       "        vertical-align: top;\n",
       "    }\n",
       "\n",
       "    .dataframe thead th {\n",
       "        text-align: right;\n",
       "    }\n",
       "</style>\n",
       "<table border=\"1\" class=\"dataframe\">\n",
       "  <thead>\n",
       "    <tr style=\"text-align: right;\">\n",
       "      <th></th>\n",
       "      <th>system:index</th>\n",
       "      <th>AMOSTRAS</th>\n",
       "      <th>AMOSTRA_AM</th>\n",
       "      <th>BioNB</th>\n",
       "      <th>CARTA_2</th>\n",
       "      <th>CLASS_2022</th>\n",
       "      <th>DECLIVIDAD</th>\n",
       "      <th>LAT</th>\n",
       "      <th>LON</th>\n",
       "      <th>NEW_PROB</th>\n",
       "      <th>NEW_WEIGHT</th>\n",
       "      <th>PESO_VOT</th>\n",
       "      <th>PROB_AMOS2</th>\n",
       "      <th>StateNB</th>\n",
       "      <th>TARGETID</th>\n",
       "      <th>VAL_PESO</th>\n",
       "      <th>classification</th>\n",
       "      <th>reference</th>\n",
       "      <th>year</th>\n",
       "      <th>.geo</th>\n",
       "    </tr>\n",
       "  </thead>\n",
       "  <tbody>\n",
       "    <tr>\n",
       "      <th>0</th>\n",
       "      <td>00000000000000003933_0</td>\n",
       "      <td>NaN</td>\n",
       "      <td>0</td>\n",
       "      <td>1</td>\n",
       "      <td>NA-20-X</td>\n",
       "      <td>AFLORAMENTO ROCHOSO</td>\n",
       "      <td>D5</td>\n",
       "      <td>2.516093</td>\n",
       "      <td>-60.778254</td>\n",
       "      <td>0.000007</td>\n",
       "      <td>92529.595041</td>\n",
       "      <td>0.000009</td>\n",
       "      <td>0.000009</td>\n",
       "      <td>14.0</td>\n",
       "      <td>26026</td>\n",
       "      <td>1.0</td>\n",
       "      <td>15</td>\n",
       "      <td>29</td>\n",
       "      <td>2022</td>\n",
       "      <td>{\"type\":\"MultiPoint\",\"coordinates\":[]}</td>\n",
       "    </tr>\n",
       "    <tr>\n",
       "      <th>1</th>\n",
       "      <td>000000000000000059a4_0</td>\n",
       "      <td>NaN</td>\n",
       "      <td>0</td>\n",
       "      <td>4</td>\n",
       "      <td>SC-23-X</td>\n",
       "      <td>AFLORAMENTO ROCHOSO</td>\n",
       "      <td>D5</td>\n",
       "      <td>-8.858734</td>\n",
       "      <td>-44.489462</td>\n",
       "      <td>0.000009</td>\n",
       "      <td>85959.795918</td>\n",
       "      <td>0.000010</td>\n",
       "      <td>0.000010</td>\n",
       "      <td>22.0</td>\n",
       "      <td>13274</td>\n",
       "      <td>1.0</td>\n",
       "      <td>4</td>\n",
       "      <td>29</td>\n",
       "      <td>2022</td>\n",
       "      <td>{\"type\":\"MultiPoint\",\"coordinates\":[]}</td>\n",
       "    </tr>\n",
       "    <tr>\n",
       "      <th>2</th>\n",
       "      <td>00000000000000006029_0</td>\n",
       "      <td>NaN</td>\n",
       "      <td>0</td>\n",
       "      <td>5</td>\n",
       "      <td>SA-24-Y</td>\n",
       "      <td>AFLORAMENTO ROCHOSO</td>\n",
       "      <td>D5</td>\n",
       "      <td>-3.365356</td>\n",
       "      <td>-41.021875</td>\n",
       "      <td>0.000017</td>\n",
       "      <td>58387.785714</td>\n",
       "      <td>0.000017</td>\n",
       "      <td>0.000017</td>\n",
       "      <td>23.0</td>\n",
       "      <td>19011</td>\n",
       "      <td>1.0</td>\n",
       "      <td>4</td>\n",
       "      <td>29</td>\n",
       "      <td>2022</td>\n",
       "      <td>{\"type\":\"MultiPoint\",\"coordinates\":[]}</td>\n",
       "    </tr>\n",
       "    <tr>\n",
       "      <th>3</th>\n",
       "      <td>0000000000000000652b_0</td>\n",
       "      <td>NaN</td>\n",
       "      <td>0</td>\n",
       "      <td>5</td>\n",
       "      <td>SB-24-X</td>\n",
       "      <td>AFLORAMENTO ROCHOSO</td>\n",
       "      <td>D3</td>\n",
       "      <td>-5.854408</td>\n",
       "      <td>-36.804285</td>\n",
       "      <td>0.000011</td>\n",
       "      <td>53284.850977</td>\n",
       "      <td>0.000014</td>\n",
       "      <td>0.000014</td>\n",
       "      <td>24.0</td>\n",
       "      <td>20507</td>\n",
       "      <td>1.0</td>\n",
       "      <td>4</td>\n",
       "      <td>29</td>\n",
       "      <td>2022</td>\n",
       "      <td>{\"type\":\"MultiPoint\",\"coordinates\":[]}</td>\n",
       "    </tr>\n",
       "    <tr>\n",
       "      <th>4</th>\n",
       "      <td>0000000000000000753d_0</td>\n",
       "      <td>NaN</td>\n",
       "      <td>0</td>\n",
       "      <td>5</td>\n",
       "      <td>SC-24-Y</td>\n",
       "      <td>AFLORAMENTO ROCHOSO</td>\n",
       "      <td>D5</td>\n",
       "      <td>-11.615394</td>\n",
       "      <td>-40.545678</td>\n",
       "      <td>0.000007</td>\n",
       "      <td>96068.611111</td>\n",
       "      <td>0.000009</td>\n",
       "      <td>0.000009</td>\n",
       "      <td>29.0</td>\n",
       "      <td>10954</td>\n",
       "      <td>1.0</td>\n",
       "      <td>4</td>\n",
       "      <td>29</td>\n",
       "      <td>2022</td>\n",
       "      <td>{\"type\":\"MultiPoint\",\"coordinates\":[]}</td>\n",
       "    </tr>\n",
       "  </tbody>\n",
       "</table>\n",
       "</div>"
      ],
      "text/plain": [
       "             system:index AMOSTRAS  AMOSTRA_AM  BioNB  CARTA_2  \\\n",
       "0  00000000000000003933_0      NaN           0      1  NA-20-X   \n",
       "1  000000000000000059a4_0      NaN           0      4  SC-23-X   \n",
       "2  00000000000000006029_0      NaN           0      5  SA-24-Y   \n",
       "3  0000000000000000652b_0      NaN           0      5  SB-24-X   \n",
       "4  0000000000000000753d_0      NaN           0      5  SC-24-Y   \n",
       "\n",
       "            CLASS_2022 DECLIVIDAD        LAT        LON  NEW_PROB  \\\n",
       "0  AFLORAMENTO ROCHOSO         D5   2.516093 -60.778254  0.000007   \n",
       "1  AFLORAMENTO ROCHOSO         D5  -8.858734 -44.489462  0.000009   \n",
       "2  AFLORAMENTO ROCHOSO         D5  -3.365356 -41.021875  0.000017   \n",
       "3  AFLORAMENTO ROCHOSO         D3  -5.854408 -36.804285  0.000011   \n",
       "4  AFLORAMENTO ROCHOSO         D5 -11.615394 -40.545678  0.000007   \n",
       "\n",
       "     NEW_WEIGHT  PESO_VOT  PROB_AMOS2  StateNB  TARGETID  VAL_PESO  \\\n",
       "0  92529.595041  0.000009    0.000009     14.0     26026       1.0   \n",
       "1  85959.795918  0.000010    0.000010     22.0     13274       1.0   \n",
       "2  58387.785714  0.000017    0.000017     23.0     19011       1.0   \n",
       "3  53284.850977  0.000014    0.000014     24.0     20507       1.0   \n",
       "4  96068.611111  0.000009    0.000009     29.0     10954       1.0   \n",
       "\n",
       "   classification  reference  year                                    .geo  \n",
       "0              15         29  2022  {\"type\":\"MultiPoint\",\"coordinates\":[]}  \n",
       "1               4         29  2022  {\"type\":\"MultiPoint\",\"coordinates\":[]}  \n",
       "2               4         29  2022  {\"type\":\"MultiPoint\",\"coordinates\":[]}  \n",
       "3               4         29  2022  {\"type\":\"MultiPoint\",\"coordinates\":[]}  \n",
       "4               4         29  2022  {\"type\":\"MultiPoint\",\"coordinates\":[]}  "
      ]
     },
     "execution_count": 1130,
     "metadata": {},
     "output_type": "execute_result"
    }
   ],
   "source": [
    "df_acc = pd.read_csv(path_acc)\n",
    "df_acc.head()"
   ]
  },
  {
   "cell_type": "markdown",
   "metadata": {},
   "source": [
    "apenas as amostras SA23-Z"
   ]
  },
  {
   "cell_type": "code",
   "execution_count": 1131,
   "metadata": {},
   "outputs": [
    {
     "data": {
      "text/plain": [
       "(75035, 20)"
      ]
     },
     "execution_count": 1131,
     "metadata": {},
     "output_type": "execute_result"
    }
   ],
   "source": [
    "df_acc.shape"
   ]
  },
  {
   "cell_type": "markdown",
   "metadata": {},
   "source": [
    "Configuracao com as classes"
   ]
  },
  {
   "cell_type": "code",
   "execution_count": 1132,
   "metadata": {},
   "outputs": [
    {
     "data": {
      "text/plain": [
       "[0, 31, 32, 30, 25, 23, 5, 29]"
      ]
     },
     "execution_count": 1132,
     "metadata": {},
     "output_type": "execute_result"
    }
   ],
   "source": [
    "with open(path_class_settings, 'r') as arquivo:\n",
    "    config_classes = json.load(arquivo)\n",
    "config_classes['IGNORED_CLASSES']"
   ]
  },
  {
   "cell_type": "code",
   "execution_count": 1133,
   "metadata": {},
   "outputs": [],
   "source": [
    "#all_classes = config_classes['ALL_CLASSES']\n",
    "#valor_removido = all_classes.pop('6')\n",
    "#valor_removido"
   ]
  },
  {
   "cell_type": "code",
   "execution_count": 1134,
   "metadata": {},
   "outputs": [],
   "source": [
    "#config_classes['ALL_CLASSES'] = all_classes"
   ]
  },
  {
   "cell_type": "markdown",
   "metadata": {},
   "source": [
    "Para não ignorar essas classes:"
   ]
  },
  {
   "cell_type": "code",
   "execution_count": 1135,
   "metadata": {},
   "outputs": [
    {
     "data": {
      "text/plain": [
       "[0, 31, 32, 30, 25, 23, 5, 29]"
      ]
     },
     "execution_count": 1135,
     "metadata": {},
     "output_type": "execute_result"
    }
   ],
   "source": [
    "#config_classes['IGNORED_CLASSES'] = [0]\n",
    "config_classes['IGNORED_CLASSES']"
   ]
  },
  {
   "cell_type": "markdown",
   "metadata": {},
   "source": [
    "Aqui, não irei usar o arquivo points_strata.csv, pois os dados do target_id estao errados na coleção das amostras"
   ]
  },
  {
   "cell_type": "markdown",
   "metadata": {},
   "source": [
    "pegarei apenas o dadoq que tem a populacao por estrato"
   ]
  },
  {
   "cell_type": "code",
   "execution_count": 1136,
   "metadata": {},
   "outputs": [
    {
     "data": {
      "text/html": [
       "<div>\n",
       "<style scoped>\n",
       "    .dataframe tbody tr th:only-of-type {\n",
       "        vertical-align: middle;\n",
       "    }\n",
       "\n",
       "    .dataframe tbody tr th {\n",
       "        vertical-align: top;\n",
       "    }\n",
       "\n",
       "    .dataframe thead th {\n",
       "        text-align: right;\n",
       "    }\n",
       "</style>\n",
       "<table border=\"1\" class=\"dataframe\">\n",
       "  <thead>\n",
       "    <tr style=\"text-align: right;\">\n",
       "      <th></th>\n",
       "      <th>strata_id</th>\n",
       "      <th>pop</th>\n",
       "    </tr>\n",
       "  </thead>\n",
       "  <tbody>\n",
       "    <tr>\n",
       "      <th>0</th>\n",
       "      <td>SH-21-Z_D1</td>\n",
       "      <td>22049360.0</td>\n",
       "    </tr>\n",
       "    <tr>\n",
       "      <th>1</th>\n",
       "      <td>SI-22-V_D1</td>\n",
       "      <td>19367713.0</td>\n",
       "    </tr>\n",
       "    <tr>\n",
       "      <th>2</th>\n",
       "      <td>SF-24-V_D1</td>\n",
       "      <td>4483278.0</td>\n",
       "    </tr>\n",
       "    <tr>\n",
       "      <th>3</th>\n",
       "      <td>SF-23-Z_D1</td>\n",
       "      <td>3193040.0</td>\n",
       "    </tr>\n",
       "    <tr>\n",
       "      <th>4</th>\n",
       "      <td>SC-24-Z_D1</td>\n",
       "      <td>18863275.0</td>\n",
       "    </tr>\n",
       "  </tbody>\n",
       "</table>\n",
       "</div>"
      ],
      "text/plain": [
       "    strata_id         pop\n",
       "0  SH-21-Z_D1  22049360.0\n",
       "1  SI-22-V_D1  19367713.0\n",
       "2  SF-24-V_D1   4483278.0\n",
       "3  SF-23-Z_D1   3193040.0\n",
       "4  SC-24-Z_D1  18863275.0"
      ]
     },
     "execution_count": 1136,
     "metadata": {},
     "output_type": "execute_result"
    }
   ],
   "source": [
    "df_strata = pd.read_csv(path_strata)\n",
    "df_strata.head()"
   ]
  },
  {
   "cell_type": "code",
   "execution_count": 1137,
   "metadata": {},
   "outputs": [
    {
     "data": {
      "text/plain": [
       "(762, 2)"
      ]
     },
     "execution_count": 1137,
     "metadata": {},
     "output_type": "execute_result"
    }
   ],
   "source": [
    "df_strata.shape ## todas os estratos"
   ]
  },
  {
   "cell_type": "markdown",
   "metadata": {},
   "source": [
    "## Tratamento de dados"
   ]
  },
  {
   "cell_type": "markdown",
   "metadata": {},
   "source": [
    "### Gerando a coluna strata_id como no codigo do mapbiomas"
   ]
  },
  {
   "cell_type": "code",
   "execution_count": 1138,
   "metadata": {},
   "outputs": [],
   "source": [
    "points_strata = pd.read_csv('dados/points_strata.csv')"
   ]
  },
  {
   "cell_type": "code",
   "execution_count": 1139,
   "metadata": {},
   "outputs": [
    {
     "data": {
      "text/html": [
       "<div>\n",
       "<style scoped>\n",
       "    .dataframe tbody tr th:only-of-type {\n",
       "        vertical-align: middle;\n",
       "    }\n",
       "\n",
       "    .dataframe tbody tr th {\n",
       "        vertical-align: top;\n",
       "    }\n",
       "\n",
       "    .dataframe thead th {\n",
       "        text-align: right;\n",
       "    }\n",
       "</style>\n",
       "<table border=\"1\" class=\"dataframe\">\n",
       "  <thead>\n",
       "    <tr style=\"text-align: right;\">\n",
       "      <th></th>\n",
       "      <th>system:index</th>\n",
       "      <th>AMOSTRAS</th>\n",
       "      <th>AMOSTRA_AM</th>\n",
       "      <th>BioNB</th>\n",
       "      <th>CARTA_2</th>\n",
       "      <th>CLASS_2022</th>\n",
       "      <th>DECLIVIDAD</th>\n",
       "      <th>LAT</th>\n",
       "      <th>LON</th>\n",
       "      <th>NEW_PROB</th>\n",
       "      <th>...</th>\n",
       "      <th>PESO_VOT</th>\n",
       "      <th>PROB_AMOS2</th>\n",
       "      <th>StateNB</th>\n",
       "      <th>TARGETID</th>\n",
       "      <th>VAL_PESO</th>\n",
       "      <th>classification</th>\n",
       "      <th>reference</th>\n",
       "      <th>year</th>\n",
       "      <th>.geo</th>\n",
       "      <th>strata_id</th>\n",
       "    </tr>\n",
       "  </thead>\n",
       "  <tbody>\n",
       "    <tr>\n",
       "      <th>0</th>\n",
       "      <td>00000000000000003933_0</td>\n",
       "      <td>NaN</td>\n",
       "      <td>0</td>\n",
       "      <td>1</td>\n",
       "      <td>NA-20-X</td>\n",
       "      <td>AFLORAMENTO ROCHOSO</td>\n",
       "      <td>D5</td>\n",
       "      <td>2.516093</td>\n",
       "      <td>-60.778254</td>\n",
       "      <td>0.000007</td>\n",
       "      <td>...</td>\n",
       "      <td>0.000009</td>\n",
       "      <td>0.000009</td>\n",
       "      <td>14.0</td>\n",
       "      <td>26026</td>\n",
       "      <td>1.0</td>\n",
       "      <td>15</td>\n",
       "      <td>29</td>\n",
       "      <td>2022</td>\n",
       "      <td>{\"type\":\"MultiPoint\",\"coordinates\":[]}</td>\n",
       "      <td>NA-20-X_D5</td>\n",
       "    </tr>\n",
       "    <tr>\n",
       "      <th>1</th>\n",
       "      <td>000000000000000059a4_0</td>\n",
       "      <td>NaN</td>\n",
       "      <td>0</td>\n",
       "      <td>4</td>\n",
       "      <td>SC-23-X</td>\n",
       "      <td>AFLORAMENTO ROCHOSO</td>\n",
       "      <td>D5</td>\n",
       "      <td>-8.858734</td>\n",
       "      <td>-44.489462</td>\n",
       "      <td>0.000009</td>\n",
       "      <td>...</td>\n",
       "      <td>0.000010</td>\n",
       "      <td>0.000010</td>\n",
       "      <td>22.0</td>\n",
       "      <td>13274</td>\n",
       "      <td>1.0</td>\n",
       "      <td>4</td>\n",
       "      <td>29</td>\n",
       "      <td>2022</td>\n",
       "      <td>{\"type\":\"MultiPoint\",\"coordinates\":[]}</td>\n",
       "      <td>SC-23-Z_D2</td>\n",
       "    </tr>\n",
       "    <tr>\n",
       "      <th>2</th>\n",
       "      <td>00000000000000006029_0</td>\n",
       "      <td>NaN</td>\n",
       "      <td>0</td>\n",
       "      <td>5</td>\n",
       "      <td>SA-24-Y</td>\n",
       "      <td>AFLORAMENTO ROCHOSO</td>\n",
       "      <td>D5</td>\n",
       "      <td>-3.365356</td>\n",
       "      <td>-41.021875</td>\n",
       "      <td>0.000017</td>\n",
       "      <td>...</td>\n",
       "      <td>0.000017</td>\n",
       "      <td>0.000017</td>\n",
       "      <td>23.0</td>\n",
       "      <td>19011</td>\n",
       "      <td>1.0</td>\n",
       "      <td>4</td>\n",
       "      <td>29</td>\n",
       "      <td>2022</td>\n",
       "      <td>{\"type\":\"MultiPoint\",\"coordinates\":[]}</td>\n",
       "      <td>SA-24-Y_D5</td>\n",
       "    </tr>\n",
       "    <tr>\n",
       "      <th>3</th>\n",
       "      <td>0000000000000000652b_0</td>\n",
       "      <td>NaN</td>\n",
       "      <td>0</td>\n",
       "      <td>5</td>\n",
       "      <td>SB-24-X</td>\n",
       "      <td>AFLORAMENTO ROCHOSO</td>\n",
       "      <td>D3</td>\n",
       "      <td>-5.854408</td>\n",
       "      <td>-36.804285</td>\n",
       "      <td>0.000011</td>\n",
       "      <td>...</td>\n",
       "      <td>0.000014</td>\n",
       "      <td>0.000014</td>\n",
       "      <td>24.0</td>\n",
       "      <td>20507</td>\n",
       "      <td>1.0</td>\n",
       "      <td>4</td>\n",
       "      <td>29</td>\n",
       "      <td>2022</td>\n",
       "      <td>{\"type\":\"MultiPoint\",\"coordinates\":[]}</td>\n",
       "      <td>SB-24-X_D3</td>\n",
       "    </tr>\n",
       "    <tr>\n",
       "      <th>4</th>\n",
       "      <td>0000000000000000753d_0</td>\n",
       "      <td>NaN</td>\n",
       "      <td>0</td>\n",
       "      <td>5</td>\n",
       "      <td>SC-24-Y</td>\n",
       "      <td>AFLORAMENTO ROCHOSO</td>\n",
       "      <td>D5</td>\n",
       "      <td>-11.615394</td>\n",
       "      <td>-40.545678</td>\n",
       "      <td>0.000007</td>\n",
       "      <td>...</td>\n",
       "      <td>0.000009</td>\n",
       "      <td>0.000009</td>\n",
       "      <td>29.0</td>\n",
       "      <td>10954</td>\n",
       "      <td>1.0</td>\n",
       "      <td>4</td>\n",
       "      <td>29</td>\n",
       "      <td>2022</td>\n",
       "      <td>{\"type\":\"MultiPoint\",\"coordinates\":[]}</td>\n",
       "      <td>SD-24-Y_D3</td>\n",
       "    </tr>\n",
       "  </tbody>\n",
       "</table>\n",
       "<p>5 rows × 21 columns</p>\n",
       "</div>"
      ],
      "text/plain": [
       "             system:index AMOSTRAS  AMOSTRA_AM  BioNB  CARTA_2  \\\n",
       "0  00000000000000003933_0      NaN           0      1  NA-20-X   \n",
       "1  000000000000000059a4_0      NaN           0      4  SC-23-X   \n",
       "2  00000000000000006029_0      NaN           0      5  SA-24-Y   \n",
       "3  0000000000000000652b_0      NaN           0      5  SB-24-X   \n",
       "4  0000000000000000753d_0      NaN           0      5  SC-24-Y   \n",
       "\n",
       "            CLASS_2022 DECLIVIDAD        LAT        LON  NEW_PROB  ...  \\\n",
       "0  AFLORAMENTO ROCHOSO         D5   2.516093 -60.778254  0.000007  ...   \n",
       "1  AFLORAMENTO ROCHOSO         D5  -8.858734 -44.489462  0.000009  ...   \n",
       "2  AFLORAMENTO ROCHOSO         D5  -3.365356 -41.021875  0.000017  ...   \n",
       "3  AFLORAMENTO ROCHOSO         D3  -5.854408 -36.804285  0.000011  ...   \n",
       "4  AFLORAMENTO ROCHOSO         D5 -11.615394 -40.545678  0.000007  ...   \n",
       "\n",
       "   PESO_VOT  PROB_AMOS2  StateNB  TARGETID  VAL_PESO  classification  \\\n",
       "0  0.000009    0.000009     14.0     26026       1.0              15   \n",
       "1  0.000010    0.000010     22.0     13274       1.0               4   \n",
       "2  0.000017    0.000017     23.0     19011       1.0               4   \n",
       "3  0.000014    0.000014     24.0     20507       1.0               4   \n",
       "4  0.000009    0.000009     29.0     10954       1.0               4   \n",
       "\n",
       "   reference  year                                    .geo   strata_id  \n",
       "0         29  2022  {\"type\":\"MultiPoint\",\"coordinates\":[]}  NA-20-X_D5  \n",
       "1         29  2022  {\"type\":\"MultiPoint\",\"coordinates\":[]}  SC-23-Z_D2  \n",
       "2         29  2022  {\"type\":\"MultiPoint\",\"coordinates\":[]}  SA-24-Y_D5  \n",
       "3         29  2022  {\"type\":\"MultiPoint\",\"coordinates\":[]}  SB-24-X_D3  \n",
       "4         29  2022  {\"type\":\"MultiPoint\",\"coordinates\":[]}  SD-24-Y_D3  \n",
       "\n",
       "[5 rows x 21 columns]"
      ]
     },
     "execution_count": 1139,
     "metadata": {},
     "output_type": "execute_result"
    }
   ],
   "source": [
    "df = pd.merge(df_acc, points_strata, how='inner', on='TARGETID')\n",
    "df.head()"
   ]
  },
  {
   "cell_type": "markdown",
   "metadata": {},
   "source": [
    "### Gerando a coluna strata_id"
   ]
  },
  {
   "cell_type": "markdown",
   "metadata": {},
   "source": [
    "como os estrato id estao errados nos dados que tive acesso no mapbiomas, vou criar o estrato id com base no dado do estrato e da declividade"
   ]
  },
  {
   "cell_type": "code",
   "execution_count": 1140,
   "metadata": {},
   "outputs": [],
   "source": [
    "#df_acc['strata_id'] = df_acc[\"CARTA_2\"] + \"_\" + df_acc[\"DECLIVIDAD\"]"
   ]
  },
  {
   "cell_type": "markdown",
   "metadata": {},
   "source": [
    "verificando os estratos"
   ]
  },
  {
   "cell_type": "code",
   "execution_count": 1141,
   "metadata": {},
   "outputs": [],
   "source": [
    "#df_acc[\"strata_id\"].unique()"
   ]
  },
  {
   "cell_type": "markdown",
   "metadata": {},
   "source": [
    "### Pegando os dados dado da populacao"
   ]
  },
  {
   "cell_type": "code",
   "execution_count": 1142,
   "metadata": {},
   "outputs": [
    {
     "ename": "KeyError",
     "evalue": "'strata_id'",
     "output_type": "error",
     "traceback": [
      "\u001b[0;31m---------------------------------------------------------------------------\u001b[0m",
      "\u001b[0;31mKeyError\u001b[0m                                  Traceback (most recent call last)",
      "\u001b[0;32m/tmp/ipykernel_942353/1204479063.py\u001b[0m in \u001b[0;36m?\u001b[0;34m()\u001b[0m\n\u001b[0;32m----> 1\u001b[0;31m \u001b[0mdf_acc\u001b[0m \u001b[0;34m=\u001b[0m \u001b[0mpd\u001b[0m\u001b[0;34m.\u001b[0m\u001b[0mmerge\u001b[0m\u001b[0;34m(\u001b[0m\u001b[0mdf_acc\u001b[0m\u001b[0;34m,\u001b[0m \u001b[0mdf_strata\u001b[0m\u001b[0;34m,\u001b[0m \u001b[0mhow\u001b[0m\u001b[0;34m=\u001b[0m\u001b[0;34m'inner'\u001b[0m\u001b[0;34m,\u001b[0m \u001b[0mon\u001b[0m\u001b[0;34m=\u001b[0m\u001b[0;34m\"strata_id\"\u001b[0m\u001b[0;34m)\u001b[0m\u001b[0;34m\u001b[0m\u001b[0;34m\u001b[0m\u001b[0m\n\u001b[0m\u001b[1;32m      2\u001b[0m \u001b[0mdf_acc\u001b[0m\u001b[0;34m.\u001b[0m\u001b[0mhead\u001b[0m\u001b[0;34m(\u001b[0m\u001b[0;34m)\u001b[0m\u001b[0;34m\u001b[0m\u001b[0;34m\u001b[0m\u001b[0m\n",
      "\u001b[0;32m~/dev/acuracia_ma/.venv/lib/python3.10/site-packages/pandas/core/reshape/merge.py\u001b[0m in \u001b[0;36m?\u001b[0;34m(left, right, how, on, left_on, right_on, left_index, right_index, sort, suffixes, copy, indicator, validate)\u001b[0m\n\u001b[1;32m    166\u001b[0m             \u001b[0mvalidate\u001b[0m\u001b[0;34m=\u001b[0m\u001b[0mvalidate\u001b[0m\u001b[0;34m,\u001b[0m\u001b[0;34m\u001b[0m\u001b[0;34m\u001b[0m\u001b[0m\n\u001b[1;32m    167\u001b[0m             \u001b[0mcopy\u001b[0m\u001b[0;34m=\u001b[0m\u001b[0mcopy\u001b[0m\u001b[0;34m,\u001b[0m\u001b[0;34m\u001b[0m\u001b[0;34m\u001b[0m\u001b[0m\n\u001b[1;32m    168\u001b[0m         )\n\u001b[1;32m    169\u001b[0m     \u001b[0;32melse\u001b[0m\u001b[0;34m:\u001b[0m\u001b[0;34m\u001b[0m\u001b[0;34m\u001b[0m\u001b[0m\n\u001b[0;32m--> 170\u001b[0;31m         op = _MergeOperation(\n\u001b[0m\u001b[1;32m    171\u001b[0m             \u001b[0mleft_df\u001b[0m\u001b[0;34m,\u001b[0m\u001b[0;34m\u001b[0m\u001b[0;34m\u001b[0m\u001b[0m\n\u001b[1;32m    172\u001b[0m             \u001b[0mright_df\u001b[0m\u001b[0;34m,\u001b[0m\u001b[0;34m\u001b[0m\u001b[0;34m\u001b[0m\u001b[0m\n\u001b[1;32m    173\u001b[0m             \u001b[0mhow\u001b[0m\u001b[0;34m=\u001b[0m\u001b[0mhow\u001b[0m\u001b[0;34m,\u001b[0m\u001b[0;34m\u001b[0m\u001b[0;34m\u001b[0m\u001b[0m\n",
      "\u001b[0;32m~/dev/acuracia_ma/.venv/lib/python3.10/site-packages/pandas/core/reshape/merge.py\u001b[0m in \u001b[0;36m?\u001b[0;34m(self, left, right, how, on, left_on, right_on, left_index, right_index, sort, suffixes, indicator, validate)\u001b[0m\n\u001b[1;32m    790\u001b[0m             \u001b[0mself\u001b[0m\u001b[0;34m.\u001b[0m\u001b[0mright_join_keys\u001b[0m\u001b[0;34m,\u001b[0m\u001b[0;34m\u001b[0m\u001b[0;34m\u001b[0m\u001b[0m\n\u001b[1;32m    791\u001b[0m             \u001b[0mself\u001b[0m\u001b[0;34m.\u001b[0m\u001b[0mjoin_names\u001b[0m\u001b[0;34m,\u001b[0m\u001b[0;34m\u001b[0m\u001b[0;34m\u001b[0m\u001b[0m\n\u001b[1;32m    792\u001b[0m             \u001b[0mleft_drop\u001b[0m\u001b[0;34m,\u001b[0m\u001b[0;34m\u001b[0m\u001b[0;34m\u001b[0m\u001b[0m\n\u001b[1;32m    793\u001b[0m             \u001b[0mright_drop\u001b[0m\u001b[0;34m,\u001b[0m\u001b[0;34m\u001b[0m\u001b[0;34m\u001b[0m\u001b[0m\n\u001b[0;32m--> 794\u001b[0;31m         ) = self._get_merge_keys()\n\u001b[0m\u001b[1;32m    795\u001b[0m \u001b[0;34m\u001b[0m\u001b[0m\n\u001b[1;32m    796\u001b[0m         \u001b[0;32mif\u001b[0m \u001b[0mleft_drop\u001b[0m\u001b[0;34m:\u001b[0m\u001b[0;34m\u001b[0m\u001b[0;34m\u001b[0m\u001b[0m\n\u001b[1;32m    797\u001b[0m             \u001b[0mself\u001b[0m\u001b[0;34m.\u001b[0m\u001b[0mleft\u001b[0m \u001b[0;34m=\u001b[0m \u001b[0mself\u001b[0m\u001b[0;34m.\u001b[0m\u001b[0mleft\u001b[0m\u001b[0;34m.\u001b[0m\u001b[0m_drop_labels_or_levels\u001b[0m\u001b[0;34m(\u001b[0m\u001b[0mleft_drop\u001b[0m\u001b[0;34m)\u001b[0m\u001b[0;34m\u001b[0m\u001b[0;34m\u001b[0m\u001b[0m\n",
      "\u001b[0;32m~/dev/acuracia_ma/.venv/lib/python3.10/site-packages/pandas/core/reshape/merge.py\u001b[0m in \u001b[0;36m?\u001b[0;34m(self)\u001b[0m\n\u001b[1;32m   1306\u001b[0m                     \u001b[0;32mif\u001b[0m \u001b[0mlk\u001b[0m \u001b[0;32mis\u001b[0m \u001b[0;32mnot\u001b[0m \u001b[0;32mNone\u001b[0m\u001b[0;34m:\u001b[0m\u001b[0;34m\u001b[0m\u001b[0;34m\u001b[0m\u001b[0m\n\u001b[1;32m   1307\u001b[0m                         \u001b[0;31m# Then we're either Hashable or a wrong-length arraylike,\u001b[0m\u001b[0;34m\u001b[0m\u001b[0;34m\u001b[0m\u001b[0m\n\u001b[1;32m   1308\u001b[0m                         \u001b[0;31m#  the latter of which will raise\u001b[0m\u001b[0;34m\u001b[0m\u001b[0;34m\u001b[0m\u001b[0m\n\u001b[1;32m   1309\u001b[0m                         \u001b[0mlk\u001b[0m \u001b[0;34m=\u001b[0m \u001b[0mcast\u001b[0m\u001b[0;34m(\u001b[0m\u001b[0mHashable\u001b[0m\u001b[0;34m,\u001b[0m \u001b[0mlk\u001b[0m\u001b[0;34m)\u001b[0m\u001b[0;34m\u001b[0m\u001b[0;34m\u001b[0m\u001b[0m\n\u001b[0;32m-> 1310\u001b[0;31m                         \u001b[0mleft_keys\u001b[0m\u001b[0;34m.\u001b[0m\u001b[0mappend\u001b[0m\u001b[0;34m(\u001b[0m\u001b[0mleft\u001b[0m\u001b[0;34m.\u001b[0m\u001b[0m_get_label_or_level_values\u001b[0m\u001b[0;34m(\u001b[0m\u001b[0mlk\u001b[0m\u001b[0;34m)\u001b[0m\u001b[0;34m)\u001b[0m\u001b[0;34m\u001b[0m\u001b[0;34m\u001b[0m\u001b[0m\n\u001b[0m\u001b[1;32m   1311\u001b[0m                         \u001b[0mjoin_names\u001b[0m\u001b[0;34m.\u001b[0m\u001b[0mappend\u001b[0m\u001b[0;34m(\u001b[0m\u001b[0mlk\u001b[0m\u001b[0;34m)\u001b[0m\u001b[0;34m\u001b[0m\u001b[0;34m\u001b[0m\u001b[0m\n\u001b[1;32m   1312\u001b[0m                     \u001b[0;32melse\u001b[0m\u001b[0;34m:\u001b[0m\u001b[0;34m\u001b[0m\u001b[0;34m\u001b[0m\u001b[0m\n\u001b[1;32m   1313\u001b[0m                         \u001b[0;31m# work-around for merge_asof(left_index=True)\u001b[0m\u001b[0;34m\u001b[0m\u001b[0;34m\u001b[0m\u001b[0m\n",
      "\u001b[0;32m~/dev/acuracia_ma/.venv/lib/python3.10/site-packages/pandas/core/generic.py\u001b[0m in \u001b[0;36m?\u001b[0;34m(self, key, axis)\u001b[0m\n\u001b[1;32m   1907\u001b[0m             \u001b[0mvalues\u001b[0m \u001b[0;34m=\u001b[0m \u001b[0mself\u001b[0m\u001b[0;34m.\u001b[0m\u001b[0mxs\u001b[0m\u001b[0;34m(\u001b[0m\u001b[0mkey\u001b[0m\u001b[0;34m,\u001b[0m \u001b[0maxis\u001b[0m\u001b[0;34m=\u001b[0m\u001b[0mother_axes\u001b[0m\u001b[0;34m[\u001b[0m\u001b[0;36m0\u001b[0m\u001b[0;34m]\u001b[0m\u001b[0;34m)\u001b[0m\u001b[0;34m.\u001b[0m\u001b[0m_values\u001b[0m\u001b[0;34m\u001b[0m\u001b[0;34m\u001b[0m\u001b[0m\n\u001b[1;32m   1908\u001b[0m         \u001b[0;32melif\u001b[0m \u001b[0mself\u001b[0m\u001b[0;34m.\u001b[0m\u001b[0m_is_level_reference\u001b[0m\u001b[0;34m(\u001b[0m\u001b[0mkey\u001b[0m\u001b[0;34m,\u001b[0m \u001b[0maxis\u001b[0m\u001b[0;34m=\u001b[0m\u001b[0maxis\u001b[0m\u001b[0;34m)\u001b[0m\u001b[0;34m:\u001b[0m\u001b[0;34m\u001b[0m\u001b[0;34m\u001b[0m\u001b[0m\n\u001b[1;32m   1909\u001b[0m             \u001b[0mvalues\u001b[0m \u001b[0;34m=\u001b[0m \u001b[0mself\u001b[0m\u001b[0;34m.\u001b[0m\u001b[0maxes\u001b[0m\u001b[0;34m[\u001b[0m\u001b[0maxis\u001b[0m\u001b[0;34m]\u001b[0m\u001b[0;34m.\u001b[0m\u001b[0mget_level_values\u001b[0m\u001b[0;34m(\u001b[0m\u001b[0mkey\u001b[0m\u001b[0;34m)\u001b[0m\u001b[0;34m.\u001b[0m\u001b[0m_values\u001b[0m\u001b[0;34m\u001b[0m\u001b[0;34m\u001b[0m\u001b[0m\n\u001b[1;32m   1910\u001b[0m         \u001b[0;32melse\u001b[0m\u001b[0;34m:\u001b[0m\u001b[0;34m\u001b[0m\u001b[0;34m\u001b[0m\u001b[0m\n\u001b[0;32m-> 1911\u001b[0;31m             \u001b[0;32mraise\u001b[0m \u001b[0mKeyError\u001b[0m\u001b[0;34m(\u001b[0m\u001b[0mkey\u001b[0m\u001b[0;34m)\u001b[0m\u001b[0;34m\u001b[0m\u001b[0;34m\u001b[0m\u001b[0m\n\u001b[0m\u001b[1;32m   1912\u001b[0m \u001b[0;34m\u001b[0m\u001b[0m\n\u001b[1;32m   1913\u001b[0m         \u001b[0;31m# Check for duplicates\u001b[0m\u001b[0;34m\u001b[0m\u001b[0;34m\u001b[0m\u001b[0m\n\u001b[1;32m   1914\u001b[0m         \u001b[0;32mif\u001b[0m \u001b[0mvalues\u001b[0m\u001b[0;34m.\u001b[0m\u001b[0mndim\u001b[0m \u001b[0;34m>\u001b[0m \u001b[0;36m1\u001b[0m\u001b[0;34m:\u001b[0m\u001b[0;34m\u001b[0m\u001b[0;34m\u001b[0m\u001b[0m\n",
      "\u001b[0;31mKeyError\u001b[0m: 'strata_id'"
     ]
    }
   ],
   "source": [
    "df_acc = pd.merge(df_acc, df_strata, how='inner', on=\"strata_id\")\n",
    "df_acc.head()"
   ]
  },
  {
   "cell_type": "code",
   "execution_count": null,
   "metadata": {},
   "outputs": [
    {
     "data": {
      "text/plain": [
       "0    1244009.0\n",
       "1     702005.0\n",
       "2     817429.0\n",
       "3    8336385.0\n",
       "4     691694.0\n",
       "Name: pop, dtype: float64"
      ]
     },
     "execution_count": 386,
     "metadata": {},
     "output_type": "execute_result"
    }
   ],
   "source": [
    "df_acc['pop'].head()"
   ]
  },
  {
   "cell_type": "markdown",
   "metadata": {},
   "source": [
    "### Pegando a quantidade de amostras por estrato"
   ]
  },
  {
   "cell_type": "markdown",
   "metadata": {},
   "source": [
    "contar a quantidade de amostras por estrato"
   ]
  },
  {
   "cell_type": "code",
   "execution_count": 1143,
   "metadata": {},
   "outputs": [
    {
     "ename": "KeyError",
     "evalue": "'strata_id'",
     "output_type": "error",
     "traceback": [
      "\u001b[0;31m---------------------------------------------------------------------------\u001b[0m",
      "\u001b[0;31mKeyError\u001b[0m                                  Traceback (most recent call last)",
      "File \u001b[0;32m~/dev/acuracia_ma/.venv/lib/python3.10/site-packages/pandas/core/indexes/base.py:3805\u001b[0m, in \u001b[0;36mIndex.get_loc\u001b[0;34m(self, key)\u001b[0m\n\u001b[1;32m   3804\u001b[0m \u001b[38;5;28;01mtry\u001b[39;00m:\n\u001b[0;32m-> 3805\u001b[0m     \u001b[38;5;28;01mreturn\u001b[39;00m \u001b[38;5;28;43mself\u001b[39;49m\u001b[38;5;241;43m.\u001b[39;49m\u001b[43m_engine\u001b[49m\u001b[38;5;241;43m.\u001b[39;49m\u001b[43mget_loc\u001b[49m\u001b[43m(\u001b[49m\u001b[43mcasted_key\u001b[49m\u001b[43m)\u001b[49m\n\u001b[1;32m   3806\u001b[0m \u001b[38;5;28;01mexcept\u001b[39;00m \u001b[38;5;167;01mKeyError\u001b[39;00m \u001b[38;5;28;01mas\u001b[39;00m err:\n",
      "File \u001b[0;32mindex.pyx:167\u001b[0m, in \u001b[0;36mpandas._libs.index.IndexEngine.get_loc\u001b[0;34m()\u001b[0m\n",
      "File \u001b[0;32mindex.pyx:196\u001b[0m, in \u001b[0;36mpandas._libs.index.IndexEngine.get_loc\u001b[0;34m()\u001b[0m\n",
      "File \u001b[0;32mpandas/_libs/hashtable_class_helper.pxi:7081\u001b[0m, in \u001b[0;36mpandas._libs.hashtable.PyObjectHashTable.get_item\u001b[0;34m()\u001b[0m\n",
      "File \u001b[0;32mpandas/_libs/hashtable_class_helper.pxi:7089\u001b[0m, in \u001b[0;36mpandas._libs.hashtable.PyObjectHashTable.get_item\u001b[0;34m()\u001b[0m\n",
      "\u001b[0;31mKeyError\u001b[0m: 'strata_id'",
      "\nThe above exception was the direct cause of the following exception:\n",
      "\u001b[0;31mKeyError\u001b[0m                                  Traceback (most recent call last)",
      "Cell \u001b[0;32mIn[1143], line 1\u001b[0m\n\u001b[0;32m----> 1\u001b[0m \u001b[43mdf_acc\u001b[49m\u001b[43m[\u001b[49m\u001b[38;5;124;43m'\u001b[39;49m\u001b[38;5;124;43mstrata_id\u001b[39;49m\u001b[38;5;124;43m'\u001b[39;49m\u001b[43m]\u001b[49m\u001b[38;5;241m.\u001b[39mvalue_counts(normalize\u001b[38;5;241m=\u001b[39m\u001b[38;5;28;01mTrue\u001b[39;00m)\u001b[38;5;241m.\u001b[39mplot(kind\u001b[38;5;241m=\u001b[39m\u001b[38;5;124m'\u001b[39m\u001b[38;5;124mbarh\u001b[39m\u001b[38;5;124m'\u001b[39m)\n",
      "File \u001b[0;32m~/dev/acuracia_ma/.venv/lib/python3.10/site-packages/pandas/core/frame.py:4102\u001b[0m, in \u001b[0;36mDataFrame.__getitem__\u001b[0;34m(self, key)\u001b[0m\n\u001b[1;32m   4100\u001b[0m \u001b[38;5;28;01mif\u001b[39;00m \u001b[38;5;28mself\u001b[39m\u001b[38;5;241m.\u001b[39mcolumns\u001b[38;5;241m.\u001b[39mnlevels \u001b[38;5;241m>\u001b[39m \u001b[38;5;241m1\u001b[39m:\n\u001b[1;32m   4101\u001b[0m     \u001b[38;5;28;01mreturn\u001b[39;00m \u001b[38;5;28mself\u001b[39m\u001b[38;5;241m.\u001b[39m_getitem_multilevel(key)\n\u001b[0;32m-> 4102\u001b[0m indexer \u001b[38;5;241m=\u001b[39m \u001b[38;5;28;43mself\u001b[39;49m\u001b[38;5;241;43m.\u001b[39;49m\u001b[43mcolumns\u001b[49m\u001b[38;5;241;43m.\u001b[39;49m\u001b[43mget_loc\u001b[49m\u001b[43m(\u001b[49m\u001b[43mkey\u001b[49m\u001b[43m)\u001b[49m\n\u001b[1;32m   4103\u001b[0m \u001b[38;5;28;01mif\u001b[39;00m is_integer(indexer):\n\u001b[1;32m   4104\u001b[0m     indexer \u001b[38;5;241m=\u001b[39m [indexer]\n",
      "File \u001b[0;32m~/dev/acuracia_ma/.venv/lib/python3.10/site-packages/pandas/core/indexes/base.py:3812\u001b[0m, in \u001b[0;36mIndex.get_loc\u001b[0;34m(self, key)\u001b[0m\n\u001b[1;32m   3807\u001b[0m     \u001b[38;5;28;01mif\u001b[39;00m \u001b[38;5;28misinstance\u001b[39m(casted_key, \u001b[38;5;28mslice\u001b[39m) \u001b[38;5;129;01mor\u001b[39;00m (\n\u001b[1;32m   3808\u001b[0m         \u001b[38;5;28misinstance\u001b[39m(casted_key, abc\u001b[38;5;241m.\u001b[39mIterable)\n\u001b[1;32m   3809\u001b[0m         \u001b[38;5;129;01mand\u001b[39;00m \u001b[38;5;28many\u001b[39m(\u001b[38;5;28misinstance\u001b[39m(x, \u001b[38;5;28mslice\u001b[39m) \u001b[38;5;28;01mfor\u001b[39;00m x \u001b[38;5;129;01min\u001b[39;00m casted_key)\n\u001b[1;32m   3810\u001b[0m     ):\n\u001b[1;32m   3811\u001b[0m         \u001b[38;5;28;01mraise\u001b[39;00m InvalidIndexError(key)\n\u001b[0;32m-> 3812\u001b[0m     \u001b[38;5;28;01mraise\u001b[39;00m \u001b[38;5;167;01mKeyError\u001b[39;00m(key) \u001b[38;5;28;01mfrom\u001b[39;00m \u001b[38;5;21;01merr\u001b[39;00m\n\u001b[1;32m   3813\u001b[0m \u001b[38;5;28;01mexcept\u001b[39;00m \u001b[38;5;167;01mTypeError\u001b[39;00m:\n\u001b[1;32m   3814\u001b[0m     \u001b[38;5;66;03m# If we have a listlike key, _check_indexing_error will raise\u001b[39;00m\n\u001b[1;32m   3815\u001b[0m     \u001b[38;5;66;03m#  InvalidIndexError. Otherwise we fall through and re-raise\u001b[39;00m\n\u001b[1;32m   3816\u001b[0m     \u001b[38;5;66;03m#  the TypeError.\u001b[39;00m\n\u001b[1;32m   3817\u001b[0m     \u001b[38;5;28mself\u001b[39m\u001b[38;5;241m.\u001b[39m_check_indexing_error(key)\n",
      "\u001b[0;31mKeyError\u001b[0m: 'strata_id'"
     ]
    }
   ],
   "source": [
    "df_acc['strata_id'].value_counts(normalize=True).plot(kind='barh')"
   ]
  },
  {
   "cell_type": "code",
   "execution_count": null,
   "metadata": {},
   "outputs": [
    {
     "data": {
      "text/html": [
       "<div>\n",
       "<style scoped>\n",
       "    .dataframe tbody tr th:only-of-type {\n",
       "        vertical-align: middle;\n",
       "    }\n",
       "\n",
       "    .dataframe tbody tr th {\n",
       "        vertical-align: top;\n",
       "    }\n",
       "\n",
       "    .dataframe thead th {\n",
       "        text-align: right;\n",
       "    }\n",
       "</style>\n",
       "<table border=\"1\" class=\"dataframe\">\n",
       "  <thead>\n",
       "    <tr style=\"text-align: right;\">\n",
       "      <th></th>\n",
       "      <th>strata_id</th>\n",
       "      <th>n_samp</th>\n",
       "    </tr>\n",
       "  </thead>\n",
       "  <tbody>\n",
       "    <tr>\n",
       "      <th>0</th>\n",
       "      <td>SF-22-V_D2</td>\n",
       "      <td>417</td>\n",
       "    </tr>\n",
       "    <tr>\n",
       "      <th>1</th>\n",
       "      <td>SD-21-X_D2</td>\n",
       "      <td>415</td>\n",
       "    </tr>\n",
       "    <tr>\n",
       "      <th>2</th>\n",
       "      <td>SE-22-Y_D2</td>\n",
       "      <td>396</td>\n",
       "    </tr>\n",
       "    <tr>\n",
       "      <th>3</th>\n",
       "      <td>SD-21-V_D2</td>\n",
       "      <td>394</td>\n",
       "    </tr>\n",
       "    <tr>\n",
       "      <th>4</th>\n",
       "      <td>SC-21-Z_D2</td>\n",
       "      <td>383</td>\n",
       "    </tr>\n",
       "    <tr>\n",
       "      <th>...</th>\n",
       "      <td>...</td>\n",
       "      <td>...</td>\n",
       "    </tr>\n",
       "    <tr>\n",
       "      <th>723</th>\n",
       "      <td>SC-21-Y_D6</td>\n",
       "      <td>1</td>\n",
       "    </tr>\n",
       "    <tr>\n",
       "      <th>724</th>\n",
       "      <td>SE-22-Y_D6</td>\n",
       "      <td>1</td>\n",
       "    </tr>\n",
       "    <tr>\n",
       "      <th>725</th>\n",
       "      <td>SC-23-Y_D6</td>\n",
       "      <td>1</td>\n",
       "    </tr>\n",
       "    <tr>\n",
       "      <th>726</th>\n",
       "      <td>SD-22-Y_D6</td>\n",
       "      <td>1</td>\n",
       "    </tr>\n",
       "    <tr>\n",
       "      <th>727</th>\n",
       "      <td>SI-22-V_D6</td>\n",
       "      <td>1</td>\n",
       "    </tr>\n",
       "  </tbody>\n",
       "</table>\n",
       "<p>728 rows × 2 columns</p>\n",
       "</div>"
      ],
      "text/plain": [
       "      strata_id  n_samp\n",
       "0    SF-22-V_D2     417\n",
       "1    SD-21-X_D2     415\n",
       "2    SE-22-Y_D2     396\n",
       "3    SD-21-V_D2     394\n",
       "4    SC-21-Z_D2     383\n",
       "..          ...     ...\n",
       "723  SC-21-Y_D6       1\n",
       "724  SE-22-Y_D6       1\n",
       "725  SC-23-Y_D6       1\n",
       "726  SD-22-Y_D6       1\n",
       "727  SI-22-V_D6       1\n",
       "\n",
       "[728 rows x 2 columns]"
      ]
     },
     "execution_count": 388,
     "metadata": {},
     "output_type": "execute_result"
    }
   ],
   "source": [
    "df_qt_samples = df_acc['strata_id'].value_counts().reset_index(name='n_samp')\n",
    "df_qt_samples"
   ]
  },
  {
   "cell_type": "code",
   "execution_count": null,
   "metadata": {},
   "outputs": [
    {
     "data": {
      "text/plain": [
       "strata_id    SF-22-V_D2SD-21-X_D2SE-22-Y_D2SD-21-V_D2SC-21-...\n",
       "n_samp                                                   75035\n",
       "dtype: object"
      ]
     },
     "execution_count": 389,
     "metadata": {},
     "output_type": "execute_result"
    }
   ],
   "source": [
    "df_qt_samples.sum()"
   ]
  },
  {
   "cell_type": "markdown",
   "metadata": {},
   "source": [
    "depois plotar um mapa os pontos por estrato"
   ]
  },
  {
   "cell_type": "code",
   "execution_count": null,
   "metadata": {},
   "outputs": [
    {
     "data": {
      "text/html": [
       "<div>\n",
       "<style scoped>\n",
       "    .dataframe tbody tr th:only-of-type {\n",
       "        vertical-align: middle;\n",
       "    }\n",
       "\n",
       "    .dataframe tbody tr th {\n",
       "        vertical-align: top;\n",
       "    }\n",
       "\n",
       "    .dataframe thead th {\n",
       "        text-align: right;\n",
       "    }\n",
       "</style>\n",
       "<table border=\"1\" class=\"dataframe\">\n",
       "  <thead>\n",
       "    <tr style=\"text-align: right;\">\n",
       "      <th></th>\n",
       "      <th>system:index</th>\n",
       "      <th>AMOSTRAS</th>\n",
       "      <th>AMOSTRA_AM</th>\n",
       "      <th>BioNB</th>\n",
       "      <th>CARTA_2</th>\n",
       "      <th>CLASS_2022</th>\n",
       "      <th>DECLIVIDAD</th>\n",
       "      <th>LAT</th>\n",
       "      <th>LON</th>\n",
       "      <th>NEW_PROB</th>\n",
       "      <th>...</th>\n",
       "      <th>StateNB</th>\n",
       "      <th>TARGETID</th>\n",
       "      <th>VAL_PESO</th>\n",
       "      <th>classification</th>\n",
       "      <th>reference</th>\n",
       "      <th>year</th>\n",
       "      <th>.geo</th>\n",
       "      <th>strata_id</th>\n",
       "      <th>pop</th>\n",
       "      <th>n_samp</th>\n",
       "    </tr>\n",
       "  </thead>\n",
       "  <tbody>\n",
       "    <tr>\n",
       "      <th>0</th>\n",
       "      <td>00000000000000003933_0</td>\n",
       "      <td>NaN</td>\n",
       "      <td>0</td>\n",
       "      <td>1</td>\n",
       "      <td>NA-20-X</td>\n",
       "      <td>AFLORAMENTO ROCHOSO</td>\n",
       "      <td>D5</td>\n",
       "      <td>2.516093</td>\n",
       "      <td>-60.778254</td>\n",
       "      <td>0.000007</td>\n",
       "      <td>...</td>\n",
       "      <td>14.0</td>\n",
       "      <td>26026</td>\n",
       "      <td>1.0</td>\n",
       "      <td>15</td>\n",
       "      <td>29</td>\n",
       "      <td>2022</td>\n",
       "      <td>{\"type\":\"MultiPoint\",\"coordinates\":[]}</td>\n",
       "      <td>NA-20-X_D5</td>\n",
       "      <td>1244009.0</td>\n",
       "      <td>9</td>\n",
       "    </tr>\n",
       "    <tr>\n",
       "      <th>1</th>\n",
       "      <td>000000000000000059a4_0</td>\n",
       "      <td>NaN</td>\n",
       "      <td>0</td>\n",
       "      <td>4</td>\n",
       "      <td>SC-23-X</td>\n",
       "      <td>AFLORAMENTO ROCHOSO</td>\n",
       "      <td>D5</td>\n",
       "      <td>-8.858734</td>\n",
       "      <td>-44.489462</td>\n",
       "      <td>0.000009</td>\n",
       "      <td>...</td>\n",
       "      <td>22.0</td>\n",
       "      <td>13274</td>\n",
       "      <td>1.0</td>\n",
       "      <td>4</td>\n",
       "      <td>29</td>\n",
       "      <td>2022</td>\n",
       "      <td>{\"type\":\"MultiPoint\",\"coordinates\":[]}</td>\n",
       "      <td>SC-23-X_D5</td>\n",
       "      <td>702005.0</td>\n",
       "      <td>6</td>\n",
       "    </tr>\n",
       "    <tr>\n",
       "      <th>2</th>\n",
       "      <td>00000000000000006029_0</td>\n",
       "      <td>NaN</td>\n",
       "      <td>0</td>\n",
       "      <td>5</td>\n",
       "      <td>SA-24-Y</td>\n",
       "      <td>AFLORAMENTO ROCHOSO</td>\n",
       "      <td>D5</td>\n",
       "      <td>-3.365356</td>\n",
       "      <td>-41.021875</td>\n",
       "      <td>0.000017</td>\n",
       "      <td>...</td>\n",
       "      <td>23.0</td>\n",
       "      <td>19011</td>\n",
       "      <td>1.0</td>\n",
       "      <td>4</td>\n",
       "      <td>29</td>\n",
       "      <td>2022</td>\n",
       "      <td>{\"type\":\"MultiPoint\",\"coordinates\":[]}</td>\n",
       "      <td>SA-24-Y_D5</td>\n",
       "      <td>817429.0</td>\n",
       "      <td>14</td>\n",
       "    </tr>\n",
       "    <tr>\n",
       "      <th>3</th>\n",
       "      <td>0000000000000000652b_0</td>\n",
       "      <td>NaN</td>\n",
       "      <td>0</td>\n",
       "      <td>5</td>\n",
       "      <td>SB-24-X</td>\n",
       "      <td>AFLORAMENTO ROCHOSO</td>\n",
       "      <td>D3</td>\n",
       "      <td>-5.854408</td>\n",
       "      <td>-36.804285</td>\n",
       "      <td>0.000011</td>\n",
       "      <td>...</td>\n",
       "      <td>24.0</td>\n",
       "      <td>20507</td>\n",
       "      <td>1.0</td>\n",
       "      <td>4</td>\n",
       "      <td>29</td>\n",
       "      <td>2022</td>\n",
       "      <td>{\"type\":\"MultiPoint\",\"coordinates\":[]}</td>\n",
       "      <td>SB-24-X_D3</td>\n",
       "      <td>8336385.0</td>\n",
       "      <td>89</td>\n",
       "    </tr>\n",
       "    <tr>\n",
       "      <th>4</th>\n",
       "      <td>0000000000000000753d_0</td>\n",
       "      <td>NaN</td>\n",
       "      <td>0</td>\n",
       "      <td>5</td>\n",
       "      <td>SC-24-Y</td>\n",
       "      <td>AFLORAMENTO ROCHOSO</td>\n",
       "      <td>D5</td>\n",
       "      <td>-11.615394</td>\n",
       "      <td>-40.545678</td>\n",
       "      <td>0.000007</td>\n",
       "      <td>...</td>\n",
       "      <td>29.0</td>\n",
       "      <td>10954</td>\n",
       "      <td>1.0</td>\n",
       "      <td>4</td>\n",
       "      <td>29</td>\n",
       "      <td>2022</td>\n",
       "      <td>{\"type\":\"MultiPoint\",\"coordinates\":[]}</td>\n",
       "      <td>SC-24-Y_D5</td>\n",
       "      <td>691694.0</td>\n",
       "      <td>5</td>\n",
       "    </tr>\n",
       "  </tbody>\n",
       "</table>\n",
       "<p>5 rows × 23 columns</p>\n",
       "</div>"
      ],
      "text/plain": [
       "             system:index AMOSTRAS  AMOSTRA_AM  BioNB  CARTA_2  \\\n",
       "0  00000000000000003933_0      NaN           0      1  NA-20-X   \n",
       "1  000000000000000059a4_0      NaN           0      4  SC-23-X   \n",
       "2  00000000000000006029_0      NaN           0      5  SA-24-Y   \n",
       "3  0000000000000000652b_0      NaN           0      5  SB-24-X   \n",
       "4  0000000000000000753d_0      NaN           0      5  SC-24-Y   \n",
       "\n",
       "            CLASS_2022 DECLIVIDAD        LAT        LON  NEW_PROB  ...  \\\n",
       "0  AFLORAMENTO ROCHOSO         D5   2.516093 -60.778254  0.000007  ...   \n",
       "1  AFLORAMENTO ROCHOSO         D5  -8.858734 -44.489462  0.000009  ...   \n",
       "2  AFLORAMENTO ROCHOSO         D5  -3.365356 -41.021875  0.000017  ...   \n",
       "3  AFLORAMENTO ROCHOSO         D3  -5.854408 -36.804285  0.000011  ...   \n",
       "4  AFLORAMENTO ROCHOSO         D5 -11.615394 -40.545678  0.000007  ...   \n",
       "\n",
       "   StateNB  TARGETID  VAL_PESO  classification  reference  year  \\\n",
       "0     14.0     26026       1.0              15         29  2022   \n",
       "1     22.0     13274       1.0               4         29  2022   \n",
       "2     23.0     19011       1.0               4         29  2022   \n",
       "3     24.0     20507       1.0               4         29  2022   \n",
       "4     29.0     10954       1.0               4         29  2022   \n",
       "\n",
       "                                     .geo   strata_id        pop n_samp  \n",
       "0  {\"type\":\"MultiPoint\",\"coordinates\":[]}  NA-20-X_D5  1244009.0      9  \n",
       "1  {\"type\":\"MultiPoint\",\"coordinates\":[]}  SC-23-X_D5   702005.0      6  \n",
       "2  {\"type\":\"MultiPoint\",\"coordinates\":[]}  SA-24-Y_D5   817429.0     14  \n",
       "3  {\"type\":\"MultiPoint\",\"coordinates\":[]}  SB-24-X_D3  8336385.0     89  \n",
       "4  {\"type\":\"MultiPoint\",\"coordinates\":[]}  SC-24-Y_D5   691694.0      5  \n",
       "\n",
       "[5 rows x 23 columns]"
      ]
     },
     "execution_count": 390,
     "metadata": {},
     "output_type": "execute_result"
    }
   ],
   "source": [
    "df_acc = pd.merge(df_acc, df_qt_samples, on='strata_id')\n",
    "df_acc.head()"
   ]
  },
  {
   "cell_type": "markdown",
   "metadata": {},
   "source": [
    "verificar se esta ok numero de amostras e populacao"
   ]
  },
  {
   "cell_type": "code",
   "execution_count": null,
   "metadata": {},
   "outputs": [
    {
     "data": {
      "text/plain": [
       "Index(['system:index', 'AMOSTRAS', 'AMOSTRA_AM', 'BioNB', 'CARTA_2',\n",
       "       'CLASS_2022', 'DECLIVIDAD', 'LAT', 'LON', 'NEW_PROB', 'NEW_WEIGHT',\n",
       "       'PESO_VOT', 'PROB_AMOS2', 'StateNB', 'TARGETID', 'VAL_PESO',\n",
       "       'classification', 'reference', 'year', '.geo', 'strata_id', 'pop',\n",
       "       'n_samp'],\n",
       "      dtype='object')"
      ]
     },
     "execution_count": 391,
     "metadata": {},
     "output_type": "execute_result"
    }
   ],
   "source": [
    "df_acc.columns"
   ]
  },
  {
   "cell_type": "code",
   "execution_count": null,
   "metadata": {},
   "outputs": [
    {
     "data": {
      "text/html": [
       "<div>\n",
       "<style scoped>\n",
       "    .dataframe tbody tr th:only-of-type {\n",
       "        vertical-align: middle;\n",
       "    }\n",
       "\n",
       "    .dataframe tbody tr th {\n",
       "        vertical-align: top;\n",
       "    }\n",
       "\n",
       "    .dataframe thead th {\n",
       "        text-align: right;\n",
       "    }\n",
       "</style>\n",
       "<table border=\"1\" class=\"dataframe\">\n",
       "  <thead>\n",
       "    <tr style=\"text-align: right;\">\n",
       "      <th></th>\n",
       "      <th>n_samp</th>\n",
       "      <th>pop</th>\n",
       "      <th>PROB_AMOS2</th>\n",
       "    </tr>\n",
       "    <tr>\n",
       "      <th>strata_id</th>\n",
       "      <th></th>\n",
       "      <th></th>\n",
       "      <th></th>\n",
       "    </tr>\n",
       "  </thead>\n",
       "  <tbody>\n",
       "    <tr>\n",
       "      <th>NA-19-Z_D1</th>\n",
       "      <td>156</td>\n",
       "      <td>21069208.0</td>\n",
       "      <td>0.000008</td>\n",
       "    </tr>\n",
       "    <tr>\n",
       "      <th>NA-19-Z_D2</th>\n",
       "      <td>251</td>\n",
       "      <td>33646826.0</td>\n",
       "      <td>0.000008</td>\n",
       "    </tr>\n",
       "    <tr>\n",
       "      <th>NA-19-Z_D3</th>\n",
       "      <td>67</td>\n",
       "      <td>9329320.0</td>\n",
       "      <td>0.000008</td>\n",
       "    </tr>\n",
       "    <tr>\n",
       "      <th>NA-19-Z_D4</th>\n",
       "      <td>7</td>\n",
       "      <td>1032705.0</td>\n",
       "      <td>0.000008</td>\n",
       "    </tr>\n",
       "    <tr>\n",
       "      <th>NA-19-Z_D5</th>\n",
       "      <td>3</td>\n",
       "      <td>293051.0</td>\n",
       "      <td>0.000010</td>\n",
       "    </tr>\n",
       "    <tr>\n",
       "      <th>...</th>\n",
       "      <td>...</td>\n",
       "      <td>...</td>\n",
       "      <td>...</td>\n",
       "    </tr>\n",
       "    <tr>\n",
       "      <th>SI-22-V_D2</th>\n",
       "      <td>179</td>\n",
       "      <td>22169985.0</td>\n",
       "      <td>0.000010</td>\n",
       "    </tr>\n",
       "    <tr>\n",
       "      <th>SI-22-V_D3</th>\n",
       "      <td>159</td>\n",
       "      <td>22158471.0</td>\n",
       "      <td>0.000010</td>\n",
       "    </tr>\n",
       "    <tr>\n",
       "      <th>SI-22-V_D4</th>\n",
       "      <td>32</td>\n",
       "      <td>3896918.0</td>\n",
       "      <td>0.000011</td>\n",
       "    </tr>\n",
       "    <tr>\n",
       "      <th>SI-22-V_D5</th>\n",
       "      <td>2</td>\n",
       "      <td>118975.0</td>\n",
       "      <td>0.000017</td>\n",
       "    </tr>\n",
       "    <tr>\n",
       "      <th>SI-22-V_D6</th>\n",
       "      <td>1</td>\n",
       "      <td>1480.0</td>\n",
       "      <td>0.000676</td>\n",
       "    </tr>\n",
       "  </tbody>\n",
       "</table>\n",
       "<p>728 rows × 3 columns</p>\n",
       "</div>"
      ],
      "text/plain": [
       "            n_samp         pop  PROB_AMOS2\n",
       "strata_id                                 \n",
       "NA-19-Z_D1     156  21069208.0    0.000008\n",
       "NA-19-Z_D2     251  33646826.0    0.000008\n",
       "NA-19-Z_D3      67   9329320.0    0.000008\n",
       "NA-19-Z_D4       7   1032705.0    0.000008\n",
       "NA-19-Z_D5       3    293051.0    0.000010\n",
       "...            ...         ...         ...\n",
       "SI-22-V_D2     179  22169985.0    0.000010\n",
       "SI-22-V_D3     159  22158471.0    0.000010\n",
       "SI-22-V_D4      32   3896918.0    0.000011\n",
       "SI-22-V_D5       2    118975.0    0.000017\n",
       "SI-22-V_D6       1      1480.0    0.000676\n",
       "\n",
       "[728 rows x 3 columns]"
      ]
     },
     "execution_count": 392,
     "metadata": {},
     "output_type": "execute_result"
    }
   ],
   "source": [
    "df_contagem = df_acc.groupby(\"strata_id\")[['n_samp','pop', 'PROB_AMOS2']].first()\n",
    "df_contagem"
   ]
  },
  {
   "cell_type": "markdown",
   "metadata": {},
   "source": [
    "checando a probabilidade"
   ]
  },
  {
   "cell_type": "code",
   "execution_count": null,
   "metadata": {},
   "outputs": [
    {
     "data": {
      "text/html": [
       "<div>\n",
       "<style scoped>\n",
       "    .dataframe tbody tr th:only-of-type {\n",
       "        vertical-align: middle;\n",
       "    }\n",
       "\n",
       "    .dataframe tbody tr th {\n",
       "        vertical-align: top;\n",
       "    }\n",
       "\n",
       "    .dataframe thead th {\n",
       "        text-align: right;\n",
       "    }\n",
       "</style>\n",
       "<table border=\"1\" class=\"dataframe\">\n",
       "  <thead>\n",
       "    <tr style=\"text-align: right;\">\n",
       "      <th></th>\n",
       "      <th>n_samp</th>\n",
       "      <th>pop</th>\n",
       "      <th>PROB_AMOS2</th>\n",
       "      <th>prob_calc</th>\n",
       "    </tr>\n",
       "    <tr>\n",
       "      <th>strata_id</th>\n",
       "      <th></th>\n",
       "      <th></th>\n",
       "      <th></th>\n",
       "      <th></th>\n",
       "    </tr>\n",
       "  </thead>\n",
       "  <tbody>\n",
       "    <tr>\n",
       "      <th>NA-19-Z_D1</th>\n",
       "      <td>156</td>\n",
       "      <td>21069208.0</td>\n",
       "      <td>0.000008</td>\n",
       "      <td>0.000007</td>\n",
       "    </tr>\n",
       "    <tr>\n",
       "      <th>NA-19-Z_D2</th>\n",
       "      <td>251</td>\n",
       "      <td>33646826.0</td>\n",
       "      <td>0.000008</td>\n",
       "      <td>0.000007</td>\n",
       "    </tr>\n",
       "    <tr>\n",
       "      <th>NA-19-Z_D3</th>\n",
       "      <td>67</td>\n",
       "      <td>9329320.0</td>\n",
       "      <td>0.000008</td>\n",
       "      <td>0.000007</td>\n",
       "    </tr>\n",
       "    <tr>\n",
       "      <th>NA-19-Z_D4</th>\n",
       "      <td>7</td>\n",
       "      <td>1032705.0</td>\n",
       "      <td>0.000008</td>\n",
       "      <td>0.000007</td>\n",
       "    </tr>\n",
       "    <tr>\n",
       "      <th>NA-19-Z_D5</th>\n",
       "      <td>3</td>\n",
       "      <td>293051.0</td>\n",
       "      <td>0.000010</td>\n",
       "      <td>0.000010</td>\n",
       "    </tr>\n",
       "    <tr>\n",
       "      <th>...</th>\n",
       "      <td>...</td>\n",
       "      <td>...</td>\n",
       "      <td>...</td>\n",
       "      <td>...</td>\n",
       "    </tr>\n",
       "    <tr>\n",
       "      <th>SI-22-V_D2</th>\n",
       "      <td>179</td>\n",
       "      <td>22169985.0</td>\n",
       "      <td>0.000010</td>\n",
       "      <td>0.000008</td>\n",
       "    </tr>\n",
       "    <tr>\n",
       "      <th>SI-22-V_D3</th>\n",
       "      <td>159</td>\n",
       "      <td>22158471.0</td>\n",
       "      <td>0.000010</td>\n",
       "      <td>0.000007</td>\n",
       "    </tr>\n",
       "    <tr>\n",
       "      <th>SI-22-V_D4</th>\n",
       "      <td>32</td>\n",
       "      <td>3896918.0</td>\n",
       "      <td>0.000011</td>\n",
       "      <td>0.000008</td>\n",
       "    </tr>\n",
       "    <tr>\n",
       "      <th>SI-22-V_D5</th>\n",
       "      <td>2</td>\n",
       "      <td>118975.0</td>\n",
       "      <td>0.000017</td>\n",
       "      <td>0.000017</td>\n",
       "    </tr>\n",
       "    <tr>\n",
       "      <th>SI-22-V_D6</th>\n",
       "      <td>1</td>\n",
       "      <td>1480.0</td>\n",
       "      <td>0.000676</td>\n",
       "      <td>0.000676</td>\n",
       "    </tr>\n",
       "  </tbody>\n",
       "</table>\n",
       "<p>728 rows × 4 columns</p>\n",
       "</div>"
      ],
      "text/plain": [
       "            n_samp         pop  PROB_AMOS2  prob_calc\n",
       "strata_id                                            \n",
       "NA-19-Z_D1     156  21069208.0    0.000008   0.000007\n",
       "NA-19-Z_D2     251  33646826.0    0.000008   0.000007\n",
       "NA-19-Z_D3      67   9329320.0    0.000008   0.000007\n",
       "NA-19-Z_D4       7   1032705.0    0.000008   0.000007\n",
       "NA-19-Z_D5       3    293051.0    0.000010   0.000010\n",
       "...            ...         ...         ...        ...\n",
       "SI-22-V_D2     179  22169985.0    0.000010   0.000008\n",
       "SI-22-V_D3     159  22158471.0    0.000010   0.000007\n",
       "SI-22-V_D4      32   3896918.0    0.000011   0.000008\n",
       "SI-22-V_D5       2    118975.0    0.000017   0.000017\n",
       "SI-22-V_D6       1      1480.0    0.000676   0.000676\n",
       "\n",
       "[728 rows x 4 columns]"
      ]
     },
     "execution_count": 393,
     "metadata": {},
     "output_type": "execute_result"
    }
   ],
   "source": [
    "df_contagem[\"prob_calc\"] = df_contagem['n_samp'] / df_contagem['pop']\n",
    "df_contagem"
   ]
  },
  {
   "cell_type": "code",
   "execution_count": null,
   "metadata": {},
   "outputs": [
    {
     "data": {
      "text/plain": [
       "n_samp        7.503500e+04\n",
       "pop           9.454871e+09\n",
       "PROB_AMOS2    1.206519e+00\n",
       "prob_calc     1.205716e+00\n",
       "dtype: float64"
      ]
     },
     "execution_count": 394,
     "metadata": {},
     "output_type": "execute_result"
    }
   ],
   "source": [
    "df_contagem.sum()"
   ]
  },
  {
   "cell_type": "markdown",
   "metadata": {},
   "source": [
    "### Atualiza o nome dos biomas, para texto"
   ]
  },
  {
   "cell_type": "code",
   "execution_count": 1144,
   "metadata": {},
   "outputs": [
    {
     "name": "stderr",
     "output_type": "stream",
     "text": [
      "/tmp/ipykernel_942353/3599183855.py:1: FutureWarning: Setting an item of incompatible dtype is deprecated and will raise an error in a future version of pandas. Value 'Amazônia' has dtype incompatible with int64, please explicitly cast to a compatible dtype first.\n",
      "  df_acc.loc[ (df_acc['BioNB']==1),'BioNB'] = 'Amazônia'\n"
     ]
    }
   ],
   "source": [
    "df_acc.loc[ (df_acc['BioNB']==1),'BioNB'] = 'Amazônia'\n",
    "df_acc.loc[ (df_acc['BioNB']==2),'BioNB'] = 'Mata Atlântica'\n",
    "df_acc.loc[ (df_acc['BioNB']==3),'BioNB'] = 'Pantanal'\n",
    "df_acc.loc[ (df_acc['BioNB']==4),'BioNB'] = 'Cerrado'\n",
    "df_acc.loc[ (df_acc['BioNB']==5),'BioNB'] = 'Caatinga'\n",
    "df_acc.loc[ (df_acc['BioNB']==6),'BioNB'] = 'Pampa'"
   ]
  },
  {
   "cell_type": "code",
   "execution_count": 1145,
   "metadata": {},
   "outputs": [
    {
     "data": {
      "text/plain": [
       "array(['Amazônia', 'Cerrado', 'Caatinga', 'Mata Atlântica', 'Pampa',\n",
       "       'Pantanal'], dtype=object)"
      ]
     },
     "execution_count": 1145,
     "metadata": {},
     "output_type": "execute_result"
    }
   ],
   "source": [
    "df_acc['BioNB'].unique()"
   ]
  },
  {
   "cell_type": "markdown",
   "metadata": {},
   "source": [
    "### Atualizando os codigos das classes de acordo com o nivel, e outros ajustes"
   ]
  },
  {
   "cell_type": "markdown",
   "metadata": {},
   "source": [
    "#### Converte codigos das classe"
   ]
  },
  {
   "cell_type": "code",
   "execution_count": 1146,
   "metadata": {},
   "outputs": [
    {
     "data": {
      "text/plain": [
       "classification\n",
       "3     29391\n",
       "4      9622\n",
       "5       134\n",
       "6      1311\n",
       "9       958\n",
       "11     1498\n",
       "12     3660\n",
       "13        1\n",
       "15    15600\n",
       "20      962\n",
       "21     4068\n",
       "23       49\n",
       "24      454\n",
       "25      235\n",
       "29      156\n",
       "30       25\n",
       "31        2\n",
       "32        8\n",
       "33     1300\n",
       "35        7\n",
       "39     4171\n",
       "40      202\n",
       "41      860\n",
       "46      114\n",
       "47       22\n",
       "48       75\n",
       "49       75\n",
       "50       48\n",
       "62       27\n",
       "Name: count, dtype: int64"
      ]
     },
     "execution_count": 1146,
     "metadata": {},
     "output_type": "execute_result"
    }
   ],
   "source": [
    "df_acc['classification'].value_counts().sort_index()"
   ]
  },
  {
   "cell_type": "code",
   "execution_count": 1147,
   "metadata": {},
   "outputs": [
    {
     "data": {
      "text/plain": [
       "array([ 3,  4,  5,  6,  9, 11, 12, 13, 15, 20, 21, 23, 24, 25, 29, 30, 31,\n",
       "       32, 33, 35, 39, 40, 41, 46, 47, 48, 49, 50, 62])"
      ]
     },
     "execution_count": 1147,
     "metadata": {},
     "output_type": "execute_result"
    }
   ],
   "source": [
    "classif_1 = df_acc['classification'].unique()\n",
    "classif_1.sort()\n",
    "classif_1"
   ]
  },
  {
   "cell_type": "code",
   "execution_count": 1148,
   "metadata": {},
   "outputs": [
    {
     "data": {
      "text/plain": [
       "reference\n",
       "3     31787\n",
       "4      9723\n",
       "5        91\n",
       "9      1246\n",
       "11     1642\n",
       "12     3044\n",
       "13        4\n",
       "15    18127\n",
       "19     5667\n",
       "20     1096\n",
       "23       42\n",
       "24      512\n",
       "25       68\n",
       "29      141\n",
       "30       22\n",
       "31        6\n",
       "32        5\n",
       "33     1294\n",
       "36      465\n",
       "50       53\n",
       "Name: count, dtype: int64"
      ]
     },
     "execution_count": 1148,
     "metadata": {},
     "output_type": "execute_result"
    }
   ],
   "source": [
    "df_acc['reference'].value_counts().sort_index()"
   ]
  },
  {
   "cell_type": "code",
   "execution_count": 1149,
   "metadata": {},
   "outputs": [
    {
     "data": {
      "text/plain": [
       "array([ 3,  4,  5,  9, 11, 12, 13, 15, 19, 20, 23, 24, 25, 29, 30, 31, 32,\n",
       "       33, 36, 50])"
      ]
     },
     "execution_count": 1149,
     "metadata": {},
     "output_type": "execute_result"
    }
   ],
   "source": [
    "reference_1 = df_acc['reference'].unique()\n",
    "reference_1.sort()\n",
    "reference_1"
   ]
  },
  {
   "cell_type": "markdown",
   "metadata": {},
   "source": [
    "Observando a classificacao e a reference, observamos algumas classes que aparece em uma e nao na outra, porém a funcao de convert_class corrige algumas, provavelmente pq mudaram se os codigos de algumas destas. pesquisar melhor\n",
    "\n",
    "\n",
    "classificacao\n",
    "\n",
    "6 - Floresta Alagável (nivel 2)\n",
    "\n",
    "21 - mosaico de usos (nivel 2)\n",
    "\n",
    "39 - Soja (nivel 3)\n",
    "\n",
    "41 - Outras Lavouras Temporárias (nivel 3)\n",
    "\n",
    "reference\n",
    "\n",
    "19 - Lavoura Temporária (nivel 3)\n",
    "\n",
    "50 - Restinga Herbácea"
   ]
  },
  {
   "cell_type": "code",
   "execution_count": 1150,
   "metadata": {},
   "outputs": [],
   "source": [
    "def convert_class(df):\n",
    "\n",
    "    #Global\n",
    "\n",
    "    df.loc[ (df['classification'] == 20) | (df['classification'] == 39) | (df['classification'] == 40) | (df['classification'] == 41) | (df['classification'] == 62), 'classification'] = 19 #Convert areas mapped as 20,39,40,41 to 19\n",
    "    df.loc[ (df['classification'] == 46) | (df['classification'] == 47) | (df['classification'] == 48), 'classification'] = 36 #Convert areas mapped as 46,47,48 to 36\n",
    "    df.loc[ (df['classification'] == 51) | (df['classification'] == 52) | (df['classification'] == 53), 'classification'] = 24 #Convert areas mapped as 20,39,41 to 24\n",
    "    df.loc[ (df['classification'] == 49), 'classification'] = 3 #Convert areas mapped as 54,55,56 to 33\n",
    "    df.loc[ (df['classification'] == 50), 'classification'] = 13 #Convert areas mapped as 54,55,56 to 33\n",
    "    df.loc[ (df['classification'] == 54) | (df['classification'] == 55) | (df['classification'] == 56), 'classification'] = 33 #Convert areas mapped as 54,55,56 to 33\n",
    "    df.loc[ (df['classification'] == 21) & (df['reference'].isin([15,19,20,36])), 'reference'] = 21 #Convert reference from 15,19,20,36 to reference 21 for areas mapped as 21\n",
    "    df.loc[ (df['classification'] == 63), 'classification'] = 33    \n",
    "\n",
    "    #Pampa \n",
    "\n",
    "    df.loc[ (df['BioNB']== 'Pampa') & (df['reference'] == 15),'reference'] = 19 #In Pampa, convert reference class 15 to 19 (Crop).\n",
    "    df.loc[ (df['BioNB']=='Pampa') & (df['classification'] == 25) & (df['reference'] == 23), 'reference'] = 25 #In Pampa, convert reference 25 to 23 in areas mapped as 25\n",
    "    df.loc[ (df['BioNB']== 'Pampa') & (df['classification'] == 12) & (df['reference'] == 13),'reference'] = 12 #In Pampa, convert reference 13 to 12 in areas mapped as 12\n",
    "    df.loc[ (df['BioNB']== 'Pampa') & (df['classification'] == 13),'classification'] = 12 #In Pampa, convert reference 13 to 12 in areas mapped as 12\n",
    "\n",
    "    #Mata Atântica\n",
    "\n",
    "    df.loc[ (df['BioNB']== 'Mata Atlântica') & (df['classification'] == 11) & (df['reference'] == 13),'reference'] = 11\n",
    "\n",
    "    #Pantanal\n",
    "\n",
    "    df.loc[ (df['BioNB']== 'Pantanal') & (df['classification'] == 11) & (df['reference'] == 12),'reference'] = 11 #In Pantanal, convert reference 12 to 11 in areas mapped as 11\n",
    "    df.loc[ (df['BioNB']== 'Pantanal') & (df['classification'] == 11) & (df['reference'] == 33),'reference'] = 11 #In Pantanal, convert reference 33 to 11 in areas mapped as 11\n",
    "    df.loc[ (df['BioNB']== 'Pantanal') & (df['classification'] == 12) & (df['reference'] == 33),'reference'] = 12 #In Pantanal, convert reference 33 to 12 in areas mapped as 12\n",
    "    df.loc[ (df['BioNB']== 'Pantanal') & (df['classification'] == 12) & (df['reference'] == 11),'reference'] = 12 #NEW!#In Pantanal, convert reference 33 to 12 in areas mapped as 12\n",
    "    df.loc[ (df['BioNB']== 'Pantanal') & (df['classification'] == 33) & (df['reference'] == 11),'classification'] = 11 #In Pantanal, convert reference 33 to 11 in areas mapped as 11\n",
    "    df.loc[ (df['BioNB']== 'Pantanal') & (df['classification'] == 33) & (df['reference'] == 12),'classification'] = 12 #In Pantanal, convert reference 33 to 12 in areas mapped as 12\n",
    "\n",
    "    #Amazônia\n",
    "\n",
    "    df.loc[ (df['BioNB']=='Amazônia') & (df['classification'] == 12) & (df['reference'] == 13), 'reference'] = 12 #In Amazon, convert reference 13 to 12 in areas mapped as 12\n",
    "    df.loc[ (df['BioNB']=='Amazônia') & (df['classification'] == 4) & (df['reference'] == 13), 'reference'] = 4 #In Amazon, convert reference 13 to 4 in areas mapped as 4\n",
    "\n",
    "    #Cerrado\n",
    "\n",
    "    df.loc[ (df['BioNB']=='Cerrado') & (df['reference'] == 11),'reference'] = 12\n",
    "    df.loc[ (df['BioNB']=='Cerrado') & (df['classification'] == 11),'classification'] = 12 \n",
    "    df.loc[ (df['BioNB']=='Cerrado') & (df['classification'] == 12)  & (df['reference'] == 13), 'reference'] = 12 #In Cerrado, convert reference 13 to 12 in areas mapped as 12\n",
    "    df.loc[ (df['BioNB']=='Cerrado') & (df['classification'] == 25) & (df['reference'] == 23), 'reference'] = 25 #In Cerrado, convert reference 25 to 23 in areas mapped as 25\n",
    "\n",
    "    return df"
   ]
  },
  {
   "cell_type": "code",
   "execution_count": 1151,
   "metadata": {},
   "outputs": [],
   "source": [
    "df_acc = convert_class(df_acc)"
   ]
  },
  {
   "cell_type": "markdown",
   "metadata": {},
   "source": [
    "#### Verificando se mudou alguma classe"
   ]
  },
  {
   "cell_type": "code",
   "execution_count": 1152,
   "metadata": {},
   "outputs": [
    {
     "data": {
      "text/plain": [
       "classification\n",
       "3     29466\n",
       "4      9622\n",
       "5       134\n",
       "6      1311\n",
       "9       958\n",
       "11     1012\n",
       "12     4202\n",
       "13       36\n",
       "15    15600\n",
       "19     6222\n",
       "21     4068\n",
       "23       49\n",
       "24      454\n",
       "25      235\n",
       "29      156\n",
       "30       25\n",
       "31        2\n",
       "32        8\n",
       "33     1257\n",
       "35        7\n",
       "36      211\n",
       "Name: count, dtype: int64"
      ]
     },
     "execution_count": 1152,
     "metadata": {},
     "output_type": "execute_result"
    }
   ],
   "source": [
    "df_acc['classification'].value_counts().sort_index()"
   ]
  },
  {
   "cell_type": "code",
   "execution_count": 1153,
   "metadata": {},
   "outputs": [
    {
     "data": {
      "text/plain": [
       "array([ 3,  4,  5,  6,  9, 11, 12, 13, 15, 19, 21, 23, 24, 25, 29, 30, 31,\n",
       "       32, 33, 35, 36])"
      ]
     },
     "execution_count": 1153,
     "metadata": {},
     "output_type": "execute_result"
    }
   ],
   "source": [
    "classif_2 = df_acc['classification'].unique()\n",
    "classif_2.sort()\n",
    "classif_2"
   ]
  },
  {
   "cell_type": "code",
   "execution_count": 1154,
   "metadata": {},
   "outputs": [
    {
     "name": "stdout",
     "output_type": "stream",
     "text": [
      "[ 3  4  5  6  9 11 12 13 15 20 21 23 24 25 29 30 31 32 33 35 39 40 41 46\n",
      " 47 48 49 50 62]\n",
      "[ 3  4  5  6  9 11 12 13 15 19 21 23 24 25 29 30 31 32 33 35 36]\n"
     ]
    }
   ],
   "source": [
    "print (classif_1)\n",
    "print (classif_2)"
   ]
  },
  {
   "cell_type": "code",
   "execution_count": 1155,
   "metadata": {},
   "outputs": [
    {
     "data": {
      "text/plain": [
       "array([20, 39, 40, 41, 46, 47, 48, 49, 50, 62])"
      ]
     },
     "execution_count": 1155,
     "metadata": {},
     "output_type": "execute_result"
    }
   ],
   "source": [
    "np.setdiff1d (classif_1 , classif_2)"
   ]
  },
  {
   "cell_type": "markdown",
   "metadata": {},
   "source": [
    "as classes 39 e 41 viram 19, afetaria o nivel 3, pois soja e Outras Lavouras Temporárias viram lavoura temporaria no nivel 2"
   ]
  },
  {
   "cell_type": "code",
   "execution_count": 1156,
   "metadata": {},
   "outputs": [
    {
     "data": {
      "text/plain": [
       "array([19, 36])"
      ]
     },
     "execution_count": 1156,
     "metadata": {},
     "output_type": "execute_result"
    }
   ],
   "source": [
    "np.setdiff1d (classif_2 , classif_1)"
   ]
  },
  {
   "cell_type": "code",
   "execution_count": 1157,
   "metadata": {},
   "outputs": [
    {
     "data": {
      "text/plain": [
       "reference\n",
       "3     31787\n",
       "4      9723\n",
       "5        91\n",
       "9      1246\n",
       "11     1015\n",
       "12     3703\n",
       "13        3\n",
       "15    16424\n",
       "19     5185\n",
       "20      966\n",
       "21     2429\n",
       "23       35\n",
       "24      512\n",
       "25       75\n",
       "29      141\n",
       "30       22\n",
       "31        6\n",
       "32        5\n",
       "33     1263\n",
       "36      351\n",
       "50       53\n",
       "Name: count, dtype: int64"
      ]
     },
     "execution_count": 1157,
     "metadata": {},
     "output_type": "execute_result"
    }
   ],
   "source": [
    "df_acc['reference'].value_counts().sort_index()"
   ]
  },
  {
   "cell_type": "code",
   "execution_count": 1158,
   "metadata": {},
   "outputs": [
    {
     "data": {
      "text/plain": [
       "array([ 3,  4,  5,  9, 11, 12, 13, 15, 19, 20, 21, 23, 24, 25, 29, 30, 31,\n",
       "       32, 33, 36, 50])"
      ]
     },
     "execution_count": 1158,
     "metadata": {},
     "output_type": "execute_result"
    }
   ],
   "source": [
    "reference_2 = df_acc['reference'].unique()\n",
    "reference_2.sort()\n",
    "reference_2\n"
   ]
  },
  {
   "cell_type": "code",
   "execution_count": 1159,
   "metadata": {},
   "outputs": [
    {
     "name": "stdout",
     "output_type": "stream",
     "text": [
      "[ 3  4  5  9 11 12 13 15 19 20 23 24 25 29 30 31 32 33 36 50]\n",
      "[ 3  4  5  9 11 12 13 15 19 20 21 23 24 25 29 30 31 32 33 36 50]\n"
     ]
    }
   ],
   "source": [
    "print (reference_1)\n",
    "print (reference_2)"
   ]
  },
  {
   "cell_type": "code",
   "execution_count": 1160,
   "metadata": {},
   "outputs": [
    {
     "data": {
      "text/plain": [
       "array([], dtype=int64)"
      ]
     },
     "execution_count": 1160,
     "metadata": {},
     "output_type": "execute_result"
    }
   ],
   "source": [
    "np.setdiff1d (reference_1 , reference_2)"
   ]
  },
  {
   "cell_type": "code",
   "execution_count": 1161,
   "metadata": {},
   "outputs": [
    {
     "data": {
      "text/plain": [
       "array([21])"
      ]
     },
     "execution_count": 1161,
     "metadata": {},
     "output_type": "execute_result"
    }
   ],
   "source": [
    "np.setdiff1d (reference_2 , reference_1)"
   ]
  },
  {
   "cell_type": "markdown",
   "metadata": {},
   "source": [
    "Observando a classificacao e a reference, observamos algumas classes que aparece em uma e nao na outra:\n",
    "\n",
    "- 50 - Restinga Herbácea aparece apenas na referencia\n",
    "- 6 - Floresta Alagável aparece apenas na classificacao"
   ]
  },
  {
   "cell_type": "markdown",
   "metadata": {},
   "source": [
    "#### Atualizando os codigo por nível"
   ]
  },
  {
   "cell_type": "markdown",
   "metadata": {},
   "source": [
    "mudei o codigo original, agora eu pego todas as classes, nao apenas as que aparece em ambos"
   ]
  },
  {
   "cell_type": "code",
   "execution_count": 1162,
   "metadata": {},
   "outputs": [],
   "source": [
    "def get_classes(df3, config_classes, level='l3'):\n",
    "    #print (\"ok\")\n",
    "    \n",
    "    df = df3.copy(deep=True)\n",
    "\n",
    "    class_values = {}\n",
    "    class_names = {}\n",
    "\n",
    "    all_classes = config_classes['ALL_CLASSES']\n",
    "    ignored_classes = config_classes['IGNORED_CLASSES']\n",
    "\n",
    "\n",
    "    clas_classes = pd.Index(df['classification'].unique())\n",
    "    ref_classes = pd.Index(df['reference'].unique())\n",
    "    print ('clas_classes quant', len(clas_classes))\n",
    "    print ('refclass quant', len(clas_classes))\n",
    "    \n",
    "    # acho errado isso, eles estao removendo informações\n",
    "    acc_classes =clas_classes.intersection(ref_classes)\n",
    "    #acc_classes =clas_classes.union(ref_classes)\n",
    "    \n",
    "    print (\"union\", acc_classes)\n",
    "    print (\"difference\",clas_classes.difference(ref_classes))\n",
    "    print (\"difference\",ref_classes.difference(clas_classes))\n",
    "\n",
    "    val_remap = {}\n",
    "\n",
    "    for value_str in all_classes.keys():\n",
    "        value = int(value_str) # dado que estou usando um arquivo json\n",
    "\n",
    "        '''\n",
    "        classes removidas\n",
    "        31 - Aquicultura\n",
    "        32 - Apicum\n",
    "        30 - Mineração\n",
    "        25 - Outras Áreas não Vegetadas\n",
    "        23 - Praia, Duna e Areal \n",
    "        5 - Mangue\n",
    "        29 - Afloramento Rochoso\n",
    "\n",
    "        '''\n",
    "        if (value not in ignored_classes and (value in acc_classes)):\n",
    "            \n",
    "            val_key = \"%s_val\" % (level)\n",
    "            new_val = all_classes[value_str][val_key]\n",
    "            class_name = all_classes[value_str][level]\n",
    "\n",
    "            val_remap[value] = new_val\n",
    "            class_values[new_val] = True\n",
    "            class_names[class_name] = True\n",
    "\n",
    "    #print (val_remap.keys())\n",
    "    #print (\"size 1\", df.shape)\n",
    "    df = df[df['classification'].isin(val_remap.keys())]\n",
    "    #print (\"size 2\", df.shape)\n",
    "    df = df[df['reference'].isin(val_remap.keys())]\n",
    "    print (\"final size\", df.shape)\n",
    "\n",
    "    df['classification'] = df['classification'].map(val_remap)\n",
    "    df['reference'] = df['reference'].map(val_remap)\n",
    "\n",
    "    class_values = list(class_values.keys())\n",
    "    class_names = list(class_names.keys())\n",
    "\n",
    "    return df, class_values, class_names\n"
   ]
  },
  {
   "cell_type": "markdown",
   "metadata": {},
   "source": [
    "codigo do repositorio"
   ]
  },
  {
   "cell_type": "code",
   "execution_count": 1163,
   "metadata": {},
   "outputs": [],
   "source": [
    "def get_classes(df, level='l3'):\n",
    "\n",
    "    class_values = {}\n",
    "    class_names = {}\n",
    "\n",
    "    clas_classes = pd.Index(df['classification'].unique())\n",
    "    ref_classes = pd.Index(df['reference'].unique())\n",
    "\n",
    "    acc_classes =clas_classes.intersection(ref_classes)\n",
    "\n",
    "    val_remap = {}\n",
    "\n",
    "    for value in ALL_CLASSES.keys():\n",
    "        if (value not in IGNORED_CLASSES and (value in acc_classes)):\n",
    "            \n",
    "            val_key = \"%s_val\" % (level)\n",
    "            new_val = ALL_CLASSES[value][val_key]\n",
    "            class_name = ALL_CLASSES[value][level]\n",
    "\n",
    "            val_remap[value] = new_val\n",
    "            class_values[new_val] = True\n",
    "            class_names[class_name] = True\n",
    "\n",
    "    df = df[df['classification'].isin(val_remap.keys())]\n",
    "    df = df[df['reference'].isin(val_remap.keys())]\n",
    "\n",
    "    df['classification'] = df['classification'].map(val_remap)\n",
    "    df['reference'] = df['reference'].map(val_remap)\n",
    "\n",
    "    class_values = list(class_values.keys())\n",
    "    class_names = list(class_names.keys())\n",
    "\n",
    "    return df, class_values, class_names"
   ]
  },
  {
   "cell_type": "code",
   "execution_count": 1164,
   "metadata": {},
   "outputs": [
    {
     "data": {
      "text/plain": [
       "[0, 31, 32, 30, 25, 23, 5, 29]"
      ]
     },
     "execution_count": 1164,
     "metadata": {},
     "output_type": "execute_result"
    }
   ],
   "source": [
    "config_classes['IGNORED_CLASSES']"
   ]
  },
  {
   "cell_type": "code",
   "execution_count": 1165,
   "metadata": {},
   "outputs": [
    {
     "data": {
      "text/html": [
       "<div>\n",
       "<style scoped>\n",
       "    .dataframe tbody tr th:only-of-type {\n",
       "        vertical-align: middle;\n",
       "    }\n",
       "\n",
       "    .dataframe tbody tr th {\n",
       "        vertical-align: top;\n",
       "    }\n",
       "\n",
       "    .dataframe thead th {\n",
       "        text-align: right;\n",
       "    }\n",
       "</style>\n",
       "<table border=\"1\" class=\"dataframe\">\n",
       "  <thead>\n",
       "    <tr style=\"text-align: right;\">\n",
       "      <th></th>\n",
       "      <th>system:index</th>\n",
       "      <th>AMOSTRAS</th>\n",
       "      <th>AMOSTRA_AM</th>\n",
       "      <th>BioNB</th>\n",
       "      <th>CARTA_2</th>\n",
       "      <th>CLASS_2022</th>\n",
       "      <th>DECLIVIDAD</th>\n",
       "      <th>LAT</th>\n",
       "      <th>LON</th>\n",
       "      <th>NEW_PROB</th>\n",
       "      <th>NEW_WEIGHT</th>\n",
       "      <th>PESO_VOT</th>\n",
       "      <th>PROB_AMOS2</th>\n",
       "      <th>StateNB</th>\n",
       "      <th>TARGETID</th>\n",
       "      <th>VAL_PESO</th>\n",
       "      <th>classification</th>\n",
       "      <th>reference</th>\n",
       "      <th>year</th>\n",
       "      <th>.geo</th>\n",
       "    </tr>\n",
       "  </thead>\n",
       "  <tbody>\n",
       "    <tr>\n",
       "      <th>0</th>\n",
       "      <td>00000000000000003933_0</td>\n",
       "      <td>NaN</td>\n",
       "      <td>0</td>\n",
       "      <td>Amazônia</td>\n",
       "      <td>NA-20-X</td>\n",
       "      <td>AFLORAMENTO ROCHOSO</td>\n",
       "      <td>D5</td>\n",
       "      <td>2.516093</td>\n",
       "      <td>-60.778254</td>\n",
       "      <td>0.000007</td>\n",
       "      <td>92529.595041</td>\n",
       "      <td>0.000009</td>\n",
       "      <td>0.000009</td>\n",
       "      <td>14.0</td>\n",
       "      <td>26026</td>\n",
       "      <td>1.0</td>\n",
       "      <td>14</td>\n",
       "      <td>10</td>\n",
       "      <td>2022</td>\n",
       "      <td>{\"type\":\"MultiPoint\",\"coordinates\":[]}</td>\n",
       "    </tr>\n",
       "    <tr>\n",
       "      <th>1</th>\n",
       "      <td>000000000000000059a4_0</td>\n",
       "      <td>NaN</td>\n",
       "      <td>0</td>\n",
       "      <td>Cerrado</td>\n",
       "      <td>SC-23-X</td>\n",
       "      <td>AFLORAMENTO ROCHOSO</td>\n",
       "      <td>D5</td>\n",
       "      <td>-8.858734</td>\n",
       "      <td>-44.489462</td>\n",
       "      <td>0.000009</td>\n",
       "      <td>85959.795918</td>\n",
       "      <td>0.000010</td>\n",
       "      <td>0.000010</td>\n",
       "      <td>22.0</td>\n",
       "      <td>13274</td>\n",
       "      <td>1.0</td>\n",
       "      <td>1</td>\n",
       "      <td>10</td>\n",
       "      <td>2022</td>\n",
       "      <td>{\"type\":\"MultiPoint\",\"coordinates\":[]}</td>\n",
       "    </tr>\n",
       "    <tr>\n",
       "      <th>2</th>\n",
       "      <td>00000000000000006029_0</td>\n",
       "      <td>NaN</td>\n",
       "      <td>0</td>\n",
       "      <td>Caatinga</td>\n",
       "      <td>SA-24-Y</td>\n",
       "      <td>AFLORAMENTO ROCHOSO</td>\n",
       "      <td>D5</td>\n",
       "      <td>-3.365356</td>\n",
       "      <td>-41.021875</td>\n",
       "      <td>0.000017</td>\n",
       "      <td>58387.785714</td>\n",
       "      <td>0.000017</td>\n",
       "      <td>0.000017</td>\n",
       "      <td>23.0</td>\n",
       "      <td>19011</td>\n",
       "      <td>1.0</td>\n",
       "      <td>1</td>\n",
       "      <td>10</td>\n",
       "      <td>2022</td>\n",
       "      <td>{\"type\":\"MultiPoint\",\"coordinates\":[]}</td>\n",
       "    </tr>\n",
       "    <tr>\n",
       "      <th>3</th>\n",
       "      <td>0000000000000000652b_0</td>\n",
       "      <td>NaN</td>\n",
       "      <td>0</td>\n",
       "      <td>Caatinga</td>\n",
       "      <td>SB-24-X</td>\n",
       "      <td>AFLORAMENTO ROCHOSO</td>\n",
       "      <td>D3</td>\n",
       "      <td>-5.854408</td>\n",
       "      <td>-36.804285</td>\n",
       "      <td>0.000011</td>\n",
       "      <td>53284.850977</td>\n",
       "      <td>0.000014</td>\n",
       "      <td>0.000014</td>\n",
       "      <td>24.0</td>\n",
       "      <td>20507</td>\n",
       "      <td>1.0</td>\n",
       "      <td>1</td>\n",
       "      <td>10</td>\n",
       "      <td>2022</td>\n",
       "      <td>{\"type\":\"MultiPoint\",\"coordinates\":[]}</td>\n",
       "    </tr>\n",
       "    <tr>\n",
       "      <th>4</th>\n",
       "      <td>0000000000000000753d_0</td>\n",
       "      <td>NaN</td>\n",
       "      <td>0</td>\n",
       "      <td>Caatinga</td>\n",
       "      <td>SC-24-Y</td>\n",
       "      <td>AFLORAMENTO ROCHOSO</td>\n",
       "      <td>D5</td>\n",
       "      <td>-11.615394</td>\n",
       "      <td>-40.545678</td>\n",
       "      <td>0.000007</td>\n",
       "      <td>96068.611111</td>\n",
       "      <td>0.000009</td>\n",
       "      <td>0.000009</td>\n",
       "      <td>29.0</td>\n",
       "      <td>10954</td>\n",
       "      <td>1.0</td>\n",
       "      <td>1</td>\n",
       "      <td>10</td>\n",
       "      <td>2022</td>\n",
       "      <td>{\"type\":\"MultiPoint\",\"coordinates\":[]}</td>\n",
       "    </tr>\n",
       "  </tbody>\n",
       "</table>\n",
       "</div>"
      ],
      "text/plain": [
       "             system:index AMOSTRAS  AMOSTRA_AM     BioNB  CARTA_2  \\\n",
       "0  00000000000000003933_0      NaN           0  Amazônia  NA-20-X   \n",
       "1  000000000000000059a4_0      NaN           0   Cerrado  SC-23-X   \n",
       "2  00000000000000006029_0      NaN           0  Caatinga  SA-24-Y   \n",
       "3  0000000000000000652b_0      NaN           0  Caatinga  SB-24-X   \n",
       "4  0000000000000000753d_0      NaN           0  Caatinga  SC-24-Y   \n",
       "\n",
       "            CLASS_2022 DECLIVIDAD        LAT        LON  NEW_PROB  \\\n",
       "0  AFLORAMENTO ROCHOSO         D5   2.516093 -60.778254  0.000007   \n",
       "1  AFLORAMENTO ROCHOSO         D5  -8.858734 -44.489462  0.000009   \n",
       "2  AFLORAMENTO ROCHOSO         D5  -3.365356 -41.021875  0.000017   \n",
       "3  AFLORAMENTO ROCHOSO         D3  -5.854408 -36.804285  0.000011   \n",
       "4  AFLORAMENTO ROCHOSO         D5 -11.615394 -40.545678  0.000007   \n",
       "\n",
       "     NEW_WEIGHT  PESO_VOT  PROB_AMOS2  StateNB  TARGETID  VAL_PESO  \\\n",
       "0  92529.595041  0.000009    0.000009     14.0     26026       1.0   \n",
       "1  85959.795918  0.000010    0.000010     22.0     13274       1.0   \n",
       "2  58387.785714  0.000017    0.000017     23.0     19011       1.0   \n",
       "3  53284.850977  0.000014    0.000014     24.0     20507       1.0   \n",
       "4  96068.611111  0.000009    0.000009     29.0     10954       1.0   \n",
       "\n",
       "   classification  reference  year                                    .geo  \n",
       "0              14         10  2022  {\"type\":\"MultiPoint\",\"coordinates\":[]}  \n",
       "1               1         10  2022  {\"type\":\"MultiPoint\",\"coordinates\":[]}  \n",
       "2               1         10  2022  {\"type\":\"MultiPoint\",\"coordinates\":[]}  \n",
       "3               1         10  2022  {\"type\":\"MultiPoint\",\"coordinates\":[]}  \n",
       "4               1         10  2022  {\"type\":\"MultiPoint\",\"coordinates\":[]}  "
      ]
     },
     "execution_count": 1165,
     "metadata": {},
     "output_type": "execute_result"
    }
   ],
   "source": [
    "df_acc, class_values, class_names = get_classes(df_acc, level)\n",
    "df_acc.head()"
   ]
  },
  {
   "cell_type": "code",
   "execution_count": 1166,
   "metadata": {},
   "outputs": [],
   "source": [
    "#df_acc, class_values, class_names = get_classes(df_acc, config_classes, level)\n",
    "#df_acc.head()"
   ]
  },
  {
   "cell_type": "code",
   "execution_count": 1167,
   "metadata": {},
   "outputs": [
    {
     "data": {
      "text/plain": [
       "(72698, 20)"
      ]
     },
     "execution_count": 1167,
     "metadata": {},
     "output_type": "execute_result"
    }
   ],
   "source": [
    "df_acc.shape"
   ]
  },
  {
   "cell_type": "code",
   "execution_count": 1168,
   "metadata": {},
   "outputs": [
    {
     "data": {
      "text/plain": [
       "5"
      ]
     },
     "execution_count": 1168,
     "metadata": {},
     "output_type": "execute_result"
    }
   ],
   "source": [
    "len(class_names)"
   ]
  },
  {
   "cell_type": "code",
   "execution_count": 1169,
   "metadata": {},
   "outputs": [],
   "source": [
    "if level == 'l1':\n",
    "    class_names = sorted(class_names)     \n",
    "    class_values = sorted(class_values)"
   ]
  },
  {
   "cell_type": "markdown",
   "metadata": {},
   "source": [
    "#### Verificando se as classes mudaram"
   ]
  },
  {
   "cell_type": "code",
   "execution_count": 1170,
   "metadata": {},
   "outputs": [
    {
     "name": "stdout",
     "output_type": "stream",
     "text": [
      "[ 3  4  5  9 11 12 13 15 19 20 21 23 24 25 29 30 31 32 33 36 50]\n",
      "[ 1 10 14 22 26]\n",
      "-----\n",
      "[ 3  4  5  6  9 11 12 13 15 19 21 23 24 25 29 30 31 32 33 35 36]\n",
      "[ 1 10 14 22 26]\n"
     ]
    }
   ],
   "source": [
    "reference_3 = df_acc['reference'].unique()\n",
    "reference_3.sort()\n",
    "reference_3\n",
    "\n",
    "classif_3 = df_acc['classification'].unique()\n",
    "classif_3.sort()\n",
    "classif_3\n",
    "\n",
    "print (reference_2)\n",
    "print (reference_3)\n",
    "print ('-----')\n",
    "print (classif_2)\n",
    "print (classif_3)"
   ]
  },
  {
   "cell_type": "code",
   "execution_count": null,
   "metadata": {},
   "outputs": [],
   "source": []
  },
  {
   "cell_type": "markdown",
   "metadata": {},
   "source": [
    "#### Pegando os dados das classes"
   ]
  },
  {
   "cell_type": "code",
   "execution_count": 1171,
   "metadata": {},
   "outputs": [
    {
     "data": {
      "text/html": [
       "<div>\n",
       "<style scoped>\n",
       "    .dataframe tbody tr th:only-of-type {\n",
       "        vertical-align: middle;\n",
       "    }\n",
       "\n",
       "    .dataframe tbody tr th {\n",
       "        vertical-align: top;\n",
       "    }\n",
       "\n",
       "    .dataframe thead th {\n",
       "        text-align: right;\n",
       "    }\n",
       "</style>\n",
       "<table border=\"1\" class=\"dataframe\">\n",
       "  <thead>\n",
       "    <tr style=\"text-align: right;\">\n",
       "      <th></th>\n",
       "      <th>Class_Names</th>\n",
       "    </tr>\n",
       "    <tr>\n",
       "      <th>Class_Values</th>\n",
       "      <th></th>\n",
       "    </tr>\n",
       "  </thead>\n",
       "  <tbody>\n",
       "    <tr>\n",
       "      <th>1</th>\n",
       "      <td>1. Floresta</td>\n",
       "    </tr>\n",
       "    <tr>\n",
       "      <th>10</th>\n",
       "      <td>2. Formação Natural não Florestal</td>\n",
       "    </tr>\n",
       "    <tr>\n",
       "      <th>14</th>\n",
       "      <td>3. Agropecuária</td>\n",
       "    </tr>\n",
       "    <tr>\n",
       "      <th>22</th>\n",
       "      <td>4. Área não Vegetada</td>\n",
       "    </tr>\n",
       "    <tr>\n",
       "      <th>26</th>\n",
       "      <td>5. Corpo D'água</td>\n",
       "    </tr>\n",
       "  </tbody>\n",
       "</table>\n",
       "</div>"
      ],
      "text/plain": [
       "                                    Class_Names\n",
       "Class_Values                                   \n",
       "1                                   1. Floresta\n",
       "10            2. Formação Natural não Florestal\n",
       "14                              3. Agropecuária\n",
       "22                         4. Área não Vegetada\n",
       "26                              5. Corpo D'água"
      ]
     },
     "execution_count": 1171,
     "metadata": {},
     "output_type": "execute_result"
    }
   ],
   "source": [
    "df_by_class = pd.DataFrame ( {\n",
    "    'Class_Names' : class_names,\n",
    "    'Class_Values' : class_values\n",
    "}).set_index('Class_Values')\n",
    "df_by_class"
   ]
  },
  {
   "cell_type": "code",
   "execution_count": 1172,
   "metadata": {},
   "outputs": [
    {
     "data": {
      "text/html": [
       "<div>\n",
       "<style scoped>\n",
       "    .dataframe tbody tr th:only-of-type {\n",
       "        vertical-align: middle;\n",
       "    }\n",
       "\n",
       "    .dataframe tbody tr th {\n",
       "        vertical-align: top;\n",
       "    }\n",
       "\n",
       "    .dataframe thead th {\n",
       "        text-align: right;\n",
       "    }\n",
       "</style>\n",
       "<table border=\"1\" class=\"dataframe\">\n",
       "  <thead>\n",
       "    <tr style=\"text-align: right;\">\n",
       "      <th></th>\n",
       "      <th>Class_Names</th>\n",
       "      <th>qt_class</th>\n",
       "    </tr>\n",
       "    <tr>\n",
       "      <th>Class_Values</th>\n",
       "      <th></th>\n",
       "      <th></th>\n",
       "    </tr>\n",
       "  </thead>\n",
       "  <tbody>\n",
       "    <tr>\n",
       "      <th>1</th>\n",
       "      <td>1. Floresta</td>\n",
       "      <td>39206</td>\n",
       "    </tr>\n",
       "    <tr>\n",
       "      <th>10</th>\n",
       "      <td>2. Formação Natural não Florestal</td>\n",
       "      <td>5391</td>\n",
       "    </tr>\n",
       "    <tr>\n",
       "      <th>14</th>\n",
       "      <td>3. Agropecuária</td>\n",
       "      <td>26094</td>\n",
       "    </tr>\n",
       "    <tr>\n",
       "      <th>22</th>\n",
       "      <td>4. Área não Vegetada</td>\n",
       "      <td>748</td>\n",
       "    </tr>\n",
       "    <tr>\n",
       "      <th>26</th>\n",
       "      <td>5. Corpo D'água</td>\n",
       "      <td>1259</td>\n",
       "    </tr>\n",
       "  </tbody>\n",
       "</table>\n",
       "</div>"
      ],
      "text/plain": [
       "                                    Class_Names  qt_class\n",
       "Class_Values                                             \n",
       "1                                   1. Floresta     39206\n",
       "10            2. Formação Natural não Florestal      5391\n",
       "14                              3. Agropecuária     26094\n",
       "22                         4. Área não Vegetada       748\n",
       "26                              5. Corpo D'água      1259"
      ]
     },
     "execution_count": 1172,
     "metadata": {},
     "output_type": "execute_result"
    }
   ],
   "source": [
    "df_by_class['qt_class'] = df_acc['classification'].value_counts()\n",
    "df_by_class"
   ]
  },
  {
   "cell_type": "code",
   "execution_count": 1173,
   "metadata": {},
   "outputs": [],
   "source": [
    "df_by_class['qt_reference'] = df_acc['reference'].value_counts()"
   ]
  },
  {
   "cell_type": "code",
   "execution_count": 1174,
   "metadata": {},
   "outputs": [
    {
     "data": {
      "text/html": [
       "<div>\n",
       "<style scoped>\n",
       "    .dataframe tbody tr th:only-of-type {\n",
       "        vertical-align: middle;\n",
       "    }\n",
       "\n",
       "    .dataframe tbody tr th {\n",
       "        vertical-align: top;\n",
       "    }\n",
       "\n",
       "    .dataframe thead th {\n",
       "        text-align: right;\n",
       "    }\n",
       "</style>\n",
       "<table border=\"1\" class=\"dataframe\">\n",
       "  <thead>\n",
       "    <tr style=\"text-align: right;\">\n",
       "      <th></th>\n",
       "      <th>Class_Names</th>\n",
       "      <th>qt_class</th>\n",
       "      <th>qt_reference</th>\n",
       "    </tr>\n",
       "    <tr>\n",
       "      <th>Class_Values</th>\n",
       "      <th></th>\n",
       "      <th></th>\n",
       "      <th></th>\n",
       "    </tr>\n",
       "  </thead>\n",
       "  <tbody>\n",
       "    <tr>\n",
       "      <th>1</th>\n",
       "      <td>1. Floresta</td>\n",
       "      <td>39206</td>\n",
       "      <td>40382</td>\n",
       "    </tr>\n",
       "    <tr>\n",
       "      <th>10</th>\n",
       "      <td>2. Formação Natural não Florestal</td>\n",
       "      <td>5391</td>\n",
       "      <td>4810</td>\n",
       "    </tr>\n",
       "    <tr>\n",
       "      <th>14</th>\n",
       "      <td>3. Agropecuária</td>\n",
       "      <td>26094</td>\n",
       "      <td>25612</td>\n",
       "    </tr>\n",
       "    <tr>\n",
       "      <th>22</th>\n",
       "      <td>4. Área não Vegetada</td>\n",
       "      <td>748</td>\n",
       "      <td>644</td>\n",
       "    </tr>\n",
       "    <tr>\n",
       "      <th>26</th>\n",
       "      <td>5. Corpo D'água</td>\n",
       "      <td>1259</td>\n",
       "      <td>1250</td>\n",
       "    </tr>\n",
       "  </tbody>\n",
       "</table>\n",
       "</div>"
      ],
      "text/plain": [
       "                                    Class_Names  qt_class  qt_reference\n",
       "Class_Values                                                           \n",
       "1                                   1. Floresta     39206         40382\n",
       "10            2. Formação Natural não Florestal      5391          4810\n",
       "14                              3. Agropecuária     26094         25612\n",
       "22                         4. Área não Vegetada       748           644\n",
       "26                              5. Corpo D'água      1259          1250"
      ]
     },
     "execution_count": 1174,
     "metadata": {},
     "output_type": "execute_result"
    }
   ],
   "source": [
    "df_by_class"
   ]
  },
  {
   "cell_type": "markdown",
   "metadata": {},
   "source": [
    "aqui, vou substituir os nas por zero, ja que é zero a quantidade de classificados"
   ]
  },
  {
   "cell_type": "code",
   "execution_count": 1175,
   "metadata": {},
   "outputs": [
    {
     "data": {
      "text/html": [
       "<div>\n",
       "<style scoped>\n",
       "    .dataframe tbody tr th:only-of-type {\n",
       "        vertical-align: middle;\n",
       "    }\n",
       "\n",
       "    .dataframe tbody tr th {\n",
       "        vertical-align: top;\n",
       "    }\n",
       "\n",
       "    .dataframe thead th {\n",
       "        text-align: right;\n",
       "    }\n",
       "</style>\n",
       "<table border=\"1\" class=\"dataframe\">\n",
       "  <thead>\n",
       "    <tr style=\"text-align: right;\">\n",
       "      <th></th>\n",
       "      <th>Class_Names</th>\n",
       "      <th>qt_class</th>\n",
       "      <th>qt_reference</th>\n",
       "    </tr>\n",
       "    <tr>\n",
       "      <th>Class_Values</th>\n",
       "      <th></th>\n",
       "      <th></th>\n",
       "      <th></th>\n",
       "    </tr>\n",
       "  </thead>\n",
       "  <tbody>\n",
       "    <tr>\n",
       "      <th>1</th>\n",
       "      <td>1. Floresta</td>\n",
       "      <td>39206</td>\n",
       "      <td>40382</td>\n",
       "    </tr>\n",
       "    <tr>\n",
       "      <th>10</th>\n",
       "      <td>2. Formação Natural não Florestal</td>\n",
       "      <td>5391</td>\n",
       "      <td>4810</td>\n",
       "    </tr>\n",
       "    <tr>\n",
       "      <th>14</th>\n",
       "      <td>3. Agropecuária</td>\n",
       "      <td>26094</td>\n",
       "      <td>25612</td>\n",
       "    </tr>\n",
       "    <tr>\n",
       "      <th>22</th>\n",
       "      <td>4. Área não Vegetada</td>\n",
       "      <td>748</td>\n",
       "      <td>644</td>\n",
       "    </tr>\n",
       "    <tr>\n",
       "      <th>26</th>\n",
       "      <td>5. Corpo D'água</td>\n",
       "      <td>1259</td>\n",
       "      <td>1250</td>\n",
       "    </tr>\n",
       "  </tbody>\n",
       "</table>\n",
       "</div>"
      ],
      "text/plain": [
       "                                    Class_Names  qt_class  qt_reference\n",
       "Class_Values                                                           \n",
       "1                                   1. Floresta     39206         40382\n",
       "10            2. Formação Natural não Florestal      5391          4810\n",
       "14                              3. Agropecuária     26094         25612\n",
       "22                         4. Área não Vegetada       748           644\n",
       "26                              5. Corpo D'água      1259          1250"
      ]
     },
     "execution_count": 1175,
     "metadata": {},
     "output_type": "execute_result"
    }
   ],
   "source": [
    "df_by_class.fillna(0, inplace=True)\n",
    "df_by_class"
   ]
  },
  {
   "cell_type": "code",
   "execution_count": 1176,
   "metadata": {},
   "outputs": [
    {
     "data": {
      "text/html": [
       "<div>\n",
       "<style scoped>\n",
       "    .dataframe tbody tr th:only-of-type {\n",
       "        vertical-align: middle;\n",
       "    }\n",
       "\n",
       "    .dataframe tbody tr th {\n",
       "        vertical-align: top;\n",
       "    }\n",
       "\n",
       "    .dataframe thead th {\n",
       "        text-align: right;\n",
       "    }\n",
       "</style>\n",
       "<table border=\"1\" class=\"dataframe\">\n",
       "  <thead>\n",
       "    <tr style=\"text-align: right;\">\n",
       "      <th></th>\n",
       "      <th>Class_Names</th>\n",
       "      <th>qt_class</th>\n",
       "      <th>qt_reference</th>\n",
       "    </tr>\n",
       "    <tr>\n",
       "      <th>Class_Values</th>\n",
       "      <th></th>\n",
       "      <th></th>\n",
       "      <th></th>\n",
       "    </tr>\n",
       "  </thead>\n",
       "  <tbody>\n",
       "    <tr>\n",
       "      <th>1</th>\n",
       "      <td>1. Floresta</td>\n",
       "      <td>39206</td>\n",
       "      <td>40382</td>\n",
       "    </tr>\n",
       "    <tr>\n",
       "      <th>14</th>\n",
       "      <td>3. Agropecuária</td>\n",
       "      <td>26094</td>\n",
       "      <td>25612</td>\n",
       "    </tr>\n",
       "    <tr>\n",
       "      <th>10</th>\n",
       "      <td>2. Formação Natural não Florestal</td>\n",
       "      <td>5391</td>\n",
       "      <td>4810</td>\n",
       "    </tr>\n",
       "    <tr>\n",
       "      <th>26</th>\n",
       "      <td>5. Corpo D'água</td>\n",
       "      <td>1259</td>\n",
       "      <td>1250</td>\n",
       "    </tr>\n",
       "    <tr>\n",
       "      <th>22</th>\n",
       "      <td>4. Área não Vegetada</td>\n",
       "      <td>748</td>\n",
       "      <td>644</td>\n",
       "    </tr>\n",
       "  </tbody>\n",
       "</table>\n",
       "</div>"
      ],
      "text/plain": [
       "                                    Class_Names  qt_class  qt_reference\n",
       "Class_Values                                                           \n",
       "1                                   1. Floresta     39206         40382\n",
       "14                              3. Agropecuária     26094         25612\n",
       "10            2. Formação Natural não Florestal      5391          4810\n",
       "26                              5. Corpo D'água      1259          1250\n",
       "22                         4. Área não Vegetada       748           644"
      ]
     },
     "execution_count": 1176,
     "metadata": {},
     "output_type": "execute_result"
    }
   ],
   "source": [
    "df_by_class.sort_values('qt_class', ascending=False)"
   ]
  },
  {
   "cell_type": "markdown",
   "metadata": {},
   "source": [
    "#### Formatacao"
   ]
  },
  {
   "cell_type": "code",
   "execution_count": 1177,
   "metadata": {},
   "outputs": [],
   "source": [
    "df_by_class_formatar = df_by_class.copy(deep=True)"
   ]
  },
  {
   "cell_type": "code",
   "execution_count": 1178,
   "metadata": {},
   "outputs": [],
   "source": [
    "df_by_class_formatar.columns = ['Classe', 'Quantidade Classificada', 'Quantidade de Referência']\n",
    "df_by_class_formatar.index.name = 'id'"
   ]
  },
  {
   "cell_type": "code",
   "execution_count": 1179,
   "metadata": {},
   "outputs": [
    {
     "data": {
      "text/html": [
       "<div>\n",
       "<style scoped>\n",
       "    .dataframe tbody tr th:only-of-type {\n",
       "        vertical-align: middle;\n",
       "    }\n",
       "\n",
       "    .dataframe tbody tr th {\n",
       "        vertical-align: top;\n",
       "    }\n",
       "\n",
       "    .dataframe thead th {\n",
       "        text-align: right;\n",
       "    }\n",
       "</style>\n",
       "<table border=\"1\" class=\"dataframe\">\n",
       "  <thead>\n",
       "    <tr style=\"text-align: right;\">\n",
       "      <th></th>\n",
       "      <th>Classe</th>\n",
       "      <th>Quantidade Classificada</th>\n",
       "      <th>Quantidade de Referência</th>\n",
       "    </tr>\n",
       "    <tr>\n",
       "      <th>id</th>\n",
       "      <th></th>\n",
       "      <th></th>\n",
       "      <th></th>\n",
       "    </tr>\n",
       "  </thead>\n",
       "  <tbody>\n",
       "    <tr>\n",
       "      <th>1</th>\n",
       "      <td>1. Floresta</td>\n",
       "      <td>39206</td>\n",
       "      <td>40382</td>\n",
       "    </tr>\n",
       "    <tr>\n",
       "      <th>10</th>\n",
       "      <td>2. Formação Natural não Florestal</td>\n",
       "      <td>5391</td>\n",
       "      <td>4810</td>\n",
       "    </tr>\n",
       "    <tr>\n",
       "      <th>14</th>\n",
       "      <td>3. Agropecuária</td>\n",
       "      <td>26094</td>\n",
       "      <td>25612</td>\n",
       "    </tr>\n",
       "    <tr>\n",
       "      <th>22</th>\n",
       "      <td>4. Área não Vegetada</td>\n",
       "      <td>748</td>\n",
       "      <td>644</td>\n",
       "    </tr>\n",
       "    <tr>\n",
       "      <th>26</th>\n",
       "      <td>5. Corpo D'água</td>\n",
       "      <td>1259</td>\n",
       "      <td>1250</td>\n",
       "    </tr>\n",
       "  </tbody>\n",
       "</table>\n",
       "</div>"
      ],
      "text/plain": [
       "                               Classe  Quantidade Classificada  \\\n",
       "id                                                               \n",
       "1                         1. Floresta                    39206   \n",
       "10  2. Formação Natural não Florestal                     5391   \n",
       "14                    3. Agropecuária                    26094   \n",
       "22               4. Área não Vegetada                      748   \n",
       "26                    5. Corpo D'água                     1259   \n",
       "\n",
       "    Quantidade de Referência  \n",
       "id                            \n",
       "1                      40382  \n",
       "10                      4810  \n",
       "14                     25612  \n",
       "22                       644  \n",
       "26                      1250  "
      ]
     },
     "execution_count": 1179,
     "metadata": {},
     "output_type": "execute_result"
    }
   ],
   "source": [
    "df_by_class_formatar"
   ]
  },
  {
   "cell_type": "code",
   "execution_count": 1180,
   "metadata": {},
   "outputs": [
    {
     "ename": "KeyError",
     "evalue": "\"None of [Index([3, 4], dtype='int64', name='id')] are in the [index]\"",
     "output_type": "error",
     "traceback": [
      "\u001b[0;31m---------------------------------------------------------------------------\u001b[0m",
      "\u001b[0;31mKeyError\u001b[0m                                  Traceback (most recent call last)",
      "Cell \u001b[0;32mIn[1180], line 1\u001b[0m\n\u001b[0;32m----> 1\u001b[0m \u001b[43mdf_by_class_formatar\u001b[49m\u001b[38;5;241;43m.\u001b[39;49m\u001b[43mloc\u001b[49m\u001b[43m[\u001b[49m\u001b[43m[\u001b[49m\u001b[38;5;241;43m3\u001b[39;49m\u001b[43m,\u001b[49m\u001b[38;5;241;43m4\u001b[39;49m\u001b[43m]\u001b[49m\u001b[43m]\u001b[49m[\u001b[38;5;124m'\u001b[39m\u001b[38;5;124mQuantidade Classificada\u001b[39m\u001b[38;5;124m'\u001b[39m]\u001b[38;5;241m.\u001b[39msum() \u001b[38;5;241m/\u001b[39m df_by_class_formatar[\u001b[38;5;124m'\u001b[39m\u001b[38;5;124mQuantidade Classificada\u001b[39m\u001b[38;5;124m'\u001b[39m]\u001b[38;5;241m.\u001b[39msum()\n",
      "File \u001b[0;32m~/dev/acuracia_ma/.venv/lib/python3.10/site-packages/pandas/core/indexing.py:1191\u001b[0m, in \u001b[0;36m_LocationIndexer.__getitem__\u001b[0;34m(self, key)\u001b[0m\n\u001b[1;32m   1189\u001b[0m maybe_callable \u001b[38;5;241m=\u001b[39m com\u001b[38;5;241m.\u001b[39mapply_if_callable(key, \u001b[38;5;28mself\u001b[39m\u001b[38;5;241m.\u001b[39mobj)\n\u001b[1;32m   1190\u001b[0m maybe_callable \u001b[38;5;241m=\u001b[39m \u001b[38;5;28mself\u001b[39m\u001b[38;5;241m.\u001b[39m_check_deprecated_callable_usage(key, maybe_callable)\n\u001b[0;32m-> 1191\u001b[0m \u001b[38;5;28;01mreturn\u001b[39;00m \u001b[38;5;28;43mself\u001b[39;49m\u001b[38;5;241;43m.\u001b[39;49m\u001b[43m_getitem_axis\u001b[49m\u001b[43m(\u001b[49m\u001b[43mmaybe_callable\u001b[49m\u001b[43m,\u001b[49m\u001b[43m \u001b[49m\u001b[43maxis\u001b[49m\u001b[38;5;241;43m=\u001b[39;49m\u001b[43maxis\u001b[49m\u001b[43m)\u001b[49m\n",
      "File \u001b[0;32m~/dev/acuracia_ma/.venv/lib/python3.10/site-packages/pandas/core/indexing.py:1420\u001b[0m, in \u001b[0;36m_LocIndexer._getitem_axis\u001b[0;34m(self, key, axis)\u001b[0m\n\u001b[1;32m   1417\u001b[0m     \u001b[38;5;28;01mif\u001b[39;00m \u001b[38;5;28mhasattr\u001b[39m(key, \u001b[38;5;124m\"\u001b[39m\u001b[38;5;124mndim\u001b[39m\u001b[38;5;124m\"\u001b[39m) \u001b[38;5;129;01mand\u001b[39;00m key\u001b[38;5;241m.\u001b[39mndim \u001b[38;5;241m>\u001b[39m \u001b[38;5;241m1\u001b[39m:\n\u001b[1;32m   1418\u001b[0m         \u001b[38;5;28;01mraise\u001b[39;00m \u001b[38;5;167;01mValueError\u001b[39;00m(\u001b[38;5;124m\"\u001b[39m\u001b[38;5;124mCannot index with multidimensional key\u001b[39m\u001b[38;5;124m\"\u001b[39m)\n\u001b[0;32m-> 1420\u001b[0m     \u001b[38;5;28;01mreturn\u001b[39;00m \u001b[38;5;28;43mself\u001b[39;49m\u001b[38;5;241;43m.\u001b[39;49m\u001b[43m_getitem_iterable\u001b[49m\u001b[43m(\u001b[49m\u001b[43mkey\u001b[49m\u001b[43m,\u001b[49m\u001b[43m \u001b[49m\u001b[43maxis\u001b[49m\u001b[38;5;241;43m=\u001b[39;49m\u001b[43maxis\u001b[49m\u001b[43m)\u001b[49m\n\u001b[1;32m   1422\u001b[0m \u001b[38;5;66;03m# nested tuple slicing\u001b[39;00m\n\u001b[1;32m   1423\u001b[0m \u001b[38;5;28;01mif\u001b[39;00m is_nested_tuple(key, labels):\n",
      "File \u001b[0;32m~/dev/acuracia_ma/.venv/lib/python3.10/site-packages/pandas/core/indexing.py:1360\u001b[0m, in \u001b[0;36m_LocIndexer._getitem_iterable\u001b[0;34m(self, key, axis)\u001b[0m\n\u001b[1;32m   1357\u001b[0m \u001b[38;5;28mself\u001b[39m\u001b[38;5;241m.\u001b[39m_validate_key(key, axis)\n\u001b[1;32m   1359\u001b[0m \u001b[38;5;66;03m# A collection of keys\u001b[39;00m\n\u001b[0;32m-> 1360\u001b[0m keyarr, indexer \u001b[38;5;241m=\u001b[39m \u001b[38;5;28;43mself\u001b[39;49m\u001b[38;5;241;43m.\u001b[39;49m\u001b[43m_get_listlike_indexer\u001b[49m\u001b[43m(\u001b[49m\u001b[43mkey\u001b[49m\u001b[43m,\u001b[49m\u001b[43m \u001b[49m\u001b[43maxis\u001b[49m\u001b[43m)\u001b[49m\n\u001b[1;32m   1361\u001b[0m \u001b[38;5;28;01mreturn\u001b[39;00m \u001b[38;5;28mself\u001b[39m\u001b[38;5;241m.\u001b[39mobj\u001b[38;5;241m.\u001b[39m_reindex_with_indexers(\n\u001b[1;32m   1362\u001b[0m     {axis: [keyarr, indexer]}, copy\u001b[38;5;241m=\u001b[39m\u001b[38;5;28;01mTrue\u001b[39;00m, allow_dups\u001b[38;5;241m=\u001b[39m\u001b[38;5;28;01mTrue\u001b[39;00m\n\u001b[1;32m   1363\u001b[0m )\n",
      "File \u001b[0;32m~/dev/acuracia_ma/.venv/lib/python3.10/site-packages/pandas/core/indexing.py:1558\u001b[0m, in \u001b[0;36m_LocIndexer._get_listlike_indexer\u001b[0;34m(self, key, axis)\u001b[0m\n\u001b[1;32m   1555\u001b[0m ax \u001b[38;5;241m=\u001b[39m \u001b[38;5;28mself\u001b[39m\u001b[38;5;241m.\u001b[39mobj\u001b[38;5;241m.\u001b[39m_get_axis(axis)\n\u001b[1;32m   1556\u001b[0m axis_name \u001b[38;5;241m=\u001b[39m \u001b[38;5;28mself\u001b[39m\u001b[38;5;241m.\u001b[39mobj\u001b[38;5;241m.\u001b[39m_get_axis_name(axis)\n\u001b[0;32m-> 1558\u001b[0m keyarr, indexer \u001b[38;5;241m=\u001b[39m \u001b[43max\u001b[49m\u001b[38;5;241;43m.\u001b[39;49m\u001b[43m_get_indexer_strict\u001b[49m\u001b[43m(\u001b[49m\u001b[43mkey\u001b[49m\u001b[43m,\u001b[49m\u001b[43m \u001b[49m\u001b[43maxis_name\u001b[49m\u001b[43m)\u001b[49m\n\u001b[1;32m   1560\u001b[0m \u001b[38;5;28;01mreturn\u001b[39;00m keyarr, indexer\n",
      "File \u001b[0;32m~/dev/acuracia_ma/.venv/lib/python3.10/site-packages/pandas/core/indexes/base.py:6200\u001b[0m, in \u001b[0;36mIndex._get_indexer_strict\u001b[0;34m(self, key, axis_name)\u001b[0m\n\u001b[1;32m   6197\u001b[0m \u001b[38;5;28;01melse\u001b[39;00m:\n\u001b[1;32m   6198\u001b[0m     keyarr, indexer, new_indexer \u001b[38;5;241m=\u001b[39m \u001b[38;5;28mself\u001b[39m\u001b[38;5;241m.\u001b[39m_reindex_non_unique(keyarr)\n\u001b[0;32m-> 6200\u001b[0m \u001b[38;5;28;43mself\u001b[39;49m\u001b[38;5;241;43m.\u001b[39;49m\u001b[43m_raise_if_missing\u001b[49m\u001b[43m(\u001b[49m\u001b[43mkeyarr\u001b[49m\u001b[43m,\u001b[49m\u001b[43m \u001b[49m\u001b[43mindexer\u001b[49m\u001b[43m,\u001b[49m\u001b[43m \u001b[49m\u001b[43maxis_name\u001b[49m\u001b[43m)\u001b[49m\n\u001b[1;32m   6202\u001b[0m keyarr \u001b[38;5;241m=\u001b[39m \u001b[38;5;28mself\u001b[39m\u001b[38;5;241m.\u001b[39mtake(indexer)\n\u001b[1;32m   6203\u001b[0m \u001b[38;5;28;01mif\u001b[39;00m \u001b[38;5;28misinstance\u001b[39m(key, Index):\n\u001b[1;32m   6204\u001b[0m     \u001b[38;5;66;03m# GH 42790 - Preserve name from an Index\u001b[39;00m\n",
      "File \u001b[0;32m~/dev/acuracia_ma/.venv/lib/python3.10/site-packages/pandas/core/indexes/base.py:6249\u001b[0m, in \u001b[0;36mIndex._raise_if_missing\u001b[0;34m(self, key, indexer, axis_name)\u001b[0m\n\u001b[1;32m   6247\u001b[0m \u001b[38;5;28;01mif\u001b[39;00m nmissing:\n\u001b[1;32m   6248\u001b[0m     \u001b[38;5;28;01mif\u001b[39;00m nmissing \u001b[38;5;241m==\u001b[39m \u001b[38;5;28mlen\u001b[39m(indexer):\n\u001b[0;32m-> 6249\u001b[0m         \u001b[38;5;28;01mraise\u001b[39;00m \u001b[38;5;167;01mKeyError\u001b[39;00m(\u001b[38;5;124mf\u001b[39m\u001b[38;5;124m\"\u001b[39m\u001b[38;5;124mNone of [\u001b[39m\u001b[38;5;132;01m{\u001b[39;00mkey\u001b[38;5;132;01m}\u001b[39;00m\u001b[38;5;124m] are in the [\u001b[39m\u001b[38;5;132;01m{\u001b[39;00maxis_name\u001b[38;5;132;01m}\u001b[39;00m\u001b[38;5;124m]\u001b[39m\u001b[38;5;124m\"\u001b[39m)\n\u001b[1;32m   6251\u001b[0m     not_found \u001b[38;5;241m=\u001b[39m \u001b[38;5;28mlist\u001b[39m(ensure_index(key)[missing_mask\u001b[38;5;241m.\u001b[39mnonzero()[\u001b[38;5;241m0\u001b[39m]]\u001b[38;5;241m.\u001b[39munique())\n\u001b[1;32m   6252\u001b[0m     \u001b[38;5;28;01mraise\u001b[39;00m \u001b[38;5;167;01mKeyError\u001b[39;00m(\u001b[38;5;124mf\u001b[39m\u001b[38;5;124m\"\u001b[39m\u001b[38;5;132;01m{\u001b[39;00mnot_found\u001b[38;5;132;01m}\u001b[39;00m\u001b[38;5;124m not in index\u001b[39m\u001b[38;5;124m\"\u001b[39m)\n",
      "\u001b[0;31mKeyError\u001b[0m: \"None of [Index([3, 4], dtype='int64', name='id')] are in the [index]\""
     ]
    }
   ],
   "source": [
    "df_by_class_formatar.loc[[3,4]]['Quantidade Classificada'].sum() / df_by_class_formatar['Quantidade Classificada'].sum()"
   ]
  },
  {
   "cell_type": "code",
   "execution_count": null,
   "metadata": {},
   "outputs": [
    {
     "data": {
      "text/plain": [
       "<Axes: ylabel='id'>"
      ]
     },
     "execution_count": 60,
     "metadata": {},
     "output_type": "execute_result"
    },
    {
     "data": {
      "image/png": "[encoded data removed]",
      "text/plain": [
       "<Figure size 640x480 with 1 Axes>"
      ]
     },
     "metadata": {},
     "output_type": "display_data"
    }
   ],
   "source": [
    "df_by_class_formatar.plot(kind='barh')"
   ]
  },
  {
   "cell_type": "code",
   "execution_count": null,
   "metadata": {},
   "outputs": [
    {
     "data": {
      "text/html": [
       "<style type=\"text/css\">\n",
       "</style>\n",
       "<table id=\"T_af700\">\n",
       "  <thead>\n",
       "    <tr>\n",
       "      <th class=\"blank level0\" >&nbsp;</th>\n",
       "      <th id=\"T_af700_level0_col0\" class=\"col_heading level0 col0\" >Classe</th>\n",
       "      <th id=\"T_af700_level0_col1\" class=\"col_heading level0 col1\" >Quantidade Classificada</th>\n",
       "      <th id=\"T_af700_level0_col2\" class=\"col_heading level0 col2\" >Quantidade de Referência</th>\n",
       "    </tr>\n",
       "    <tr>\n",
       "      <th class=\"index_name level0\" >id</th>\n",
       "      <th class=\"blank col0\" >&nbsp;</th>\n",
       "      <th class=\"blank col1\" >&nbsp;</th>\n",
       "      <th class=\"blank col2\" >&nbsp;</th>\n",
       "    </tr>\n",
       "  </thead>\n",
       "  <tbody>\n",
       "    <tr>\n",
       "      <th id=\"T_af700_level0_row0\" class=\"row_heading level0 row0\" >1</th>\n",
       "      <td id=\"T_af700_row0_col0\" class=\"data row0 col0\" >1. Floresta</td>\n",
       "      <td id=\"T_af700_row0_col1\" class=\"data row0 col1\" >40533</td>\n",
       "      <td id=\"T_af700_row0_col2\" class=\"data row0 col2\" >41601</td>\n",
       "    </tr>\n",
       "    <tr>\n",
       "      <th id=\"T_af700_level0_row1\" class=\"row_heading level0 row1\" >14</th>\n",
       "      <td id=\"T_af700_row1_col0\" class=\"data row1 col0\" >3. Agropecuária</td>\n",
       "      <td id=\"T_af700_row1_col1\" class=\"data row1 col1\" >27059</td>\n",
       "      <td id=\"T_af700_row1_col2\" class=\"data row1 col2\" >26594</td>\n",
       "    </tr>\n",
       "    <tr>\n",
       "      <th id=\"T_af700_level0_row2\" class=\"row_heading level0 row2\" >10</th>\n",
       "      <td id=\"T_af700_row2_col0\" class=\"data row2 col0\" >2. Formação Natural não Florestal</td>\n",
       "      <td id=\"T_af700_row2_col1\" class=\"data row2 col1\" >5414</td>\n",
       "      <td id=\"T_af700_row2_col2\" class=\"data row2 col2\" >4920</td>\n",
       "    </tr>\n",
       "    <tr>\n",
       "      <th id=\"T_af700_level0_row3\" class=\"row_heading level0 row3\" >22</th>\n",
       "      <td id=\"T_af700_row3_col0\" class=\"data row3 col0\" >4. Área não Vegetada</td>\n",
       "      <td id=\"T_af700_row3_col1\" class=\"data row3 col1\" >763</td>\n",
       "      <td id=\"T_af700_row3_col2\" class=\"data row3 col2\" >644</td>\n",
       "    </tr>\n",
       "    <tr>\n",
       "      <th id=\"T_af700_level0_row4\" class=\"row_heading level0 row4\" >26</th>\n",
       "      <td id=\"T_af700_row4_col0\" class=\"data row4 col0\" >5. Corpo D'água</td>\n",
       "      <td id=\"T_af700_row4_col1\" class=\"data row4 col1\" >1259</td>\n",
       "      <td id=\"T_af700_row4_col2\" class=\"data row4 col2\" >1269</td>\n",
       "    </tr>\n",
       "  </tbody>\n",
       "</table>\n"
      ],
      "text/plain": [
       "<pandas.io.formats.style.Styler at 0x7efe9be59c90>"
      ]
     },
     "execution_count": 61,
     "metadata": {},
     "output_type": "execute_result"
    }
   ],
   "source": [
    "s_by_class = df_by_class_formatar.style\n",
    "s_by_class"
   ]
  },
  {
   "cell_type": "markdown",
   "metadata": {},
   "source": [
    "## Analise da acuracia"
   ]
  },
  {
   "cell_type": "markdown",
   "metadata": {},
   "source": [
    "### Preparação das variáveis usadas para calcular"
   ]
  },
  {
   "cell_type": "code",
   "execution_count": 1181,
   "metadata": {},
   "outputs": [],
   "source": [
    "from sklearn.metrics import confusion_matrix"
   ]
  },
  {
   "cell_type": "code",
   "execution_count": 1182,
   "metadata": {},
   "outputs": [],
   "source": [
    "y_true = df_acc[['reference']].to_numpy().flatten()\n",
    "y_pred = df_acc[['classification']].to_numpy().flatten()"
   ]
  },
  {
   "cell_type": "markdown",
   "metadata": {},
   "source": [
    "verificar se existe classes em uma e nao na outra"
   ]
  },
  {
   "cell_type": "code",
   "execution_count": 1183,
   "metadata": {},
   "outputs": [
    {
     "data": {
      "text/plain": [
       "set()"
      ]
     },
     "execution_count": 1183,
     "metadata": {},
     "output_type": "execute_result"
    }
   ],
   "source": [
    "set(y_pred) - set (y_true)"
   ]
  },
  {
   "cell_type": "code",
   "execution_count": 1184,
   "metadata": {},
   "outputs": [
    {
     "data": {
      "text/plain": [
       "set()"
      ]
     },
     "execution_count": 1184,
     "metadata": {},
     "output_type": "execute_result"
    }
   ],
   "source": [
    "set(y_true) - set (y_pred)"
   ]
  },
  {
   "cell_type": "code",
   "execution_count": 1185,
   "metadata": {},
   "outputs": [
    {
     "name": "stdout",
     "output_type": "stream",
     "text": [
      "[[37042   527  1565    22    50]\n",
      " [  987  3644   712     6    42]\n",
      " [ 2320   503 23123   112    36]\n",
      " [    9    36   197   501     5]\n",
      " [   24   100    15     3  1117]]\n"
     ]
    }
   ],
   "source": [
    "matrix_sem_peso = confusion_matrix(y_true, y_pred).T\n",
    "print (matrix_sem_peso)"
   ]
  },
  {
   "cell_type": "code",
   "execution_count": 1186,
   "metadata": {},
   "outputs": [
    {
     "data": {
      "text/plain": [
       "np.float64(0.8999834933560759)"
      ]
     },
     "execution_count": 1186,
     "metadata": {},
     "output_type": "execute_result"
    }
   ],
   "source": [
    "matrix_sem_peso.diagonal().sum() / matrix_sem_peso.sum()"
   ]
  },
  {
   "cell_type": "code",
   "execution_count": 1187,
   "metadata": {},
   "outputs": [
    {
     "data": {
      "text/plain": [
       "np.int64(72698)"
      ]
     },
     "execution_count": 1187,
     "metadata": {},
     "output_type": "execute_result"
    }
   ],
   "source": [
    "total = matrix_sem_peso.sum()\n",
    "total"
   ]
  },
  {
   "cell_type": "code",
   "execution_count": 1188,
   "metadata": {},
   "outputs": [
    {
     "data": {
      "text/plain": [
       "[np.int64(1), np.int64(10), np.int64(14), np.int64(22), np.int64(26)]"
      ]
     },
     "execution_count": 1188,
     "metadata": {},
     "output_type": "execute_result"
    }
   ],
   "source": [
    "classes_index = list (set(y_true).union(set (y_pred)))\n",
    "classes_index"
   ]
  },
  {
   "cell_type": "code",
   "execution_count": 1189,
   "metadata": {},
   "outputs": [],
   "source": [
    "df_matriz_confusao_qt = pd.DataFrame(matrix_sem_peso, index=classes_index, columns=classes_index)"
   ]
  },
  {
   "cell_type": "markdown",
   "metadata": {},
   "source": [
    "#### Formatacao para artigo"
   ]
  },
  {
   "cell_type": "code",
   "execution_count": 1190,
   "metadata": {},
   "outputs": [
    {
     "data": {
      "text/html": [
       "<div>\n",
       "<style scoped>\n",
       "    .dataframe tbody tr th:only-of-type {\n",
       "        vertical-align: middle;\n",
       "    }\n",
       "\n",
       "    .dataframe tbody tr th {\n",
       "        vertical-align: top;\n",
       "    }\n",
       "\n",
       "    .dataframe thead th {\n",
       "        text-align: right;\n",
       "    }\n",
       "</style>\n",
       "<table border=\"1\" class=\"dataframe\">\n",
       "  <thead>\n",
       "    <tr style=\"text-align: right;\">\n",
       "      <th></th>\n",
       "      <th>1</th>\n",
       "      <th>10</th>\n",
       "      <th>14</th>\n",
       "      <th>22</th>\n",
       "      <th>26</th>\n",
       "      <th>Total Classificado</th>\n",
       "    </tr>\n",
       "  </thead>\n",
       "  <tbody>\n",
       "    <tr>\n",
       "      <th>1</th>\n",
       "      <td>37042</td>\n",
       "      <td>527</td>\n",
       "      <td>1565</td>\n",
       "      <td>22</td>\n",
       "      <td>50</td>\n",
       "      <td>39206</td>\n",
       "    </tr>\n",
       "    <tr>\n",
       "      <th>10</th>\n",
       "      <td>987</td>\n",
       "      <td>3644</td>\n",
       "      <td>712</td>\n",
       "      <td>6</td>\n",
       "      <td>42</td>\n",
       "      <td>5391</td>\n",
       "    </tr>\n",
       "    <tr>\n",
       "      <th>14</th>\n",
       "      <td>2320</td>\n",
       "      <td>503</td>\n",
       "      <td>23123</td>\n",
       "      <td>112</td>\n",
       "      <td>36</td>\n",
       "      <td>26094</td>\n",
       "    </tr>\n",
       "    <tr>\n",
       "      <th>22</th>\n",
       "      <td>9</td>\n",
       "      <td>36</td>\n",
       "      <td>197</td>\n",
       "      <td>501</td>\n",
       "      <td>5</td>\n",
       "      <td>748</td>\n",
       "    </tr>\n",
       "    <tr>\n",
       "      <th>26</th>\n",
       "      <td>24</td>\n",
       "      <td>100</td>\n",
       "      <td>15</td>\n",
       "      <td>3</td>\n",
       "      <td>1117</td>\n",
       "      <td>1259</td>\n",
       "    </tr>\n",
       "  </tbody>\n",
       "</table>\n",
       "</div>"
      ],
      "text/plain": [
       "        1    10     14   22    26  Total Classificado\n",
       "1   37042   527   1565   22    50               39206\n",
       "10    987  3644    712    6    42                5391\n",
       "14   2320   503  23123  112    36               26094\n",
       "22      9    36    197  501     5                 748\n",
       "26     24   100     15    3  1117                1259"
      ]
     },
     "execution_count": 1190,
     "metadata": {},
     "output_type": "execute_result"
    }
   ],
   "source": [
    "df_matriz_confusao_qt['Total Classificado'] = df_matriz_confusao_qt.sum(axis=1)\n",
    "df_matriz_confusao_qt"
   ]
  },
  {
   "cell_type": "code",
   "execution_count": 1191,
   "metadata": {},
   "outputs": [],
   "source": [
    "df_matriz_confusao_qt.loc['Total Referência'] = df_matriz_confusao_qt.sum(axis=0)"
   ]
  },
  {
   "cell_type": "code",
   "execution_count": 1192,
   "metadata": {},
   "outputs": [
    {
     "data": {
      "text/html": [
       "<div>\n",
       "<style scoped>\n",
       "    .dataframe tbody tr th:only-of-type {\n",
       "        vertical-align: middle;\n",
       "    }\n",
       "\n",
       "    .dataframe tbody tr th {\n",
       "        vertical-align: top;\n",
       "    }\n",
       "\n",
       "    .dataframe thead th {\n",
       "        text-align: right;\n",
       "    }\n",
       "</style>\n",
       "<table border=\"1\" class=\"dataframe\">\n",
       "  <thead>\n",
       "    <tr style=\"text-align: right;\">\n",
       "      <th></th>\n",
       "      <th>1</th>\n",
       "      <th>10</th>\n",
       "      <th>14</th>\n",
       "      <th>22</th>\n",
       "      <th>26</th>\n",
       "      <th>Total Classificado</th>\n",
       "    </tr>\n",
       "  </thead>\n",
       "  <tbody>\n",
       "    <tr>\n",
       "      <th>1</th>\n",
       "      <td>37042</td>\n",
       "      <td>527</td>\n",
       "      <td>1565</td>\n",
       "      <td>22</td>\n",
       "      <td>50</td>\n",
       "      <td>39206</td>\n",
       "    </tr>\n",
       "    <tr>\n",
       "      <th>10</th>\n",
       "      <td>987</td>\n",
       "      <td>3644</td>\n",
       "      <td>712</td>\n",
       "      <td>6</td>\n",
       "      <td>42</td>\n",
       "      <td>5391</td>\n",
       "    </tr>\n",
       "    <tr>\n",
       "      <th>14</th>\n",
       "      <td>2320</td>\n",
       "      <td>503</td>\n",
       "      <td>23123</td>\n",
       "      <td>112</td>\n",
       "      <td>36</td>\n",
       "      <td>26094</td>\n",
       "    </tr>\n",
       "    <tr>\n",
       "      <th>22</th>\n",
       "      <td>9</td>\n",
       "      <td>36</td>\n",
       "      <td>197</td>\n",
       "      <td>501</td>\n",
       "      <td>5</td>\n",
       "      <td>748</td>\n",
       "    </tr>\n",
       "    <tr>\n",
       "      <th>26</th>\n",
       "      <td>24</td>\n",
       "      <td>100</td>\n",
       "      <td>15</td>\n",
       "      <td>3</td>\n",
       "      <td>1117</td>\n",
       "      <td>1259</td>\n",
       "    </tr>\n",
       "    <tr>\n",
       "      <th>Total Referência</th>\n",
       "      <td>40382</td>\n",
       "      <td>4810</td>\n",
       "      <td>25612</td>\n",
       "      <td>644</td>\n",
       "      <td>1250</td>\n",
       "      <td>72698</td>\n",
       "    </tr>\n",
       "  </tbody>\n",
       "</table>\n",
       "</div>"
      ],
      "text/plain": [
       "                      1    10     14   22    26  Total Classificado\n",
       "1                 37042   527   1565   22    50               39206\n",
       "10                  987  3644    712    6    42                5391\n",
       "14                 2320   503  23123  112    36               26094\n",
       "22                    9    36    197  501     5                 748\n",
       "26                   24   100     15    3  1117                1259\n",
       "Total Referência  40382  4810  25612  644  1250               72698"
      ]
     },
     "execution_count": 1192,
     "metadata": {},
     "output_type": "execute_result"
    }
   ],
   "source": [
    "df_matriz_confusao_qt"
   ]
  },
  {
   "cell_type": "code",
   "execution_count": 1193,
   "metadata": {},
   "outputs": [
    {
     "data": {
      "text/html": [
       "<style type=\"text/css\">\n",
       "</style>\n",
       "<table id=\"T_e1788\">\n",
       "  <thead>\n",
       "    <tr>\n",
       "      <th class=\"blank level0\" >&nbsp;</th>\n",
       "      <th id=\"T_e1788_level0_col0\" class=\"col_heading level0 col0\" >1</th>\n",
       "      <th id=\"T_e1788_level0_col1\" class=\"col_heading level0 col1\" >10</th>\n",
       "      <th id=\"T_e1788_level0_col2\" class=\"col_heading level0 col2\" >14</th>\n",
       "      <th id=\"T_e1788_level0_col3\" class=\"col_heading level0 col3\" >22</th>\n",
       "      <th id=\"T_e1788_level0_col4\" class=\"col_heading level0 col4\" >26</th>\n",
       "      <th id=\"T_e1788_level0_col5\" class=\"col_heading level0 col5\" >Total Classificado</th>\n",
       "    </tr>\n",
       "  </thead>\n",
       "  <tbody>\n",
       "    <tr>\n",
       "      <th id=\"T_e1788_level0_row0\" class=\"row_heading level0 row0\" >1</th>\n",
       "      <td id=\"T_e1788_row0_col0\" class=\"data row0 col0\" >37042</td>\n",
       "      <td id=\"T_e1788_row0_col1\" class=\"data row0 col1\" >527</td>\n",
       "      <td id=\"T_e1788_row0_col2\" class=\"data row0 col2\" >1565</td>\n",
       "      <td id=\"T_e1788_row0_col3\" class=\"data row0 col3\" >22</td>\n",
       "      <td id=\"T_e1788_row0_col4\" class=\"data row0 col4\" >50</td>\n",
       "      <td id=\"T_e1788_row0_col5\" class=\"data row0 col5\" >39206</td>\n",
       "    </tr>\n",
       "    <tr>\n",
       "      <th id=\"T_e1788_level0_row1\" class=\"row_heading level0 row1\" >10</th>\n",
       "      <td id=\"T_e1788_row1_col0\" class=\"data row1 col0\" >987</td>\n",
       "      <td id=\"T_e1788_row1_col1\" class=\"data row1 col1\" >3644</td>\n",
       "      <td id=\"T_e1788_row1_col2\" class=\"data row1 col2\" >712</td>\n",
       "      <td id=\"T_e1788_row1_col3\" class=\"data row1 col3\" >6</td>\n",
       "      <td id=\"T_e1788_row1_col4\" class=\"data row1 col4\" >42</td>\n",
       "      <td id=\"T_e1788_row1_col5\" class=\"data row1 col5\" >5391</td>\n",
       "    </tr>\n",
       "    <tr>\n",
       "      <th id=\"T_e1788_level0_row2\" class=\"row_heading level0 row2\" >14</th>\n",
       "      <td id=\"T_e1788_row2_col0\" class=\"data row2 col0\" >2320</td>\n",
       "      <td id=\"T_e1788_row2_col1\" class=\"data row2 col1\" >503</td>\n",
       "      <td id=\"T_e1788_row2_col2\" class=\"data row2 col2\" >23123</td>\n",
       "      <td id=\"T_e1788_row2_col3\" class=\"data row2 col3\" >112</td>\n",
       "      <td id=\"T_e1788_row2_col4\" class=\"data row2 col4\" >36</td>\n",
       "      <td id=\"T_e1788_row2_col5\" class=\"data row2 col5\" >26094</td>\n",
       "    </tr>\n",
       "    <tr>\n",
       "      <th id=\"T_e1788_level0_row3\" class=\"row_heading level0 row3\" >22</th>\n",
       "      <td id=\"T_e1788_row3_col0\" class=\"data row3 col0\" >9</td>\n",
       "      <td id=\"T_e1788_row3_col1\" class=\"data row3 col1\" >36</td>\n",
       "      <td id=\"T_e1788_row3_col2\" class=\"data row3 col2\" >197</td>\n",
       "      <td id=\"T_e1788_row3_col3\" class=\"data row3 col3\" >501</td>\n",
       "      <td id=\"T_e1788_row3_col4\" class=\"data row3 col4\" >5</td>\n",
       "      <td id=\"T_e1788_row3_col5\" class=\"data row3 col5\" >748</td>\n",
       "    </tr>\n",
       "    <tr>\n",
       "      <th id=\"T_e1788_level0_row4\" class=\"row_heading level0 row4\" >26</th>\n",
       "      <td id=\"T_e1788_row4_col0\" class=\"data row4 col0\" >24</td>\n",
       "      <td id=\"T_e1788_row4_col1\" class=\"data row4 col1\" >100</td>\n",
       "      <td id=\"T_e1788_row4_col2\" class=\"data row4 col2\" >15</td>\n",
       "      <td id=\"T_e1788_row4_col3\" class=\"data row4 col3\" >3</td>\n",
       "      <td id=\"T_e1788_row4_col4\" class=\"data row4 col4\" >1117</td>\n",
       "      <td id=\"T_e1788_row4_col5\" class=\"data row4 col5\" >1259</td>\n",
       "    </tr>\n",
       "    <tr>\n",
       "      <th id=\"T_e1788_level0_row5\" class=\"row_heading level0 row5\" >Total Referência</th>\n",
       "      <td id=\"T_e1788_row5_col0\" class=\"data row5 col0\" >40382</td>\n",
       "      <td id=\"T_e1788_row5_col1\" class=\"data row5 col1\" >4810</td>\n",
       "      <td id=\"T_e1788_row5_col2\" class=\"data row5 col2\" >25612</td>\n",
       "      <td id=\"T_e1788_row5_col3\" class=\"data row5 col3\" >644</td>\n",
       "      <td id=\"T_e1788_row5_col4\" class=\"data row5 col4\" >1250</td>\n",
       "      <td id=\"T_e1788_row5_col5\" class=\"data row5 col5\" >72698</td>\n",
       "    </tr>\n",
       "  </tbody>\n",
       "</table>\n"
      ],
      "text/plain": [
       "<pandas.io.formats.style.Styler at 0x7efea339ba90>"
      ]
     },
     "execution_count": 1193,
     "metadata": {},
     "output_type": "execute_result"
    }
   ],
   "source": [
    "style_matriz_peso_qt = df_matriz_confusao_qt.style\n",
    "style_matriz_peso_qt"
   ]
  },
  {
   "cell_type": "code",
   "execution_count": 1194,
   "metadata": {},
   "outputs": [
    {
     "data": {
      "text/html": [
       "<style type=\"text/css\">\n",
       "#T_e1788_row0_col0, #T_e1788_row1_col1, #T_e1788_row2_col2, #T_e1788_row3_col3, #T_e1788_row4_col4 {\n",
       "  background-color: gray;\n",
       "}\n",
       "</style>\n",
       "<table id=\"T_e1788\">\n",
       "  <thead>\n",
       "    <tr>\n",
       "      <th class=\"blank level0\" >&nbsp;</th>\n",
       "      <th id=\"T_e1788_level0_col0\" class=\"col_heading level0 col0\" >1</th>\n",
       "      <th id=\"T_e1788_level0_col1\" class=\"col_heading level0 col1\" >10</th>\n",
       "      <th id=\"T_e1788_level0_col2\" class=\"col_heading level0 col2\" >14</th>\n",
       "      <th id=\"T_e1788_level0_col3\" class=\"col_heading level0 col3\" >22</th>\n",
       "      <th id=\"T_e1788_level0_col4\" class=\"col_heading level0 col4\" >26</th>\n",
       "      <th id=\"T_e1788_level0_col5\" class=\"col_heading level0 col5\" >Total Classificado</th>\n",
       "    </tr>\n",
       "  </thead>\n",
       "  <tbody>\n",
       "    <tr>\n",
       "      <th id=\"T_e1788_level0_row0\" class=\"row_heading level0 row0\" >1</th>\n",
       "      <td id=\"T_e1788_row0_col0\" class=\"data row0 col0\" >37042</td>\n",
       "      <td id=\"T_e1788_row0_col1\" class=\"data row0 col1\" >527</td>\n",
       "      <td id=\"T_e1788_row0_col2\" class=\"data row0 col2\" >1565</td>\n",
       "      <td id=\"T_e1788_row0_col3\" class=\"data row0 col3\" >22</td>\n",
       "      <td id=\"T_e1788_row0_col4\" class=\"data row0 col4\" >50</td>\n",
       "      <td id=\"T_e1788_row0_col5\" class=\"data row0 col5\" >39206</td>\n",
       "    </tr>\n",
       "    <tr>\n",
       "      <th id=\"T_e1788_level0_row1\" class=\"row_heading level0 row1\" >10</th>\n",
       "      <td id=\"T_e1788_row1_col0\" class=\"data row1 col0\" >987</td>\n",
       "      <td id=\"T_e1788_row1_col1\" class=\"data row1 col1\" >3644</td>\n",
       "      <td id=\"T_e1788_row1_col2\" class=\"data row1 col2\" >712</td>\n",
       "      <td id=\"T_e1788_row1_col3\" class=\"data row1 col3\" >6</td>\n",
       "      <td id=\"T_e1788_row1_col4\" class=\"data row1 col4\" >42</td>\n",
       "      <td id=\"T_e1788_row1_col5\" class=\"data row1 col5\" >5391</td>\n",
       "    </tr>\n",
       "    <tr>\n",
       "      <th id=\"T_e1788_level0_row2\" class=\"row_heading level0 row2\" >14</th>\n",
       "      <td id=\"T_e1788_row2_col0\" class=\"data row2 col0\" >2320</td>\n",
       "      <td id=\"T_e1788_row2_col1\" class=\"data row2 col1\" >503</td>\n",
       "      <td id=\"T_e1788_row2_col2\" class=\"data row2 col2\" >23123</td>\n",
       "      <td id=\"T_e1788_row2_col3\" class=\"data row2 col3\" >112</td>\n",
       "      <td id=\"T_e1788_row2_col4\" class=\"data row2 col4\" >36</td>\n",
       "      <td id=\"T_e1788_row2_col5\" class=\"data row2 col5\" >26094</td>\n",
       "    </tr>\n",
       "    <tr>\n",
       "      <th id=\"T_e1788_level0_row3\" class=\"row_heading level0 row3\" >22</th>\n",
       "      <td id=\"T_e1788_row3_col0\" class=\"data row3 col0\" >9</td>\n",
       "      <td id=\"T_e1788_row3_col1\" class=\"data row3 col1\" >36</td>\n",
       "      <td id=\"T_e1788_row3_col2\" class=\"data row3 col2\" >197</td>\n",
       "      <td id=\"T_e1788_row3_col3\" class=\"data row3 col3\" >501</td>\n",
       "      <td id=\"T_e1788_row3_col4\" class=\"data row3 col4\" >5</td>\n",
       "      <td id=\"T_e1788_row3_col5\" class=\"data row3 col5\" >748</td>\n",
       "    </tr>\n",
       "    <tr>\n",
       "      <th id=\"T_e1788_level0_row4\" class=\"row_heading level0 row4\" >26</th>\n",
       "      <td id=\"T_e1788_row4_col0\" class=\"data row4 col0\" >24</td>\n",
       "      <td id=\"T_e1788_row4_col1\" class=\"data row4 col1\" >100</td>\n",
       "      <td id=\"T_e1788_row4_col2\" class=\"data row4 col2\" >15</td>\n",
       "      <td id=\"T_e1788_row4_col3\" class=\"data row4 col3\" >3</td>\n",
       "      <td id=\"T_e1788_row4_col4\" class=\"data row4 col4\" >1117</td>\n",
       "      <td id=\"T_e1788_row4_col5\" class=\"data row4 col5\" >1259</td>\n",
       "    </tr>\n",
       "    <tr>\n",
       "      <th id=\"T_e1788_level0_row5\" class=\"row_heading level0 row5\" >Total Referência</th>\n",
       "      <td id=\"T_e1788_row5_col0\" class=\"data row5 col0\" >40382</td>\n",
       "      <td id=\"T_e1788_row5_col1\" class=\"data row5 col1\" >4810</td>\n",
       "      <td id=\"T_e1788_row5_col2\" class=\"data row5 col2\" >25612</td>\n",
       "      <td id=\"T_e1788_row5_col3\" class=\"data row5 col3\" >644</td>\n",
       "      <td id=\"T_e1788_row5_col4\" class=\"data row5 col4\" >1250</td>\n",
       "      <td id=\"T_e1788_row5_col5\" class=\"data row5 col5\" >72698</td>\n",
       "    </tr>\n",
       "  </tbody>\n",
       "</table>\n"
      ],
      "text/plain": [
       "<pandas.io.formats.style.Styler at 0x7efea339ba90>"
      ]
     },
     "execution_count": 1194,
     "metadata": {},
     "output_type": "execute_result"
    }
   ],
   "source": [
    "style_matriz_peso_qt.apply(lambda x: ['background-color: gray' if x.name == col else '' for col in x.index], axis=1)"
   ]
  },
  {
   "cell_type": "code",
   "execution_count": 1195,
   "metadata": {},
   "outputs": [
    {
     "data": {
      "text/plain": [
       "3734"
      ]
     },
     "execution_count": 1195,
     "metadata": {},
     "output_type": "execute_result"
    }
   ],
   "source": [
    "file = open ('tmp/saida.html','w')\n",
    "file.write(style_matriz_peso_qt.to_html())"
   ]
  },
  {
   "cell_type": "markdown",
   "metadata": {},
   "source": [
    "### Matriz Sem Área"
   ]
  },
  {
   "cell_type": "code",
   "execution_count": 1196,
   "metadata": {},
   "outputs": [
    {
     "data": {
      "text/plain": [
       "72698"
      ]
     },
     "execution_count": 1196,
     "metadata": {},
     "output_type": "execute_result"
    }
   ],
   "source": [
    "total, _ = df_acc.shape\n",
    "total"
   ]
  },
  {
   "cell_type": "code",
   "execution_count": 1197,
   "metadata": {},
   "outputs": [
    {
     "data": {
      "text/html": [
       "<div>\n",
       "<style scoped>\n",
       "    .dataframe tbody tr th:only-of-type {\n",
       "        vertical-align: middle;\n",
       "    }\n",
       "\n",
       "    .dataframe tbody tr th {\n",
       "        vertical-align: top;\n",
       "    }\n",
       "\n",
       "    .dataframe thead th {\n",
       "        text-align: right;\n",
       "    }\n",
       "</style>\n",
       "<table border=\"1\" class=\"dataframe\">\n",
       "  <thead>\n",
       "    <tr style=\"text-align: right;\">\n",
       "      <th></th>\n",
       "      <th>1. Floresta</th>\n",
       "      <th>2. Formação Natural não Florestal</th>\n",
       "      <th>3. Agropecuária</th>\n",
       "      <th>4. Área não Vegetada</th>\n",
       "      <th>5. Corpo D'água</th>\n",
       "    </tr>\n",
       "  </thead>\n",
       "  <tbody>\n",
       "    <tr>\n",
       "      <th>1. Floresta</th>\n",
       "      <td>37042</td>\n",
       "      <td>527</td>\n",
       "      <td>1565</td>\n",
       "      <td>22</td>\n",
       "      <td>50</td>\n",
       "    </tr>\n",
       "    <tr>\n",
       "      <th>2. Formação Natural não Florestal</th>\n",
       "      <td>987</td>\n",
       "      <td>3644</td>\n",
       "      <td>712</td>\n",
       "      <td>6</td>\n",
       "      <td>42</td>\n",
       "    </tr>\n",
       "    <tr>\n",
       "      <th>3. Agropecuária</th>\n",
       "      <td>2320</td>\n",
       "      <td>503</td>\n",
       "      <td>23123</td>\n",
       "      <td>112</td>\n",
       "      <td>36</td>\n",
       "    </tr>\n",
       "    <tr>\n",
       "      <th>4. Área não Vegetada</th>\n",
       "      <td>9</td>\n",
       "      <td>36</td>\n",
       "      <td>197</td>\n",
       "      <td>501</td>\n",
       "      <td>5</td>\n",
       "    </tr>\n",
       "    <tr>\n",
       "      <th>5. Corpo D'água</th>\n",
       "      <td>24</td>\n",
       "      <td>100</td>\n",
       "      <td>15</td>\n",
       "      <td>3</td>\n",
       "      <td>1117</td>\n",
       "    </tr>\n",
       "  </tbody>\n",
       "</table>\n",
       "</div>"
      ],
      "text/plain": [
       "                                   1. Floresta  \\\n",
       "1. Floresta                              37042   \n",
       "2. Formação Natural não Florestal          987   \n",
       "3. Agropecuária                           2320   \n",
       "4. Área não Vegetada                         9   \n",
       "5. Corpo D'água                             24   \n",
       "\n",
       "                                   2. Formação Natural não Florestal  \\\n",
       "1. Floresta                                                      527   \n",
       "2. Formação Natural não Florestal                               3644   \n",
       "3. Agropecuária                                                  503   \n",
       "4. Área não Vegetada                                              36   \n",
       "5. Corpo D'água                                                  100   \n",
       "\n",
       "                                   3. Agropecuária  4. Área não Vegetada  \\\n",
       "1. Floresta                                   1565                    22   \n",
       "2. Formação Natural não Florestal              712                     6   \n",
       "3. Agropecuária                              23123                   112   \n",
       "4. Área não Vegetada                           197                   501   \n",
       "5. Corpo D'água                                 15                     3   \n",
       "\n",
       "                                   5. Corpo D'água  \n",
       "1. Floresta                                     50  \n",
       "2. Formação Natural não Florestal               42  \n",
       "3. Agropecuária                                 36  \n",
       "4. Área não Vegetada                             5  \n",
       "5. Corpo D'água                               1117  "
      ]
     },
     "execution_count": 1197,
     "metadata": {},
     "output_type": "execute_result"
    }
   ],
   "source": [
    "pd.DataFrame ((confusion_matrix(y_true, y_pred).T) ,  columns=class_names, index=class_names)"
   ]
  },
  {
   "cell_type": "code",
   "execution_count": 1198,
   "metadata": {},
   "outputs": [
    {
     "data": {
      "text/html": [
       "<div>\n",
       "<style scoped>\n",
       "    .dataframe tbody tr th:only-of-type {\n",
       "        vertical-align: middle;\n",
       "    }\n",
       "\n",
       "    .dataframe tbody tr th {\n",
       "        vertical-align: top;\n",
       "    }\n",
       "\n",
       "    .dataframe thead th {\n",
       "        text-align: right;\n",
       "    }\n",
       "</style>\n",
       "<table border=\"1\" class=\"dataframe\">\n",
       "  <thead>\n",
       "    <tr style=\"text-align: right;\">\n",
       "      <th></th>\n",
       "      <th>1. Floresta</th>\n",
       "      <th>2. Formação Natural não Florestal</th>\n",
       "      <th>3. Agropecuária</th>\n",
       "      <th>4. Área não Vegetada</th>\n",
       "      <th>5. Corpo D'água</th>\n",
       "    </tr>\n",
       "  </thead>\n",
       "  <tbody>\n",
       "    <tr>\n",
       "      <th>1. Floresta</th>\n",
       "      <td>0.509533</td>\n",
       "      <td>0.007249</td>\n",
       "      <td>0.021527</td>\n",
       "      <td>0.000303</td>\n",
       "      <td>0.000688</td>\n",
       "    </tr>\n",
       "    <tr>\n",
       "      <th>2. Formação Natural não Florestal</th>\n",
       "      <td>0.013577</td>\n",
       "      <td>0.050125</td>\n",
       "      <td>0.009794</td>\n",
       "      <td>0.000083</td>\n",
       "      <td>0.000578</td>\n",
       "    </tr>\n",
       "    <tr>\n",
       "      <th>3. Agropecuária</th>\n",
       "      <td>0.031913</td>\n",
       "      <td>0.006919</td>\n",
       "      <td>0.318069</td>\n",
       "      <td>0.001541</td>\n",
       "      <td>0.000495</td>\n",
       "    </tr>\n",
       "    <tr>\n",
       "      <th>4. Área não Vegetada</th>\n",
       "      <td>0.000124</td>\n",
       "      <td>0.000495</td>\n",
       "      <td>0.002710</td>\n",
       "      <td>0.006892</td>\n",
       "      <td>0.000069</td>\n",
       "    </tr>\n",
       "    <tr>\n",
       "      <th>5. Corpo D'água</th>\n",
       "      <td>0.000330</td>\n",
       "      <td>0.001376</td>\n",
       "      <td>0.000206</td>\n",
       "      <td>0.000041</td>\n",
       "      <td>0.015365</td>\n",
       "    </tr>\n",
       "  </tbody>\n",
       "</table>\n",
       "</div>"
      ],
      "text/plain": [
       "                                   1. Floresta  \\\n",
       "1. Floresta                           0.509533   \n",
       "2. Formação Natural não Florestal     0.013577   \n",
       "3. Agropecuária                       0.031913   \n",
       "4. Área não Vegetada                  0.000124   \n",
       "5. Corpo D'água                       0.000330   \n",
       "\n",
       "                                   2. Formação Natural não Florestal  \\\n",
       "1. Floresta                                                 0.007249   \n",
       "2. Formação Natural não Florestal                           0.050125   \n",
       "3. Agropecuária                                             0.006919   \n",
       "4. Área não Vegetada                                        0.000495   \n",
       "5. Corpo D'água                                             0.001376   \n",
       "\n",
       "                                   3. Agropecuária  4. Área não Vegetada  \\\n",
       "1. Floresta                               0.021527              0.000303   \n",
       "2. Formação Natural não Florestal         0.009794              0.000083   \n",
       "3. Agropecuária                           0.318069              0.001541   \n",
       "4. Área não Vegetada                      0.002710              0.006892   \n",
       "5. Corpo D'água                           0.000206              0.000041   \n",
       "\n",
       "                                   5. Corpo D'água  \n",
       "1. Floresta                               0.000688  \n",
       "2. Formação Natural não Florestal         0.000578  \n",
       "3. Agropecuária                           0.000495  \n",
       "4. Área não Vegetada                      0.000069  \n",
       "5. Corpo D'água                           0.015365  "
      ]
     },
     "execution_count": 1198,
     "metadata": {},
     "output_type": "execute_result"
    }
   ],
   "source": [
    "df_matriz = pd.DataFrame ((confusion_matrix(y_true, y_pred).T) / total,  columns=class_names, index=class_names)\n",
    "df_matriz"
   ]
  },
  {
   "cell_type": "markdown",
   "metadata": {},
   "source": [
    "### Calculo da acuracia"
   ]
  },
  {
   "cell_type": "code",
   "execution_count": 1199,
   "metadata": {},
   "outputs": [],
   "source": [
    "from sklearn.metrics import accuracy_score, precision_score, recall_score, f1_score, confusion_matrix, roc_auc_score"
   ]
  },
  {
   "cell_type": "code",
   "execution_count": 1200,
   "metadata": {},
   "outputs": [
    {
     "data": {
      "text/plain": [
       "np.float64(1.0)"
      ]
     },
     "execution_count": 1200,
     "metadata": {},
     "output_type": "execute_result"
    }
   ],
   "source": [
    "total = df_matriz.sum().sum()\n",
    "total"
   ]
  },
  {
   "cell_type": "code",
   "execution_count": 1201,
   "metadata": {},
   "outputs": [
    {
     "data": {
      "text/plain": [
       "array([0.50953259, 0.05012518, 0.31806927, 0.00689152, 0.01536493])"
      ]
     },
     "execution_count": 1201,
     "metadata": {},
     "output_type": "execute_result"
    }
   ],
   "source": [
    "concordancia = np.diag(df_matriz.values)\n",
    "concordancia"
   ]
  },
  {
   "cell_type": "code",
   "execution_count": 1202,
   "metadata": {},
   "outputs": [
    {
     "data": {
      "text/plain": [
       "1. Floresta                          0.539300\n",
       "2. Formação Natural não Florestal    0.074156\n",
       "3. Agropecuária                      0.358937\n",
       "4. Área não Vegetada                 0.010289\n",
       "5. Corpo D'água                      0.017318\n",
       "dtype: float64"
      ]
     },
     "execution_count": 1202,
     "metadata": {},
     "output_type": "execute_result"
    }
   ],
   "source": [
    "total_class= df_matriz.sum(axis=1)\n",
    "total_class"
   ]
  },
  {
   "cell_type": "code",
   "execution_count": 1203,
   "metadata": {},
   "outputs": [
    {
     "data": {
      "text/plain": [
       "1. Floresta                          0.555476\n",
       "2. Formação Natural não Florestal    0.066164\n",
       "3. Agropecuária                      0.352307\n",
       "4. Área não Vegetada                 0.008859\n",
       "5. Corpo D'água                      0.017194\n",
       "dtype: float64"
      ]
     },
     "execution_count": 1203,
     "metadata": {},
     "output_type": "execute_result"
    }
   ],
   "source": [
    "total_ref = df_matriz.sum(axis=0)\n",
    "total_ref"
   ]
  },
  {
   "cell_type": "code",
   "execution_count": 1204,
   "metadata": {},
   "outputs": [
    {
     "data": {
      "text/plain": [
       "np.float64(0.8999834933560757)"
      ]
     },
     "execution_count": 1204,
     "metadata": {},
     "output_type": "execute_result"
    }
   ],
   "source": [
    "total_concordancia  = concordancia.sum()\n",
    "total_concordancia"
   ]
  },
  {
   "cell_type": "markdown",
   "metadata": {},
   "source": [
    "#### Acuracia Global"
   ]
  },
  {
   "cell_type": "code",
   "execution_count": 1205,
   "metadata": {},
   "outputs": [
    {
     "data": {
      "text/plain": [
       "np.float64(0.8999834933560757)"
      ]
     },
     "execution_count": 1205,
     "metadata": {},
     "output_type": "execute_result"
    }
   ],
   "source": [
    "AG = total_concordancia\n",
    "AG"
   ]
  },
  {
   "cell_type": "markdown",
   "metadata": {},
   "source": [
    "#### Erro Global"
   ]
  },
  {
   "cell_type": "code",
   "execution_count": 1206,
   "metadata": {},
   "outputs": [
    {
     "data": {
      "text/plain": [
       "np.float64(0.10001650664392425)"
      ]
     },
     "execution_count": 1206,
     "metadata": {},
     "output_type": "execute_result"
    }
   ],
   "source": [
    "EG = 1 - AG\n",
    "EG"
   ]
  },
  {
   "cell_type": "markdown",
   "metadata": {},
   "source": [
    "#### Acuracia do consumidor e erros de comissao"
   ]
  },
  {
   "cell_type": "code",
   "execution_count": 1207,
   "metadata": {},
   "outputs": [
    {
     "data": {
      "text/plain": [
       "1. Floresta                          0.944804\n",
       "5. Corpo D'água                      0.887212\n",
       "3. Agropecuária                      0.886142\n",
       "2. Formação Natural não Florestal    0.675941\n",
       "4. Área não Vegetada                 0.669786\n",
       "dtype: float64"
      ]
     },
     "execution_count": 1207,
     "metadata": {},
     "output_type": "execute_result"
    }
   ],
   "source": [
    "AC = concordancia / total_class\n",
    "AC.sort_values(ascending=False)"
   ]
  },
  {
   "cell_type": "markdown",
   "metadata": {},
   "source": [
    "aqui estou fazendo o equivalente ao micro"
   ]
  },
  {
   "cell_type": "code",
   "execution_count": 1208,
   "metadata": {},
   "outputs": [
    {
     "data": {
      "text/plain": [
       "np.float64(0.8999834933560755)"
      ]
     },
     "execution_count": 1208,
     "metadata": {},
     "output_type": "execute_result"
    }
   ],
   "source": [
    "concordancia.sum() / total_class.sum()"
   ]
  },
  {
   "cell_type": "markdown",
   "metadata": {},
   "source": [
    "Micro: Calcula a métrica globalmente.\n",
    "Macro: Calcula a métrica para cada classe e depois tira a média.\n",
    "Weighted: Calcula a métrica para cada classe e tira a média ponderada pelo suporte de cada classe."
   ]
  },
  {
   "cell_type": "code",
   "execution_count": 1209,
   "metadata": {},
   "outputs": [
    {
     "data": {
      "text/plain": [
       "np.float64(0.8999834933560759)"
      ]
     },
     "execution_count": 1209,
     "metadata": {},
     "output_type": "execute_result"
    }
   ],
   "source": [
    "precision_score(y_true, y_pred, average='micro')"
   ]
  },
  {
   "cell_type": "code",
   "execution_count": 1210,
   "metadata": {},
   "outputs": [
    {
     "data": {
      "text/plain": [
       "4. Área não Vegetada                 0.330214\n",
       "2. Formação Natural não Florestal    0.324059\n",
       "3. Agropecuária                      0.113858\n",
       "5. Corpo D'água                      0.112788\n",
       "1. Floresta                          0.055196\n",
       "dtype: float64"
      ]
     },
     "execution_count": 1210,
     "metadata": {},
     "output_type": "execute_result"
    }
   ],
   "source": [
    "EC = 1 - AC\n",
    "EC.sort_values(ascending=False)"
   ]
  },
  {
   "cell_type": "code",
   "execution_count": 1211,
   "metadata": {},
   "outputs": [
    {
     "data": {
      "text/plain": [
       "np.float64(0.10001650664392447)"
      ]
     },
     "execution_count": 1211,
     "metadata": {},
     "output_type": "execute_result"
    }
   ],
   "source": [
    "1 - concordancia.sum() / total_class.sum()"
   ]
  },
  {
   "cell_type": "markdown",
   "metadata": {},
   "source": [
    "#### Acuracia do produtor e erros de omissao"
   ]
  },
  {
   "cell_type": "code",
   "execution_count": 1212,
   "metadata": {},
   "outputs": [
    {
     "data": {
      "text/plain": [
       "1. Floresta                          0.917290\n",
       "3. Agropecuária                      0.902819\n",
       "5. Corpo D'água                      0.893600\n",
       "4. Área não Vegetada                 0.777950\n",
       "2. Formação Natural não Florestal    0.757588\n",
       "dtype: float64"
      ]
     },
     "execution_count": 1212,
     "metadata": {},
     "output_type": "execute_result"
    }
   ],
   "source": [
    "AP = concordancia / total_ref\n",
    "AP.sort_values(ascending=False)"
   ]
  },
  {
   "cell_type": "code",
   "execution_count": 1213,
   "metadata": {},
   "outputs": [
    {
     "data": {
      "text/plain": [
       "np.float64(0.8999834933560757)"
      ]
     },
     "execution_count": 1213,
     "metadata": {},
     "output_type": "execute_result"
    }
   ],
   "source": [
    "concordancia.sum() / total_ref.sum()"
   ]
  },
  {
   "cell_type": "code",
   "execution_count": 1214,
   "metadata": {},
   "outputs": [
    {
     "data": {
      "text/plain": [
       "np.float64(0.8999834933560759)"
      ]
     },
     "execution_count": 1214,
     "metadata": {},
     "output_type": "execute_result"
    }
   ],
   "source": [
    "recall_score(y_true, y_pred, average='micro')"
   ]
  },
  {
   "cell_type": "code",
   "execution_count": 1215,
   "metadata": {},
   "outputs": [
    {
     "data": {
      "text/plain": [
       "1. Floresta                          0.082710\n",
       "2. Formação Natural não Florestal    0.242412\n",
       "3. Agropecuária                      0.097181\n",
       "4. Área não Vegetada                 0.222050\n",
       "5. Corpo D'água                      0.106400\n",
       "dtype: float64"
      ]
     },
     "execution_count": 1215,
     "metadata": {},
     "output_type": "execute_result"
    }
   ],
   "source": [
    "EO = 1 - AP\n",
    "EO"
   ]
  },
  {
   "cell_type": "code",
   "execution_count": 1216,
   "metadata": {},
   "outputs": [
    {
     "data": {
      "text/html": [
       "<div>\n",
       "<style scoped>\n",
       "    .dataframe tbody tr th:only-of-type {\n",
       "        vertical-align: middle;\n",
       "    }\n",
       "\n",
       "    .dataframe tbody tr th {\n",
       "        vertical-align: top;\n",
       "    }\n",
       "\n",
       "    .dataframe thead th {\n",
       "        text-align: right;\n",
       "    }\n",
       "</style>\n",
       "<table border=\"1\" class=\"dataframe\">\n",
       "  <thead>\n",
       "    <tr style=\"text-align: right;\">\n",
       "      <th></th>\n",
       "      <th>Class_Names</th>\n",
       "      <th>qt_class</th>\n",
       "      <th>qt_reference</th>\n",
       "    </tr>\n",
       "    <tr>\n",
       "      <th>Class_Values</th>\n",
       "      <th></th>\n",
       "      <th></th>\n",
       "      <th></th>\n",
       "    </tr>\n",
       "  </thead>\n",
       "  <tbody>\n",
       "    <tr>\n",
       "      <th>1</th>\n",
       "      <td>1. Floresta</td>\n",
       "      <td>39206</td>\n",
       "      <td>40382</td>\n",
       "    </tr>\n",
       "    <tr>\n",
       "      <th>10</th>\n",
       "      <td>2. Formação Natural não Florestal</td>\n",
       "      <td>5391</td>\n",
       "      <td>4810</td>\n",
       "    </tr>\n",
       "    <tr>\n",
       "      <th>14</th>\n",
       "      <td>3. Agropecuária</td>\n",
       "      <td>26094</td>\n",
       "      <td>25612</td>\n",
       "    </tr>\n",
       "    <tr>\n",
       "      <th>22</th>\n",
       "      <td>4. Área não Vegetada</td>\n",
       "      <td>748</td>\n",
       "      <td>644</td>\n",
       "    </tr>\n",
       "    <tr>\n",
       "      <th>26</th>\n",
       "      <td>5. Corpo D'água</td>\n",
       "      <td>1259</td>\n",
       "      <td>1250</td>\n",
       "    </tr>\n",
       "  </tbody>\n",
       "</table>\n",
       "</div>"
      ],
      "text/plain": [
       "                                    Class_Names  qt_class  qt_reference\n",
       "Class_Values                                                           \n",
       "1                                   1. Floresta     39206         40382\n",
       "10            2. Formação Natural não Florestal      5391          4810\n",
       "14                              3. Agropecuária     26094         25612\n",
       "22                         4. Área não Vegetada       748           644\n",
       "26                              5. Corpo D'água      1259          1250"
      ]
     },
     "execution_count": 1216,
     "metadata": {},
     "output_type": "execute_result"
    }
   ],
   "source": [
    "df_by_class"
   ]
  },
  {
   "cell_type": "code",
   "execution_count": 1217,
   "metadata": {},
   "outputs": [
    {
     "data": {
      "text/html": [
       "<div>\n",
       "<style scoped>\n",
       "    .dataframe tbody tr th:only-of-type {\n",
       "        vertical-align: middle;\n",
       "    }\n",
       "\n",
       "    .dataframe tbody tr th {\n",
       "        vertical-align: top;\n",
       "    }\n",
       "\n",
       "    .dataframe thead th {\n",
       "        text-align: right;\n",
       "    }\n",
       "</style>\n",
       "<table border=\"1\" class=\"dataframe\">\n",
       "  <thead>\n",
       "    <tr style=\"text-align: right;\">\n",
       "      <th></th>\n",
       "      <th>qt_class</th>\n",
       "      <th>qt_reference</th>\n",
       "    </tr>\n",
       "    <tr>\n",
       "      <th>Class_Names</th>\n",
       "      <th></th>\n",
       "      <th></th>\n",
       "    </tr>\n",
       "  </thead>\n",
       "  <tbody>\n",
       "    <tr>\n",
       "      <th>1. Floresta</th>\n",
       "      <td>39206</td>\n",
       "      <td>40382</td>\n",
       "    </tr>\n",
       "    <tr>\n",
       "      <th>2. Formação Natural não Florestal</th>\n",
       "      <td>5391</td>\n",
       "      <td>4810</td>\n",
       "    </tr>\n",
       "    <tr>\n",
       "      <th>3. Agropecuária</th>\n",
       "      <td>26094</td>\n",
       "      <td>25612</td>\n",
       "    </tr>\n",
       "    <tr>\n",
       "      <th>4. Área não Vegetada</th>\n",
       "      <td>748</td>\n",
       "      <td>644</td>\n",
       "    </tr>\n",
       "    <tr>\n",
       "      <th>5. Corpo D'água</th>\n",
       "      <td>1259</td>\n",
       "      <td>1250</td>\n",
       "    </tr>\n",
       "  </tbody>\n",
       "</table>\n",
       "</div>"
      ],
      "text/plain": [
       "                                   qt_class  qt_reference\n",
       "Class_Names                                              \n",
       "1. Floresta                           39206         40382\n",
       "2. Formação Natural não Florestal      5391          4810\n",
       "3. Agropecuária                       26094         25612\n",
       "4. Área não Vegetada                    748           644\n",
       "5. Corpo D'água                        1259          1250"
      ]
     },
     "execution_count": 1217,
     "metadata": {},
     "output_type": "execute_result"
    }
   ],
   "source": [
    "df_class_acuracias = df_by_class.set_index('Class_Names')\n",
    "df_class_acuracias"
   ]
  },
  {
   "cell_type": "code",
   "execution_count": 1218,
   "metadata": {},
   "outputs": [
    {
     "data": {
      "text/html": [
       "<div>\n",
       "<style scoped>\n",
       "    .dataframe tbody tr th:only-of-type {\n",
       "        vertical-align: middle;\n",
       "    }\n",
       "\n",
       "    .dataframe tbody tr th {\n",
       "        vertical-align: top;\n",
       "    }\n",
       "\n",
       "    .dataframe thead th {\n",
       "        text-align: right;\n",
       "    }\n",
       "</style>\n",
       "<table border=\"1\" class=\"dataframe\">\n",
       "  <thead>\n",
       "    <tr style=\"text-align: right;\">\n",
       "      <th></th>\n",
       "      <th>Classificado</th>\n",
       "      <th>Referência</th>\n",
       "    </tr>\n",
       "    <tr>\n",
       "      <th>Class_Names</th>\n",
       "      <th></th>\n",
       "      <th></th>\n",
       "    </tr>\n",
       "  </thead>\n",
       "  <tbody>\n",
       "    <tr>\n",
       "      <th>1. Floresta</th>\n",
       "      <td>39206</td>\n",
       "      <td>40382</td>\n",
       "    </tr>\n",
       "    <tr>\n",
       "      <th>2. Formação Natural não Florestal</th>\n",
       "      <td>5391</td>\n",
       "      <td>4810</td>\n",
       "    </tr>\n",
       "    <tr>\n",
       "      <th>3. Agropecuária</th>\n",
       "      <td>26094</td>\n",
       "      <td>25612</td>\n",
       "    </tr>\n",
       "    <tr>\n",
       "      <th>4. Área não Vegetada</th>\n",
       "      <td>748</td>\n",
       "      <td>644</td>\n",
       "    </tr>\n",
       "    <tr>\n",
       "      <th>5. Corpo D'água</th>\n",
       "      <td>1259</td>\n",
       "      <td>1250</td>\n",
       "    </tr>\n",
       "  </tbody>\n",
       "</table>\n",
       "</div>"
      ],
      "text/plain": [
       "                                   Classificado  Referência\n",
       "Class_Names                                                \n",
       "1. Floresta                               39206       40382\n",
       "2. Formação Natural não Florestal          5391        4810\n",
       "3. Agropecuária                           26094       25612\n",
       "4. Área não Vegetada                        748         644\n",
       "5. Corpo D'água                            1259        1250"
      ]
     },
     "execution_count": 1218,
     "metadata": {},
     "output_type": "execute_result"
    }
   ],
   "source": [
    "df_class_acuracias.columns = [\"Classificado\", \"Referência\"]\n",
    "df_class_acuracias"
   ]
  },
  {
   "cell_type": "code",
   "execution_count": 1219,
   "metadata": {},
   "outputs": [
    {
     "data": {
      "text/html": [
       "<div>\n",
       "<style scoped>\n",
       "    .dataframe tbody tr th:only-of-type {\n",
       "        vertical-align: middle;\n",
       "    }\n",
       "\n",
       "    .dataframe tbody tr th {\n",
       "        vertical-align: top;\n",
       "    }\n",
       "\n",
       "    .dataframe thead th {\n",
       "        text-align: right;\n",
       "    }\n",
       "</style>\n",
       "<table border=\"1\" class=\"dataframe\">\n",
       "  <thead>\n",
       "    <tr style=\"text-align: right;\">\n",
       "      <th></th>\n",
       "      <th>Classificado</th>\n",
       "      <th>Referência</th>\n",
       "      <th>Acurácia do Consumidor</th>\n",
       "      <th>Acurácia do Produtor</th>\n",
       "    </tr>\n",
       "    <tr>\n",
       "      <th>Class_Names</th>\n",
       "      <th></th>\n",
       "      <th></th>\n",
       "      <th></th>\n",
       "      <th></th>\n",
       "    </tr>\n",
       "  </thead>\n",
       "  <tbody>\n",
       "    <tr>\n",
       "      <th>1. Floresta</th>\n",
       "      <td>39206</td>\n",
       "      <td>40382</td>\n",
       "      <td>0.944804</td>\n",
       "      <td>0.917290</td>\n",
       "    </tr>\n",
       "    <tr>\n",
       "      <th>2. Formação Natural não Florestal</th>\n",
       "      <td>5391</td>\n",
       "      <td>4810</td>\n",
       "      <td>0.675941</td>\n",
       "      <td>0.757588</td>\n",
       "    </tr>\n",
       "    <tr>\n",
       "      <th>3. Agropecuária</th>\n",
       "      <td>26094</td>\n",
       "      <td>25612</td>\n",
       "      <td>0.886142</td>\n",
       "      <td>0.902819</td>\n",
       "    </tr>\n",
       "    <tr>\n",
       "      <th>4. Área não Vegetada</th>\n",
       "      <td>748</td>\n",
       "      <td>644</td>\n",
       "      <td>0.669786</td>\n",
       "      <td>0.777950</td>\n",
       "    </tr>\n",
       "    <tr>\n",
       "      <th>5. Corpo D'água</th>\n",
       "      <td>1259</td>\n",
       "      <td>1250</td>\n",
       "      <td>0.887212</td>\n",
       "      <td>0.893600</td>\n",
       "    </tr>\n",
       "  </tbody>\n",
       "</table>\n",
       "</div>"
      ],
      "text/plain": [
       "                                   Classificado  Referência  \\\n",
       "Class_Names                                                   \n",
       "1. Floresta                               39206       40382   \n",
       "2. Formação Natural não Florestal          5391        4810   \n",
       "3. Agropecuária                           26094       25612   \n",
       "4. Área não Vegetada                        748         644   \n",
       "5. Corpo D'água                            1259        1250   \n",
       "\n",
       "                                   Acurácia do Consumidor  \\\n",
       "Class_Names                                                 \n",
       "1. Floresta                                      0.944804   \n",
       "2. Formação Natural não Florestal                0.675941   \n",
       "3. Agropecuária                                  0.886142   \n",
       "4. Área não Vegetada                             0.669786   \n",
       "5. Corpo D'água                                  0.887212   \n",
       "\n",
       "                                   Acurácia do Produtor  \n",
       "Class_Names                                              \n",
       "1. Floresta                                    0.917290  \n",
       "2. Formação Natural não Florestal              0.757588  \n",
       "3. Agropecuária                                0.902819  \n",
       "4. Área não Vegetada                           0.777950  \n",
       "5. Corpo D'água                                0.893600  "
      ]
     },
     "execution_count": 1219,
     "metadata": {},
     "output_type": "execute_result"
    }
   ],
   "source": [
    "df_class_acuracias['Acurácia do Consumidor'] = AC\n",
    "df_class_acuracias['Acurácia do Produtor'] = AP\n",
    "df_class_acuracias"
   ]
  },
  {
   "cell_type": "code",
   "execution_count": 1220,
   "metadata": {},
   "outputs": [
    {
     "data": {
      "text/html": [
       "<div>\n",
       "<style scoped>\n",
       "    .dataframe tbody tr th:only-of-type {\n",
       "        vertical-align: middle;\n",
       "    }\n",
       "\n",
       "    .dataframe tbody tr th {\n",
       "        vertical-align: top;\n",
       "    }\n",
       "\n",
       "    .dataframe thead th {\n",
       "        text-align: right;\n",
       "    }\n",
       "</style>\n",
       "<table border=\"1\" class=\"dataframe\">\n",
       "  <thead>\n",
       "    <tr style=\"text-align: right;\">\n",
       "      <th></th>\n",
       "      <th>Classificado</th>\n",
       "      <th>Referência</th>\n",
       "      <th>Acurácia do Consumidor</th>\n",
       "      <th>Acurácia do Produtor</th>\n",
       "    </tr>\n",
       "    <tr>\n",
       "      <th>Class_Names</th>\n",
       "      <th></th>\n",
       "      <th></th>\n",
       "      <th></th>\n",
       "      <th></th>\n",
       "    </tr>\n",
       "  </thead>\n",
       "  <tbody>\n",
       "    <tr>\n",
       "      <th>1. Floresta</th>\n",
       "      <td>39206</td>\n",
       "      <td>40382</td>\n",
       "      <td>0.944804</td>\n",
       "      <td>0.917290</td>\n",
       "    </tr>\n",
       "    <tr>\n",
       "      <th>2. Formação Natural não Florestal</th>\n",
       "      <td>5391</td>\n",
       "      <td>4810</td>\n",
       "      <td>0.675941</td>\n",
       "      <td>0.757588</td>\n",
       "    </tr>\n",
       "    <tr>\n",
       "      <th>3. Agropecuária</th>\n",
       "      <td>26094</td>\n",
       "      <td>25612</td>\n",
       "      <td>0.886142</td>\n",
       "      <td>0.902819</td>\n",
       "    </tr>\n",
       "    <tr>\n",
       "      <th>4. Área não Vegetada</th>\n",
       "      <td>748</td>\n",
       "      <td>644</td>\n",
       "      <td>0.669786</td>\n",
       "      <td>0.777950</td>\n",
       "    </tr>\n",
       "    <tr>\n",
       "      <th>5. Corpo D'água</th>\n",
       "      <td>1259</td>\n",
       "      <td>1250</td>\n",
       "      <td>0.887212</td>\n",
       "      <td>0.893600</td>\n",
       "    </tr>\n",
       "  </tbody>\n",
       "</table>\n",
       "</div>"
      ],
      "text/plain": [
       "                                   Classificado  Referência  \\\n",
       "Class_Names                                                   \n",
       "1. Floresta                               39206       40382   \n",
       "2. Formação Natural não Florestal          5391        4810   \n",
       "3. Agropecuária                           26094       25612   \n",
       "4. Área não Vegetada                        748         644   \n",
       "5. Corpo D'água                            1259        1250   \n",
       "\n",
       "                                   Acurácia do Consumidor  \\\n",
       "Class_Names                                                 \n",
       "1. Floresta                                      0.944804   \n",
       "2. Formação Natural não Florestal                0.675941   \n",
       "3. Agropecuária                                  0.886142   \n",
       "4. Área não Vegetada                             0.669786   \n",
       "5. Corpo D'água                                  0.887212   \n",
       "\n",
       "                                   Acurácia do Produtor  \n",
       "Class_Names                                              \n",
       "1. Floresta                                    0.917290  \n",
       "2. Formação Natural não Florestal              0.757588  \n",
       "3. Agropecuária                                0.902819  \n",
       "4. Área não Vegetada                           0.777950  \n",
       "5. Corpo D'água                                0.893600  "
      ]
     },
     "execution_count": 1220,
     "metadata": {},
     "output_type": "execute_result"
    }
   ],
   "source": [
    "##style_acuracia_classes = pd.DataFrame({ 'Acuracia do Consumidor': AC, 'Erros de Comissão':EC, 'Acuracia do Produtor': AP, 'Erros de Omissão':EO}).style\n",
    "style_acuracia_classes = df_class_acuracias\n",
    "style_acuracia_classes"
   ]
  },
  {
   "cell_type": "code",
   "execution_count": 1221,
   "metadata": {},
   "outputs": [],
   "source": [
    "file = open ('tmp/saida.html','w', encoding='utf-8')\n",
    "file.write(style_acuracia_classes.to_html())\n",
    "file.close()"
   ]
  },
  {
   "cell_type": "markdown",
   "metadata": {},
   "source": [
    "#### F1 Score"
   ]
  },
  {
   "cell_type": "code",
   "execution_count": 1222,
   "metadata": {},
   "outputs": [
    {
     "data": {
      "text/plain": [
       "np.float64(0.8999834933560759)"
      ]
     },
     "execution_count": 1222,
     "metadata": {},
     "output_type": "execute_result"
    }
   ],
   "source": [
    "f1_score(y_true, y_pred, average='micro')"
   ]
  },
  {
   "attachments": {
    "image.png": {
     "image/png": "[encoded data removed]"
    }
   },
   "cell_type": "markdown",
   "metadata": {},
   "source": [
    "#### Erro de quantidade (area disagrement)\n",
    "\n",
    "![image.png](attachment:image.png)"
   ]
  },
  {
   "cell_type": "code",
   "execution_count": 1223,
   "metadata": {},
   "outputs": [
    {
     "data": {
      "text/plain": [
       "np.float64(0.016176511045695854)"
      ]
     },
     "execution_count": 1223,
     "metadata": {},
     "output_type": "execute_result"
    }
   ],
   "source": [
    "QD = (np.abs(total_ref - total_class)).sum() / 2\n",
    "QD"
   ]
  },
  {
   "cell_type": "markdown",
   "metadata": {},
   "source": [
    "logo erro de alocação é "
   ]
  },
  {
   "cell_type": "code",
   "execution_count": 1224,
   "metadata": {},
   "outputs": [
    {
     "data": {
      "text/plain": [
       "np.float64(0.0838399955982284)"
      ]
     },
     "execution_count": 1224,
     "metadata": {},
     "output_type": "execute_result"
    }
   ],
   "source": [
    "EG - QD"
   ]
  },
  {
   "attachments": {
    "image.png": {
     "image/png": "[encoded data removed]"
    }
   },
   "cell_type": "markdown",
   "metadata": {},
   "source": [
    "vamos aqui usar pela formula\n",
    "\n",
    "![image.png](attachment:image.png)"
   ]
  },
  {
   "cell_type": "code",
   "execution_count": 1225,
   "metadata": {},
   "outputs": [
    {
     "data": {
      "text/plain": [
       "1. Floresta                          0.029767\n",
       "2. Formação Natural não Florestal    0.016039\n",
       "3. Agropecuária                      0.034238\n",
       "4. Área não Vegetada                 0.001967\n",
       "5. Corpo D'água                      0.001829\n",
       "dtype: float64"
      ]
     },
     "execution_count": 1225,
     "metadata": {},
     "output_type": "execute_result"
    }
   ],
   "source": [
    "menor_diferenca = np.minimum((total_class - concordancia), (total_ref - concordancia))\n",
    "menor_diferenca"
   ]
  },
  {
   "cell_type": "code",
   "execution_count": 1226,
   "metadata": {},
   "outputs": [
    {
     "data": {
      "text/plain": [
       "np.float64(0.08383999559822838)"
      ]
     },
     "execution_count": 1226,
     "metadata": {},
     "output_type": "execute_result"
    }
   ],
   "source": [
    "AD = ((menor_diferenca * 2).sum() / 2) \n",
    "AD"
   ]
  },
  {
   "cell_type": "markdown",
   "metadata": {},
   "source": [
    "### Indice Kappa"
   ]
  },
  {
   "cell_type": "code",
   "execution_count": 715,
   "metadata": {},
   "outputs": [],
   "source": [
    "from sklearn.metrics import cohen_kappa_score"
   ]
  },
  {
   "cell_type": "code",
   "execution_count": 716,
   "metadata": {},
   "outputs": [
    {
     "data": {
      "text/plain": [
       "np.float64(0.8311156284674696)"
      ]
     },
     "execution_count": 716,
     "metadata": {},
     "output_type": "execute_result"
    }
   ],
   "source": [
    "kappa = cohen_kappa_score(y_true, y_pred)\n",
    "kappa"
   ]
  },
  {
   "attachments": {
    "image.png": {
     "image/png": "[encoded data removed]"
    }
   },
   "cell_type": "markdown",
   "metadata": {},
   "source": [
    "![image.png](attachment:image.png)"
   ]
  },
  {
   "cell_type": "markdown",
   "metadata": {},
   "source": [
    "### Com estimativa de área"
   ]
  },
  {
   "cell_type": "markdown",
   "metadata": {},
   "source": [
    "#### Preparacao"
   ]
  },
  {
   "cell_type": "markdown",
   "metadata": {},
   "source": [
    "a probabilidade, que é a quantidade de amostras sobre a populacão, e esta salva com ajustes de acordo com o voto em peso_voto"
   ]
  },
  {
   "cell_type": "markdown",
   "metadata": {},
   "source": [
    "ver os valores antes desse ajuste"
   ]
  },
  {
   "cell_type": "code",
   "execution_count": 1227,
   "metadata": {},
   "outputs": [
    {
     "data": {
      "text/plain": [
       "count    72698.000000\n",
       "mean         0.000010\n",
       "std          0.001239\n",
       "min          0.000002\n",
       "25%          0.000003\n",
       "50%          0.000003\n",
       "75%          0.000005\n",
       "max          0.333333\n",
       "Name: PESO_VOT, dtype: float64"
      ]
     },
     "execution_count": 1227,
     "metadata": {},
     "output_type": "execute_result"
    }
   ],
   "source": [
    "df_acc['PESO_VOT'].describe()"
   ]
  },
  {
   "cell_type": "code",
   "execution_count": 1228,
   "metadata": {},
   "outputs": [
    {
     "data": {
      "text/plain": [
       "array(['Amazônia', 'Cerrado', 'Caatinga', 'Mata Atlântica', 'Pampa',\n",
       "       'Pantanal'], dtype=object)"
      ]
     },
     "execution_count": 1228,
     "metadata": {},
     "output_type": "execute_result"
    }
   ],
   "source": [
    "biomes = df_acc['BioNB'].unique()\n",
    "biomes"
   ]
  },
  {
   "cell_type": "markdown",
   "metadata": {},
   "source": [
    "acho que é feito por biomas, pq em alguns biomas eles usam dados da validacao no treinamento"
   ]
  },
  {
   "cell_type": "markdown",
   "metadata": {},
   "source": [
    "aqui eu corrigi o codigo que estava em  https://github.com/mapbiomas-brazil/accuraccy/blob/mapbiomas80/src/estimates_codes/2_accuracy_estimates.py, para de fato excluir as amostras que foram usadas no treinamento. La nao esta excluindo por erro de digitacao, 'treinamento'"
   ]
  },
  {
   "cell_type": "code",
   "execution_count": 1229,
   "metadata": {},
   "outputs": [
    {
     "name": "stdout",
     "output_type": "stream",
     "text": [
      "biome Amazônia\n",
      "amostras sem treinamento 31541 amostras com treinamento 31541\n",
      "biome Cerrado\n",
      "amostras sem treinamento 17730 amostras com treinamento 17730\n",
      "biome Caatinga\n",
      "amostras sem treinamento 8413 amostras com treinamento 8413\n",
      "biome Mata Atlântica\n",
      "amostras sem treinamento 11174 amostras com treinamento 11174\n",
      "biome Pampa\n",
      "amostras sem treinamento 2204 amostras com treinamento 2204\n",
      "biome Pantanal\n",
      "amostras sem treinamento 1636 amostras com treinamento 1636\n"
     ]
    }
   ],
   "source": [
    "for biome in biomes:\n",
    "        print (\"biome\", biome)\n",
    "        biome_filter = (df_acc['BioNB'] == biome)\n",
    "        n_samples, _ = df_acc[biome_filter & (df_acc['AMOSTRAS'] != 'treinamento')].shape\n",
    "        t_samples, _ = df_acc[biome_filter].shape\n",
    "        print (\"amostras sem treinamento\", n_samples, \"amostras com treinamento\", t_samples)\n",
    "        prob_biome_adjs = n_samples / t_samples\n",
    "        df_acc.loc[biome_filter, 'PESO_VOT'] = df_acc[biome_filter]['PESO_VOT'] * prob_biome_adjs"
   ]
  },
  {
   "cell_type": "code",
   "execution_count": 1230,
   "metadata": {},
   "outputs": [],
   "source": [
    "#df_acc = df_acc[df_acc['AMOSTRAS'] != 'Treinamento']"
   ]
  },
  {
   "cell_type": "code",
   "execution_count": 1231,
   "metadata": {},
   "outputs": [
    {
     "data": {
      "text/plain": [
       "count    72698.000000\n",
       "mean         0.000010\n",
       "std          0.001239\n",
       "min          0.000002\n",
       "25%          0.000003\n",
       "50%          0.000003\n",
       "75%          0.000005\n",
       "max          0.333333\n",
       "Name: PESO_VOT, dtype: float64"
      ]
     },
     "execution_count": 1231,
     "metadata": {},
     "output_type": "execute_result"
    }
   ],
   "source": [
    "df_acc['PESO_VOT'].describe()"
   ]
  },
  {
   "cell_type": "code",
   "execution_count": 1232,
   "metadata": {},
   "outputs": [],
   "source": [
    "sample_weight = 1 / df_acc[['PESO_VOT']].to_numpy().flatten()\n",
    "population = sample_weight.sum()\n"
   ]
  },
  {
   "cell_type": "code",
   "execution_count": 1233,
   "metadata": {},
   "outputs": [
    {
     "data": {
      "text/plain": [
       "72698"
      ]
     },
     "execution_count": 1233,
     "metadata": {},
     "output_type": "execute_result"
    }
   ],
   "source": [
    "len(sample_weight)"
   ]
  },
  {
   "cell_type": "code",
   "execution_count": 1234,
   "metadata": {},
   "outputs": [
    {
     "data": {
      "text/plain": [
       "np.float64(21934138947.98809)"
      ]
     },
     "execution_count": 1234,
     "metadata": {},
     "output_type": "execute_result"
    }
   ],
   "source": [
    "population"
   ]
  },
  {
   "cell_type": "code",
   "execution_count": 1235,
   "metadata": {},
   "outputs": [],
   "source": [
    "matrix_ponderada = confusion_matrix(y_true, y_pred, sample_weight=sample_weight/population)"
   ]
  },
  {
   "cell_type": "code",
   "execution_count": 1236,
   "metadata": {},
   "outputs": [
    {
     "name": "stdout",
     "output_type": "stream",
     "text": [
      "[[5.93295768e-01 4.53271752e-03 1.62836289e-02 1.72704980e-04\n",
      "  5.09900182e-04]\n",
      " [1.01942391e-02 3.44238659e-02 6.51586790e-03 3.67470144e-05\n",
      "  3.32133139e-04]\n",
      " [2.51825879e-02 4.36079557e-03 2.76916901e-01 8.62328916e-04\n",
      "  2.99961031e-04]\n",
      " [9.12694820e-05 3.59390232e-04 2.32523902e-03 5.34894118e-03\n",
      "  3.96851499e-05]\n",
      " [1.96962193e-04 8.38129050e-04 1.22401230e-04 2.14144308e-05\n",
      "  1.67364206e-02]]\n"
     ]
    }
   ],
   "source": [
    "matrix_ponderada = matrix_ponderada.T\n",
    "print (matrix_ponderada)"
   ]
  },
  {
   "cell_type": "code",
   "execution_count": 1237,
   "metadata": {},
   "outputs": [
    {
     "data": {
      "text/html": [
       "<div>\n",
       "<style scoped>\n",
       "    .dataframe tbody tr th:only-of-type {\n",
       "        vertical-align: middle;\n",
       "    }\n",
       "\n",
       "    .dataframe tbody tr th {\n",
       "        vertical-align: top;\n",
       "    }\n",
       "\n",
       "    .dataframe thead th {\n",
       "        text-align: right;\n",
       "    }\n",
       "</style>\n",
       "<table border=\"1\" class=\"dataframe\">\n",
       "  <thead>\n",
       "    <tr style=\"text-align: right;\">\n",
       "      <th></th>\n",
       "      <th>1. Floresta</th>\n",
       "      <th>2. Formação Natural não Florestal</th>\n",
       "      <th>3. Agropecuária</th>\n",
       "      <th>4. Área não Vegetada</th>\n",
       "      <th>5. Corpo D'água</th>\n",
       "    </tr>\n",
       "  </thead>\n",
       "  <tbody>\n",
       "    <tr>\n",
       "      <th>1. Floresta</th>\n",
       "      <td>0.593296</td>\n",
       "      <td>0.004533</td>\n",
       "      <td>0.016284</td>\n",
       "      <td>0.000173</td>\n",
       "      <td>0.000510</td>\n",
       "    </tr>\n",
       "    <tr>\n",
       "      <th>2. Formação Natural não Florestal</th>\n",
       "      <td>0.010194</td>\n",
       "      <td>0.034424</td>\n",
       "      <td>0.006516</td>\n",
       "      <td>0.000037</td>\n",
       "      <td>0.000332</td>\n",
       "    </tr>\n",
       "    <tr>\n",
       "      <th>3. Agropecuária</th>\n",
       "      <td>0.025183</td>\n",
       "      <td>0.004361</td>\n",
       "      <td>0.276917</td>\n",
       "      <td>0.000862</td>\n",
       "      <td>0.000300</td>\n",
       "    </tr>\n",
       "    <tr>\n",
       "      <th>4. Área não Vegetada</th>\n",
       "      <td>0.000091</td>\n",
       "      <td>0.000359</td>\n",
       "      <td>0.002325</td>\n",
       "      <td>0.005349</td>\n",
       "      <td>0.000040</td>\n",
       "    </tr>\n",
       "    <tr>\n",
       "      <th>5. Corpo D'água</th>\n",
       "      <td>0.000197</td>\n",
       "      <td>0.000838</td>\n",
       "      <td>0.000122</td>\n",
       "      <td>0.000021</td>\n",
       "      <td>0.016736</td>\n",
       "    </tr>\n",
       "  </tbody>\n",
       "</table>\n",
       "</div>"
      ],
      "text/plain": [
       "                                   1. Floresta  \\\n",
       "1. Floresta                           0.593296   \n",
       "2. Formação Natural não Florestal     0.010194   \n",
       "3. Agropecuária                       0.025183   \n",
       "4. Área não Vegetada                  0.000091   \n",
       "5. Corpo D'água                       0.000197   \n",
       "\n",
       "                                   2. Formação Natural não Florestal  \\\n",
       "1. Floresta                                                 0.004533   \n",
       "2. Formação Natural não Florestal                           0.034424   \n",
       "3. Agropecuária                                             0.004361   \n",
       "4. Área não Vegetada                                        0.000359   \n",
       "5. Corpo D'água                                             0.000838   \n",
       "\n",
       "                                   3. Agropecuária  4. Área não Vegetada  \\\n",
       "1. Floresta                               0.016284              0.000173   \n",
       "2. Formação Natural não Florestal         0.006516              0.000037   \n",
       "3. Agropecuária                           0.276917              0.000862   \n",
       "4. Área não Vegetada                      0.002325              0.005349   \n",
       "5. Corpo D'água                           0.000122              0.000021   \n",
       "\n",
       "                                   5. Corpo D'água  \n",
       "1. Floresta                               0.000510  \n",
       "2. Formação Natural não Florestal         0.000332  \n",
       "3. Agropecuária                           0.000300  \n",
       "4. Área não Vegetada                      0.000040  \n",
       "5. Corpo D'água                           0.016736  "
      ]
     },
     "execution_count": 1237,
     "metadata": {},
     "output_type": "execute_result"
    }
   ],
   "source": [
    "df_matriz = pd.DataFrame(matrix_ponderada, columns=class_names, index=class_names)\n",
    "df_matriz"
   ]
  },
  {
   "cell_type": "markdown",
   "metadata": {},
   "source": [
    "### Calculo da acuracia"
   ]
  },
  {
   "cell_type": "code",
   "execution_count": 1238,
   "metadata": {},
   "outputs": [],
   "source": [
    "from sklearn.metrics import accuracy_score, precision_score, recall_score, f1_score, confusion_matrix, roc_auc_score"
   ]
  },
  {
   "cell_type": "code",
   "execution_count": 1239,
   "metadata": {},
   "outputs": [
    {
     "data": {
      "text/plain": [
       "np.float64(1.0000000000000442)"
      ]
     },
     "execution_count": 1239,
     "metadata": {},
     "output_type": "execute_result"
    }
   ],
   "source": [
    "total = df_matriz.sum().sum()\n",
    "total"
   ]
  },
  {
   "cell_type": "code",
   "execution_count": 1240,
   "metadata": {},
   "outputs": [
    {
     "data": {
      "text/plain": [
       "array([0.59329577, 0.03442387, 0.2769169 , 0.00534894, 0.01673642])"
      ]
     },
     "execution_count": 1240,
     "metadata": {},
     "output_type": "execute_result"
    }
   ],
   "source": [
    "concordancia = np.diag(df_matriz.values)\n",
    "concordancia"
   ]
  },
  {
   "cell_type": "code",
   "execution_count": 1241,
   "metadata": {},
   "outputs": [
    {
     "data": {
      "text/plain": [
       "1. Floresta                          0.614795\n",
       "2. Formação Natural não Florestal    0.051503\n",
       "3. Agropecuária                      0.307623\n",
       "4. Área não Vegetada                 0.008165\n",
       "5. Corpo D'água                      0.017915\n",
       "dtype: float64"
      ]
     },
     "execution_count": 1241,
     "metadata": {},
     "output_type": "execute_result"
    }
   ],
   "source": [
    "total_class= df_matriz.sum(axis=1)\n",
    "total_class"
   ]
  },
  {
   "cell_type": "code",
   "execution_count": 1242,
   "metadata": {},
   "outputs": [
    {
     "data": {
      "text/plain": [
       "1. Floresta                          0.628961\n",
       "2. Formação Natural não Florestal    0.044515\n",
       "3. Agropecuária                      0.302164\n",
       "4. Área não Vegetada                 0.006442\n",
       "5. Corpo D'água                      0.017918\n",
       "dtype: float64"
      ]
     },
     "execution_count": 1242,
     "metadata": {},
     "output_type": "execute_result"
    }
   ],
   "source": [
    "total_ref = df_matriz.sum(axis=0)\n",
    "total_ref"
   ]
  },
  {
   "cell_type": "code",
   "execution_count": 1243,
   "metadata": {},
   "outputs": [
    {
     "data": {
      "text/plain": [
       "np.float64(0.9267218970737471)"
      ]
     },
     "execution_count": 1243,
     "metadata": {},
     "output_type": "execute_result"
    }
   ],
   "source": [
    "total_concordancia  = concordancia.sum()\n",
    "total_concordancia"
   ]
  },
  {
   "cell_type": "markdown",
   "metadata": {},
   "source": [
    "#### Acuracia Global"
   ]
  },
  {
   "cell_type": "code",
   "execution_count": 1244,
   "metadata": {},
   "outputs": [
    {
     "data": {
      "text/plain": [
       "np.float64(0.9267218970737471)"
      ]
     },
     "execution_count": 1244,
     "metadata": {},
     "output_type": "execute_result"
    }
   ],
   "source": [
    "AG = total_concordancia\n",
    "AG"
   ]
  },
  {
   "cell_type": "markdown",
   "metadata": {},
   "source": [
    "#### Erro Global"
   ]
  },
  {
   "cell_type": "code",
   "execution_count": 1245,
   "metadata": {},
   "outputs": [
    {
     "data": {
      "text/plain": [
       "np.float64(0.07327810292625292)"
      ]
     },
     "execution_count": 1245,
     "metadata": {},
     "output_type": "execute_result"
    }
   ],
   "source": [
    "EG = 1 - AG\n",
    "EG"
   ]
  },
  {
   "cell_type": "markdown",
   "metadata": {},
   "source": [
    "#### Acuracia do consumidor e erros de comissao"
   ]
  },
  {
   "cell_type": "code",
   "execution_count": 1246,
   "metadata": {},
   "outputs": [
    {
     "data": {
      "text/plain": [
       "1. Floresta                          0.965031\n",
       "5. Corpo D'água                      0.934196\n",
       "3. Agropecuária                      0.900184\n",
       "2. Formação Natural não Florestal    0.668388\n",
       "4. Área não Vegetada                 0.655144\n",
       "dtype: float64"
      ]
     },
     "execution_count": 1246,
     "metadata": {},
     "output_type": "execute_result"
    }
   ],
   "source": [
    "AC = concordancia / total_class\n",
    "AC.sort_values(ascending=False)"
   ]
  },
  {
   "cell_type": "markdown",
   "metadata": {},
   "source": [
    "aqui estou fazendo o equivalente ao micro"
   ]
  },
  {
   "cell_type": "code",
   "execution_count": 1247,
   "metadata": {},
   "outputs": [
    {
     "data": {
      "text/plain": [
       "np.float64(0.9267218970737063)"
      ]
     },
     "execution_count": 1247,
     "metadata": {},
     "output_type": "execute_result"
    }
   ],
   "source": [
    "concordancia.sum() / total_class.sum()"
   ]
  },
  {
   "cell_type": "markdown",
   "metadata": {},
   "source": [
    "Micro: Calcula a métrica globalmente.\n",
    "Macro: Calcula a métrica para cada classe e depois tira a média.\n",
    "Weighted: Calcula a métrica para cada classe e tira a média ponderada pelo suporte de cada classe."
   ]
  },
  {
   "cell_type": "code",
   "execution_count": 1248,
   "metadata": {},
   "outputs": [
    {
     "data": {
      "text/plain": [
       "np.float64(0.8999834933560759)"
      ]
     },
     "execution_count": 1248,
     "metadata": {},
     "output_type": "execute_result"
    }
   ],
   "source": [
    "precision_score(y_true, y_pred, average='micro')"
   ]
  },
  {
   "cell_type": "code",
   "execution_count": 1249,
   "metadata": {},
   "outputs": [
    {
     "data": {
      "text/plain": [
       "4. Área não Vegetada                 0.344856\n",
       "2. Formação Natural não Florestal    0.331612\n",
       "3. Agropecuária                      0.099816\n",
       "5. Corpo D'água                      0.065804\n",
       "1. Floresta                          0.034969\n",
       "dtype: float64"
      ]
     },
     "execution_count": 1249,
     "metadata": {},
     "output_type": "execute_result"
    }
   ],
   "source": [
    "EC = 1 - AC\n",
    "EC.sort_values(ascending=False)"
   ]
  },
  {
   "cell_type": "code",
   "execution_count": 1250,
   "metadata": {},
   "outputs": [
    {
     "data": {
      "text/plain": [
       "np.float64(0.07327810292629366)"
      ]
     },
     "execution_count": 1250,
     "metadata": {},
     "output_type": "execute_result"
    }
   ],
   "source": [
    "1 - concordancia.sum() / total_class.sum()"
   ]
  },
  {
   "cell_type": "markdown",
   "metadata": {},
   "source": [
    "#### Acuracia do produtor e erros de omissao"
   ]
  },
  {
   "cell_type": "code",
   "execution_count": 1251,
   "metadata": {},
   "outputs": [
    {
     "data": {
      "text/plain": [
       "1. Floresta                          0.943295\n",
       "5. Corpo D'água                      0.934051\n",
       "3. Agropecuária                      0.916446\n",
       "4. Área não Vegetada                 0.830305\n",
       "2. Formação Natural não Florestal    0.773311\n",
       "dtype: float64"
      ]
     },
     "execution_count": 1251,
     "metadata": {},
     "output_type": "execute_result"
    }
   ],
   "source": [
    "AP = concordancia / total_ref\n",
    "AP.sort_values(ascending=False)"
   ]
  },
  {
   "cell_type": "code",
   "execution_count": 1252,
   "metadata": {},
   "outputs": [
    {
     "data": {
      "text/plain": [
       "np.float64(0.9267218970737061)"
      ]
     },
     "execution_count": 1252,
     "metadata": {},
     "output_type": "execute_result"
    }
   ],
   "source": [
    "concordancia.sum() / total_ref.sum()"
   ]
  },
  {
   "cell_type": "code",
   "execution_count": 1253,
   "metadata": {},
   "outputs": [
    {
     "data": {
      "text/plain": [
       "np.float64(0.8999834933560759)"
      ]
     },
     "execution_count": 1253,
     "metadata": {},
     "output_type": "execute_result"
    }
   ],
   "source": [
    "recall_score(y_true, y_pred, average='micro')"
   ]
  },
  {
   "cell_type": "code",
   "execution_count": 1254,
   "metadata": {},
   "outputs": [
    {
     "data": {
      "text/plain": [
       "1. Floresta                          0.056705\n",
       "2. Formação Natural não Florestal    0.226689\n",
       "3. Agropecuária                      0.083554\n",
       "4. Área não Vegetada                 0.169695\n",
       "5. Corpo D'água                      0.065949\n",
       "dtype: float64"
      ]
     },
     "execution_count": 1254,
     "metadata": {},
     "output_type": "execute_result"
    }
   ],
   "source": [
    "EO = 1 - AP\n",
    "EO"
   ]
  },
  {
   "cell_type": "markdown",
   "metadata": {},
   "source": [
    "#### F1 Score"
   ]
  },
  {
   "cell_type": "code",
   "execution_count": 1255,
   "metadata": {},
   "outputs": [
    {
     "data": {
      "text/plain": [
       "np.float64(0.8999834933560759)"
      ]
     },
     "execution_count": 1255,
     "metadata": {},
     "output_type": "execute_result"
    }
   ],
   "source": [
    "f1_score(y_true, y_pred, average='micro')"
   ]
  },
  {
   "cell_type": "markdown",
   "metadata": {},
   "source": [
    "#### Erro de quantidade (area disagrement)\n",
    "\n"
   ]
  },
  {
   "cell_type": "code",
   "execution_count": 1256,
   "metadata": {},
   "outputs": [
    {
     "data": {
      "text/plain": [
       "np.float64(0.014168879577937601)"
      ]
     },
     "execution_count": 1256,
     "metadata": {},
     "output_type": "execute_result"
    }
   ],
   "source": [
    "QD = (np.abs(total_ref - total_class)).sum() / 2\n",
    "QD"
   ]
  },
  {
   "cell_type": "markdown",
   "metadata": {},
   "source": [
    "logo erro de alocação é "
   ]
  },
  {
   "cell_type": "code",
   "execution_count": 1257,
   "metadata": {},
   "outputs": [
    {
     "data": {
      "text/plain": [
       "np.float64(0.059109223348315316)"
      ]
     },
     "execution_count": 1257,
     "metadata": {},
     "output_type": "execute_result"
    }
   ],
   "source": [
    "EG - QD"
   ]
  },
  {
   "cell_type": "code",
   "execution_count": 1258,
   "metadata": {},
   "outputs": [
    {
     "data": {
      "text/plain": [
       "1. Floresta                          0.021499\n",
       "2. Formação Natural não Florestal    0.010091\n",
       "3. Agropecuária                      0.025247\n",
       "4. Área não Vegetada                 0.001093\n",
       "5. Corpo D'água                      0.001179\n",
       "dtype: float64"
      ]
     },
     "execution_count": 1258,
     "metadata": {},
     "output_type": "execute_result"
    }
   ],
   "source": [
    "menor_diferenca = np.minimum((total_class - concordancia), (total_ref - concordancia))\n",
    "menor_diferenca"
   ]
  },
  {
   "cell_type": "code",
   "execution_count": 1259,
   "metadata": {},
   "outputs": [
    {
     "data": {
      "text/plain": [
       "np.float64(0.05910922334835922)"
      ]
     },
     "execution_count": 1259,
     "metadata": {},
     "output_type": "execute_result"
    }
   ],
   "source": [
    "AD = ((menor_diferenca * 2).sum() / 2) \n",
    "AD"
   ]
  },
  {
   "cell_type": "markdown",
   "metadata": {},
   "source": [
    "### Indice Kappa"
   ]
  },
  {
   "cell_type": "code",
   "execution_count": null,
   "metadata": {},
   "outputs": [],
   "source": [
    "from sklearn.metrics import cohen_kappa_score"
   ]
  },
  {
   "cell_type": "code",
   "execution_count": null,
   "metadata": {},
   "outputs": [
    {
     "data": {
      "text/plain": [
       "np.float64(0.5757436861163312)"
      ]
     },
     "execution_count": 829,
     "metadata": {},
     "output_type": "execute_result"
    }
   ],
   "source": [
    "kappa = cohen_kappa_score(y_true, y_pred)\n",
    "kappa"
   ]
  },
  {
   "cell_type": "markdown",
   "metadata": {},
   "source": [
    "## Visualização geográfica"
   ]
  },
  {
   "cell_type": "code",
   "execution_count": 846,
   "metadata": {},
   "outputs": [
    {
     "data": {
      "text/plain": [
       "Index(['system:index', 'AMOSTRAS', 'AMOSTRA_AM', 'BioNB', 'CARTA_2',\n",
       "       'CLASS_2022', 'DECLIVIDAD', 'LAT', 'LON', 'NEW_PROB', 'NEW_WEIGHT',\n",
       "       'PESO_VOT', 'PROB_AMOS2', 'StateNB', 'TARGETID', 'VAL_PESO',\n",
       "       'classification', 'reference', 'year', '.geo', 'strata_id', 'pop',\n",
       "       'n_samp'],\n",
       "      dtype='object')"
      ]
     },
     "execution_count": 846,
     "metadata": {},
     "output_type": "execute_result"
    }
   ],
   "source": [
    "df_acc.columns"
   ]
  },
  {
   "cell_type": "code",
   "execution_count": 848,
   "metadata": {},
   "outputs": [],
   "source": [
    "import geopandas as gpd\n",
    "from shapely.geometry import Point"
   ]
  },
  {
   "cell_type": "code",
   "execution_count": 849,
   "metadata": {},
   "outputs": [],
   "source": [
    "geometry = [Point(xy) for xy in zip(df_acc['LON'], df_acc['LAT'])]"
   ]
  },
  {
   "cell_type": "code",
   "execution_count": 852,
   "metadata": {},
   "outputs": [],
   "source": [
    "gdf = gpd.GeoDataFrame(df_acc, geometry=geometry)"
   ]
  },
  {
   "cell_type": "code",
   "execution_count": 857,
   "metadata": {},
   "outputs": [
    {
     "data": {
      "text/html": [
       "<div>\n",
       "<style scoped>\n",
       "    .dataframe tbody tr th:only-of-type {\n",
       "        vertical-align: middle;\n",
       "    }\n",
       "\n",
       "    .dataframe tbody tr th {\n",
       "        vertical-align: top;\n",
       "    }\n",
       "\n",
       "    .dataframe thead th {\n",
       "        text-align: right;\n",
       "    }\n",
       "</style>\n",
       "<table border=\"1\" class=\"dataframe\">\n",
       "  <thead>\n",
       "    <tr style=\"text-align: right;\">\n",
       "      <th></th>\n",
       "      <th>system:index</th>\n",
       "      <th>AMOSTRAS</th>\n",
       "      <th>AMOSTRA_AM</th>\n",
       "      <th>BioNB</th>\n",
       "      <th>CARTA_2</th>\n",
       "      <th>CLASS_2022</th>\n",
       "      <th>DECLIVIDAD</th>\n",
       "      <th>LAT</th>\n",
       "      <th>LON</th>\n",
       "      <th>NEW_PROB</th>\n",
       "      <th>...</th>\n",
       "      <th>TARGETID</th>\n",
       "      <th>VAL_PESO</th>\n",
       "      <th>classification</th>\n",
       "      <th>reference</th>\n",
       "      <th>year</th>\n",
       "      <th>.geo</th>\n",
       "      <th>strata_id</th>\n",
       "      <th>pop</th>\n",
       "      <th>n_samp</th>\n",
       "      <th>geometry</th>\n",
       "    </tr>\n",
       "  </thead>\n",
       "  <tbody>\n",
       "    <tr>\n",
       "      <th>0</th>\n",
       "      <td>0000000000000000508d_0</td>\n",
       "      <td>NaN</td>\n",
       "      <td>0</td>\n",
       "      <td>Amazônia</td>\n",
       "      <td>SA-23-Z</td>\n",
       "      <td>APICUM</td>\n",
       "      <td>D2</td>\n",
       "      <td>-2.368226</td>\n",
       "      <td>-43.544883</td>\n",
       "      <td>0.000011</td>\n",
       "      <td>...</td>\n",
       "      <td>12037</td>\n",
       "      <td>1.000000</td>\n",
       "      <td>3</td>\n",
       "      <td>32</td>\n",
       "      <td>2022</td>\n",
       "      <td>{\"type\":\"MultiPoint\",\"coordinates\":[]}</td>\n",
       "      <td>SA-23-Z_D2</td>\n",
       "      <td>27861902.0</td>\n",
       "      <td>305</td>\n",
       "      <td>POINT (-43.54488 -2.36823)</td>\n",
       "    </tr>\n",
       "    <tr>\n",
       "      <th>1</th>\n",
       "      <td>00000000000000004b0e_0</td>\n",
       "      <td>NaN</td>\n",
       "      <td>0</td>\n",
       "      <td>Amazônia</td>\n",
       "      <td>SA-23-Z</td>\n",
       "      <td>CAMPO ALAGADO E ÁREA PANTANOSA</td>\n",
       "      <td>D1</td>\n",
       "      <td>-3.951507</td>\n",
       "      <td>-44.961886</td>\n",
       "      <td>0.000012</td>\n",
       "      <td>...</td>\n",
       "      <td>16624</td>\n",
       "      <td>1.000000</td>\n",
       "      <td>11</td>\n",
       "      <td>11</td>\n",
       "      <td>2022</td>\n",
       "      <td>{\"type\":\"MultiPoint\",\"coordinates\":[]}</td>\n",
       "      <td>SA-23-Z_D1</td>\n",
       "      <td>25366123.0</td>\n",
       "      <td>303</td>\n",
       "      <td>POINT (-44.96189 -3.95151)</td>\n",
       "    </tr>\n",
       "    <tr>\n",
       "      <th>2</th>\n",
       "      <td>00000000000000004b0f_0</td>\n",
       "      <td>NaN</td>\n",
       "      <td>0</td>\n",
       "      <td>Amazônia</td>\n",
       "      <td>SA-23-Z</td>\n",
       "      <td>CAMPO ALAGADO E ÁREA PANTANOSA</td>\n",
       "      <td>D1</td>\n",
       "      <td>-3.691714</td>\n",
       "      <td>-44.849776</td>\n",
       "      <td>0.000012</td>\n",
       "      <td>...</td>\n",
       "      <td>16625</td>\n",
       "      <td>1.000000</td>\n",
       "      <td>6</td>\n",
       "      <td>11</td>\n",
       "      <td>2022</td>\n",
       "      <td>{\"type\":\"MultiPoint\",\"coordinates\":[]}</td>\n",
       "      <td>SA-23-Z_D1</td>\n",
       "      <td>25366123.0</td>\n",
       "      <td>303</td>\n",
       "      <td>POINT (-44.84978 -3.69171)</td>\n",
       "    </tr>\n",
       "    <tr>\n",
       "      <th>3</th>\n",
       "      <td>00000000000000004b1b_0</td>\n",
       "      <td>NaN</td>\n",
       "      <td>0</td>\n",
       "      <td>Amazônia</td>\n",
       "      <td>SA-23-Z</td>\n",
       "      <td>CAMPO ALAGADO E ÁREA PANTANOSA</td>\n",
       "      <td>D1</td>\n",
       "      <td>-2.823672</td>\n",
       "      <td>-44.723653</td>\n",
       "      <td>0.000012</td>\n",
       "      <td>...</td>\n",
       "      <td>16656</td>\n",
       "      <td>1.000000</td>\n",
       "      <td>11</td>\n",
       "      <td>11</td>\n",
       "      <td>2022</td>\n",
       "      <td>{\"type\":\"MultiPoint\",\"coordinates\":[]}</td>\n",
       "      <td>SA-23-Z_D1</td>\n",
       "      <td>25366123.0</td>\n",
       "      <td>303</td>\n",
       "      <td>POINT (-44.72365 -2.82367)</td>\n",
       "    </tr>\n",
       "    <tr>\n",
       "      <th>4</th>\n",
       "      <td>00000000000000004b26_0</td>\n",
       "      <td>Treinamento</td>\n",
       "      <td>1</td>\n",
       "      <td>Amazônia</td>\n",
       "      <td>SA-23-Z</td>\n",
       "      <td>CAMPO ALAGADO E ÁREA PANTANOSA</td>\n",
       "      <td>D1</td>\n",
       "      <td>-3.720550</td>\n",
       "      <td>-44.673527</td>\n",
       "      <td>0.000012</td>\n",
       "      <td>...</td>\n",
       "      <td>16694</td>\n",
       "      <td>1.000000</td>\n",
       "      <td>6</td>\n",
       "      <td>11</td>\n",
       "      <td>2022</td>\n",
       "      <td>{\"type\":\"MultiPoint\",\"coordinates\":[]}</td>\n",
       "      <td>SA-23-Z_D1</td>\n",
       "      <td>25366123.0</td>\n",
       "      <td>303</td>\n",
       "      <td>POINT (-44.67353 -3.72055)</td>\n",
       "    </tr>\n",
       "    <tr>\n",
       "      <th>...</th>\n",
       "      <td>...</td>\n",
       "      <td>...</td>\n",
       "      <td>...</td>\n",
       "      <td>...</td>\n",
       "      <td>...</td>\n",
       "      <td>...</td>\n",
       "      <td>...</td>\n",
       "      <td>...</td>\n",
       "      <td>...</td>\n",
       "      <td>...</td>\n",
       "      <td>...</td>\n",
       "      <td>...</td>\n",
       "      <td>...</td>\n",
       "      <td>...</td>\n",
       "      <td>...</td>\n",
       "      <td>...</td>\n",
       "      <td>...</td>\n",
       "      <td>...</td>\n",
       "      <td>...</td>\n",
       "      <td>...</td>\n",
       "      <td>...</td>\n",
       "    </tr>\n",
       "    <tr>\n",
       "      <th>707</th>\n",
       "      <td>000000000000000050b6_0</td>\n",
       "      <td>NaN</td>\n",
       "      <td>0</td>\n",
       "      <td>Cerrado</td>\n",
       "      <td>SA-23-Z</td>\n",
       "      <td>FORMAÇÃO SAVÂNICA</td>\n",
       "      <td>D2</td>\n",
       "      <td>-2.826906</td>\n",
       "      <td>-42.711876</td>\n",
       "      <td>0.000011</td>\n",
       "      <td>...</td>\n",
       "      <td>2407</td>\n",
       "      <td>1.000000</td>\n",
       "      <td>4</td>\n",
       "      <td>4</td>\n",
       "      <td>2022</td>\n",
       "      <td>{\"type\":\"MultiPoint\",\"coordinates\":[]}</td>\n",
       "      <td>SA-23-Z_D2</td>\n",
       "      <td>27861902.0</td>\n",
       "      <td>305</td>\n",
       "      <td>POINT (-42.71188 -2.82691)</td>\n",
       "    </tr>\n",
       "    <tr>\n",
       "      <th>708</th>\n",
       "      <td>00000000000000005101_0</td>\n",
       "      <td>NaN</td>\n",
       "      <td>0</td>\n",
       "      <td>Cerrado</td>\n",
       "      <td>SA-23-Z</td>\n",
       "      <td>PASTAGEM</td>\n",
       "      <td>D2</td>\n",
       "      <td>-3.474232</td>\n",
       "      <td>-43.978770</td>\n",
       "      <td>0.000011</td>\n",
       "      <td>...</td>\n",
       "      <td>17349</td>\n",
       "      <td>1.000000</td>\n",
       "      <td>4</td>\n",
       "      <td>15</td>\n",
       "      <td>2022</td>\n",
       "      <td>{\"type\":\"MultiPoint\",\"coordinates\":[]}</td>\n",
       "      <td>SA-23-Z_D2</td>\n",
       "      <td>27861902.0</td>\n",
       "      <td>305</td>\n",
       "      <td>POINT (-43.97877 -3.47423)</td>\n",
       "    </tr>\n",
       "    <tr>\n",
       "      <th>709</th>\n",
       "      <td>0000000000000000506b_0</td>\n",
       "      <td>NaN</td>\n",
       "      <td>0</td>\n",
       "      <td>Cerrado</td>\n",
       "      <td>SA-23-Z</td>\n",
       "      <td>PRAIA E DUNA</td>\n",
       "      <td>D2</td>\n",
       "      <td>-2.483840</td>\n",
       "      <td>-43.042815</td>\n",
       "      <td>0.000011</td>\n",
       "      <td>...</td>\n",
       "      <td>17080</td>\n",
       "      <td>0.333333</td>\n",
       "      <td>23</td>\n",
       "      <td>23</td>\n",
       "      <td>2022</td>\n",
       "      <td>{\"type\":\"MultiPoint\",\"coordinates\":[]}</td>\n",
       "      <td>SA-23-Z_D2</td>\n",
       "      <td>27861902.0</td>\n",
       "      <td>305</td>\n",
       "      <td>POINT (-43.04281 -2.48384)</td>\n",
       "    </tr>\n",
       "    <tr>\n",
       "      <th>710</th>\n",
       "      <td>00000000000000004b5b_0</td>\n",
       "      <td>Treinamento</td>\n",
       "      <td>1</td>\n",
       "      <td>Amazônia</td>\n",
       "      <td>SA-23-Z</td>\n",
       "      <td>RIO, LAGO E OCEANO</td>\n",
       "      <td>D1</td>\n",
       "      <td>-3.246240</td>\n",
       "      <td>-44.985601</td>\n",
       "      <td>0.000012</td>\n",
       "      <td>...</td>\n",
       "      <td>16800</td>\n",
       "      <td>0.333333</td>\n",
       "      <td>33</td>\n",
       "      <td>33</td>\n",
       "      <td>2022</td>\n",
       "      <td>{\"type\":\"MultiPoint\",\"coordinates\":[]}</td>\n",
       "      <td>SA-23-Z_D1</td>\n",
       "      <td>25366123.0</td>\n",
       "      <td>303</td>\n",
       "      <td>POINT (-44.9856 -3.24624)</td>\n",
       "    </tr>\n",
       "    <tr>\n",
       "      <th>711</th>\n",
       "      <td>00000000000000005aa8_0</td>\n",
       "      <td>NaN</td>\n",
       "      <td>0</td>\n",
       "      <td>Cerrado</td>\n",
       "      <td>SA-23-Z</td>\n",
       "      <td>RIO, LAGO E OCEANO</td>\n",
       "      <td>D1</td>\n",
       "      <td>-3.257828</td>\n",
       "      <td>-42.061585</td>\n",
       "      <td>0.000012</td>\n",
       "      <td>...</td>\n",
       "      <td>16767</td>\n",
       "      <td>0.333333</td>\n",
       "      <td>33</td>\n",
       "      <td>33</td>\n",
       "      <td>2022</td>\n",
       "      <td>{\"type\":\"MultiPoint\",\"coordinates\":[]}</td>\n",
       "      <td>SA-23-Z_D1</td>\n",
       "      <td>25366123.0</td>\n",
       "      <td>303</td>\n",
       "      <td>POINT (-42.06159 -3.25783)</td>\n",
       "    </tr>\n",
       "  </tbody>\n",
       "</table>\n",
       "<p>712 rows × 24 columns</p>\n",
       "</div>"
      ],
      "text/plain": [
       "               system:index     AMOSTRAS  AMOSTRA_AM     BioNB  CARTA_2  \\\n",
       "0    0000000000000000508d_0          NaN           0  Amazônia  SA-23-Z   \n",
       "1    00000000000000004b0e_0          NaN           0  Amazônia  SA-23-Z   \n",
       "2    00000000000000004b0f_0          NaN           0  Amazônia  SA-23-Z   \n",
       "3    00000000000000004b1b_0          NaN           0  Amazônia  SA-23-Z   \n",
       "4    00000000000000004b26_0  Treinamento           1  Amazônia  SA-23-Z   \n",
       "..                      ...          ...         ...       ...      ...   \n",
       "707  000000000000000050b6_0          NaN           0   Cerrado  SA-23-Z   \n",
       "708  00000000000000005101_0          NaN           0   Cerrado  SA-23-Z   \n",
       "709  0000000000000000506b_0          NaN           0   Cerrado  SA-23-Z   \n",
       "710  00000000000000004b5b_0  Treinamento           1  Amazônia  SA-23-Z   \n",
       "711  00000000000000005aa8_0          NaN           0   Cerrado  SA-23-Z   \n",
       "\n",
       "                         CLASS_2022 DECLIVIDAD       LAT        LON  NEW_PROB  \\\n",
       "0                            APICUM         D2 -2.368226 -43.544883  0.000011   \n",
       "1    CAMPO ALAGADO E ÁREA PANTANOSA         D1 -3.951507 -44.961886  0.000012   \n",
       "2    CAMPO ALAGADO E ÁREA PANTANOSA         D1 -3.691714 -44.849776  0.000012   \n",
       "3    CAMPO ALAGADO E ÁREA PANTANOSA         D1 -2.823672 -44.723653  0.000012   \n",
       "4    CAMPO ALAGADO E ÁREA PANTANOSA         D1 -3.720550 -44.673527  0.000012   \n",
       "..                              ...        ...       ...        ...       ...   \n",
       "707               FORMAÇÃO SAVÂNICA         D2 -2.826906 -42.711876  0.000011   \n",
       "708                        PASTAGEM         D2 -3.474232 -43.978770  0.000011   \n",
       "709                    PRAIA E DUNA         D2 -2.483840 -43.042815  0.000011   \n",
       "710              RIO, LAGO E OCEANO         D1 -3.246240 -44.985601  0.000012   \n",
       "711              RIO, LAGO E OCEANO         D1 -3.257828 -42.061585  0.000012   \n",
       "\n",
       "     ...  TARGETID  VAL_PESO  classification  reference  year  \\\n",
       "0    ...     12037  1.000000               3         32  2022   \n",
       "1    ...     16624  1.000000              11         11  2022   \n",
       "2    ...     16625  1.000000               6         11  2022   \n",
       "3    ...     16656  1.000000              11         11  2022   \n",
       "4    ...     16694  1.000000               6         11  2022   \n",
       "..   ...       ...       ...             ...        ...   ...   \n",
       "707  ...      2407  1.000000               4          4  2022   \n",
       "708  ...     17349  1.000000               4         15  2022   \n",
       "709  ...     17080  0.333333              23         23  2022   \n",
       "710  ...     16800  0.333333              33         33  2022   \n",
       "711  ...     16767  0.333333              33         33  2022   \n",
       "\n",
       "                                       .geo   strata_id         pop  n_samp  \\\n",
       "0    {\"type\":\"MultiPoint\",\"coordinates\":[]}  SA-23-Z_D2  27861902.0     305   \n",
       "1    {\"type\":\"MultiPoint\",\"coordinates\":[]}  SA-23-Z_D1  25366123.0     303   \n",
       "2    {\"type\":\"MultiPoint\",\"coordinates\":[]}  SA-23-Z_D1  25366123.0     303   \n",
       "3    {\"type\":\"MultiPoint\",\"coordinates\":[]}  SA-23-Z_D1  25366123.0     303   \n",
       "4    {\"type\":\"MultiPoint\",\"coordinates\":[]}  SA-23-Z_D1  25366123.0     303   \n",
       "..                                      ...         ...         ...     ...   \n",
       "707  {\"type\":\"MultiPoint\",\"coordinates\":[]}  SA-23-Z_D2  27861902.0     305   \n",
       "708  {\"type\":\"MultiPoint\",\"coordinates\":[]}  SA-23-Z_D2  27861902.0     305   \n",
       "709  {\"type\":\"MultiPoint\",\"coordinates\":[]}  SA-23-Z_D2  27861902.0     305   \n",
       "710  {\"type\":\"MultiPoint\",\"coordinates\":[]}  SA-23-Z_D1  25366123.0     303   \n",
       "711  {\"type\":\"MultiPoint\",\"coordinates\":[]}  SA-23-Z_D1  25366123.0     303   \n",
       "\n",
       "                       geometry  \n",
       "0    POINT (-43.54488 -2.36823)  \n",
       "1    POINT (-44.96189 -3.95151)  \n",
       "2    POINT (-44.84978 -3.69171)  \n",
       "3    POINT (-44.72365 -2.82367)  \n",
       "4    POINT (-44.67353 -3.72055)  \n",
       "..                          ...  \n",
       "707  POINT (-42.71188 -2.82691)  \n",
       "708  POINT (-43.97877 -3.47423)  \n",
       "709  POINT (-43.04281 -2.48384)  \n",
       "710   POINT (-44.9856 -3.24624)  \n",
       "711  POINT (-42.06159 -3.25783)  \n",
       "\n",
       "[712 rows x 24 columns]"
      ]
     },
     "execution_count": 857,
     "metadata": {},
     "output_type": "execute_result"
    }
   ],
   "source": [
    "# Definindo o sistema de coordenadas (CRS) - aqui, WGS84 (epsg:4326)\n",
    "gdf.set_crs(epsg=4326, inplace=True)"
   ]
  },
  {
   "cell_type": "code",
   "execution_count": 858,
   "metadata": {},
   "outputs": [
    {
     "data": {
      "text/plain": [
       "(234, 24)"
      ]
     },
     "execution_count": 858,
     "metadata": {},
     "output_type": "execute_result"
    }
   ],
   "source": [
    "gdf_erros = gdf[gdf['classification'] != gdf['reference']]\n",
    "gdf_erros.shape"
   ]
  },
  {
   "cell_type": "code",
   "execution_count": 864,
   "metadata": {},
   "outputs": [
    {
     "ename": "KeyError",
     "evalue": "\"['system:index'] not found in axis\"",
     "output_type": "error",
     "traceback": [
      "\u001b[0;31m---------------------------------------------------------------------------\u001b[0m",
      "\u001b[0;31mKeyError\u001b[0m                                  Traceback (most recent call last)",
      "Cell \u001b[0;32mIn[864], line 1\u001b[0m\n\u001b[0;32m----> 1\u001b[0m gdf_erros \u001b[38;5;241m=\u001b[39m \u001b[43mgdf_erros\u001b[49m\u001b[38;5;241;43m.\u001b[39;49m\u001b[43mdrop\u001b[49m\u001b[43m(\u001b[49m\u001b[38;5;124;43m'\u001b[39;49m\u001b[38;5;124;43msystem:index\u001b[39;49m\u001b[38;5;124;43m'\u001b[39;49m\u001b[43m,\u001b[49m\u001b[43m \u001b[49m\u001b[43maxis\u001b[49m\u001b[38;5;241;43m=\u001b[39;49m\u001b[38;5;241;43m1\u001b[39;49m\u001b[43m,\u001b[49m\u001b[43m \u001b[49m\u001b[43minplace\u001b[49m\u001b[38;5;241;43m=\u001b[39;49m\u001b[38;5;28;43;01mTrue\u001b[39;49;00m\u001b[43m)\u001b[49m\n",
      "File \u001b[0;32m~/dev/acuracia_ma/.venv/lib/python3.10/site-packages/pandas/core/frame.py:5581\u001b[0m, in \u001b[0;36mDataFrame.drop\u001b[0;34m(self, labels, axis, index, columns, level, inplace, errors)\u001b[0m\n\u001b[1;32m   5433\u001b[0m \u001b[38;5;28;01mdef\u001b[39;00m \u001b[38;5;21mdrop\u001b[39m(\n\u001b[1;32m   5434\u001b[0m     \u001b[38;5;28mself\u001b[39m,\n\u001b[1;32m   5435\u001b[0m     labels: IndexLabel \u001b[38;5;241m|\u001b[39m \u001b[38;5;28;01mNone\u001b[39;00m \u001b[38;5;241m=\u001b[39m \u001b[38;5;28;01mNone\u001b[39;00m,\n\u001b[0;32m   (...)\u001b[0m\n\u001b[1;32m   5442\u001b[0m     errors: IgnoreRaise \u001b[38;5;241m=\u001b[39m \u001b[38;5;124m\"\u001b[39m\u001b[38;5;124mraise\u001b[39m\u001b[38;5;124m\"\u001b[39m,\n\u001b[1;32m   5443\u001b[0m ) \u001b[38;5;241m-\u001b[39m\u001b[38;5;241m>\u001b[39m DataFrame \u001b[38;5;241m|\u001b[39m \u001b[38;5;28;01mNone\u001b[39;00m:\n\u001b[1;32m   5444\u001b[0m \u001b[38;5;250m    \u001b[39m\u001b[38;5;124;03m\"\"\"\u001b[39;00m\n\u001b[1;32m   5445\u001b[0m \u001b[38;5;124;03m    Drop specified labels from rows or columns.\u001b[39;00m\n\u001b[1;32m   5446\u001b[0m \n\u001b[0;32m   (...)\u001b[0m\n\u001b[1;32m   5579\u001b[0m \u001b[38;5;124;03m            weight  1.0     0.8\u001b[39;00m\n\u001b[1;32m   5580\u001b[0m \u001b[38;5;124;03m    \"\"\"\u001b[39;00m\n\u001b[0;32m-> 5581\u001b[0m     \u001b[38;5;28;01mreturn\u001b[39;00m \u001b[38;5;28;43msuper\u001b[39;49m\u001b[43m(\u001b[49m\u001b[43m)\u001b[49m\u001b[38;5;241;43m.\u001b[39;49m\u001b[43mdrop\u001b[49m\u001b[43m(\u001b[49m\n\u001b[1;32m   5582\u001b[0m \u001b[43m        \u001b[49m\u001b[43mlabels\u001b[49m\u001b[38;5;241;43m=\u001b[39;49m\u001b[43mlabels\u001b[49m\u001b[43m,\u001b[49m\n\u001b[1;32m   5583\u001b[0m \u001b[43m        \u001b[49m\u001b[43maxis\u001b[49m\u001b[38;5;241;43m=\u001b[39;49m\u001b[43maxis\u001b[49m\u001b[43m,\u001b[49m\n\u001b[1;32m   5584\u001b[0m \u001b[43m        \u001b[49m\u001b[43mindex\u001b[49m\u001b[38;5;241;43m=\u001b[39;49m\u001b[43mindex\u001b[49m\u001b[43m,\u001b[49m\n\u001b[1;32m   5585\u001b[0m \u001b[43m        \u001b[49m\u001b[43mcolumns\u001b[49m\u001b[38;5;241;43m=\u001b[39;49m\u001b[43mcolumns\u001b[49m\u001b[43m,\u001b[49m\n\u001b[1;32m   5586\u001b[0m \u001b[43m        \u001b[49m\u001b[43mlevel\u001b[49m\u001b[38;5;241;43m=\u001b[39;49m\u001b[43mlevel\u001b[49m\u001b[43m,\u001b[49m\n\u001b[1;32m   5587\u001b[0m \u001b[43m        \u001b[49m\u001b[43minplace\u001b[49m\u001b[38;5;241;43m=\u001b[39;49m\u001b[43minplace\u001b[49m\u001b[43m,\u001b[49m\n\u001b[1;32m   5588\u001b[0m \u001b[43m        \u001b[49m\u001b[43merrors\u001b[49m\u001b[38;5;241;43m=\u001b[39;49m\u001b[43merrors\u001b[49m\u001b[43m,\u001b[49m\n\u001b[1;32m   5589\u001b[0m \u001b[43m    \u001b[49m\u001b[43m)\u001b[49m\n",
      "File \u001b[0;32m~/dev/acuracia_ma/.venv/lib/python3.10/site-packages/pandas/core/generic.py:4788\u001b[0m, in \u001b[0;36mNDFrame.drop\u001b[0;34m(self, labels, axis, index, columns, level, inplace, errors)\u001b[0m\n\u001b[1;32m   4786\u001b[0m \u001b[38;5;28;01mfor\u001b[39;00m axis, labels \u001b[38;5;129;01min\u001b[39;00m axes\u001b[38;5;241m.\u001b[39mitems():\n\u001b[1;32m   4787\u001b[0m     \u001b[38;5;28;01mif\u001b[39;00m labels \u001b[38;5;129;01mis\u001b[39;00m \u001b[38;5;129;01mnot\u001b[39;00m \u001b[38;5;28;01mNone\u001b[39;00m:\n\u001b[0;32m-> 4788\u001b[0m         obj \u001b[38;5;241m=\u001b[39m \u001b[43mobj\u001b[49m\u001b[38;5;241;43m.\u001b[39;49m\u001b[43m_drop_axis\u001b[49m\u001b[43m(\u001b[49m\u001b[43mlabels\u001b[49m\u001b[43m,\u001b[49m\u001b[43m \u001b[49m\u001b[43maxis\u001b[49m\u001b[43m,\u001b[49m\u001b[43m \u001b[49m\u001b[43mlevel\u001b[49m\u001b[38;5;241;43m=\u001b[39;49m\u001b[43mlevel\u001b[49m\u001b[43m,\u001b[49m\u001b[43m \u001b[49m\u001b[43merrors\u001b[49m\u001b[38;5;241;43m=\u001b[39;49m\u001b[43merrors\u001b[49m\u001b[43m)\u001b[49m\n\u001b[1;32m   4790\u001b[0m \u001b[38;5;28;01mif\u001b[39;00m inplace:\n\u001b[1;32m   4791\u001b[0m     \u001b[38;5;28mself\u001b[39m\u001b[38;5;241m.\u001b[39m_update_inplace(obj)\n",
      "File \u001b[0;32m~/dev/acuracia_ma/.venv/lib/python3.10/site-packages/pandas/core/generic.py:4830\u001b[0m, in \u001b[0;36mNDFrame._drop_axis\u001b[0;34m(self, labels, axis, level, errors, only_slice)\u001b[0m\n\u001b[1;32m   4828\u001b[0m         new_axis \u001b[38;5;241m=\u001b[39m axis\u001b[38;5;241m.\u001b[39mdrop(labels, level\u001b[38;5;241m=\u001b[39mlevel, errors\u001b[38;5;241m=\u001b[39merrors)\n\u001b[1;32m   4829\u001b[0m     \u001b[38;5;28;01melse\u001b[39;00m:\n\u001b[0;32m-> 4830\u001b[0m         new_axis \u001b[38;5;241m=\u001b[39m \u001b[43maxis\u001b[49m\u001b[38;5;241;43m.\u001b[39;49m\u001b[43mdrop\u001b[49m\u001b[43m(\u001b[49m\u001b[43mlabels\u001b[49m\u001b[43m,\u001b[49m\u001b[43m \u001b[49m\u001b[43merrors\u001b[49m\u001b[38;5;241;43m=\u001b[39;49m\u001b[43merrors\u001b[49m\u001b[43m)\u001b[49m\n\u001b[1;32m   4831\u001b[0m     indexer \u001b[38;5;241m=\u001b[39m axis\u001b[38;5;241m.\u001b[39mget_indexer(new_axis)\n\u001b[1;32m   4833\u001b[0m \u001b[38;5;66;03m# Case for non-unique axis\u001b[39;00m\n\u001b[1;32m   4834\u001b[0m \u001b[38;5;28;01melse\u001b[39;00m:\n",
      "File \u001b[0;32m~/dev/acuracia_ma/.venv/lib/python3.10/site-packages/pandas/core/indexes/base.py:7070\u001b[0m, in \u001b[0;36mIndex.drop\u001b[0;34m(self, labels, errors)\u001b[0m\n\u001b[1;32m   7068\u001b[0m \u001b[38;5;28;01mif\u001b[39;00m mask\u001b[38;5;241m.\u001b[39many():\n\u001b[1;32m   7069\u001b[0m     \u001b[38;5;28;01mif\u001b[39;00m errors \u001b[38;5;241m!=\u001b[39m \u001b[38;5;124m\"\u001b[39m\u001b[38;5;124mignore\u001b[39m\u001b[38;5;124m\"\u001b[39m:\n\u001b[0;32m-> 7070\u001b[0m         \u001b[38;5;28;01mraise\u001b[39;00m \u001b[38;5;167;01mKeyError\u001b[39;00m(\u001b[38;5;124mf\u001b[39m\u001b[38;5;124m\"\u001b[39m\u001b[38;5;132;01m{\u001b[39;00mlabels[mask]\u001b[38;5;241m.\u001b[39mtolist()\u001b[38;5;132;01m}\u001b[39;00m\u001b[38;5;124m not found in axis\u001b[39m\u001b[38;5;124m\"\u001b[39m)\n\u001b[1;32m   7071\u001b[0m     indexer \u001b[38;5;241m=\u001b[39m indexer[\u001b[38;5;241m~\u001b[39mmask]\n\u001b[1;32m   7072\u001b[0m \u001b[38;5;28;01mreturn\u001b[39;00m \u001b[38;5;28mself\u001b[39m\u001b[38;5;241m.\u001b[39mdelete(indexer)\n",
      "\u001b[0;31mKeyError\u001b[0m: \"['system:index'] not found in axis\""
     ]
    }
   ],
   "source": [
    "gdf_erros.drop('system:index', axis=1, inplace=True)"
   ]
  },
  {
   "cell_type": "code",
   "execution_count": 868,
   "metadata": {},
   "outputs": [
    {
     "name": "stderr",
     "output_type": "stream",
     "text": [
      "/tmp/ipykernel_671205/1334426410.py:1: SettingWithCopyWarning: \n",
      "A value is trying to be set on a copy of a slice from a DataFrame\n",
      "\n",
      "See the caveats in the documentation: https://pandas.pydata.org/pandas-docs/stable/user_guide/indexing.html#returning-a-view-versus-a-copy\n",
      "  gdf_erros.drop('.geo', axis=1, inplace=True)\n"
     ]
    }
   ],
   "source": [
    "gdf_erros.drop('.geo', axis=1, inplace=True)"
   ]
  },
  {
   "cell_type": "code",
   "execution_count": 869,
   "metadata": {},
   "outputs": [
    {
     "data": {
      "text/html": [
       "<div>\n",
       "<style scoped>\n",
       "    .dataframe tbody tr th:only-of-type {\n",
       "        vertical-align: middle;\n",
       "    }\n",
       "\n",
       "    .dataframe tbody tr th {\n",
       "        vertical-align: top;\n",
       "    }\n",
       "\n",
       "    .dataframe thead th {\n",
       "        text-align: right;\n",
       "    }\n",
       "</style>\n",
       "<table border=\"1\" class=\"dataframe\">\n",
       "  <thead>\n",
       "    <tr style=\"text-align: right;\">\n",
       "      <th></th>\n",
       "      <th>AMOSTRAS</th>\n",
       "      <th>AMOSTRA_AM</th>\n",
       "      <th>BioNB</th>\n",
       "      <th>CARTA_2</th>\n",
       "      <th>CLASS_2022</th>\n",
       "      <th>DECLIVIDAD</th>\n",
       "      <th>LAT</th>\n",
       "      <th>LON</th>\n",
       "      <th>NEW_PROB</th>\n",
       "      <th>NEW_WEIGHT</th>\n",
       "      <th>...</th>\n",
       "      <th>StateNB</th>\n",
       "      <th>TARGETID</th>\n",
       "      <th>VAL_PESO</th>\n",
       "      <th>classification</th>\n",
       "      <th>reference</th>\n",
       "      <th>year</th>\n",
       "      <th>strata_id</th>\n",
       "      <th>pop</th>\n",
       "      <th>n_samp</th>\n",
       "      <th>geometry</th>\n",
       "    </tr>\n",
       "  </thead>\n",
       "  <tbody>\n",
       "    <tr>\n",
       "      <th>0</th>\n",
       "      <td>NaN</td>\n",
       "      <td>0</td>\n",
       "      <td>Amazônia</td>\n",
       "      <td>SA-23-Z</td>\n",
       "      <td>APICUM</td>\n",
       "      <td>D2</td>\n",
       "      <td>-2.368226</td>\n",
       "      <td>-43.544883</td>\n",
       "      <td>0.000011</td>\n",
       "      <td>55301.697925</td>\n",
       "      <td>...</td>\n",
       "      <td>21.0</td>\n",
       "      <td>12037</td>\n",
       "      <td>1.000000</td>\n",
       "      <td>3</td>\n",
       "      <td>32</td>\n",
       "      <td>2022</td>\n",
       "      <td>SA-23-Z_D2</td>\n",
       "      <td>27861902.0</td>\n",
       "      <td>305</td>\n",
       "      <td>POINT (-43.54488 -2.36823)</td>\n",
       "    </tr>\n",
       "    <tr>\n",
       "      <th>2</th>\n",
       "      <td>NaN</td>\n",
       "      <td>0</td>\n",
       "      <td>Amazônia</td>\n",
       "      <td>SA-23-Z</td>\n",
       "      <td>CAMPO ALAGADO E ÁREA PANTANOSA</td>\n",
       "      <td>D1</td>\n",
       "      <td>-3.691714</td>\n",
       "      <td>-44.849776</td>\n",
       "      <td>0.000012</td>\n",
       "      <td>60305.967634</td>\n",
       "      <td>...</td>\n",
       "      <td>21.0</td>\n",
       "      <td>16625</td>\n",
       "      <td>1.000000</td>\n",
       "      <td>6</td>\n",
       "      <td>11</td>\n",
       "      <td>2022</td>\n",
       "      <td>SA-23-Z_D1</td>\n",
       "      <td>25366123.0</td>\n",
       "      <td>303</td>\n",
       "      <td>POINT (-44.84978 -3.69171)</td>\n",
       "    </tr>\n",
       "    <tr>\n",
       "      <th>4</th>\n",
       "      <td>Treinamento</td>\n",
       "      <td>1</td>\n",
       "      <td>Amazônia</td>\n",
       "      <td>SA-23-Z</td>\n",
       "      <td>CAMPO ALAGADO E ÁREA PANTANOSA</td>\n",
       "      <td>D1</td>\n",
       "      <td>-3.720550</td>\n",
       "      <td>-44.673527</td>\n",
       "      <td>0.000012</td>\n",
       "      <td>60305.967634</td>\n",
       "      <td>...</td>\n",
       "      <td>21.0</td>\n",
       "      <td>16694</td>\n",
       "      <td>1.000000</td>\n",
       "      <td>6</td>\n",
       "      <td>11</td>\n",
       "      <td>2022</td>\n",
       "      <td>SA-23-Z_D1</td>\n",
       "      <td>25366123.0</td>\n",
       "      <td>303</td>\n",
       "      <td>POINT (-44.67353 -3.72055)</td>\n",
       "    </tr>\n",
       "    <tr>\n",
       "      <th>11</th>\n",
       "      <td>NaN</td>\n",
       "      <td>0</td>\n",
       "      <td>Amazônia</td>\n",
       "      <td>SA-23-Z</td>\n",
       "      <td>CAMPO ALAGADO E ÁREA PANTANOSA</td>\n",
       "      <td>D1</td>\n",
       "      <td>-2.357986</td>\n",
       "      <td>-44.703171</td>\n",
       "      <td>0.000012</td>\n",
       "      <td>60305.967634</td>\n",
       "      <td>...</td>\n",
       "      <td>21.0</td>\n",
       "      <td>16769</td>\n",
       "      <td>1.000000</td>\n",
       "      <td>32</td>\n",
       "      <td>11</td>\n",
       "      <td>2022</td>\n",
       "      <td>SA-23-Z_D1</td>\n",
       "      <td>25366123.0</td>\n",
       "      <td>303</td>\n",
       "      <td>POINT (-44.70317 -2.35799)</td>\n",
       "    </tr>\n",
       "    <tr>\n",
       "      <th>13</th>\n",
       "      <td>NaN</td>\n",
       "      <td>0</td>\n",
       "      <td>Amazônia</td>\n",
       "      <td>SA-23-Z</td>\n",
       "      <td>CAMPO ALAGADO E ÁREA PANTANOSA</td>\n",
       "      <td>D1</td>\n",
       "      <td>-3.705998</td>\n",
       "      <td>-44.855975</td>\n",
       "      <td>0.000012</td>\n",
       "      <td>60305.967634</td>\n",
       "      <td>...</td>\n",
       "      <td>21.0</td>\n",
       "      <td>16804</td>\n",
       "      <td>1.000000</td>\n",
       "      <td>33</td>\n",
       "      <td>11</td>\n",
       "      <td>2022</td>\n",
       "      <td>SA-23-Z_D1</td>\n",
       "      <td>25366123.0</td>\n",
       "      <td>303</td>\n",
       "      <td>POINT (-44.85597 -3.706)</td>\n",
       "    </tr>\n",
       "    <tr>\n",
       "      <th>...</th>\n",
       "      <td>...</td>\n",
       "      <td>...</td>\n",
       "      <td>...</td>\n",
       "      <td>...</td>\n",
       "      <td>...</td>\n",
       "      <td>...</td>\n",
       "      <td>...</td>\n",
       "      <td>...</td>\n",
       "      <td>...</td>\n",
       "      <td>...</td>\n",
       "      <td>...</td>\n",
       "      <td>...</td>\n",
       "      <td>...</td>\n",
       "      <td>...</td>\n",
       "      <td>...</td>\n",
       "      <td>...</td>\n",
       "      <td>...</td>\n",
       "      <td>...</td>\n",
       "      <td>...</td>\n",
       "      <td>...</td>\n",
       "      <td>...</td>\n",
       "    </tr>\n",
       "    <tr>\n",
       "      <th>693</th>\n",
       "      <td>NaN</td>\n",
       "      <td>0</td>\n",
       "      <td>Cerrado</td>\n",
       "      <td>SA-23-Z</td>\n",
       "      <td>RIO, LAGO E OCEANO</td>\n",
       "      <td>D1</td>\n",
       "      <td>-3.620029</td>\n",
       "      <td>-43.614413</td>\n",
       "      <td>0.000012</td>\n",
       "      <td>60305.967634</td>\n",
       "      <td>...</td>\n",
       "      <td>21.0</td>\n",
       "      <td>223</td>\n",
       "      <td>0.500000</td>\n",
       "      <td>3</td>\n",
       "      <td>33</td>\n",
       "      <td>2022</td>\n",
       "      <td>SA-23-Z_D1</td>\n",
       "      <td>25366123.0</td>\n",
       "      <td>303</td>\n",
       "      <td>POINT (-43.61441 -3.62003)</td>\n",
       "    </tr>\n",
       "    <tr>\n",
       "      <th>695</th>\n",
       "      <td>Treinamento</td>\n",
       "      <td>1</td>\n",
       "      <td>Amazônia</td>\n",
       "      <td>SA-23-Z</td>\n",
       "      <td>FORMAÇÃO FLORESTAL</td>\n",
       "      <td>D1</td>\n",
       "      <td>-2.527767</td>\n",
       "      <td>-44.997729</td>\n",
       "      <td>0.000012</td>\n",
       "      <td>60305.967634</td>\n",
       "      <td>...</td>\n",
       "      <td>21.0</td>\n",
       "      <td>16779</td>\n",
       "      <td>0.333333</td>\n",
       "      <td>6</td>\n",
       "      <td>3</td>\n",
       "      <td>2022</td>\n",
       "      <td>SA-23-Z_D1</td>\n",
       "      <td>25366123.0</td>\n",
       "      <td>303</td>\n",
       "      <td>POINT (-44.99773 -2.52777)</td>\n",
       "    </tr>\n",
       "    <tr>\n",
       "      <th>696</th>\n",
       "      <td>Treinamento</td>\n",
       "      <td>1</td>\n",
       "      <td>Amazônia</td>\n",
       "      <td>SA-23-Z</td>\n",
       "      <td>FORMAÇÃO FLORESTAL</td>\n",
       "      <td>D1</td>\n",
       "      <td>-3.057055</td>\n",
       "      <td>-44.042101</td>\n",
       "      <td>0.000012</td>\n",
       "      <td>60305.967634</td>\n",
       "      <td>...</td>\n",
       "      <td>21.0</td>\n",
       "      <td>16796</td>\n",
       "      <td>0.333333</td>\n",
       "      <td>6</td>\n",
       "      <td>3</td>\n",
       "      <td>2022</td>\n",
       "      <td>SA-23-Z_D1</td>\n",
       "      <td>25366123.0</td>\n",
       "      <td>303</td>\n",
       "      <td>POINT (-44.0421 -3.05705)</td>\n",
       "    </tr>\n",
       "    <tr>\n",
       "      <th>697</th>\n",
       "      <td>NaN</td>\n",
       "      <td>0</td>\n",
       "      <td>Amazônia</td>\n",
       "      <td>SA-23-Z</td>\n",
       "      <td>FORMAÇÃO FLORESTAL</td>\n",
       "      <td>D2</td>\n",
       "      <td>-2.551752</td>\n",
       "      <td>-44.899094</td>\n",
       "      <td>0.000011</td>\n",
       "      <td>55301.697925</td>\n",
       "      <td>...</td>\n",
       "      <td>21.0</td>\n",
       "      <td>17083</td>\n",
       "      <td>0.333333</td>\n",
       "      <td>6</td>\n",
       "      <td>3</td>\n",
       "      <td>2022</td>\n",
       "      <td>SA-23-Z_D2</td>\n",
       "      <td>27861902.0</td>\n",
       "      <td>305</td>\n",
       "      <td>POINT (-44.89909 -2.55175)</td>\n",
       "    </tr>\n",
       "    <tr>\n",
       "      <th>708</th>\n",
       "      <td>NaN</td>\n",
       "      <td>0</td>\n",
       "      <td>Cerrado</td>\n",
       "      <td>SA-23-Z</td>\n",
       "      <td>PASTAGEM</td>\n",
       "      <td>D2</td>\n",
       "      <td>-3.474232</td>\n",
       "      <td>-43.978770</td>\n",
       "      <td>0.000011</td>\n",
       "      <td>55301.697925</td>\n",
       "      <td>...</td>\n",
       "      <td>21.0</td>\n",
       "      <td>17349</td>\n",
       "      <td>1.000000</td>\n",
       "      <td>4</td>\n",
       "      <td>15</td>\n",
       "      <td>2022</td>\n",
       "      <td>SA-23-Z_D2</td>\n",
       "      <td>27861902.0</td>\n",
       "      <td>305</td>\n",
       "      <td>POINT (-43.97877 -3.47423)</td>\n",
       "    </tr>\n",
       "  </tbody>\n",
       "</table>\n",
       "<p>234 rows × 22 columns</p>\n",
       "</div>"
      ],
      "text/plain": [
       "        AMOSTRAS  AMOSTRA_AM     BioNB  CARTA_2  \\\n",
       "0            NaN           0  Amazônia  SA-23-Z   \n",
       "2            NaN           0  Amazônia  SA-23-Z   \n",
       "4    Treinamento           1  Amazônia  SA-23-Z   \n",
       "11           NaN           0  Amazônia  SA-23-Z   \n",
       "13           NaN           0  Amazônia  SA-23-Z   \n",
       "..           ...         ...       ...      ...   \n",
       "693          NaN           0   Cerrado  SA-23-Z   \n",
       "695  Treinamento           1  Amazônia  SA-23-Z   \n",
       "696  Treinamento           1  Amazônia  SA-23-Z   \n",
       "697          NaN           0  Amazônia  SA-23-Z   \n",
       "708          NaN           0   Cerrado  SA-23-Z   \n",
       "\n",
       "                         CLASS_2022 DECLIVIDAD       LAT        LON  NEW_PROB  \\\n",
       "0                            APICUM         D2 -2.368226 -43.544883  0.000011   \n",
       "2    CAMPO ALAGADO E ÁREA PANTANOSA         D1 -3.691714 -44.849776  0.000012   \n",
       "4    CAMPO ALAGADO E ÁREA PANTANOSA         D1 -3.720550 -44.673527  0.000012   \n",
       "11   CAMPO ALAGADO E ÁREA PANTANOSA         D1 -2.357986 -44.703171  0.000012   \n",
       "13   CAMPO ALAGADO E ÁREA PANTANOSA         D1 -3.705998 -44.855975  0.000012   \n",
       "..                              ...        ...       ...        ...       ...   \n",
       "693              RIO, LAGO E OCEANO         D1 -3.620029 -43.614413  0.000012   \n",
       "695              FORMAÇÃO FLORESTAL         D1 -2.527767 -44.997729  0.000012   \n",
       "696              FORMAÇÃO FLORESTAL         D1 -3.057055 -44.042101  0.000012   \n",
       "697              FORMAÇÃO FLORESTAL         D2 -2.551752 -44.899094  0.000011   \n",
       "708                        PASTAGEM         D2 -3.474232 -43.978770  0.000011   \n",
       "\n",
       "       NEW_WEIGHT  ...  StateNB  TARGETID  VAL_PESO  classification  \\\n",
       "0    55301.697925  ...     21.0     12037  1.000000               3   \n",
       "2    60305.967634  ...     21.0     16625  1.000000               6   \n",
       "4    60305.967634  ...     21.0     16694  1.000000               6   \n",
       "11   60305.967634  ...     21.0     16769  1.000000              32   \n",
       "13   60305.967634  ...     21.0     16804  1.000000              33   \n",
       "..            ...  ...      ...       ...       ...             ...   \n",
       "693  60305.967634  ...     21.0       223  0.500000               3   \n",
       "695  60305.967634  ...     21.0     16779  0.333333               6   \n",
       "696  60305.967634  ...     21.0     16796  0.333333               6   \n",
       "697  55301.697925  ...     21.0     17083  0.333333               6   \n",
       "708  55301.697925  ...     21.0     17349  1.000000               4   \n",
       "\n",
       "     reference  year   strata_id         pop n_samp  \\\n",
       "0           32  2022  SA-23-Z_D2  27861902.0    305   \n",
       "2           11  2022  SA-23-Z_D1  25366123.0    303   \n",
       "4           11  2022  SA-23-Z_D1  25366123.0    303   \n",
       "11          11  2022  SA-23-Z_D1  25366123.0    303   \n",
       "13          11  2022  SA-23-Z_D1  25366123.0    303   \n",
       "..         ...   ...         ...         ...    ...   \n",
       "693         33  2022  SA-23-Z_D1  25366123.0    303   \n",
       "695          3  2022  SA-23-Z_D1  25366123.0    303   \n",
       "696          3  2022  SA-23-Z_D1  25366123.0    303   \n",
       "697          3  2022  SA-23-Z_D2  27861902.0    305   \n",
       "708         15  2022  SA-23-Z_D2  27861902.0    305   \n",
       "\n",
       "                       geometry  \n",
       "0    POINT (-43.54488 -2.36823)  \n",
       "2    POINT (-44.84978 -3.69171)  \n",
       "4    POINT (-44.67353 -3.72055)  \n",
       "11   POINT (-44.70317 -2.35799)  \n",
       "13     POINT (-44.85597 -3.706)  \n",
       "..                          ...  \n",
       "693  POINT (-43.61441 -3.62003)  \n",
       "695  POINT (-44.99773 -2.52777)  \n",
       "696   POINT (-44.0421 -3.05705)  \n",
       "697  POINT (-44.89909 -2.55175)  \n",
       "708  POINT (-43.97877 -3.47423)  \n",
       "\n",
       "[234 rows x 22 columns]"
      ]
     },
     "execution_count": 869,
     "metadata": {},
     "output_type": "execute_result"
    }
   ],
   "source": [
    "gdf_erros"
   ]
  },
  {
   "cell_type": "code",
   "execution_count": 870,
   "metadata": {},
   "outputs": [
    {
     "data": {
      "text/plain": [
       "<Axes: >"
      ]
     },
     "execution_count": 870,
     "metadata": {},
     "output_type": "execute_result"
    },
    {
     "data": {
      "image/png": "[encoded data removed]",
      "text/plain": [
       "<Figure size 640x480 with 1 Axes>"
      ]
     },
     "metadata": {},
     "output_type": "display_data"
    }
   ],
   "source": [
    "gdf_erros.plot()"
   ]
  },
  {
   "cell_type": "code",
   "execution_count": 871,
   "metadata": {},
   "outputs": [
    {
     "name": "stderr",
     "output_type": "stream",
     "text": [
      "/tmp/ipykernel_671205/2278385486.py:1: UserWarning: Column names longer than 10 characters will be truncated when saved to ESRI Shapefile.\n",
      "  gdf_erros.to_file(\"pontos_amostrais_erro.shp\")\n",
      "/home/scosta/dev/acuracia_ma/.venv/lib/python3.10/site-packages/pyogrio/raw.py:709: RuntimeWarning: Normalized/laundered field name: 'classification' to 'classifica'\n",
      "  ogr_write(\n"
     ]
    }
   ],
   "source": [
    "gdf_erros.to_file(\"pontos_amostrais_erro.shp\")"
   ]
  }
 ],
 "metadata": {
  "kernelspec": {
   "display_name": ".venv",
   "language": "python",
   "name": "python3"
  },
  "language_info": {
   "codemirror_mode": {
    "name": "ipython",
    "version": 3
   },
   "file_extension": ".py",
   "mimetype": "text/x-python",
   "name": "python",
   "nbconvert_exporter": "python",
   "pygments_lexer": "ipython3",
   "version": "3.10.12"
  }
 },
 "nbformat": 4,
 "nbformat_minor": 2
}
