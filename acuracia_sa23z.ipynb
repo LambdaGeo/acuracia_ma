{
 "cells": [
  {
   "cell_type": "markdown",
   "metadata": {},
   "source": [
    "# Avaliação de desempenho"
   ]
  },
  {
   "cell_type": "markdown",
   "metadata": {
    "vscode": {
     "languageId": "plaintext"
    }
   },
   "source": [
    "## Imports"
   ]
  },
  {
   "cell_type": "code",
   "execution_count": 1,
   "metadata": {},
   "outputs": [],
   "source": [
    "import pandas as pd\n",
    "import numpy as np\n"
   ]
  },
  {
   "cell_type": "markdown",
   "metadata": {},
   "source": [
    "## Parâmetros e configurações"
   ]
  },
  {
   "cell_type": "code",
   "execution_count": 4,
   "metadata": {},
   "outputs": [],
   "source": [
    "level = 'l2'\n",
    "path_acc = 'dados/completo_acc_mapbiomas_80_2022.csv'\n",
    "path_class_settings = 'dados/config_classes.json'"
   ]
  },
  {
   "cell_type": "code",
   "execution_count": 3,
   "metadata": {},
   "outputs": [
    {
     "ename": "FileNotFoundError",
     "evalue": "[Errno 2] No such file or directory: 'config_classes.json'",
     "output_type": "error",
     "traceback": [
      "\u001b[0;31m---------------------------------------------------------------------------\u001b[0m",
      "\u001b[0;31mFileNotFoundError\u001b[0m                         Traceback (most recent call last)",
      "Cell \u001b[0;32mIn[3], line 1\u001b[0m\n\u001b[0;32m----> 1\u001b[0m \u001b[38;5;28;01mwith\u001b[39;00m \u001b[38;5;28;43mopen\u001b[39;49m\u001b[43m(\u001b[49m\u001b[38;5;124;43m'\u001b[39;49m\u001b[38;5;124;43mconfig_classes.json\u001b[39;49m\u001b[38;5;124;43m'\u001b[39;49m\u001b[43m,\u001b[49m\u001b[43m \u001b[49m\u001b[38;5;124;43m'\u001b[39;49m\u001b[38;5;124;43mr\u001b[39;49m\u001b[38;5;124;43m'\u001b[39;49m\u001b[43m)\u001b[49m \u001b[38;5;28;01mas\u001b[39;00m arquivo:\n\u001b[1;32m      2\u001b[0m     config_classes \u001b[38;5;241m=\u001b[39m json\u001b[38;5;241m.\u001b[39mload(arquivo)\n\u001b[1;32m      3\u001b[0m config_classes[\u001b[38;5;124m'\u001b[39m\u001b[38;5;124mIGNORED_CLASSES\u001b[39m\u001b[38;5;124m'\u001b[39m]\n",
      "File \u001b[0;32m~/dev/acuracia_ma/.venv/lib/python3.10/site-packages/IPython/core/interactiveshell.py:324\u001b[0m, in \u001b[0;36m_modified_open\u001b[0;34m(file, *args, **kwargs)\u001b[0m\n\u001b[1;32m    317\u001b[0m \u001b[38;5;28;01mif\u001b[39;00m file \u001b[38;5;129;01min\u001b[39;00m {\u001b[38;5;241m0\u001b[39m, \u001b[38;5;241m1\u001b[39m, \u001b[38;5;241m2\u001b[39m}:\n\u001b[1;32m    318\u001b[0m     \u001b[38;5;28;01mraise\u001b[39;00m \u001b[38;5;167;01mValueError\u001b[39;00m(\n\u001b[1;32m    319\u001b[0m         \u001b[38;5;124mf\u001b[39m\u001b[38;5;124m\"\u001b[39m\u001b[38;5;124mIPython won\u001b[39m\u001b[38;5;124m'\u001b[39m\u001b[38;5;124mt let you open fd=\u001b[39m\u001b[38;5;132;01m{\u001b[39;00mfile\u001b[38;5;132;01m}\u001b[39;00m\u001b[38;5;124m by default \u001b[39m\u001b[38;5;124m\"\u001b[39m\n\u001b[1;32m    320\u001b[0m         \u001b[38;5;124m\"\u001b[39m\u001b[38;5;124mas it is likely to crash IPython. If you know what you are doing, \u001b[39m\u001b[38;5;124m\"\u001b[39m\n\u001b[1;32m    321\u001b[0m         \u001b[38;5;124m\"\u001b[39m\u001b[38;5;124myou can use builtins\u001b[39m\u001b[38;5;124m'\u001b[39m\u001b[38;5;124m open.\u001b[39m\u001b[38;5;124m\"\u001b[39m\n\u001b[1;32m    322\u001b[0m     )\n\u001b[0;32m--> 324\u001b[0m \u001b[38;5;28;01mreturn\u001b[39;00m \u001b[43mio_open\u001b[49m\u001b[43m(\u001b[49m\u001b[43mfile\u001b[49m\u001b[43m,\u001b[49m\u001b[43m \u001b[49m\u001b[38;5;241;43m*\u001b[39;49m\u001b[43margs\u001b[49m\u001b[43m,\u001b[49m\u001b[43m \u001b[49m\u001b[38;5;241;43m*\u001b[39;49m\u001b[38;5;241;43m*\u001b[39;49m\u001b[43mkwargs\u001b[49m\u001b[43m)\u001b[49m\n",
      "\u001b[0;31mFileNotFoundError\u001b[0m: [Errno 2] No such file or directory: 'config_classes.json'"
     ]
    }
   ],
   "source": [
    "with open('config_classes.json', 'r') as arquivo:\n",
    "    config_classes = json.load(arquivo)\n",
    "config_classes['IGNORED_CLASSES']"
   ]
  },
  {
   "cell_type": "markdown",
   "metadata": {},
   "source": [
    "## Entrada de dados"
   ]
  },
  {
   "cell_type": "markdown",
   "metadata": {},
   "source": [
    "Arquivo com os dados de classificação e os dados de referencia de 2022, gerado no google earth engine:\n",
    "\n",
    "https://code.earthengine.google.com/365963f4785378c21da4b24fa43061fb\n",
    "\n",
    "so adicionado como limite o grupode de cartas SA-23-Z"
   ]
  },
  {
   "cell_type": "code",
   "execution_count": 5,
   "metadata": {},
   "outputs": [
    {
     "data": {
      "text/html": [
       "<div>\n",
       "<style scoped>\n",
       "    .dataframe tbody tr th:only-of-type {\n",
       "        vertical-align: middle;\n",
       "    }\n",
       "\n",
       "    .dataframe tbody tr th {\n",
       "        vertical-align: top;\n",
       "    }\n",
       "\n",
       "    .dataframe thead th {\n",
       "        text-align: right;\n",
       "    }\n",
       "</style>\n",
       "<table border=\"1\" class=\"dataframe\">\n",
       "  <thead>\n",
       "    <tr style=\"text-align: right;\">\n",
       "      <th></th>\n",
       "      <th>system:index</th>\n",
       "      <th>AMOSTRAS</th>\n",
       "      <th>AMOSTRA_AM</th>\n",
       "      <th>BioNB</th>\n",
       "      <th>CARTA_2</th>\n",
       "      <th>CLASS_2022</th>\n",
       "      <th>DECLIVIDAD</th>\n",
       "      <th>LAT</th>\n",
       "      <th>LON</th>\n",
       "      <th>NEW_PROB</th>\n",
       "      <th>NEW_WEIGHT</th>\n",
       "      <th>PESO_VOT</th>\n",
       "      <th>PROB_AMOS2</th>\n",
       "      <th>StateNB</th>\n",
       "      <th>TARGETID</th>\n",
       "      <th>VAL_PESO</th>\n",
       "      <th>classification</th>\n",
       "      <th>reference</th>\n",
       "      <th>year</th>\n",
       "      <th>.geo</th>\n",
       "    </tr>\n",
       "  </thead>\n",
       "  <tbody>\n",
       "    <tr>\n",
       "      <th>0</th>\n",
       "      <td>00000000000000003933_0</td>\n",
       "      <td>NaN</td>\n",
       "      <td>0</td>\n",
       "      <td>1</td>\n",
       "      <td>NA-20-X</td>\n",
       "      <td>AFLORAMENTO ROCHOSO</td>\n",
       "      <td>D5</td>\n",
       "      <td>2.516093</td>\n",
       "      <td>-60.778254</td>\n",
       "      <td>0.000007</td>\n",
       "      <td>92529.595041</td>\n",
       "      <td>0.000009</td>\n",
       "      <td>0.000009</td>\n",
       "      <td>14.0</td>\n",
       "      <td>26026</td>\n",
       "      <td>1.0</td>\n",
       "      <td>15</td>\n",
       "      <td>29</td>\n",
       "      <td>2022</td>\n",
       "      <td>{\"type\":\"MultiPoint\",\"coordinates\":[]}</td>\n",
       "    </tr>\n",
       "    <tr>\n",
       "      <th>1</th>\n",
       "      <td>000000000000000059a4_0</td>\n",
       "      <td>NaN</td>\n",
       "      <td>0</td>\n",
       "      <td>4</td>\n",
       "      <td>SC-23-X</td>\n",
       "      <td>AFLORAMENTO ROCHOSO</td>\n",
       "      <td>D5</td>\n",
       "      <td>-8.858734</td>\n",
       "      <td>-44.489462</td>\n",
       "      <td>0.000009</td>\n",
       "      <td>85959.795918</td>\n",
       "      <td>0.000010</td>\n",
       "      <td>0.000010</td>\n",
       "      <td>22.0</td>\n",
       "      <td>13274</td>\n",
       "      <td>1.0</td>\n",
       "      <td>4</td>\n",
       "      <td>29</td>\n",
       "      <td>2022</td>\n",
       "      <td>{\"type\":\"MultiPoint\",\"coordinates\":[]}</td>\n",
       "    </tr>\n",
       "    <tr>\n",
       "      <th>2</th>\n",
       "      <td>00000000000000006029_0</td>\n",
       "      <td>NaN</td>\n",
       "      <td>0</td>\n",
       "      <td>5</td>\n",
       "      <td>SA-24-Y</td>\n",
       "      <td>AFLORAMENTO ROCHOSO</td>\n",
       "      <td>D5</td>\n",
       "      <td>-3.365356</td>\n",
       "      <td>-41.021875</td>\n",
       "      <td>0.000017</td>\n",
       "      <td>58387.785714</td>\n",
       "      <td>0.000017</td>\n",
       "      <td>0.000017</td>\n",
       "      <td>23.0</td>\n",
       "      <td>19011</td>\n",
       "      <td>1.0</td>\n",
       "      <td>4</td>\n",
       "      <td>29</td>\n",
       "      <td>2022</td>\n",
       "      <td>{\"type\":\"MultiPoint\",\"coordinates\":[]}</td>\n",
       "    </tr>\n",
       "    <tr>\n",
       "      <th>3</th>\n",
       "      <td>0000000000000000652b_0</td>\n",
       "      <td>NaN</td>\n",
       "      <td>0</td>\n",
       "      <td>5</td>\n",
       "      <td>SB-24-X</td>\n",
       "      <td>AFLORAMENTO ROCHOSO</td>\n",
       "      <td>D3</td>\n",
       "      <td>-5.854408</td>\n",
       "      <td>-36.804285</td>\n",
       "      <td>0.000011</td>\n",
       "      <td>53284.850977</td>\n",
       "      <td>0.000014</td>\n",
       "      <td>0.000014</td>\n",
       "      <td>24.0</td>\n",
       "      <td>20507</td>\n",
       "      <td>1.0</td>\n",
       "      <td>4</td>\n",
       "      <td>29</td>\n",
       "      <td>2022</td>\n",
       "      <td>{\"type\":\"MultiPoint\",\"coordinates\":[]}</td>\n",
       "    </tr>\n",
       "    <tr>\n",
       "      <th>4</th>\n",
       "      <td>0000000000000000753d_0</td>\n",
       "      <td>NaN</td>\n",
       "      <td>0</td>\n",
       "      <td>5</td>\n",
       "      <td>SC-24-Y</td>\n",
       "      <td>AFLORAMENTO ROCHOSO</td>\n",
       "      <td>D5</td>\n",
       "      <td>-11.615394</td>\n",
       "      <td>-40.545678</td>\n",
       "      <td>0.000007</td>\n",
       "      <td>96068.611111</td>\n",
       "      <td>0.000009</td>\n",
       "      <td>0.000009</td>\n",
       "      <td>29.0</td>\n",
       "      <td>10954</td>\n",
       "      <td>1.0</td>\n",
       "      <td>4</td>\n",
       "      <td>29</td>\n",
       "      <td>2022</td>\n",
       "      <td>{\"type\":\"MultiPoint\",\"coordinates\":[]}</td>\n",
       "    </tr>\n",
       "  </tbody>\n",
       "</table>\n",
       "</div>"
      ],
      "text/plain": [
       "             system:index AMOSTRAS  AMOSTRA_AM  BioNB  CARTA_2  \\\n",
       "0  00000000000000003933_0      NaN           0      1  NA-20-X   \n",
       "1  000000000000000059a4_0      NaN           0      4  SC-23-X   \n",
       "2  00000000000000006029_0      NaN           0      5  SA-24-Y   \n",
       "3  0000000000000000652b_0      NaN           0      5  SB-24-X   \n",
       "4  0000000000000000753d_0      NaN           0      5  SC-24-Y   \n",
       "\n",
       "            CLASS_2022 DECLIVIDAD        LAT        LON  NEW_PROB  \\\n",
       "0  AFLORAMENTO ROCHOSO         D5   2.516093 -60.778254  0.000007   \n",
       "1  AFLORAMENTO ROCHOSO         D5  -8.858734 -44.489462  0.000009   \n",
       "2  AFLORAMENTO ROCHOSO         D5  -3.365356 -41.021875  0.000017   \n",
       "3  AFLORAMENTO ROCHOSO         D3  -5.854408 -36.804285  0.000011   \n",
       "4  AFLORAMENTO ROCHOSO         D5 -11.615394 -40.545678  0.000007   \n",
       "\n",
       "     NEW_WEIGHT  PESO_VOT  PROB_AMOS2  StateNB  TARGETID  VAL_PESO  \\\n",
       "0  92529.595041  0.000009    0.000009     14.0     26026       1.0   \n",
       "1  85959.795918  0.000010    0.000010     22.0     13274       1.0   \n",
       "2  58387.785714  0.000017    0.000017     23.0     19011       1.0   \n",
       "3  53284.850977  0.000014    0.000014     24.0     20507       1.0   \n",
       "4  96068.611111  0.000009    0.000009     29.0     10954       1.0   \n",
       "\n",
       "   classification  reference  year                                    .geo  \n",
       "0              15         29  2022  {\"type\":\"MultiPoint\",\"coordinates\":[]}  \n",
       "1               4         29  2022  {\"type\":\"MultiPoint\",\"coordinates\":[]}  \n",
       "2               4         29  2022  {\"type\":\"MultiPoint\",\"coordinates\":[]}  \n",
       "3               4         29  2022  {\"type\":\"MultiPoint\",\"coordinates\":[]}  \n",
       "4               4         29  2022  {\"type\":\"MultiPoint\",\"coordinates\":[]}  "
      ]
     },
     "execution_count": 5,
     "metadata": {},
     "output_type": "execute_result"
    }
   ],
   "source": [
    "df_acc = pd.read_csv(path_acc)\n",
    "df_acc.head()"
   ]
  }
 ],
 "metadata": {
  "kernelspec": {
   "display_name": ".venv",
   "language": "python",
   "name": "python3"
  },
  "language_info": {
   "codemirror_mode": {
    "name": "ipython",
    "version": 3
   },
   "file_extension": ".py",
   "mimetype": "text/x-python",
   "name": "python",
   "nbconvert_exporter": "python",
   "pygments_lexer": "ipython3",
   "version": "3.10.12"
  }
 },
 "nbformat": 4,
 "nbformat_minor": 2
}
