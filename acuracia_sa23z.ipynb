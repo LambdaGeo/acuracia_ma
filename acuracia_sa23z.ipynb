{
 "cells": [
  {
   "cell_type": "markdown",
   "metadata": {},
   "source": [
    "# Avaliação de desempenho"
   ]
  },
  {
   "cell_type": "markdown",
   "metadata": {
    "vscode": {
     "languageId": "plaintext"
    }
   },
   "source": [
    "## Imports"
   ]
  },
  {
   "cell_type": "code",
   "execution_count": 56,
   "metadata": {},
   "outputs": [],
   "source": [
    "import pandas as pd\n",
    "import numpy as np\n",
    "import json\n"
   ]
  },
  {
   "cell_type": "markdown",
   "metadata": {},
   "source": [
    "## Parâmetros e configurações"
   ]
  },
  {
   "cell_type": "code",
   "execution_count": 57,
   "metadata": {},
   "outputs": [],
   "source": [
    "level = 'l2'\n",
    "path_acc = 'dados/sa23z_acc_mapbiomas_80_2022.csv'\n",
    "path_class_settings = 'dados/config_classes.json'\n",
    "path_strata = 'dados/strata.csv'"
   ]
  },
  {
   "cell_type": "markdown",
   "metadata": {},
   "source": [
    "## Entrada de dados"
   ]
  },
  {
   "cell_type": "markdown",
   "metadata": {},
   "source": [
    "Arquivo com os dados de classificação e os dados de referencia de 2022, gerado no google earth engine:\n",
    "\n",
    "https://code.earthengine.google.com/365963f4785378c21da4b24fa43061fb\n",
    "\n",
    "so adicionado como limite o grupode de cartas SA-23-Z"
   ]
  },
  {
   "cell_type": "code",
   "execution_count": 58,
   "metadata": {},
   "outputs": [
    {
     "data": {
      "text/html": [
       "<div>\n",
       "<style scoped>\n",
       "    .dataframe tbody tr th:only-of-type {\n",
       "        vertical-align: middle;\n",
       "    }\n",
       "\n",
       "    .dataframe tbody tr th {\n",
       "        vertical-align: top;\n",
       "    }\n",
       "\n",
       "    .dataframe thead th {\n",
       "        text-align: right;\n",
       "    }\n",
       "</style>\n",
       "<table border=\"1\" class=\"dataframe\">\n",
       "  <thead>\n",
       "    <tr style=\"text-align: right;\">\n",
       "      <th></th>\n",
       "      <th>system:index</th>\n",
       "      <th>AMOSTRAS</th>\n",
       "      <th>AMOSTRA_AM</th>\n",
       "      <th>BioNB</th>\n",
       "      <th>CARTA_2</th>\n",
       "      <th>CLASS_2022</th>\n",
       "      <th>DECLIVIDAD</th>\n",
       "      <th>LAT</th>\n",
       "      <th>LON</th>\n",
       "      <th>NEW_PROB</th>\n",
       "      <th>NEW_WEIGHT</th>\n",
       "      <th>PESO_VOT</th>\n",
       "      <th>PROB_AMOS2</th>\n",
       "      <th>StateNB</th>\n",
       "      <th>TARGETID</th>\n",
       "      <th>VAL_PESO</th>\n",
       "      <th>classification</th>\n",
       "      <th>reference</th>\n",
       "      <th>year</th>\n",
       "      <th>.geo</th>\n",
       "    </tr>\n",
       "  </thead>\n",
       "  <tbody>\n",
       "    <tr>\n",
       "      <th>0</th>\n",
       "      <td>0000000000000000508d_0</td>\n",
       "      <td>NaN</td>\n",
       "      <td>0</td>\n",
       "      <td>1</td>\n",
       "      <td>SA-23-Z</td>\n",
       "      <td>APICUM</td>\n",
       "      <td>D2</td>\n",
       "      <td>-2.368226</td>\n",
       "      <td>-43.544883</td>\n",
       "      <td>0.000011</td>\n",
       "      <td>55301.697925</td>\n",
       "      <td>0.000014</td>\n",
       "      <td>0.000014</td>\n",
       "      <td>21.0</td>\n",
       "      <td>12037</td>\n",
       "      <td>1.0</td>\n",
       "      <td>3</td>\n",
       "      <td>32</td>\n",
       "      <td>2022</td>\n",
       "      <td>{\"type\":\"MultiPoint\",\"coordinates\":[]}</td>\n",
       "    </tr>\n",
       "    <tr>\n",
       "      <th>1</th>\n",
       "      <td>00000000000000004b0e_0</td>\n",
       "      <td>NaN</td>\n",
       "      <td>0</td>\n",
       "      <td>1</td>\n",
       "      <td>SA-23-Z</td>\n",
       "      <td>CAMPO ALAGADO E ÁREA PANTANOSA</td>\n",
       "      <td>D1</td>\n",
       "      <td>-3.951507</td>\n",
       "      <td>-44.961886</td>\n",
       "      <td>0.000012</td>\n",
       "      <td>60305.967634</td>\n",
       "      <td>0.000014</td>\n",
       "      <td>0.000014</td>\n",
       "      <td>21.0</td>\n",
       "      <td>16624</td>\n",
       "      <td>1.0</td>\n",
       "      <td>11</td>\n",
       "      <td>11</td>\n",
       "      <td>2022</td>\n",
       "      <td>{\"type\":\"MultiPoint\",\"coordinates\":[]}</td>\n",
       "    </tr>\n",
       "    <tr>\n",
       "      <th>2</th>\n",
       "      <td>00000000000000004b0f_0</td>\n",
       "      <td>NaN</td>\n",
       "      <td>0</td>\n",
       "      <td>1</td>\n",
       "      <td>SA-23-Z</td>\n",
       "      <td>CAMPO ALAGADO E ÁREA PANTANOSA</td>\n",
       "      <td>D1</td>\n",
       "      <td>-3.691714</td>\n",
       "      <td>-44.849776</td>\n",
       "      <td>0.000012</td>\n",
       "      <td>60305.967634</td>\n",
       "      <td>0.000014</td>\n",
       "      <td>0.000014</td>\n",
       "      <td>21.0</td>\n",
       "      <td>16625</td>\n",
       "      <td>1.0</td>\n",
       "      <td>6</td>\n",
       "      <td>11</td>\n",
       "      <td>2022</td>\n",
       "      <td>{\"type\":\"MultiPoint\",\"coordinates\":[]}</td>\n",
       "    </tr>\n",
       "    <tr>\n",
       "      <th>3</th>\n",
       "      <td>00000000000000004b1b_0</td>\n",
       "      <td>NaN</td>\n",
       "      <td>0</td>\n",
       "      <td>1</td>\n",
       "      <td>SA-23-Z</td>\n",
       "      <td>CAMPO ALAGADO E ÁREA PANTANOSA</td>\n",
       "      <td>D1</td>\n",
       "      <td>-2.823672</td>\n",
       "      <td>-44.723653</td>\n",
       "      <td>0.000012</td>\n",
       "      <td>60305.967634</td>\n",
       "      <td>0.000014</td>\n",
       "      <td>0.000014</td>\n",
       "      <td>21.0</td>\n",
       "      <td>16656</td>\n",
       "      <td>1.0</td>\n",
       "      <td>11</td>\n",
       "      <td>11</td>\n",
       "      <td>2022</td>\n",
       "      <td>{\"type\":\"MultiPoint\",\"coordinates\":[]}</td>\n",
       "    </tr>\n",
       "    <tr>\n",
       "      <th>4</th>\n",
       "      <td>00000000000000004b26_0</td>\n",
       "      <td>Treinamento</td>\n",
       "      <td>1</td>\n",
       "      <td>1</td>\n",
       "      <td>SA-23-Z</td>\n",
       "      <td>CAMPO ALAGADO E ÁREA PANTANOSA</td>\n",
       "      <td>D1</td>\n",
       "      <td>-3.720550</td>\n",
       "      <td>-44.673527</td>\n",
       "      <td>0.000012</td>\n",
       "      <td>60305.967634</td>\n",
       "      <td>0.000014</td>\n",
       "      <td>0.000014</td>\n",
       "      <td>21.0</td>\n",
       "      <td>16694</td>\n",
       "      <td>1.0</td>\n",
       "      <td>6</td>\n",
       "      <td>11</td>\n",
       "      <td>2022</td>\n",
       "      <td>{\"type\":\"MultiPoint\",\"coordinates\":[]}</td>\n",
       "    </tr>\n",
       "  </tbody>\n",
       "</table>\n",
       "</div>"
      ],
      "text/plain": [
       "             system:index     AMOSTRAS  AMOSTRA_AM  BioNB  CARTA_2  \\\n",
       "0  0000000000000000508d_0          NaN           0      1  SA-23-Z   \n",
       "1  00000000000000004b0e_0          NaN           0      1  SA-23-Z   \n",
       "2  00000000000000004b0f_0          NaN           0      1  SA-23-Z   \n",
       "3  00000000000000004b1b_0          NaN           0      1  SA-23-Z   \n",
       "4  00000000000000004b26_0  Treinamento           1      1  SA-23-Z   \n",
       "\n",
       "                       CLASS_2022 DECLIVIDAD       LAT        LON  NEW_PROB  \\\n",
       "0                          APICUM         D2 -2.368226 -43.544883  0.000011   \n",
       "1  CAMPO ALAGADO E ÁREA PANTANOSA         D1 -3.951507 -44.961886  0.000012   \n",
       "2  CAMPO ALAGADO E ÁREA PANTANOSA         D1 -3.691714 -44.849776  0.000012   \n",
       "3  CAMPO ALAGADO E ÁREA PANTANOSA         D1 -2.823672 -44.723653  0.000012   \n",
       "4  CAMPO ALAGADO E ÁREA PANTANOSA         D1 -3.720550 -44.673527  0.000012   \n",
       "\n",
       "     NEW_WEIGHT  PESO_VOT  PROB_AMOS2  StateNB  TARGETID  VAL_PESO  \\\n",
       "0  55301.697925  0.000014    0.000014     21.0     12037       1.0   \n",
       "1  60305.967634  0.000014    0.000014     21.0     16624       1.0   \n",
       "2  60305.967634  0.000014    0.000014     21.0     16625       1.0   \n",
       "3  60305.967634  0.000014    0.000014     21.0     16656       1.0   \n",
       "4  60305.967634  0.000014    0.000014     21.0     16694       1.0   \n",
       "\n",
       "   classification  reference  year                                    .geo  \n",
       "0               3         32  2022  {\"type\":\"MultiPoint\",\"coordinates\":[]}  \n",
       "1              11         11  2022  {\"type\":\"MultiPoint\",\"coordinates\":[]}  \n",
       "2               6         11  2022  {\"type\":\"MultiPoint\",\"coordinates\":[]}  \n",
       "3              11         11  2022  {\"type\":\"MultiPoint\",\"coordinates\":[]}  \n",
       "4               6         11  2022  {\"type\":\"MultiPoint\",\"coordinates\":[]}  "
      ]
     },
     "execution_count": 58,
     "metadata": {},
     "output_type": "execute_result"
    }
   ],
   "source": [
    "df_acc = pd.read_csv(path_acc)\n",
    "df_acc.head()"
   ]
  },
  {
   "cell_type": "markdown",
   "metadata": {},
   "source": [
    "apenas as amostras SA23-Z"
   ]
  },
  {
   "cell_type": "code",
   "execution_count": 59,
   "metadata": {},
   "outputs": [
    {
     "data": {
      "text/plain": [
       "(712, 20)"
      ]
     },
     "execution_count": 59,
     "metadata": {},
     "output_type": "execute_result"
    }
   ],
   "source": [
    "df_acc.shape"
   ]
  },
  {
   "cell_type": "markdown",
   "metadata": {},
   "source": [
    "Configuracao com as classes"
   ]
  },
  {
   "cell_type": "code",
   "execution_count": 60,
   "metadata": {},
   "outputs": [
    {
     "data": {
      "text/plain": [
       "[0, 31, 32, 30, 25, 23, 5, 29]"
      ]
     },
     "execution_count": 60,
     "metadata": {},
     "output_type": "execute_result"
    }
   ],
   "source": [
    "with open(path_class_settings, 'r') as arquivo:\n",
    "    config_classes = json.load(arquivo)\n",
    "config_classes['IGNORED_CLASSES']"
   ]
  },
  {
   "cell_type": "markdown",
   "metadata": {},
   "source": [
    "Para não ignorar essas classes:"
   ]
  },
  {
   "cell_type": "code",
   "execution_count": 61,
   "metadata": {},
   "outputs": [
    {
     "data": {
      "text/plain": [
       "[0]"
      ]
     },
     "execution_count": 61,
     "metadata": {},
     "output_type": "execute_result"
    }
   ],
   "source": [
    "config_classes['IGNORED_CLASSES'] = [0]\n",
    "config_classes['IGNORED_CLASSES']"
   ]
  },
  {
   "cell_type": "markdown",
   "metadata": {},
   "source": [
    "Aqui, não irei usar o arquivo points_strata.csv, pois os dados do target_id estao errados na coleção das amostras"
   ]
  },
  {
   "cell_type": "markdown",
   "metadata": {},
   "source": [
    "pegarei apenas o dadoq que tem a populacao por estrato"
   ]
  },
  {
   "cell_type": "code",
   "execution_count": 62,
   "metadata": {},
   "outputs": [
    {
     "data": {
      "text/html": [
       "<div>\n",
       "<style scoped>\n",
       "    .dataframe tbody tr th:only-of-type {\n",
       "        vertical-align: middle;\n",
       "    }\n",
       "\n",
       "    .dataframe tbody tr th {\n",
       "        vertical-align: top;\n",
       "    }\n",
       "\n",
       "    .dataframe thead th {\n",
       "        text-align: right;\n",
       "    }\n",
       "</style>\n",
       "<table border=\"1\" class=\"dataframe\">\n",
       "  <thead>\n",
       "    <tr style=\"text-align: right;\">\n",
       "      <th></th>\n",
       "      <th>strata_id</th>\n",
       "      <th>pop</th>\n",
       "    </tr>\n",
       "  </thead>\n",
       "  <tbody>\n",
       "    <tr>\n",
       "      <th>0</th>\n",
       "      <td>SH-21-Z_D1</td>\n",
       "      <td>22049360.0</td>\n",
       "    </tr>\n",
       "    <tr>\n",
       "      <th>1</th>\n",
       "      <td>SI-22-V_D1</td>\n",
       "      <td>19367713.0</td>\n",
       "    </tr>\n",
       "    <tr>\n",
       "      <th>2</th>\n",
       "      <td>SF-24-V_D1</td>\n",
       "      <td>4483278.0</td>\n",
       "    </tr>\n",
       "    <tr>\n",
       "      <th>3</th>\n",
       "      <td>SF-23-Z_D1</td>\n",
       "      <td>3193040.0</td>\n",
       "    </tr>\n",
       "    <tr>\n",
       "      <th>4</th>\n",
       "      <td>SC-24-Z_D1</td>\n",
       "      <td>18863275.0</td>\n",
       "    </tr>\n",
       "  </tbody>\n",
       "</table>\n",
       "</div>"
      ],
      "text/plain": [
       "    strata_id         pop\n",
       "0  SH-21-Z_D1  22049360.0\n",
       "1  SI-22-V_D1  19367713.0\n",
       "2  SF-24-V_D1   4483278.0\n",
       "3  SF-23-Z_D1   3193040.0\n",
       "4  SC-24-Z_D1  18863275.0"
      ]
     },
     "execution_count": 62,
     "metadata": {},
     "output_type": "execute_result"
    }
   ],
   "source": [
    "df_strata = pd.read_csv(path_strata)\n",
    "df_strata.head()"
   ]
  },
  {
   "cell_type": "code",
   "execution_count": 63,
   "metadata": {},
   "outputs": [
    {
     "data": {
      "text/plain": [
       "(762, 2)"
      ]
     },
     "execution_count": 63,
     "metadata": {},
     "output_type": "execute_result"
    }
   ],
   "source": [
    "df_strata.shape ## todas os estratos"
   ]
  },
  {
   "cell_type": "markdown",
   "metadata": {},
   "source": [
    "## Tratamento de dados"
   ]
  },
  {
   "cell_type": "markdown",
   "metadata": {},
   "source": [
    "### Gerando a coluna strata_id"
   ]
  },
  {
   "cell_type": "markdown",
   "metadata": {},
   "source": [
    "como os estrato id estao errados nos dados que tive acesso no mapbiomas, vou criar o estrato id com base no dado do estrato e da declividade"
   ]
  },
  {
   "cell_type": "code",
   "execution_count": 64,
   "metadata": {},
   "outputs": [],
   "source": [
    "df_acc['strata_id'] = df_acc[\"CARTA_2\"] + \"_\" + df_acc[\"DECLIVIDAD\"]"
   ]
  },
  {
   "cell_type": "markdown",
   "metadata": {},
   "source": [
    "verificando os estratos"
   ]
  },
  {
   "cell_type": "code",
   "execution_count": 65,
   "metadata": {},
   "outputs": [
    {
     "data": {
      "text/plain": [
       "array(['SA-23-Z_D2', 'SA-23-Z_D1', 'SA-23-Z_D3', 'SA-23-Z_D4',\n",
       "       'SA-23-Z_D6', 'SA-23-Z_D5'], dtype=object)"
      ]
     },
     "execution_count": 65,
     "metadata": {},
     "output_type": "execute_result"
    }
   ],
   "source": [
    "df_acc[\"strata_id\"].unique()"
   ]
  },
  {
   "cell_type": "markdown",
   "metadata": {},
   "source": [
    "### Pegando os dados dado da populacao"
   ]
  },
  {
   "cell_type": "code",
   "execution_count": 66,
   "metadata": {},
   "outputs": [
    {
     "data": {
      "text/html": [
       "<div>\n",
       "<style scoped>\n",
       "    .dataframe tbody tr th:only-of-type {\n",
       "        vertical-align: middle;\n",
       "    }\n",
       "\n",
       "    .dataframe tbody tr th {\n",
       "        vertical-align: top;\n",
       "    }\n",
       "\n",
       "    .dataframe thead th {\n",
       "        text-align: right;\n",
       "    }\n",
       "</style>\n",
       "<table border=\"1\" class=\"dataframe\">\n",
       "  <thead>\n",
       "    <tr style=\"text-align: right;\">\n",
       "      <th></th>\n",
       "      <th>system:index</th>\n",
       "      <th>AMOSTRAS</th>\n",
       "      <th>AMOSTRA_AM</th>\n",
       "      <th>BioNB</th>\n",
       "      <th>CARTA_2</th>\n",
       "      <th>CLASS_2022</th>\n",
       "      <th>DECLIVIDAD</th>\n",
       "      <th>LAT</th>\n",
       "      <th>LON</th>\n",
       "      <th>NEW_PROB</th>\n",
       "      <th>...</th>\n",
       "      <th>PROB_AMOS2</th>\n",
       "      <th>StateNB</th>\n",
       "      <th>TARGETID</th>\n",
       "      <th>VAL_PESO</th>\n",
       "      <th>classification</th>\n",
       "      <th>reference</th>\n",
       "      <th>year</th>\n",
       "      <th>.geo</th>\n",
       "      <th>strata_id</th>\n",
       "      <th>pop</th>\n",
       "    </tr>\n",
       "  </thead>\n",
       "  <tbody>\n",
       "    <tr>\n",
       "      <th>0</th>\n",
       "      <td>0000000000000000508d_0</td>\n",
       "      <td>NaN</td>\n",
       "      <td>0</td>\n",
       "      <td>1</td>\n",
       "      <td>SA-23-Z</td>\n",
       "      <td>APICUM</td>\n",
       "      <td>D2</td>\n",
       "      <td>-2.368226</td>\n",
       "      <td>-43.544883</td>\n",
       "      <td>0.000011</td>\n",
       "      <td>...</td>\n",
       "      <td>0.000014</td>\n",
       "      <td>21.0</td>\n",
       "      <td>12037</td>\n",
       "      <td>1.0</td>\n",
       "      <td>3</td>\n",
       "      <td>32</td>\n",
       "      <td>2022</td>\n",
       "      <td>{\"type\":\"MultiPoint\",\"coordinates\":[]}</td>\n",
       "      <td>SA-23-Z_D2</td>\n",
       "      <td>27861902.0</td>\n",
       "    </tr>\n",
       "    <tr>\n",
       "      <th>1</th>\n",
       "      <td>00000000000000004b0e_0</td>\n",
       "      <td>NaN</td>\n",
       "      <td>0</td>\n",
       "      <td>1</td>\n",
       "      <td>SA-23-Z</td>\n",
       "      <td>CAMPO ALAGADO E ÁREA PANTANOSA</td>\n",
       "      <td>D1</td>\n",
       "      <td>-3.951507</td>\n",
       "      <td>-44.961886</td>\n",
       "      <td>0.000012</td>\n",
       "      <td>...</td>\n",
       "      <td>0.000014</td>\n",
       "      <td>21.0</td>\n",
       "      <td>16624</td>\n",
       "      <td>1.0</td>\n",
       "      <td>11</td>\n",
       "      <td>11</td>\n",
       "      <td>2022</td>\n",
       "      <td>{\"type\":\"MultiPoint\",\"coordinates\":[]}</td>\n",
       "      <td>SA-23-Z_D1</td>\n",
       "      <td>25366123.0</td>\n",
       "    </tr>\n",
       "    <tr>\n",
       "      <th>2</th>\n",
       "      <td>00000000000000004b0f_0</td>\n",
       "      <td>NaN</td>\n",
       "      <td>0</td>\n",
       "      <td>1</td>\n",
       "      <td>SA-23-Z</td>\n",
       "      <td>CAMPO ALAGADO E ÁREA PANTANOSA</td>\n",
       "      <td>D1</td>\n",
       "      <td>-3.691714</td>\n",
       "      <td>-44.849776</td>\n",
       "      <td>0.000012</td>\n",
       "      <td>...</td>\n",
       "      <td>0.000014</td>\n",
       "      <td>21.0</td>\n",
       "      <td>16625</td>\n",
       "      <td>1.0</td>\n",
       "      <td>6</td>\n",
       "      <td>11</td>\n",
       "      <td>2022</td>\n",
       "      <td>{\"type\":\"MultiPoint\",\"coordinates\":[]}</td>\n",
       "      <td>SA-23-Z_D1</td>\n",
       "      <td>25366123.0</td>\n",
       "    </tr>\n",
       "    <tr>\n",
       "      <th>3</th>\n",
       "      <td>00000000000000004b1b_0</td>\n",
       "      <td>NaN</td>\n",
       "      <td>0</td>\n",
       "      <td>1</td>\n",
       "      <td>SA-23-Z</td>\n",
       "      <td>CAMPO ALAGADO E ÁREA PANTANOSA</td>\n",
       "      <td>D1</td>\n",
       "      <td>-2.823672</td>\n",
       "      <td>-44.723653</td>\n",
       "      <td>0.000012</td>\n",
       "      <td>...</td>\n",
       "      <td>0.000014</td>\n",
       "      <td>21.0</td>\n",
       "      <td>16656</td>\n",
       "      <td>1.0</td>\n",
       "      <td>11</td>\n",
       "      <td>11</td>\n",
       "      <td>2022</td>\n",
       "      <td>{\"type\":\"MultiPoint\",\"coordinates\":[]}</td>\n",
       "      <td>SA-23-Z_D1</td>\n",
       "      <td>25366123.0</td>\n",
       "    </tr>\n",
       "    <tr>\n",
       "      <th>4</th>\n",
       "      <td>00000000000000004b26_0</td>\n",
       "      <td>Treinamento</td>\n",
       "      <td>1</td>\n",
       "      <td>1</td>\n",
       "      <td>SA-23-Z</td>\n",
       "      <td>CAMPO ALAGADO E ÁREA PANTANOSA</td>\n",
       "      <td>D1</td>\n",
       "      <td>-3.720550</td>\n",
       "      <td>-44.673527</td>\n",
       "      <td>0.000012</td>\n",
       "      <td>...</td>\n",
       "      <td>0.000014</td>\n",
       "      <td>21.0</td>\n",
       "      <td>16694</td>\n",
       "      <td>1.0</td>\n",
       "      <td>6</td>\n",
       "      <td>11</td>\n",
       "      <td>2022</td>\n",
       "      <td>{\"type\":\"MultiPoint\",\"coordinates\":[]}</td>\n",
       "      <td>SA-23-Z_D1</td>\n",
       "      <td>25366123.0</td>\n",
       "    </tr>\n",
       "  </tbody>\n",
       "</table>\n",
       "<p>5 rows × 22 columns</p>\n",
       "</div>"
      ],
      "text/plain": [
       "             system:index     AMOSTRAS  AMOSTRA_AM  BioNB  CARTA_2  \\\n",
       "0  0000000000000000508d_0          NaN           0      1  SA-23-Z   \n",
       "1  00000000000000004b0e_0          NaN           0      1  SA-23-Z   \n",
       "2  00000000000000004b0f_0          NaN           0      1  SA-23-Z   \n",
       "3  00000000000000004b1b_0          NaN           0      1  SA-23-Z   \n",
       "4  00000000000000004b26_0  Treinamento           1      1  SA-23-Z   \n",
       "\n",
       "                       CLASS_2022 DECLIVIDAD       LAT        LON  NEW_PROB  \\\n",
       "0                          APICUM         D2 -2.368226 -43.544883  0.000011   \n",
       "1  CAMPO ALAGADO E ÁREA PANTANOSA         D1 -3.951507 -44.961886  0.000012   \n",
       "2  CAMPO ALAGADO E ÁREA PANTANOSA         D1 -3.691714 -44.849776  0.000012   \n",
       "3  CAMPO ALAGADO E ÁREA PANTANOSA         D1 -2.823672 -44.723653  0.000012   \n",
       "4  CAMPO ALAGADO E ÁREA PANTANOSA         D1 -3.720550 -44.673527  0.000012   \n",
       "\n",
       "   ...  PROB_AMOS2  StateNB  TARGETID  VAL_PESO  classification  reference  \\\n",
       "0  ...    0.000014     21.0     12037       1.0               3         32   \n",
       "1  ...    0.000014     21.0     16624       1.0              11         11   \n",
       "2  ...    0.000014     21.0     16625       1.0               6         11   \n",
       "3  ...    0.000014     21.0     16656       1.0              11         11   \n",
       "4  ...    0.000014     21.0     16694       1.0               6         11   \n",
       "\n",
       "   year                                    .geo   strata_id         pop  \n",
       "0  2022  {\"type\":\"MultiPoint\",\"coordinates\":[]}  SA-23-Z_D2  27861902.0  \n",
       "1  2022  {\"type\":\"MultiPoint\",\"coordinates\":[]}  SA-23-Z_D1  25366123.0  \n",
       "2  2022  {\"type\":\"MultiPoint\",\"coordinates\":[]}  SA-23-Z_D1  25366123.0  \n",
       "3  2022  {\"type\":\"MultiPoint\",\"coordinates\":[]}  SA-23-Z_D1  25366123.0  \n",
       "4  2022  {\"type\":\"MultiPoint\",\"coordinates\":[]}  SA-23-Z_D1  25366123.0  \n",
       "\n",
       "[5 rows x 22 columns]"
      ]
     },
     "execution_count": 66,
     "metadata": {},
     "output_type": "execute_result"
    }
   ],
   "source": [
    "df_acc = pd.merge(df_acc, df_strata, how='inner', on=\"strata_id\")\n",
    "df_acc.head()"
   ]
  },
  {
   "cell_type": "code",
   "execution_count": 67,
   "metadata": {},
   "outputs": [
    {
     "data": {
      "text/plain": [
       "0    27861902.0\n",
       "1    25366123.0\n",
       "2    25366123.0\n",
       "3    25366123.0\n",
       "4    25366123.0\n",
       "Name: pop, dtype: float64"
      ]
     },
     "execution_count": 67,
     "metadata": {},
     "output_type": "execute_result"
    }
   ],
   "source": [
    "df_acc['pop'].head()"
   ]
  },
  {
   "cell_type": "markdown",
   "metadata": {},
   "source": [
    "### Pegando a quantidade de amostras por estrato"
   ]
  },
  {
   "cell_type": "markdown",
   "metadata": {},
   "source": [
    "contar a quantidade de amostras por estrato"
   ]
  },
  {
   "cell_type": "code",
   "execution_count": 68,
   "metadata": {},
   "outputs": [
    {
     "data": {
      "text/plain": [
       "<Axes: ylabel='strata_id'>"
      ]
     },
     "execution_count": 68,
     "metadata": {},
     "output_type": "execute_result"
    },
    {
     "data": {
      "image/png": "[encoded data removed]",
      "text/plain": [
       "<Figure size 640x480 with 1 Axes>"
      ]
     },
     "metadata": {},
     "output_type": "display_data"
    }
   ],
   "source": [
    "df_acc['strata_id'].value_counts(normalize=True).plot(kind='barh')"
   ]
  },
  {
   "cell_type": "code",
   "execution_count": 69,
   "metadata": {},
   "outputs": [
    {
     "data": {
      "text/html": [
       "<div>\n",
       "<style scoped>\n",
       "    .dataframe tbody tr th:only-of-type {\n",
       "        vertical-align: middle;\n",
       "    }\n",
       "\n",
       "    .dataframe tbody tr th {\n",
       "        vertical-align: top;\n",
       "    }\n",
       "\n",
       "    .dataframe thead th {\n",
       "        text-align: right;\n",
       "    }\n",
       "</style>\n",
       "<table border=\"1\" class=\"dataframe\">\n",
       "  <thead>\n",
       "    <tr style=\"text-align: right;\">\n",
       "      <th></th>\n",
       "      <th>strata_id</th>\n",
       "      <th>n_samp</th>\n",
       "    </tr>\n",
       "  </thead>\n",
       "  <tbody>\n",
       "    <tr>\n",
       "      <th>0</th>\n",
       "      <td>SA-23-Z_D2</td>\n",
       "      <td>305</td>\n",
       "    </tr>\n",
       "    <tr>\n",
       "      <th>1</th>\n",
       "      <td>SA-23-Z_D1</td>\n",
       "      <td>303</td>\n",
       "    </tr>\n",
       "    <tr>\n",
       "      <th>2</th>\n",
       "      <td>SA-23-Z_D3</td>\n",
       "      <td>89</td>\n",
       "    </tr>\n",
       "    <tr>\n",
       "      <th>3</th>\n",
       "      <td>SA-23-Z_D4</td>\n",
       "      <td>13</td>\n",
       "    </tr>\n",
       "    <tr>\n",
       "      <th>4</th>\n",
       "      <td>SA-23-Z_D6</td>\n",
       "      <td>1</td>\n",
       "    </tr>\n",
       "    <tr>\n",
       "      <th>5</th>\n",
       "      <td>SA-23-Z_D5</td>\n",
       "      <td>1</td>\n",
       "    </tr>\n",
       "  </tbody>\n",
       "</table>\n",
       "</div>"
      ],
      "text/plain": [
       "    strata_id  n_samp\n",
       "0  SA-23-Z_D2     305\n",
       "1  SA-23-Z_D1     303\n",
       "2  SA-23-Z_D3      89\n",
       "3  SA-23-Z_D4      13\n",
       "4  SA-23-Z_D6       1\n",
       "5  SA-23-Z_D5       1"
      ]
     },
     "execution_count": 69,
     "metadata": {},
     "output_type": "execute_result"
    }
   ],
   "source": [
    "df_qt_samples = df_acc['strata_id'].value_counts().reset_index(name='n_samp')\n",
    "df_qt_samples"
   ]
  },
  {
   "cell_type": "code",
   "execution_count": 70,
   "metadata": {},
   "outputs": [
    {
     "data": {
      "text/plain": [
       "strata_id    SA-23-Z_D2SA-23-Z_D1SA-23-Z_D3SA-23-Z_D4SA-23-...\n",
       "n_samp                                                     712\n",
       "dtype: object"
      ]
     },
     "execution_count": 70,
     "metadata": {},
     "output_type": "execute_result"
    }
   ],
   "source": [
    "df_qt_samples.sum()"
   ]
  },
  {
   "cell_type": "markdown",
   "metadata": {},
   "source": [
    "depois plotar um mapa os pontos por estrato"
   ]
  },
  {
   "cell_type": "code",
   "execution_count": 71,
   "metadata": {},
   "outputs": [
    {
     "data": {
      "text/html": [
       "<div>\n",
       "<style scoped>\n",
       "    .dataframe tbody tr th:only-of-type {\n",
       "        vertical-align: middle;\n",
       "    }\n",
       "\n",
       "    .dataframe tbody tr th {\n",
       "        vertical-align: top;\n",
       "    }\n",
       "\n",
       "    .dataframe thead th {\n",
       "        text-align: right;\n",
       "    }\n",
       "</style>\n",
       "<table border=\"1\" class=\"dataframe\">\n",
       "  <thead>\n",
       "    <tr style=\"text-align: right;\">\n",
       "      <th></th>\n",
       "      <th>system:index</th>\n",
       "      <th>AMOSTRAS</th>\n",
       "      <th>AMOSTRA_AM</th>\n",
       "      <th>BioNB</th>\n",
       "      <th>CARTA_2</th>\n",
       "      <th>CLASS_2022</th>\n",
       "      <th>DECLIVIDAD</th>\n",
       "      <th>LAT</th>\n",
       "      <th>LON</th>\n",
       "      <th>NEW_PROB</th>\n",
       "      <th>...</th>\n",
       "      <th>StateNB</th>\n",
       "      <th>TARGETID</th>\n",
       "      <th>VAL_PESO</th>\n",
       "      <th>classification</th>\n",
       "      <th>reference</th>\n",
       "      <th>year</th>\n",
       "      <th>.geo</th>\n",
       "      <th>strata_id</th>\n",
       "      <th>pop</th>\n",
       "      <th>n_samp</th>\n",
       "    </tr>\n",
       "  </thead>\n",
       "  <tbody>\n",
       "    <tr>\n",
       "      <th>0</th>\n",
       "      <td>0000000000000000508d_0</td>\n",
       "      <td>NaN</td>\n",
       "      <td>0</td>\n",
       "      <td>1</td>\n",
       "      <td>SA-23-Z</td>\n",
       "      <td>APICUM</td>\n",
       "      <td>D2</td>\n",
       "      <td>-2.368226</td>\n",
       "      <td>-43.544883</td>\n",
       "      <td>0.000011</td>\n",
       "      <td>...</td>\n",
       "      <td>21.0</td>\n",
       "      <td>12037</td>\n",
       "      <td>1.0</td>\n",
       "      <td>3</td>\n",
       "      <td>32</td>\n",
       "      <td>2022</td>\n",
       "      <td>{\"type\":\"MultiPoint\",\"coordinates\":[]}</td>\n",
       "      <td>SA-23-Z_D2</td>\n",
       "      <td>27861902.0</td>\n",
       "      <td>305</td>\n",
       "    </tr>\n",
       "    <tr>\n",
       "      <th>1</th>\n",
       "      <td>00000000000000004b0e_0</td>\n",
       "      <td>NaN</td>\n",
       "      <td>0</td>\n",
       "      <td>1</td>\n",
       "      <td>SA-23-Z</td>\n",
       "      <td>CAMPO ALAGADO E ÁREA PANTANOSA</td>\n",
       "      <td>D1</td>\n",
       "      <td>-3.951507</td>\n",
       "      <td>-44.961886</td>\n",
       "      <td>0.000012</td>\n",
       "      <td>...</td>\n",
       "      <td>21.0</td>\n",
       "      <td>16624</td>\n",
       "      <td>1.0</td>\n",
       "      <td>11</td>\n",
       "      <td>11</td>\n",
       "      <td>2022</td>\n",
       "      <td>{\"type\":\"MultiPoint\",\"coordinates\":[]}</td>\n",
       "      <td>SA-23-Z_D1</td>\n",
       "      <td>25366123.0</td>\n",
       "      <td>303</td>\n",
       "    </tr>\n",
       "    <tr>\n",
       "      <th>2</th>\n",
       "      <td>00000000000000004b0f_0</td>\n",
       "      <td>NaN</td>\n",
       "      <td>0</td>\n",
       "      <td>1</td>\n",
       "      <td>SA-23-Z</td>\n",
       "      <td>CAMPO ALAGADO E ÁREA PANTANOSA</td>\n",
       "      <td>D1</td>\n",
       "      <td>-3.691714</td>\n",
       "      <td>-44.849776</td>\n",
       "      <td>0.000012</td>\n",
       "      <td>...</td>\n",
       "      <td>21.0</td>\n",
       "      <td>16625</td>\n",
       "      <td>1.0</td>\n",
       "      <td>6</td>\n",
       "      <td>11</td>\n",
       "      <td>2022</td>\n",
       "      <td>{\"type\":\"MultiPoint\",\"coordinates\":[]}</td>\n",
       "      <td>SA-23-Z_D1</td>\n",
       "      <td>25366123.0</td>\n",
       "      <td>303</td>\n",
       "    </tr>\n",
       "    <tr>\n",
       "      <th>3</th>\n",
       "      <td>00000000000000004b1b_0</td>\n",
       "      <td>NaN</td>\n",
       "      <td>0</td>\n",
       "      <td>1</td>\n",
       "      <td>SA-23-Z</td>\n",
       "      <td>CAMPO ALAGADO E ÁREA PANTANOSA</td>\n",
       "      <td>D1</td>\n",
       "      <td>-2.823672</td>\n",
       "      <td>-44.723653</td>\n",
       "      <td>0.000012</td>\n",
       "      <td>...</td>\n",
       "      <td>21.0</td>\n",
       "      <td>16656</td>\n",
       "      <td>1.0</td>\n",
       "      <td>11</td>\n",
       "      <td>11</td>\n",
       "      <td>2022</td>\n",
       "      <td>{\"type\":\"MultiPoint\",\"coordinates\":[]}</td>\n",
       "      <td>SA-23-Z_D1</td>\n",
       "      <td>25366123.0</td>\n",
       "      <td>303</td>\n",
       "    </tr>\n",
       "    <tr>\n",
       "      <th>4</th>\n",
       "      <td>00000000000000004b26_0</td>\n",
       "      <td>Treinamento</td>\n",
       "      <td>1</td>\n",
       "      <td>1</td>\n",
       "      <td>SA-23-Z</td>\n",
       "      <td>CAMPO ALAGADO E ÁREA PANTANOSA</td>\n",
       "      <td>D1</td>\n",
       "      <td>-3.720550</td>\n",
       "      <td>-44.673527</td>\n",
       "      <td>0.000012</td>\n",
       "      <td>...</td>\n",
       "      <td>21.0</td>\n",
       "      <td>16694</td>\n",
       "      <td>1.0</td>\n",
       "      <td>6</td>\n",
       "      <td>11</td>\n",
       "      <td>2022</td>\n",
       "      <td>{\"type\":\"MultiPoint\",\"coordinates\":[]}</td>\n",
       "      <td>SA-23-Z_D1</td>\n",
       "      <td>25366123.0</td>\n",
       "      <td>303</td>\n",
       "    </tr>\n",
       "  </tbody>\n",
       "</table>\n",
       "<p>5 rows × 23 columns</p>\n",
       "</div>"
      ],
      "text/plain": [
       "             system:index     AMOSTRAS  AMOSTRA_AM  BioNB  CARTA_2  \\\n",
       "0  0000000000000000508d_0          NaN           0      1  SA-23-Z   \n",
       "1  00000000000000004b0e_0          NaN           0      1  SA-23-Z   \n",
       "2  00000000000000004b0f_0          NaN           0      1  SA-23-Z   \n",
       "3  00000000000000004b1b_0          NaN           0      1  SA-23-Z   \n",
       "4  00000000000000004b26_0  Treinamento           1      1  SA-23-Z   \n",
       "\n",
       "                       CLASS_2022 DECLIVIDAD       LAT        LON  NEW_PROB  \\\n",
       "0                          APICUM         D2 -2.368226 -43.544883  0.000011   \n",
       "1  CAMPO ALAGADO E ÁREA PANTANOSA         D1 -3.951507 -44.961886  0.000012   \n",
       "2  CAMPO ALAGADO E ÁREA PANTANOSA         D1 -3.691714 -44.849776  0.000012   \n",
       "3  CAMPO ALAGADO E ÁREA PANTANOSA         D1 -2.823672 -44.723653  0.000012   \n",
       "4  CAMPO ALAGADO E ÁREA PANTANOSA         D1 -3.720550 -44.673527  0.000012   \n",
       "\n",
       "   ...  StateNB  TARGETID  VAL_PESO  classification  reference  year  \\\n",
       "0  ...     21.0     12037       1.0               3         32  2022   \n",
       "1  ...     21.0     16624       1.0              11         11  2022   \n",
       "2  ...     21.0     16625       1.0               6         11  2022   \n",
       "3  ...     21.0     16656       1.0              11         11  2022   \n",
       "4  ...     21.0     16694       1.0               6         11  2022   \n",
       "\n",
       "                                     .geo   strata_id         pop n_samp  \n",
       "0  {\"type\":\"MultiPoint\",\"coordinates\":[]}  SA-23-Z_D2  27861902.0    305  \n",
       "1  {\"type\":\"MultiPoint\",\"coordinates\":[]}  SA-23-Z_D1  25366123.0    303  \n",
       "2  {\"type\":\"MultiPoint\",\"coordinates\":[]}  SA-23-Z_D1  25366123.0    303  \n",
       "3  {\"type\":\"MultiPoint\",\"coordinates\":[]}  SA-23-Z_D1  25366123.0    303  \n",
       "4  {\"type\":\"MultiPoint\",\"coordinates\":[]}  SA-23-Z_D1  25366123.0    303  \n",
       "\n",
       "[5 rows x 23 columns]"
      ]
     },
     "execution_count": 71,
     "metadata": {},
     "output_type": "execute_result"
    }
   ],
   "source": [
    "df_acc = pd.merge(df_acc, df_qt_samples, on='strata_id')\n",
    "df_acc.head()"
   ]
  },
  {
   "cell_type": "markdown",
   "metadata": {},
   "source": [
    "verificar se esta ok numero de amostras e populacao"
   ]
  },
  {
   "cell_type": "code",
   "execution_count": 72,
   "metadata": {},
   "outputs": [
    {
     "data": {
      "text/plain": [
       "Index(['system:index', 'AMOSTRAS', 'AMOSTRA_AM', 'BioNB', 'CARTA_2',\n",
       "       'CLASS_2022', 'DECLIVIDAD', 'LAT', 'LON', 'NEW_PROB', 'NEW_WEIGHT',\n",
       "       'PESO_VOT', 'PROB_AMOS2', 'StateNB', 'TARGETID', 'VAL_PESO',\n",
       "       'classification', 'reference', 'year', '.geo', 'strata_id', 'pop',\n",
       "       'n_samp'],\n",
       "      dtype='object')"
      ]
     },
     "execution_count": 72,
     "metadata": {},
     "output_type": "execute_result"
    }
   ],
   "source": [
    "df_acc.columns"
   ]
  },
  {
   "cell_type": "code",
   "execution_count": 73,
   "metadata": {},
   "outputs": [
    {
     "data": {
      "text/html": [
       "<div>\n",
       "<style scoped>\n",
       "    .dataframe tbody tr th:only-of-type {\n",
       "        vertical-align: middle;\n",
       "    }\n",
       "\n",
       "    .dataframe tbody tr th {\n",
       "        vertical-align: top;\n",
       "    }\n",
       "\n",
       "    .dataframe thead th {\n",
       "        text-align: right;\n",
       "    }\n",
       "</style>\n",
       "<table border=\"1\" class=\"dataframe\">\n",
       "  <thead>\n",
       "    <tr style=\"text-align: right;\">\n",
       "      <th></th>\n",
       "      <th>n_samp</th>\n",
       "      <th>pop</th>\n",
       "      <th>PROB_AMOS2</th>\n",
       "    </tr>\n",
       "    <tr>\n",
       "      <th>strata_id</th>\n",
       "      <th></th>\n",
       "      <th></th>\n",
       "      <th></th>\n",
       "    </tr>\n",
       "  </thead>\n",
       "  <tbody>\n",
       "    <tr>\n",
       "      <th>SA-23-Z_D1</th>\n",
       "      <td>303</td>\n",
       "      <td>25366123.0</td>\n",
       "      <td>0.000014</td>\n",
       "    </tr>\n",
       "    <tr>\n",
       "      <th>SA-23-Z_D2</th>\n",
       "      <td>305</td>\n",
       "      <td>27861902.0</td>\n",
       "      <td>0.000014</td>\n",
       "    </tr>\n",
       "    <tr>\n",
       "      <th>SA-23-Z_D3</th>\n",
       "      <td>89</td>\n",
       "      <td>7842002.0</td>\n",
       "      <td>0.000014</td>\n",
       "    </tr>\n",
       "    <tr>\n",
       "      <th>SA-23-Z_D4</th>\n",
       "      <td>13</td>\n",
       "      <td>1111132.0</td>\n",
       "      <td>0.000014</td>\n",
       "    </tr>\n",
       "    <tr>\n",
       "      <th>SA-23-Z_D5</th>\n",
       "      <td>1</td>\n",
       "      <td>4130.0</td>\n",
       "      <td>0.000242</td>\n",
       "    </tr>\n",
       "    <tr>\n",
       "      <th>SA-23-Z_D6</th>\n",
       "      <td>1</td>\n",
       "      <td>2744.0</td>\n",
       "      <td>0.000364</td>\n",
       "    </tr>\n",
       "  </tbody>\n",
       "</table>\n",
       "</div>"
      ],
      "text/plain": [
       "            n_samp         pop  PROB_AMOS2\n",
       "strata_id                                 \n",
       "SA-23-Z_D1     303  25366123.0    0.000014\n",
       "SA-23-Z_D2     305  27861902.0    0.000014\n",
       "SA-23-Z_D3      89   7842002.0    0.000014\n",
       "SA-23-Z_D4      13   1111132.0    0.000014\n",
       "SA-23-Z_D5       1      4130.0    0.000242\n",
       "SA-23-Z_D6       1      2744.0    0.000364"
      ]
     },
     "execution_count": 73,
     "metadata": {},
     "output_type": "execute_result"
    }
   ],
   "source": [
    "df_contagem = df_acc.groupby(\"strata_id\")[['n_samp','pop', 'PROB_AMOS2']].first()\n",
    "df_contagem"
   ]
  },
  {
   "cell_type": "markdown",
   "metadata": {},
   "source": [
    "checando a probabilidade"
   ]
  },
  {
   "cell_type": "code",
   "execution_count": 74,
   "metadata": {},
   "outputs": [
    {
     "data": {
      "text/html": [
       "<div>\n",
       "<style scoped>\n",
       "    .dataframe tbody tr th:only-of-type {\n",
       "        vertical-align: middle;\n",
       "    }\n",
       "\n",
       "    .dataframe tbody tr th {\n",
       "        vertical-align: top;\n",
       "    }\n",
       "\n",
       "    .dataframe thead th {\n",
       "        text-align: right;\n",
       "    }\n",
       "</style>\n",
       "<table border=\"1\" class=\"dataframe\">\n",
       "  <thead>\n",
       "    <tr style=\"text-align: right;\">\n",
       "      <th></th>\n",
       "      <th>n_samp</th>\n",
       "      <th>pop</th>\n",
       "      <th>PROB_AMOS2</th>\n",
       "      <th>prob_calc</th>\n",
       "    </tr>\n",
       "    <tr>\n",
       "      <th>strata_id</th>\n",
       "      <th></th>\n",
       "      <th></th>\n",
       "      <th></th>\n",
       "      <th></th>\n",
       "    </tr>\n",
       "  </thead>\n",
       "  <tbody>\n",
       "    <tr>\n",
       "      <th>SA-23-Z_D1</th>\n",
       "      <td>303</td>\n",
       "      <td>25366123.0</td>\n",
       "      <td>0.000014</td>\n",
       "      <td>0.000012</td>\n",
       "    </tr>\n",
       "    <tr>\n",
       "      <th>SA-23-Z_D2</th>\n",
       "      <td>305</td>\n",
       "      <td>27861902.0</td>\n",
       "      <td>0.000014</td>\n",
       "      <td>0.000011</td>\n",
       "    </tr>\n",
       "    <tr>\n",
       "      <th>SA-23-Z_D3</th>\n",
       "      <td>89</td>\n",
       "      <td>7842002.0</td>\n",
       "      <td>0.000014</td>\n",
       "      <td>0.000011</td>\n",
       "    </tr>\n",
       "    <tr>\n",
       "      <th>SA-23-Z_D4</th>\n",
       "      <td>13</td>\n",
       "      <td>1111132.0</td>\n",
       "      <td>0.000014</td>\n",
       "      <td>0.000012</td>\n",
       "    </tr>\n",
       "    <tr>\n",
       "      <th>SA-23-Z_D5</th>\n",
       "      <td>1</td>\n",
       "      <td>4130.0</td>\n",
       "      <td>0.000242</td>\n",
       "      <td>0.000242</td>\n",
       "    </tr>\n",
       "    <tr>\n",
       "      <th>SA-23-Z_D6</th>\n",
       "      <td>1</td>\n",
       "      <td>2744.0</td>\n",
       "      <td>0.000364</td>\n",
       "      <td>0.000364</td>\n",
       "    </tr>\n",
       "  </tbody>\n",
       "</table>\n",
       "</div>"
      ],
      "text/plain": [
       "            n_samp         pop  PROB_AMOS2  prob_calc\n",
       "strata_id                                            \n",
       "SA-23-Z_D1     303  25366123.0    0.000014   0.000012\n",
       "SA-23-Z_D2     305  27861902.0    0.000014   0.000011\n",
       "SA-23-Z_D3      89   7842002.0    0.000014   0.000011\n",
       "SA-23-Z_D4      13   1111132.0    0.000014   0.000012\n",
       "SA-23-Z_D5       1      4130.0    0.000242   0.000242\n",
       "SA-23-Z_D6       1      2744.0    0.000364   0.000364"
      ]
     },
     "execution_count": 74,
     "metadata": {},
     "output_type": "execute_result"
    }
   ],
   "source": [
    "df_contagem[\"prob_calc\"] = df_contagem['n_samp'] / df_contagem['pop']\n",
    "df_contagem"
   ]
  },
  {
   "cell_type": "code",
   "execution_count": 75,
   "metadata": {},
   "outputs": [
    {
     "data": {
      "text/plain": [
       "n_samp        7.120000e+02\n",
       "pop           6.218803e+07\n",
       "PROB_AMOS2    6.632598e-04\n",
       "prob_calc     6.525031e-04\n",
       "dtype: float64"
      ]
     },
     "execution_count": 75,
     "metadata": {},
     "output_type": "execute_result"
    }
   ],
   "source": [
    "df_contagem.sum()"
   ]
  },
  {
   "cell_type": "markdown",
   "metadata": {},
   "source": [
    "### Calculo da probabilidade"
   ]
  },
  {
   "cell_type": "markdown",
   "metadata": {},
   "source": [
    "a probabilidade, que é a quantidade de amostras sobre a populacão, e esta salva com ajustes de acordo com o voto em peso_voto"
   ]
  },
  {
   "cell_type": "markdown",
   "metadata": {},
   "source": [
    "ver os valores antes desse ajuste"
   ]
  },
  {
   "cell_type": "code",
   "execution_count": 76,
   "metadata": {},
   "outputs": [
    {
     "data": {
      "text/plain": [
       "count    712.000000\n",
       "mean       0.000008\n",
       "std        0.000008\n",
       "min        0.000005\n",
       "25%        0.000005\n",
       "50%        0.000007\n",
       "75%        0.000007\n",
       "max        0.000182\n",
       "Name: PESO_VOT, dtype: float64"
      ]
     },
     "execution_count": 76,
     "metadata": {},
     "output_type": "execute_result"
    }
   ],
   "source": [
    "df_acc['PESO_VOT'].describe()"
   ]
  },
  {
   "cell_type": "code",
   "execution_count": 77,
   "metadata": {},
   "outputs": [
    {
     "data": {
      "text/plain": [
       "array([1, 4])"
      ]
     },
     "execution_count": 77,
     "metadata": {},
     "output_type": "execute_result"
    }
   ],
   "source": [
    "biomes = df_acc['BioNB'].unique()\n",
    "biomes"
   ]
  },
  {
   "cell_type": "markdown",
   "metadata": {},
   "source": [
    "acho que é feito por biomas, pq em alguns biomas eles usam dados da validacao no treinamento"
   ]
  },
  {
   "cell_type": "markdown",
   "metadata": {},
   "source": [
    "aqui eu corrigi o codigo que estava em  https://github.com/mapbiomas-brazil/accuraccy/blob/mapbiomas80/src/estimates_codes/2_accuracy_estimates.py, para de fato excluir as amostras que foram usadas no treinamento. La nao esta excluindo por erro de digitacao, 'treinamento'"
   ]
  },
  {
   "cell_type": "code",
   "execution_count": 78,
   "metadata": {},
   "outputs": [
    {
     "name": "stdout",
     "output_type": "stream",
     "text": [
      "biome 1\n",
      "amostras sem treinamento 181 amostras com treinamento 247\n",
      "biome 4\n",
      "amostras sem treinamento 449 amostras com treinamento 465\n"
     ]
    }
   ],
   "source": [
    "for biome in biomes:\n",
    "        print (\"biome\", biome)\n",
    "        biome_filter = (df_acc['BioNB'] == biome)\n",
    "        n_samples, _ = df_acc[biome_filter & (df_acc['AMOSTRAS'] != 'Treinamento')].shape\n",
    "        t_samples, _ = df_acc[biome_filter].shape\n",
    "        print (\"amostras sem treinamento\", n_samples, \"amostras com treinamento\", t_samples)\n",
    "        prob_biome_adjs = n_samples / t_samples\n",
    "        df_acc.loc[biome_filter, 'PESO_VOT'] = df_acc[biome_filter]['PESO_VOT'] * prob_biome_adjs"
   ]
  },
  {
   "cell_type": "code",
   "execution_count": 79,
   "metadata": {},
   "outputs": [
    {
     "data": {
      "text/plain": [
       "count    712.000000\n",
       "mean       0.000007\n",
       "std        0.000006\n",
       "min        0.000003\n",
       "25%        0.000005\n",
       "50%        0.000005\n",
       "75%        0.000007\n",
       "max        0.000134\n",
       "Name: PESO_VOT, dtype: float64"
      ]
     },
     "execution_count": 79,
     "metadata": {},
     "output_type": "execute_result"
    }
   ],
   "source": [
    "df_acc['PESO_VOT'].describe()"
   ]
  },
  {
   "cell_type": "markdown",
   "metadata": {},
   "source": [
    "### Atualiza o nome dos biomas, para texto"
   ]
  },
  {
   "cell_type": "code",
   "execution_count": 80,
   "metadata": {},
   "outputs": [
    {
     "name": "stderr",
     "output_type": "stream",
     "text": [
      "/tmp/ipykernel_620918/3599183855.py:1: FutureWarning: Setting an item of incompatible dtype is deprecated and will raise an error in a future version of pandas. Value 'Amazônia' has dtype incompatible with int64, please explicitly cast to a compatible dtype first.\n",
      "  df_acc.loc[ (df_acc['BioNB']==1),'BioNB'] = 'Amazônia'\n"
     ]
    }
   ],
   "source": [
    "df_acc.loc[ (df_acc['BioNB']==1),'BioNB'] = 'Amazônia'\n",
    "df_acc.loc[ (df_acc['BioNB']==2),'BioNB'] = 'Mata Atlântica'\n",
    "df_acc.loc[ (df_acc['BioNB']==3),'BioNB'] = 'Pantanal'\n",
    "df_acc.loc[ (df_acc['BioNB']==4),'BioNB'] = 'Cerrado'\n",
    "df_acc.loc[ (df_acc['BioNB']==5),'BioNB'] = 'Caatinga'\n",
    "df_acc.loc[ (df_acc['BioNB']==6),'BioNB'] = 'Pampa'"
   ]
  },
  {
   "cell_type": "code",
   "execution_count": 81,
   "metadata": {},
   "outputs": [
    {
     "data": {
      "text/plain": [
       "array(['Amazônia', 'Cerrado'], dtype=object)"
      ]
     },
     "execution_count": 81,
     "metadata": {},
     "output_type": "execute_result"
    }
   ],
   "source": [
    "df_acc['BioNB'].unique()"
   ]
  },
  {
   "cell_type": "markdown",
   "metadata": {},
   "source": [
    "### Atualizando os codigos das classes de acordo com o nivel, e outros ajustes"
   ]
  },
  {
   "cell_type": "markdown",
   "metadata": {},
   "source": [
    "#### Converte codigos das classe"
   ]
  },
  {
   "cell_type": "code",
   "execution_count": 82,
   "metadata": {},
   "outputs": [
    {
     "data": {
      "text/plain": [
       "classification\n",
       "3     290\n",
       "4     104\n",
       "5      32\n",
       "6      29\n",
       "9       3\n",
       "11     61\n",
       "12     10\n",
       "15     92\n",
       "21     18\n",
       "23     14\n",
       "24     10\n",
       "25      5\n",
       "32      5\n",
       "33     26\n",
       "39     12\n",
       "41      1\n",
       "Name: count, dtype: int64"
      ]
     },
     "execution_count": 82,
     "metadata": {},
     "output_type": "execute_result"
    }
   ],
   "source": [
    "df_acc['classification'].value_counts().sort_index()"
   ]
  },
  {
   "cell_type": "code",
   "execution_count": 83,
   "metadata": {},
   "outputs": [
    {
     "data": {
      "text/plain": [
       "reference\n",
       "3     300\n",
       "4     117\n",
       "5      17\n",
       "9       4\n",
       "11     59\n",
       "12     22\n",
       "15    115\n",
       "19     14\n",
       "23     18\n",
       "24     10\n",
       "25      1\n",
       "32      3\n",
       "33     20\n",
       "50     12\n",
       "Name: count, dtype: int64"
      ]
     },
     "execution_count": 83,
     "metadata": {},
     "output_type": "execute_result"
    }
   ],
   "source": [
    "df_acc['reference'].value_counts().sort_index()"
   ]
  },
  {
   "cell_type": "markdown",
   "metadata": {},
   "source": [
    "Observando a classificacao e a reference, observamos algumas classes que aparece em uma e nao na outra, porém a funcao de convert_class corrige algumas, provavelmente pq mudaram se os codigos de algumas destas. pesquisar melhor\n",
    "\n",
    "\n",
    "classificacao\n",
    "\n",
    "6 - Floresta Alagável (nivel 2)\n",
    "\n",
    "21 - mosaico de usos (nivel 2)\n",
    "\n",
    "39 - Soja (nivel 3)\n",
    "\n",
    "41 - Outras Lavouras Temporárias (nivel 3)\n",
    "\n",
    "reference\n",
    "\n",
    "19 - Lavoura Temporária (nivel 3)\n",
    "\n",
    "50 - Restinga Herbácea"
   ]
  },
  {
   "cell_type": "code",
   "execution_count": 84,
   "metadata": {},
   "outputs": [],
   "source": [
    "def convert_class(df):\n",
    "\n",
    "    #Global\n",
    "\n",
    "    df.loc[ (df['classification'] == 20) | (df['classification'] == 39) | (df['classification'] == 40) | (df['classification'] == 41) | (df['classification'] == 62), 'classification'] = 19 #Convert areas mapped as 20,39,40,41 to 19\n",
    "    df.loc[ (df['classification'] == 46) | (df['classification'] == 47) | (df['classification'] == 48), 'classification'] = 36 #Convert areas mapped as 46,47,48 to 36\n",
    "    df.loc[ (df['classification'] == 51) | (df['classification'] == 52) | (df['classification'] == 53), 'classification'] = 24 #Convert areas mapped as 20,39,41 to 24\n",
    "    df.loc[ (df['classification'] == 49), 'classification'] = 3 #Convert areas mapped as 54,55,56 to 33\n",
    "    df.loc[ (df['classification'] == 50), 'classification'] = 13 #Convert areas mapped as 54,55,56 to 33\n",
    "    df.loc[ (df['classification'] == 54) | (df['classification'] == 55) | (df['classification'] == 56), 'classification'] = 33 #Convert areas mapped as 54,55,56 to 33\n",
    "    df.loc[ (df['classification'] == 21) & (df['reference'].isin([15,19,20,36])), 'reference'] = 21 #Convert reference from 15,19,20,36 to reference 21 for areas mapped as 21\n",
    "    df.loc[ (df['classification'] == 63), 'classification'] = 33    \n",
    "\n",
    "    #Pampa \n",
    "\n",
    "    df.loc[ (df['BioNB']== 'Pampa') & (df['reference'] == 15),'reference'] = 19 #In Pampa, convert reference class 15 to 19 (Crop).\n",
    "    df.loc[ (df['BioNB']=='Pampa') & (df['classification'] == 25) & (df['reference'] == 23), 'reference'] = 25 #In Pampa, convert reference 25 to 23 in areas mapped as 25\n",
    "    df.loc[ (df['BioNB']== 'Pampa') & (df['classification'] == 12) & (df['reference'] == 13),'reference'] = 12 #In Pampa, convert reference 13 to 12 in areas mapped as 12\n",
    "    df.loc[ (df['BioNB']== 'Pampa') & (df['classification'] == 13),'classification'] = 12 #In Pampa, convert reference 13 to 12 in areas mapped as 12\n",
    "\n",
    "    #Mata Atântica\n",
    "\n",
    "    df.loc[ (df['BioNB']== 'Mata Atlântica') & (df['classification'] == 11) & (df['reference'] == 13),'reference'] = 11\n",
    "\n",
    "    #Pantanal\n",
    "\n",
    "    df.loc[ (df['BioNB']== 'Pantanal') & (df['classification'] == 11) & (df['reference'] == 12),'reference'] = 11 #In Pantanal, convert reference 12 to 11 in areas mapped as 11\n",
    "    df.loc[ (df['BioNB']== 'Pantanal') & (df['classification'] == 11) & (df['reference'] == 33),'reference'] = 11 #In Pantanal, convert reference 33 to 11 in areas mapped as 11\n",
    "    df.loc[ (df['BioNB']== 'Pantanal') & (df['classification'] == 12) & (df['reference'] == 33),'reference'] = 12 #In Pantanal, convert reference 33 to 12 in areas mapped as 12\n",
    "    df.loc[ (df['BioNB']== 'Pantanal') & (df['classification'] == 12) & (df['reference'] == 11),'reference'] = 12 #NEW!#In Pantanal, convert reference 33 to 12 in areas mapped as 12\n",
    "    df.loc[ (df['BioNB']== 'Pantanal') & (df['classification'] == 33) & (df['reference'] == 11),'classification'] = 11 #In Pantanal, convert reference 33 to 11 in areas mapped as 11\n",
    "    df.loc[ (df['BioNB']== 'Pantanal') & (df['classification'] == 33) & (df['reference'] == 12),'classification'] = 12 #In Pantanal, convert reference 33 to 12 in areas mapped as 12\n",
    "\n",
    "    #Amazônia\n",
    "\n",
    "    df.loc[ (df['BioNB']=='Amazônia') & (df['classification'] == 12) & (df['reference'] == 13), 'reference'] = 12 #In Amazon, convert reference 13 to 12 in areas mapped as 12\n",
    "    df.loc[ (df['BioNB']=='Amazônia') & (df['classification'] == 4) & (df['reference'] == 13), 'reference'] = 4 #In Amazon, convert reference 13 to 4 in areas mapped as 4\n",
    "\n",
    "    #Cerrado\n",
    "\n",
    "    df.loc[ (df['BioNB']=='Cerrado') & (df['reference'] == 11),'reference'] = 12\n",
    "    df.loc[ (df['BioNB']=='Cerrado') & (df['classification'] == 11),'classification'] = 12 \n",
    "    df.loc[ (df['BioNB']=='Cerrado') & (df['classification'] == 12)  & (df['reference'] == 13), 'reference'] = 12 #In Cerrado, convert reference 13 to 12 in areas mapped as 12\n",
    "    df.loc[ (df['BioNB']=='Cerrado') & (df['classification'] == 25) & (df['reference'] == 23), 'reference'] = 25 #In Cerrado, convert reference 25 to 23 in areas mapped as 25\n",
    "\n",
    "    return df"
   ]
  },
  {
   "cell_type": "code",
   "execution_count": 85,
   "metadata": {},
   "outputs": [],
   "source": [
    "df_acc = convert_class(df_acc)"
   ]
  },
  {
   "cell_type": "code",
   "execution_count": 86,
   "metadata": {},
   "outputs": [
    {
     "data": {
      "text/plain": [
       "classification\n",
       "3     290\n",
       "4     104\n",
       "5      32\n",
       "6      29\n",
       "9       3\n",
       "11     59\n",
       "12     12\n",
       "15     92\n",
       "19     13\n",
       "21     18\n",
       "23     14\n",
       "24     10\n",
       "25      5\n",
       "32      5\n",
       "33     26\n",
       "Name: count, dtype: int64"
      ]
     },
     "execution_count": 86,
     "metadata": {},
     "output_type": "execute_result"
    }
   ],
   "source": [
    "df_acc['classification'].value_counts().sort_index()"
   ]
  },
  {
   "cell_type": "code",
   "execution_count": 87,
   "metadata": {},
   "outputs": [
    {
     "data": {
      "text/plain": [
       "reference\n",
       "3     300\n",
       "4     117\n",
       "5      17\n",
       "9       4\n",
       "11     55\n",
       "12     26\n",
       "15    106\n",
       "19     13\n",
       "21     10\n",
       "23     14\n",
       "24     10\n",
       "25      5\n",
       "32      3\n",
       "33     20\n",
       "50     12\n",
       "Name: count, dtype: int64"
      ]
     },
     "execution_count": 87,
     "metadata": {},
     "output_type": "execute_result"
    }
   ],
   "source": [
    "df_acc['reference'].value_counts().sort_index()"
   ]
  },
  {
   "cell_type": "markdown",
   "metadata": {},
   "source": [
    "Observando a classificacao e a reference, observamos algumas classes que aparece em uma e nao na outra:\n",
    "\n",
    "- 50 - Restinga Herbácea aparece apenas na referencia\n",
    "- 6 - Floresta Alagável aparece apenas na classificacao"
   ]
  },
  {
   "cell_type": "markdown",
   "metadata": {},
   "source": [
    "#### Atualizando os codigo por nível"
   ]
  },
  {
   "cell_type": "markdown",
   "metadata": {},
   "source": [
    "mudei o codigo original, agora eu pego todas as classes, nao apenas as que aparece em ambos"
   ]
  },
  {
   "cell_type": "code",
   "execution_count": 88,
   "metadata": {},
   "outputs": [],
   "source": [
    "def get_classes(df3, config_classes, level='l3'):\n",
    "    #print (\"ok\")\n",
    "    \n",
    "    df = df3.copy(deep=True)\n",
    "\n",
    "    class_values = {}\n",
    "    class_names = {}\n",
    "\n",
    "    all_classes = config_classes['ALL_CLASSES']\n",
    "    ignored_classes = config_classes['IGNORED_CLASSES']\n",
    "\n",
    "\n",
    "    clas_classes = pd.Index(df['classification'].unique())\n",
    "    ref_classes = pd.Index(df['reference'].unique())\n",
    "    print ('clas_classes quant', len(clas_classes))\n",
    "    print ('refclass quant', len(clas_classes))\n",
    "    \n",
    "    # acho errado isso, eles estao removendo informações\n",
    "    #acc_classes =clas_classes.intersection(ref_classes)\n",
    "    acc_classes =clas_classes.union(ref_classes)\n",
    "    \n",
    "    print (\"union\", acc_classes)\n",
    "    print (\"difference\",clas_classes.difference(ref_classes))\n",
    "    print (\"difference\",ref_classes.difference(clas_classes))\n",
    "\n",
    "    val_remap = {}\n",
    "\n",
    "    for value_str in all_classes.keys():\n",
    "        value = int(value_str) # dado que estou usando um arquivo json\n",
    "\n",
    "        '''\n",
    "        classes removidas\n",
    "        31 - Aquicultura\n",
    "        32 - Apicum\n",
    "        30 - Mineração\n",
    "        25 - Outras Áreas não Vegetadas\n",
    "        23 - Praia, Duna e Areal \n",
    "        5 - Mangue\n",
    "        29 - Afloramento Rochoso\n",
    "\n",
    "        '''\n",
    "        if (value not in ignored_classes and (value in acc_classes)):\n",
    "            \n",
    "            val_key = \"%s_val\" % (level)\n",
    "            new_val = all_classes[value_str][val_key]\n",
    "            class_name = all_classes[value_str][level]\n",
    "\n",
    "            val_remap[value] = new_val\n",
    "            class_values[new_val] = True\n",
    "            class_names[class_name] = True\n",
    "\n",
    "    #print (val_remap.keys())\n",
    "    #print (\"size 1\", df.shape)\n",
    "    df = df[df['classification'].isin(val_remap.keys())]\n",
    "    #print (\"size 2\", df.shape)\n",
    "    df = df[df['reference'].isin(val_remap.keys())]\n",
    "    print (\"final size\", df.shape)\n",
    "\n",
    "    df['classification'] = df['classification'].map(val_remap)\n",
    "    df['reference'] = df['reference'].map(val_remap)\n",
    "\n",
    "    class_values = list(class_values.keys())\n",
    "    class_names = list(class_names.keys())\n",
    "\n",
    "    return df, class_values, class_names\n"
   ]
  },
  {
   "cell_type": "code",
   "execution_count": 89,
   "metadata": {},
   "outputs": [
    {
     "data": {
      "text/plain": [
       "[0]"
      ]
     },
     "execution_count": 89,
     "metadata": {},
     "output_type": "execute_result"
    }
   ],
   "source": [
    "config_classes['IGNORED_CLASSES']"
   ]
  },
  {
   "cell_type": "code",
   "execution_count": 90,
   "metadata": {},
   "outputs": [
    {
     "name": "stdout",
     "output_type": "stream",
     "text": [
      "clas_classes quant 15\n",
      "refclass quant 15\n",
      "union Index([3, 4, 5, 6, 9, 11, 12, 15, 19, 21, 23, 24, 25, 32, 33, 50], dtype='int64')\n",
      "difference Index([6], dtype='int64')\n",
      "difference Index([50], dtype='int64')\n",
      "final size (712, 23)\n"
     ]
    },
    {
     "data": {
      "text/html": [
       "<div>\n",
       "<style scoped>\n",
       "    .dataframe tbody tr th:only-of-type {\n",
       "        vertical-align: middle;\n",
       "    }\n",
       "\n",
       "    .dataframe tbody tr th {\n",
       "        vertical-align: top;\n",
       "    }\n",
       "\n",
       "    .dataframe thead th {\n",
       "        text-align: right;\n",
       "    }\n",
       "</style>\n",
       "<table border=\"1\" class=\"dataframe\">\n",
       "  <thead>\n",
       "    <tr style=\"text-align: right;\">\n",
       "      <th></th>\n",
       "      <th>system:index</th>\n",
       "      <th>AMOSTRAS</th>\n",
       "      <th>AMOSTRA_AM</th>\n",
       "      <th>BioNB</th>\n",
       "      <th>CARTA_2</th>\n",
       "      <th>CLASS_2022</th>\n",
       "      <th>DECLIVIDAD</th>\n",
       "      <th>LAT</th>\n",
       "      <th>LON</th>\n",
       "      <th>NEW_PROB</th>\n",
       "      <th>...</th>\n",
       "      <th>StateNB</th>\n",
       "      <th>TARGETID</th>\n",
       "      <th>VAL_PESO</th>\n",
       "      <th>classification</th>\n",
       "      <th>reference</th>\n",
       "      <th>year</th>\n",
       "      <th>.geo</th>\n",
       "      <th>strata_id</th>\n",
       "      <th>pop</th>\n",
       "      <th>n_samp</th>\n",
       "    </tr>\n",
       "  </thead>\n",
       "  <tbody>\n",
       "    <tr>\n",
       "      <th>0</th>\n",
       "      <td>0000000000000000508d_0</td>\n",
       "      <td>NaN</td>\n",
       "      <td>0</td>\n",
       "      <td>Amazônia</td>\n",
       "      <td>SA-23-Z</td>\n",
       "      <td>APICUM</td>\n",
       "      <td>D2</td>\n",
       "      <td>-2.368226</td>\n",
       "      <td>-43.544883</td>\n",
       "      <td>0.000011</td>\n",
       "      <td>...</td>\n",
       "      <td>21.0</td>\n",
       "      <td>12037</td>\n",
       "      <td>1.0</td>\n",
       "      <td>3</td>\n",
       "      <td>32</td>\n",
       "      <td>2022</td>\n",
       "      <td>{\"type\":\"MultiPoint\",\"coordinates\":[]}</td>\n",
       "      <td>SA-23-Z_D2</td>\n",
       "      <td>27861902.0</td>\n",
       "      <td>305</td>\n",
       "    </tr>\n",
       "    <tr>\n",
       "      <th>1</th>\n",
       "      <td>00000000000000004b0e_0</td>\n",
       "      <td>NaN</td>\n",
       "      <td>0</td>\n",
       "      <td>Amazônia</td>\n",
       "      <td>SA-23-Z</td>\n",
       "      <td>CAMPO ALAGADO E ÁREA PANTANOSA</td>\n",
       "      <td>D1</td>\n",
       "      <td>-3.951507</td>\n",
       "      <td>-44.961886</td>\n",
       "      <td>0.000012</td>\n",
       "      <td>...</td>\n",
       "      <td>21.0</td>\n",
       "      <td>16624</td>\n",
       "      <td>1.0</td>\n",
       "      <td>11</td>\n",
       "      <td>11</td>\n",
       "      <td>2022</td>\n",
       "      <td>{\"type\":\"MultiPoint\",\"coordinates\":[]}</td>\n",
       "      <td>SA-23-Z_D1</td>\n",
       "      <td>25366123.0</td>\n",
       "      <td>303</td>\n",
       "    </tr>\n",
       "    <tr>\n",
       "      <th>2</th>\n",
       "      <td>00000000000000004b0f_0</td>\n",
       "      <td>NaN</td>\n",
       "      <td>0</td>\n",
       "      <td>Amazônia</td>\n",
       "      <td>SA-23-Z</td>\n",
       "      <td>CAMPO ALAGADO E ÁREA PANTANOSA</td>\n",
       "      <td>D1</td>\n",
       "      <td>-3.691714</td>\n",
       "      <td>-44.849776</td>\n",
       "      <td>0.000012</td>\n",
       "      <td>...</td>\n",
       "      <td>21.0</td>\n",
       "      <td>16625</td>\n",
       "      <td>1.0</td>\n",
       "      <td>6</td>\n",
       "      <td>11</td>\n",
       "      <td>2022</td>\n",
       "      <td>{\"type\":\"MultiPoint\",\"coordinates\":[]}</td>\n",
       "      <td>SA-23-Z_D1</td>\n",
       "      <td>25366123.0</td>\n",
       "      <td>303</td>\n",
       "    </tr>\n",
       "    <tr>\n",
       "      <th>3</th>\n",
       "      <td>00000000000000004b1b_0</td>\n",
       "      <td>NaN</td>\n",
       "      <td>0</td>\n",
       "      <td>Amazônia</td>\n",
       "      <td>SA-23-Z</td>\n",
       "      <td>CAMPO ALAGADO E ÁREA PANTANOSA</td>\n",
       "      <td>D1</td>\n",
       "      <td>-2.823672</td>\n",
       "      <td>-44.723653</td>\n",
       "      <td>0.000012</td>\n",
       "      <td>...</td>\n",
       "      <td>21.0</td>\n",
       "      <td>16656</td>\n",
       "      <td>1.0</td>\n",
       "      <td>11</td>\n",
       "      <td>11</td>\n",
       "      <td>2022</td>\n",
       "      <td>{\"type\":\"MultiPoint\",\"coordinates\":[]}</td>\n",
       "      <td>SA-23-Z_D1</td>\n",
       "      <td>25366123.0</td>\n",
       "      <td>303</td>\n",
       "    </tr>\n",
       "    <tr>\n",
       "      <th>4</th>\n",
       "      <td>00000000000000004b26_0</td>\n",
       "      <td>Treinamento</td>\n",
       "      <td>1</td>\n",
       "      <td>Amazônia</td>\n",
       "      <td>SA-23-Z</td>\n",
       "      <td>CAMPO ALAGADO E ÁREA PANTANOSA</td>\n",
       "      <td>D1</td>\n",
       "      <td>-3.720550</td>\n",
       "      <td>-44.673527</td>\n",
       "      <td>0.000012</td>\n",
       "      <td>...</td>\n",
       "      <td>21.0</td>\n",
       "      <td>16694</td>\n",
       "      <td>1.0</td>\n",
       "      <td>6</td>\n",
       "      <td>11</td>\n",
       "      <td>2022</td>\n",
       "      <td>{\"type\":\"MultiPoint\",\"coordinates\":[]}</td>\n",
       "      <td>SA-23-Z_D1</td>\n",
       "      <td>25366123.0</td>\n",
       "      <td>303</td>\n",
       "    </tr>\n",
       "  </tbody>\n",
       "</table>\n",
       "<p>5 rows × 23 columns</p>\n",
       "</div>"
      ],
      "text/plain": [
       "             system:index     AMOSTRAS  AMOSTRA_AM     BioNB  CARTA_2  \\\n",
       "0  0000000000000000508d_0          NaN           0  Amazônia  SA-23-Z   \n",
       "1  00000000000000004b0e_0          NaN           0  Amazônia  SA-23-Z   \n",
       "2  00000000000000004b0f_0          NaN           0  Amazônia  SA-23-Z   \n",
       "3  00000000000000004b1b_0          NaN           0  Amazônia  SA-23-Z   \n",
       "4  00000000000000004b26_0  Treinamento           1  Amazônia  SA-23-Z   \n",
       "\n",
       "                       CLASS_2022 DECLIVIDAD       LAT        LON  NEW_PROB  \\\n",
       "0                          APICUM         D2 -2.368226 -43.544883  0.000011   \n",
       "1  CAMPO ALAGADO E ÁREA PANTANOSA         D1 -3.951507 -44.961886  0.000012   \n",
       "2  CAMPO ALAGADO E ÁREA PANTANOSA         D1 -3.691714 -44.849776  0.000012   \n",
       "3  CAMPO ALAGADO E ÁREA PANTANOSA         D1 -2.823672 -44.723653  0.000012   \n",
       "4  CAMPO ALAGADO E ÁREA PANTANOSA         D1 -3.720550 -44.673527  0.000012   \n",
       "\n",
       "   ...  StateNB  TARGETID  VAL_PESO  classification  reference  year  \\\n",
       "0  ...     21.0     12037       1.0               3         32  2022   \n",
       "1  ...     21.0     16624       1.0              11         11  2022   \n",
       "2  ...     21.0     16625       1.0               6         11  2022   \n",
       "3  ...     21.0     16656       1.0              11         11  2022   \n",
       "4  ...     21.0     16694       1.0               6         11  2022   \n",
       "\n",
       "                                     .geo   strata_id         pop n_samp  \n",
       "0  {\"type\":\"MultiPoint\",\"coordinates\":[]}  SA-23-Z_D2  27861902.0    305  \n",
       "1  {\"type\":\"MultiPoint\",\"coordinates\":[]}  SA-23-Z_D1  25366123.0    303  \n",
       "2  {\"type\":\"MultiPoint\",\"coordinates\":[]}  SA-23-Z_D1  25366123.0    303  \n",
       "3  {\"type\":\"MultiPoint\",\"coordinates\":[]}  SA-23-Z_D1  25366123.0    303  \n",
       "4  {\"type\":\"MultiPoint\",\"coordinates\":[]}  SA-23-Z_D1  25366123.0    303  \n",
       "\n",
       "[5 rows x 23 columns]"
      ]
     },
     "execution_count": 90,
     "metadata": {},
     "output_type": "execute_result"
    }
   ],
   "source": [
    "df_acc, class_values, class_names = get_classes(df_acc, config_classes, level)\n",
    "df_acc.head()"
   ]
  },
  {
   "cell_type": "code",
   "execution_count": 91,
   "metadata": {},
   "outputs": [
    {
     "data": {
      "text/plain": [
       "(712, 23)"
      ]
     },
     "execution_count": 91,
     "metadata": {},
     "output_type": "execute_result"
    }
   ],
   "source": [
    "df_acc.shape"
   ]
  },
  {
   "cell_type": "code",
   "execution_count": 92,
   "metadata": {},
   "outputs": [
    {
     "data": {
      "text/plain": [
       "16"
      ]
     },
     "execution_count": 92,
     "metadata": {},
     "output_type": "execute_result"
    }
   ],
   "source": [
    "len(class_names)"
   ]
  },
  {
   "cell_type": "markdown",
   "metadata": {},
   "source": [
    "#### Pegando os dados das classes"
   ]
  },
  {
   "cell_type": "code",
   "execution_count": 93,
   "metadata": {},
   "outputs": [
    {
     "data": {
      "text/html": [
       "<div>\n",
       "<style scoped>\n",
       "    .dataframe tbody tr th:only-of-type {\n",
       "        vertical-align: middle;\n",
       "    }\n",
       "\n",
       "    .dataframe tbody tr th {\n",
       "        vertical-align: top;\n",
       "    }\n",
       "\n",
       "    .dataframe thead th {\n",
       "        text-align: right;\n",
       "    }\n",
       "</style>\n",
       "<table border=\"1\" class=\"dataframe\">\n",
       "  <thead>\n",
       "    <tr style=\"text-align: right;\">\n",
       "      <th></th>\n",
       "      <th>Class_Names</th>\n",
       "    </tr>\n",
       "    <tr>\n",
       "      <th>Class_Values</th>\n",
       "      <th></th>\n",
       "    </tr>\n",
       "  </thead>\n",
       "  <tbody>\n",
       "    <tr>\n",
       "      <th>3</th>\n",
       "      <td>1.1. Formação Florestal</td>\n",
       "    </tr>\n",
       "    <tr>\n",
       "      <th>4</th>\n",
       "      <td>1.2. Formação Savânica</td>\n",
       "    </tr>\n",
       "    <tr>\n",
       "      <th>5</th>\n",
       "      <td>1.3. Mangue</td>\n",
       "    </tr>\n",
       "    <tr>\n",
       "      <th>6</th>\n",
       "      <td>1.4. Floresta Alagável (beta)</td>\n",
       "    </tr>\n",
       "    <tr>\n",
       "      <th>9</th>\n",
       "      <td>3.3. Floresta Plantada</td>\n",
       "    </tr>\n",
       "    <tr>\n",
       "      <th>11</th>\n",
       "      <td>2.1. Campo Alagado e Área Pantanosa</td>\n",
       "    </tr>\n",
       "    <tr>\n",
       "      <th>12</th>\n",
       "      <td>2.2. Formação Campestre (Campo)</td>\n",
       "    </tr>\n",
       "    <tr>\n",
       "      <th>15</th>\n",
       "      <td>3.1. Pastagem</td>\n",
       "    </tr>\n",
       "    <tr>\n",
       "      <th>18</th>\n",
       "      <td>3.2. Agricultura</td>\n",
       "    </tr>\n",
       "    <tr>\n",
       "      <th>21</th>\n",
       "      <td>3.4. Mosaico de Usos</td>\n",
       "    </tr>\n",
       "    <tr>\n",
       "      <th>23</th>\n",
       "      <td>4.1. Praia e Duna</td>\n",
       "    </tr>\n",
       "    <tr>\n",
       "      <th>24</th>\n",
       "      <td>4.2. Infraestrutura Urbana</td>\n",
       "    </tr>\n",
       "    <tr>\n",
       "      <th>25</th>\n",
       "      <td>4.4. Outra Área não Vegetada</td>\n",
       "    </tr>\n",
       "    <tr>\n",
       "      <th>32</th>\n",
       "      <td>2.3. Apicum</td>\n",
       "    </tr>\n",
       "    <tr>\n",
       "      <th>33</th>\n",
       "      <td>5.1. Rio, Lago e Oceano</td>\n",
       "    </tr>\n",
       "    <tr>\n",
       "      <th>50</th>\n",
       "      <td>2.5. Restinga Herbácea/Arbustiva</td>\n",
       "    </tr>\n",
       "  </tbody>\n",
       "</table>\n",
       "</div>"
      ],
      "text/plain": [
       "                                      Class_Names\n",
       "Class_Values                                     \n",
       "3                         1.1. Formação Florestal\n",
       "4                          1.2. Formação Savânica\n",
       "5                                     1.3. Mangue\n",
       "6                   1.4. Floresta Alagável (beta)\n",
       "9                          3.3. Floresta Plantada\n",
       "11            2.1. Campo Alagado e Área Pantanosa\n",
       "12                2.2. Formação Campestre (Campo)\n",
       "15                                  3.1. Pastagem\n",
       "18                               3.2. Agricultura\n",
       "21                           3.4. Mosaico de Usos\n",
       "23                              4.1. Praia e Duna\n",
       "24                     4.2. Infraestrutura Urbana\n",
       "25                   4.4. Outra Área não Vegetada\n",
       "32                                    2.3. Apicum\n",
       "33                        5.1. Rio, Lago e Oceano\n",
       "50               2.5. Restinga Herbácea/Arbustiva"
      ]
     },
     "execution_count": 93,
     "metadata": {},
     "output_type": "execute_result"
    }
   ],
   "source": [
    "df_by_class = pd.DataFrame ( {\n",
    "    'Class_Names' : class_names,\n",
    "    'Class_Values' : class_values\n",
    "}).set_index('Class_Values')\n",
    "df_by_class"
   ]
  },
  {
   "cell_type": "code",
   "execution_count": 94,
   "metadata": {},
   "outputs": [
    {
     "data": {
      "text/html": [
       "<div>\n",
       "<style scoped>\n",
       "    .dataframe tbody tr th:only-of-type {\n",
       "        vertical-align: middle;\n",
       "    }\n",
       "\n",
       "    .dataframe tbody tr th {\n",
       "        vertical-align: top;\n",
       "    }\n",
       "\n",
       "    .dataframe thead th {\n",
       "        text-align: right;\n",
       "    }\n",
       "</style>\n",
       "<table border=\"1\" class=\"dataframe\">\n",
       "  <thead>\n",
       "    <tr style=\"text-align: right;\">\n",
       "      <th></th>\n",
       "      <th>Class_Names</th>\n",
       "      <th>qt_class</th>\n",
       "    </tr>\n",
       "    <tr>\n",
       "      <th>Class_Values</th>\n",
       "      <th></th>\n",
       "      <th></th>\n",
       "    </tr>\n",
       "  </thead>\n",
       "  <tbody>\n",
       "    <tr>\n",
       "      <th>3</th>\n",
       "      <td>1.1. Formação Florestal</td>\n",
       "      <td>290.0</td>\n",
       "    </tr>\n",
       "    <tr>\n",
       "      <th>4</th>\n",
       "      <td>1.2. Formação Savânica</td>\n",
       "      <td>104.0</td>\n",
       "    </tr>\n",
       "    <tr>\n",
       "      <th>5</th>\n",
       "      <td>1.3. Mangue</td>\n",
       "      <td>32.0</td>\n",
       "    </tr>\n",
       "    <tr>\n",
       "      <th>6</th>\n",
       "      <td>1.4. Floresta Alagável (beta)</td>\n",
       "      <td>29.0</td>\n",
       "    </tr>\n",
       "    <tr>\n",
       "      <th>9</th>\n",
       "      <td>3.3. Floresta Plantada</td>\n",
       "      <td>3.0</td>\n",
       "    </tr>\n",
       "    <tr>\n",
       "      <th>11</th>\n",
       "      <td>2.1. Campo Alagado e Área Pantanosa</td>\n",
       "      <td>59.0</td>\n",
       "    </tr>\n",
       "    <tr>\n",
       "      <th>12</th>\n",
       "      <td>2.2. Formação Campestre (Campo)</td>\n",
       "      <td>12.0</td>\n",
       "    </tr>\n",
       "    <tr>\n",
       "      <th>15</th>\n",
       "      <td>3.1. Pastagem</td>\n",
       "      <td>92.0</td>\n",
       "    </tr>\n",
       "    <tr>\n",
       "      <th>18</th>\n",
       "      <td>3.2. Agricultura</td>\n",
       "      <td>13.0</td>\n",
       "    </tr>\n",
       "    <tr>\n",
       "      <th>21</th>\n",
       "      <td>3.4. Mosaico de Usos</td>\n",
       "      <td>18.0</td>\n",
       "    </tr>\n",
       "    <tr>\n",
       "      <th>23</th>\n",
       "      <td>4.1. Praia e Duna</td>\n",
       "      <td>14.0</td>\n",
       "    </tr>\n",
       "    <tr>\n",
       "      <th>24</th>\n",
       "      <td>4.2. Infraestrutura Urbana</td>\n",
       "      <td>10.0</td>\n",
       "    </tr>\n",
       "    <tr>\n",
       "      <th>25</th>\n",
       "      <td>4.4. Outra Área não Vegetada</td>\n",
       "      <td>5.0</td>\n",
       "    </tr>\n",
       "    <tr>\n",
       "      <th>32</th>\n",
       "      <td>2.3. Apicum</td>\n",
       "      <td>5.0</td>\n",
       "    </tr>\n",
       "    <tr>\n",
       "      <th>33</th>\n",
       "      <td>5.1. Rio, Lago e Oceano</td>\n",
       "      <td>26.0</td>\n",
       "    </tr>\n",
       "    <tr>\n",
       "      <th>50</th>\n",
       "      <td>2.5. Restinga Herbácea/Arbustiva</td>\n",
       "      <td>NaN</td>\n",
       "    </tr>\n",
       "  </tbody>\n",
       "</table>\n",
       "</div>"
      ],
      "text/plain": [
       "                                      Class_Names  qt_class\n",
       "Class_Values                                               \n",
       "3                         1.1. Formação Florestal     290.0\n",
       "4                          1.2. Formação Savânica     104.0\n",
       "5                                     1.3. Mangue      32.0\n",
       "6                   1.4. Floresta Alagável (beta)      29.0\n",
       "9                          3.3. Floresta Plantada       3.0\n",
       "11            2.1. Campo Alagado e Área Pantanosa      59.0\n",
       "12                2.2. Formação Campestre (Campo)      12.0\n",
       "15                                  3.1. Pastagem      92.0\n",
       "18                               3.2. Agricultura      13.0\n",
       "21                           3.4. Mosaico de Usos      18.0\n",
       "23                              4.1. Praia e Duna      14.0\n",
       "24                     4.2. Infraestrutura Urbana      10.0\n",
       "25                   4.4. Outra Área não Vegetada       5.0\n",
       "32                                    2.3. Apicum       5.0\n",
       "33                        5.1. Rio, Lago e Oceano      26.0\n",
       "50               2.5. Restinga Herbácea/Arbustiva       NaN"
      ]
     },
     "execution_count": 94,
     "metadata": {},
     "output_type": "execute_result"
    }
   ],
   "source": [
    "df_by_class['qt_class'] = df_acc['classification'].value_counts()\n",
    "df_by_class"
   ]
  },
  {
   "cell_type": "code",
   "execution_count": 95,
   "metadata": {},
   "outputs": [],
   "source": [
    "df_by_class['qt_reference'] = df_acc['reference'].value_counts()"
   ]
  },
  {
   "cell_type": "code",
   "execution_count": 96,
   "metadata": {},
   "outputs": [
    {
     "data": {
      "text/html": [
       "<div>\n",
       "<style scoped>\n",
       "    .dataframe tbody tr th:only-of-type {\n",
       "        vertical-align: middle;\n",
       "    }\n",
       "\n",
       "    .dataframe tbody tr th {\n",
       "        vertical-align: top;\n",
       "    }\n",
       "\n",
       "    .dataframe thead th {\n",
       "        text-align: right;\n",
       "    }\n",
       "</style>\n",
       "<table border=\"1\" class=\"dataframe\">\n",
       "  <thead>\n",
       "    <tr style=\"text-align: right;\">\n",
       "      <th></th>\n",
       "      <th>Class_Names</th>\n",
       "      <th>qt_class</th>\n",
       "      <th>qt_reference</th>\n",
       "    </tr>\n",
       "    <tr>\n",
       "      <th>Class_Values</th>\n",
       "      <th></th>\n",
       "      <th></th>\n",
       "      <th></th>\n",
       "    </tr>\n",
       "  </thead>\n",
       "  <tbody>\n",
       "    <tr>\n",
       "      <th>3</th>\n",
       "      <td>1.1. Formação Florestal</td>\n",
       "      <td>290.0</td>\n",
       "      <td>300.0</td>\n",
       "    </tr>\n",
       "    <tr>\n",
       "      <th>4</th>\n",
       "      <td>1.2. Formação Savânica</td>\n",
       "      <td>104.0</td>\n",
       "      <td>117.0</td>\n",
       "    </tr>\n",
       "    <tr>\n",
       "      <th>5</th>\n",
       "      <td>1.3. Mangue</td>\n",
       "      <td>32.0</td>\n",
       "      <td>17.0</td>\n",
       "    </tr>\n",
       "    <tr>\n",
       "      <th>6</th>\n",
       "      <td>1.4. Floresta Alagável (beta)</td>\n",
       "      <td>29.0</td>\n",
       "      <td>NaN</td>\n",
       "    </tr>\n",
       "    <tr>\n",
       "      <th>9</th>\n",
       "      <td>3.3. Floresta Plantada</td>\n",
       "      <td>3.0</td>\n",
       "      <td>4.0</td>\n",
       "    </tr>\n",
       "    <tr>\n",
       "      <th>11</th>\n",
       "      <td>2.1. Campo Alagado e Área Pantanosa</td>\n",
       "      <td>59.0</td>\n",
       "      <td>55.0</td>\n",
       "    </tr>\n",
       "    <tr>\n",
       "      <th>12</th>\n",
       "      <td>2.2. Formação Campestre (Campo)</td>\n",
       "      <td>12.0</td>\n",
       "      <td>26.0</td>\n",
       "    </tr>\n",
       "    <tr>\n",
       "      <th>15</th>\n",
       "      <td>3.1. Pastagem</td>\n",
       "      <td>92.0</td>\n",
       "      <td>106.0</td>\n",
       "    </tr>\n",
       "    <tr>\n",
       "      <th>18</th>\n",
       "      <td>3.2. Agricultura</td>\n",
       "      <td>13.0</td>\n",
       "      <td>13.0</td>\n",
       "    </tr>\n",
       "    <tr>\n",
       "      <th>21</th>\n",
       "      <td>3.4. Mosaico de Usos</td>\n",
       "      <td>18.0</td>\n",
       "      <td>10.0</td>\n",
       "    </tr>\n",
       "    <tr>\n",
       "      <th>23</th>\n",
       "      <td>4.1. Praia e Duna</td>\n",
       "      <td>14.0</td>\n",
       "      <td>14.0</td>\n",
       "    </tr>\n",
       "    <tr>\n",
       "      <th>24</th>\n",
       "      <td>4.2. Infraestrutura Urbana</td>\n",
       "      <td>10.0</td>\n",
       "      <td>10.0</td>\n",
       "    </tr>\n",
       "    <tr>\n",
       "      <th>25</th>\n",
       "      <td>4.4. Outra Área não Vegetada</td>\n",
       "      <td>5.0</td>\n",
       "      <td>5.0</td>\n",
       "    </tr>\n",
       "    <tr>\n",
       "      <th>32</th>\n",
       "      <td>2.3. Apicum</td>\n",
       "      <td>5.0</td>\n",
       "      <td>3.0</td>\n",
       "    </tr>\n",
       "    <tr>\n",
       "      <th>33</th>\n",
       "      <td>5.1. Rio, Lago e Oceano</td>\n",
       "      <td>26.0</td>\n",
       "      <td>20.0</td>\n",
       "    </tr>\n",
       "    <tr>\n",
       "      <th>50</th>\n",
       "      <td>2.5. Restinga Herbácea/Arbustiva</td>\n",
       "      <td>NaN</td>\n",
       "      <td>12.0</td>\n",
       "    </tr>\n",
       "  </tbody>\n",
       "</table>\n",
       "</div>"
      ],
      "text/plain": [
       "                                      Class_Names  qt_class  qt_reference\n",
       "Class_Values                                                             \n",
       "3                         1.1. Formação Florestal     290.0         300.0\n",
       "4                          1.2. Formação Savânica     104.0         117.0\n",
       "5                                     1.3. Mangue      32.0          17.0\n",
       "6                   1.4. Floresta Alagável (beta)      29.0           NaN\n",
       "9                          3.3. Floresta Plantada       3.0           4.0\n",
       "11            2.1. Campo Alagado e Área Pantanosa      59.0          55.0\n",
       "12                2.2. Formação Campestre (Campo)      12.0          26.0\n",
       "15                                  3.1. Pastagem      92.0         106.0\n",
       "18                               3.2. Agricultura      13.0          13.0\n",
       "21                           3.4. Mosaico de Usos      18.0          10.0\n",
       "23                              4.1. Praia e Duna      14.0          14.0\n",
       "24                     4.2. Infraestrutura Urbana      10.0          10.0\n",
       "25                   4.4. Outra Área não Vegetada       5.0           5.0\n",
       "32                                    2.3. Apicum       5.0           3.0\n",
       "33                        5.1. Rio, Lago e Oceano      26.0          20.0\n",
       "50               2.5. Restinga Herbácea/Arbustiva       NaN          12.0"
      ]
     },
     "execution_count": 96,
     "metadata": {},
     "output_type": "execute_result"
    }
   ],
   "source": [
    "df_by_class"
   ]
  },
  {
   "cell_type": "markdown",
   "metadata": {},
   "source": [
    "aqui, vou substituir os nas por zero, ja que é zero a quantidade de classificados"
   ]
  },
  {
   "cell_type": "code",
   "execution_count": 103,
   "metadata": {},
   "outputs": [
    {
     "data": {
      "text/html": [
       "<div>\n",
       "<style scoped>\n",
       "    .dataframe tbody tr th:only-of-type {\n",
       "        vertical-align: middle;\n",
       "    }\n",
       "\n",
       "    .dataframe tbody tr th {\n",
       "        vertical-align: top;\n",
       "    }\n",
       "\n",
       "    .dataframe thead th {\n",
       "        text-align: right;\n",
       "    }\n",
       "</style>\n",
       "<table border=\"1\" class=\"dataframe\">\n",
       "  <thead>\n",
       "    <tr style=\"text-align: right;\">\n",
       "      <th></th>\n",
       "      <th>Class_Names</th>\n",
       "      <th>qt_class</th>\n",
       "      <th>qt_reference</th>\n",
       "    </tr>\n",
       "    <tr>\n",
       "      <th>Class_Values</th>\n",
       "      <th></th>\n",
       "      <th></th>\n",
       "      <th></th>\n",
       "    </tr>\n",
       "  </thead>\n",
       "  <tbody>\n",
       "    <tr>\n",
       "      <th>3</th>\n",
       "      <td>1.1. Formação Florestal</td>\n",
       "      <td>290.0</td>\n",
       "      <td>300.0</td>\n",
       "    </tr>\n",
       "    <tr>\n",
       "      <th>4</th>\n",
       "      <td>1.2. Formação Savânica</td>\n",
       "      <td>104.0</td>\n",
       "      <td>117.0</td>\n",
       "    </tr>\n",
       "    <tr>\n",
       "      <th>5</th>\n",
       "      <td>1.3. Mangue</td>\n",
       "      <td>32.0</td>\n",
       "      <td>17.0</td>\n",
       "    </tr>\n",
       "    <tr>\n",
       "      <th>6</th>\n",
       "      <td>1.4. Floresta Alagável (beta)</td>\n",
       "      <td>29.0</td>\n",
       "      <td>0.0</td>\n",
       "    </tr>\n",
       "    <tr>\n",
       "      <th>9</th>\n",
       "      <td>3.3. Floresta Plantada</td>\n",
       "      <td>3.0</td>\n",
       "      <td>4.0</td>\n",
       "    </tr>\n",
       "    <tr>\n",
       "      <th>11</th>\n",
       "      <td>2.1. Campo Alagado e Área Pantanosa</td>\n",
       "      <td>59.0</td>\n",
       "      <td>55.0</td>\n",
       "    </tr>\n",
       "    <tr>\n",
       "      <th>12</th>\n",
       "      <td>2.2. Formação Campestre (Campo)</td>\n",
       "      <td>12.0</td>\n",
       "      <td>26.0</td>\n",
       "    </tr>\n",
       "    <tr>\n",
       "      <th>15</th>\n",
       "      <td>3.1. Pastagem</td>\n",
       "      <td>92.0</td>\n",
       "      <td>106.0</td>\n",
       "    </tr>\n",
       "    <tr>\n",
       "      <th>18</th>\n",
       "      <td>3.2. Agricultura</td>\n",
       "      <td>13.0</td>\n",
       "      <td>13.0</td>\n",
       "    </tr>\n",
       "    <tr>\n",
       "      <th>21</th>\n",
       "      <td>3.4. Mosaico de Usos</td>\n",
       "      <td>18.0</td>\n",
       "      <td>10.0</td>\n",
       "    </tr>\n",
       "    <tr>\n",
       "      <th>23</th>\n",
       "      <td>4.1. Praia e Duna</td>\n",
       "      <td>14.0</td>\n",
       "      <td>14.0</td>\n",
       "    </tr>\n",
       "    <tr>\n",
       "      <th>24</th>\n",
       "      <td>4.2. Infraestrutura Urbana</td>\n",
       "      <td>10.0</td>\n",
       "      <td>10.0</td>\n",
       "    </tr>\n",
       "    <tr>\n",
       "      <th>25</th>\n",
       "      <td>4.4. Outra Área não Vegetada</td>\n",
       "      <td>5.0</td>\n",
       "      <td>5.0</td>\n",
       "    </tr>\n",
       "    <tr>\n",
       "      <th>32</th>\n",
       "      <td>2.3. Apicum</td>\n",
       "      <td>5.0</td>\n",
       "      <td>3.0</td>\n",
       "    </tr>\n",
       "    <tr>\n",
       "      <th>33</th>\n",
       "      <td>5.1. Rio, Lago e Oceano</td>\n",
       "      <td>26.0</td>\n",
       "      <td>20.0</td>\n",
       "    </tr>\n",
       "    <tr>\n",
       "      <th>50</th>\n",
       "      <td>2.5. Restinga Herbácea/Arbustiva</td>\n",
       "      <td>0.0</td>\n",
       "      <td>12.0</td>\n",
       "    </tr>\n",
       "  </tbody>\n",
       "</table>\n",
       "</div>"
      ],
      "text/plain": [
       "                                      Class_Names  qt_class  qt_reference\n",
       "Class_Values                                                             \n",
       "3                         1.1. Formação Florestal     290.0         300.0\n",
       "4                          1.2. Formação Savânica     104.0         117.0\n",
       "5                                     1.3. Mangue      32.0          17.0\n",
       "6                   1.4. Floresta Alagável (beta)      29.0           0.0\n",
       "9                          3.3. Floresta Plantada       3.0           4.0\n",
       "11            2.1. Campo Alagado e Área Pantanosa      59.0          55.0\n",
       "12                2.2. Formação Campestre (Campo)      12.0          26.0\n",
       "15                                  3.1. Pastagem      92.0         106.0\n",
       "18                               3.2. Agricultura      13.0          13.0\n",
       "21                           3.4. Mosaico de Usos      18.0          10.0\n",
       "23                              4.1. Praia e Duna      14.0          14.0\n",
       "24                     4.2. Infraestrutura Urbana      10.0          10.0\n",
       "25                   4.4. Outra Área não Vegetada       5.0           5.0\n",
       "32                                    2.3. Apicum       5.0           3.0\n",
       "33                        5.1. Rio, Lago e Oceano      26.0          20.0\n",
       "50               2.5. Restinga Herbácea/Arbustiva       0.0          12.0"
      ]
     },
     "execution_count": 103,
     "metadata": {},
     "output_type": "execute_result"
    }
   ],
   "source": [
    "df_by_class.fillna(0, inplace=True)\n",
    "df_by_class"
   ]
  },
  {
   "cell_type": "code",
   "execution_count": 104,
   "metadata": {},
   "outputs": [
    {
     "data": {
      "text/html": [
       "<div>\n",
       "<style scoped>\n",
       "    .dataframe tbody tr th:only-of-type {\n",
       "        vertical-align: middle;\n",
       "    }\n",
       "\n",
       "    .dataframe tbody tr th {\n",
       "        vertical-align: top;\n",
       "    }\n",
       "\n",
       "    .dataframe thead th {\n",
       "        text-align: right;\n",
       "    }\n",
       "</style>\n",
       "<table border=\"1\" class=\"dataframe\">\n",
       "  <thead>\n",
       "    <tr style=\"text-align: right;\">\n",
       "      <th></th>\n",
       "      <th>Class_Names</th>\n",
       "      <th>qt_class</th>\n",
       "      <th>qt_reference</th>\n",
       "    </tr>\n",
       "    <tr>\n",
       "      <th>Class_Values</th>\n",
       "      <th></th>\n",
       "      <th></th>\n",
       "      <th></th>\n",
       "    </tr>\n",
       "  </thead>\n",
       "  <tbody>\n",
       "    <tr>\n",
       "      <th>3</th>\n",
       "      <td>1.1. Formação Florestal</td>\n",
       "      <td>290.0</td>\n",
       "      <td>300.0</td>\n",
       "    </tr>\n",
       "    <tr>\n",
       "      <th>4</th>\n",
       "      <td>1.2. Formação Savânica</td>\n",
       "      <td>104.0</td>\n",
       "      <td>117.0</td>\n",
       "    </tr>\n",
       "    <tr>\n",
       "      <th>15</th>\n",
       "      <td>3.1. Pastagem</td>\n",
       "      <td>92.0</td>\n",
       "      <td>106.0</td>\n",
       "    </tr>\n",
       "    <tr>\n",
       "      <th>11</th>\n",
       "      <td>2.1. Campo Alagado e Área Pantanosa</td>\n",
       "      <td>59.0</td>\n",
       "      <td>55.0</td>\n",
       "    </tr>\n",
       "    <tr>\n",
       "      <th>5</th>\n",
       "      <td>1.3. Mangue</td>\n",
       "      <td>32.0</td>\n",
       "      <td>17.0</td>\n",
       "    </tr>\n",
       "    <tr>\n",
       "      <th>6</th>\n",
       "      <td>1.4. Floresta Alagável (beta)</td>\n",
       "      <td>29.0</td>\n",
       "      <td>0.0</td>\n",
       "    </tr>\n",
       "    <tr>\n",
       "      <th>33</th>\n",
       "      <td>5.1. Rio, Lago e Oceano</td>\n",
       "      <td>26.0</td>\n",
       "      <td>20.0</td>\n",
       "    </tr>\n",
       "    <tr>\n",
       "      <th>21</th>\n",
       "      <td>3.4. Mosaico de Usos</td>\n",
       "      <td>18.0</td>\n",
       "      <td>10.0</td>\n",
       "    </tr>\n",
       "    <tr>\n",
       "      <th>23</th>\n",
       "      <td>4.1. Praia e Duna</td>\n",
       "      <td>14.0</td>\n",
       "      <td>14.0</td>\n",
       "    </tr>\n",
       "    <tr>\n",
       "      <th>18</th>\n",
       "      <td>3.2. Agricultura</td>\n",
       "      <td>13.0</td>\n",
       "      <td>13.0</td>\n",
       "    </tr>\n",
       "    <tr>\n",
       "      <th>12</th>\n",
       "      <td>2.2. Formação Campestre (Campo)</td>\n",
       "      <td>12.0</td>\n",
       "      <td>26.0</td>\n",
       "    </tr>\n",
       "    <tr>\n",
       "      <th>24</th>\n",
       "      <td>4.2. Infraestrutura Urbana</td>\n",
       "      <td>10.0</td>\n",
       "      <td>10.0</td>\n",
       "    </tr>\n",
       "    <tr>\n",
       "      <th>32</th>\n",
       "      <td>2.3. Apicum</td>\n",
       "      <td>5.0</td>\n",
       "      <td>3.0</td>\n",
       "    </tr>\n",
       "    <tr>\n",
       "      <th>25</th>\n",
       "      <td>4.4. Outra Área não Vegetada</td>\n",
       "      <td>5.0</td>\n",
       "      <td>5.0</td>\n",
       "    </tr>\n",
       "    <tr>\n",
       "      <th>9</th>\n",
       "      <td>3.3. Floresta Plantada</td>\n",
       "      <td>3.0</td>\n",
       "      <td>4.0</td>\n",
       "    </tr>\n",
       "    <tr>\n",
       "      <th>50</th>\n",
       "      <td>2.5. Restinga Herbácea/Arbustiva</td>\n",
       "      <td>0.0</td>\n",
       "      <td>12.0</td>\n",
       "    </tr>\n",
       "  </tbody>\n",
       "</table>\n",
       "</div>"
      ],
      "text/plain": [
       "                                      Class_Names  qt_class  qt_reference\n",
       "Class_Values                                                             \n",
       "3                         1.1. Formação Florestal     290.0         300.0\n",
       "4                          1.2. Formação Savânica     104.0         117.0\n",
       "15                                  3.1. Pastagem      92.0         106.0\n",
       "11            2.1. Campo Alagado e Área Pantanosa      59.0          55.0\n",
       "5                                     1.3. Mangue      32.0          17.0\n",
       "6                   1.4. Floresta Alagável (beta)      29.0           0.0\n",
       "33                        5.1. Rio, Lago e Oceano      26.0          20.0\n",
       "21                           3.4. Mosaico de Usos      18.0          10.0\n",
       "23                              4.1. Praia e Duna      14.0          14.0\n",
       "18                               3.2. Agricultura      13.0          13.0\n",
       "12                2.2. Formação Campestre (Campo)      12.0          26.0\n",
       "24                     4.2. Infraestrutura Urbana      10.0          10.0\n",
       "32                                    2.3. Apicum       5.0           3.0\n",
       "25                   4.4. Outra Área não Vegetada       5.0           5.0\n",
       "9                          3.3. Floresta Plantada       3.0           4.0\n",
       "50               2.5. Restinga Herbácea/Arbustiva       0.0          12.0"
      ]
     },
     "execution_count": 104,
     "metadata": {},
     "output_type": "execute_result"
    }
   ],
   "source": [
    "df_by_class.sort_values('qt_class', ascending=False)"
   ]
  },
  {
   "cell_type": "markdown",
   "metadata": {},
   "source": [
    "#### Formatacao"
   ]
  },
  {
   "cell_type": "code",
   "execution_count": 105,
   "metadata": {},
   "outputs": [],
   "source": [
    "df_by_class_formatar = df_by_class.copy(deep=True)"
   ]
  },
  {
   "cell_type": "code",
   "execution_count": 106,
   "metadata": {},
   "outputs": [],
   "source": [
    "df_by_class_formatar.columns = ['Classe', 'Quantidade Classificada', 'Quantidade de Referência']\n",
    "df_by_class_formatar.index.name = 'id'"
   ]
  },
  {
   "cell_type": "code",
   "execution_count": 107,
   "metadata": {},
   "outputs": [
    {
     "data": {
      "text/html": [
       "<div>\n",
       "<style scoped>\n",
       "    .dataframe tbody tr th:only-of-type {\n",
       "        vertical-align: middle;\n",
       "    }\n",
       "\n",
       "    .dataframe tbody tr th {\n",
       "        vertical-align: top;\n",
       "    }\n",
       "\n",
       "    .dataframe thead th {\n",
       "        text-align: right;\n",
       "    }\n",
       "</style>\n",
       "<table border=\"1\" class=\"dataframe\">\n",
       "  <thead>\n",
       "    <tr style=\"text-align: right;\">\n",
       "      <th></th>\n",
       "      <th>Classe</th>\n",
       "      <th>Quantidade Classificada</th>\n",
       "      <th>Quantidade de Referência</th>\n",
       "    </tr>\n",
       "    <tr>\n",
       "      <th>id</th>\n",
       "      <th></th>\n",
       "      <th></th>\n",
       "      <th></th>\n",
       "    </tr>\n",
       "  </thead>\n",
       "  <tbody>\n",
       "    <tr>\n",
       "      <th>3</th>\n",
       "      <td>1.1. Formação Florestal</td>\n",
       "      <td>290.0</td>\n",
       "      <td>300.0</td>\n",
       "    </tr>\n",
       "    <tr>\n",
       "      <th>4</th>\n",
       "      <td>1.2. Formação Savânica</td>\n",
       "      <td>104.0</td>\n",
       "      <td>117.0</td>\n",
       "    </tr>\n",
       "    <tr>\n",
       "      <th>5</th>\n",
       "      <td>1.3. Mangue</td>\n",
       "      <td>32.0</td>\n",
       "      <td>17.0</td>\n",
       "    </tr>\n",
       "    <tr>\n",
       "      <th>6</th>\n",
       "      <td>1.4. Floresta Alagável (beta)</td>\n",
       "      <td>29.0</td>\n",
       "      <td>0.0</td>\n",
       "    </tr>\n",
       "    <tr>\n",
       "      <th>9</th>\n",
       "      <td>3.3. Floresta Plantada</td>\n",
       "      <td>3.0</td>\n",
       "      <td>4.0</td>\n",
       "    </tr>\n",
       "    <tr>\n",
       "      <th>11</th>\n",
       "      <td>2.1. Campo Alagado e Área Pantanosa</td>\n",
       "      <td>59.0</td>\n",
       "      <td>55.0</td>\n",
       "    </tr>\n",
       "    <tr>\n",
       "      <th>12</th>\n",
       "      <td>2.2. Formação Campestre (Campo)</td>\n",
       "      <td>12.0</td>\n",
       "      <td>26.0</td>\n",
       "    </tr>\n",
       "    <tr>\n",
       "      <th>15</th>\n",
       "      <td>3.1. Pastagem</td>\n",
       "      <td>92.0</td>\n",
       "      <td>106.0</td>\n",
       "    </tr>\n",
       "    <tr>\n",
       "      <th>18</th>\n",
       "      <td>3.2. Agricultura</td>\n",
       "      <td>13.0</td>\n",
       "      <td>13.0</td>\n",
       "    </tr>\n",
       "    <tr>\n",
       "      <th>21</th>\n",
       "      <td>3.4. Mosaico de Usos</td>\n",
       "      <td>18.0</td>\n",
       "      <td>10.0</td>\n",
       "    </tr>\n",
       "    <tr>\n",
       "      <th>23</th>\n",
       "      <td>4.1. Praia e Duna</td>\n",
       "      <td>14.0</td>\n",
       "      <td>14.0</td>\n",
       "    </tr>\n",
       "    <tr>\n",
       "      <th>24</th>\n",
       "      <td>4.2. Infraestrutura Urbana</td>\n",
       "      <td>10.0</td>\n",
       "      <td>10.0</td>\n",
       "    </tr>\n",
       "    <tr>\n",
       "      <th>25</th>\n",
       "      <td>4.4. Outra Área não Vegetada</td>\n",
       "      <td>5.0</td>\n",
       "      <td>5.0</td>\n",
       "    </tr>\n",
       "    <tr>\n",
       "      <th>32</th>\n",
       "      <td>2.3. Apicum</td>\n",
       "      <td>5.0</td>\n",
       "      <td>3.0</td>\n",
       "    </tr>\n",
       "    <tr>\n",
       "      <th>33</th>\n",
       "      <td>5.1. Rio, Lago e Oceano</td>\n",
       "      <td>26.0</td>\n",
       "      <td>20.0</td>\n",
       "    </tr>\n",
       "    <tr>\n",
       "      <th>50</th>\n",
       "      <td>2.5. Restinga Herbácea/Arbustiva</td>\n",
       "      <td>0.0</td>\n",
       "      <td>12.0</td>\n",
       "    </tr>\n",
       "  </tbody>\n",
       "</table>\n",
       "</div>"
      ],
      "text/plain": [
       "                                 Classe  Quantidade Classificada  \\\n",
       "id                                                                 \n",
       "3               1.1. Formação Florestal                    290.0   \n",
       "4                1.2. Formação Savânica                    104.0   \n",
       "5                           1.3. Mangue                     32.0   \n",
       "6         1.4. Floresta Alagável (beta)                     29.0   \n",
       "9                3.3. Floresta Plantada                      3.0   \n",
       "11  2.1. Campo Alagado e Área Pantanosa                     59.0   \n",
       "12      2.2. Formação Campestre (Campo)                     12.0   \n",
       "15                        3.1. Pastagem                     92.0   \n",
       "18                     3.2. Agricultura                     13.0   \n",
       "21                 3.4. Mosaico de Usos                     18.0   \n",
       "23                    4.1. Praia e Duna                     14.0   \n",
       "24           4.2. Infraestrutura Urbana                     10.0   \n",
       "25         4.4. Outra Área não Vegetada                      5.0   \n",
       "32                          2.3. Apicum                      5.0   \n",
       "33              5.1. Rio, Lago e Oceano                     26.0   \n",
       "50     2.5. Restinga Herbácea/Arbustiva                      0.0   \n",
       "\n",
       "    Quantidade de Referência  \n",
       "id                            \n",
       "3                      300.0  \n",
       "4                      117.0  \n",
       "5                       17.0  \n",
       "6                        0.0  \n",
       "9                        4.0  \n",
       "11                      55.0  \n",
       "12                      26.0  \n",
       "15                     106.0  \n",
       "18                      13.0  \n",
       "21                      10.0  \n",
       "23                      14.0  \n",
       "24                      10.0  \n",
       "25                       5.0  \n",
       "32                       3.0  \n",
       "33                      20.0  \n",
       "50                      12.0  "
      ]
     },
     "execution_count": 107,
     "metadata": {},
     "output_type": "execute_result"
    }
   ],
   "source": [
    "df_by_class_formatar"
   ]
  },
  {
   "cell_type": "code",
   "execution_count": 108,
   "metadata": {},
   "outputs": [
    {
     "ename": "ImportError",
     "evalue": "Missing optional dependency 'Jinja2'. DataFrame.style requires jinja2. Use pip or conda to install Jinja2.",
     "output_type": "error",
     "traceback": [
      "\u001b[0;31m---------------------------------------------------------------------------\u001b[0m",
      "\u001b[0;31mModuleNotFoundError\u001b[0m                       Traceback (most recent call last)",
      "File \u001b[0;32m~/dev/acuracia_ma/.venv/lib/python3.10/site-packages/pandas/compat/_optional.py:135\u001b[0m, in \u001b[0;36mimport_optional_dependency\u001b[0;34m(name, extra, errors, min_version)\u001b[0m\n\u001b[1;32m    134\u001b[0m \u001b[38;5;28;01mtry\u001b[39;00m:\n\u001b[0;32m--> 135\u001b[0m     module \u001b[38;5;241m=\u001b[39m \u001b[43mimportlib\u001b[49m\u001b[38;5;241;43m.\u001b[39;49m\u001b[43mimport_module\u001b[49m\u001b[43m(\u001b[49m\u001b[43mname\u001b[49m\u001b[43m)\u001b[49m\n\u001b[1;32m    136\u001b[0m \u001b[38;5;28;01mexcept\u001b[39;00m \u001b[38;5;167;01mImportError\u001b[39;00m:\n",
      "File \u001b[0;32m/usr/lib/python3.10/importlib/__init__.py:126\u001b[0m, in \u001b[0;36mimport_module\u001b[0;34m(name, package)\u001b[0m\n\u001b[1;32m    125\u001b[0m         level \u001b[38;5;241m+\u001b[39m\u001b[38;5;241m=\u001b[39m \u001b[38;5;241m1\u001b[39m\n\u001b[0;32m--> 126\u001b[0m \u001b[38;5;28;01mreturn\u001b[39;00m \u001b[43m_bootstrap\u001b[49m\u001b[38;5;241;43m.\u001b[39;49m\u001b[43m_gcd_import\u001b[49m\u001b[43m(\u001b[49m\u001b[43mname\u001b[49m\u001b[43m[\u001b[49m\u001b[43mlevel\u001b[49m\u001b[43m:\u001b[49m\u001b[43m]\u001b[49m\u001b[43m,\u001b[49m\u001b[43m \u001b[49m\u001b[43mpackage\u001b[49m\u001b[43m,\u001b[49m\u001b[43m \u001b[49m\u001b[43mlevel\u001b[49m\u001b[43m)\u001b[49m\n",
      "File \u001b[0;32m<frozen importlib._bootstrap>:1050\u001b[0m, in \u001b[0;36m_gcd_import\u001b[0;34m(name, package, level)\u001b[0m\n",
      "File \u001b[0;32m<frozen importlib._bootstrap>:1027\u001b[0m, in \u001b[0;36m_find_and_load\u001b[0;34m(name, import_)\u001b[0m\n",
      "File \u001b[0;32m<frozen importlib._bootstrap>:1004\u001b[0m, in \u001b[0;36m_find_and_load_unlocked\u001b[0;34m(name, import_)\u001b[0m\n",
      "\u001b[0;31mModuleNotFoundError\u001b[0m: No module named 'jinja2'",
      "\nDuring handling of the above exception, another exception occurred:\n",
      "\u001b[0;31mImportError\u001b[0m                               Traceback (most recent call last)",
      "Cell \u001b[0;32mIn[108], line 1\u001b[0m\n\u001b[0;32m----> 1\u001b[0m s_by_class \u001b[38;5;241m=\u001b[39m \u001b[43mdf_by_class_formatar\u001b[49m\u001b[38;5;241;43m.\u001b[39;49m\u001b[43mstyle\u001b[49m\n\u001b[1;32m      2\u001b[0m s_by_class\n",
      "File \u001b[0;32m~/dev/acuracia_ma/.venv/lib/python3.10/site-packages/pandas/core/frame.py:1442\u001b[0m, in \u001b[0;36mDataFrame.style\u001b[0;34m(self)\u001b[0m\n\u001b[1;32m   1422\u001b[0m \u001b[38;5;129m@property\u001b[39m\n\u001b[1;32m   1423\u001b[0m \u001b[38;5;28;01mdef\u001b[39;00m \u001b[38;5;21mstyle\u001b[39m(\u001b[38;5;28mself\u001b[39m) \u001b[38;5;241m-\u001b[39m\u001b[38;5;241m>\u001b[39m Styler:\n\u001b[1;32m   1424\u001b[0m \u001b[38;5;250m    \u001b[39m\u001b[38;5;124;03m\"\"\"\u001b[39;00m\n\u001b[1;32m   1425\u001b[0m \u001b[38;5;124;03m    Returns a Styler object.\u001b[39;00m\n\u001b[1;32m   1426\u001b[0m \n\u001b[0;32m   (...)\u001b[0m\n\u001b[1;32m   1440\u001b[0m \u001b[38;5;124;03m    `Table Visualization <../../user_guide/style.ipynb>`_ for more examples.\u001b[39;00m\n\u001b[1;32m   1441\u001b[0m \u001b[38;5;124;03m    \"\"\"\u001b[39;00m\n\u001b[0;32m-> 1442\u001b[0m     \u001b[38;5;28;01mfrom\u001b[39;00m \u001b[38;5;21;01mpandas\u001b[39;00m\u001b[38;5;21;01m.\u001b[39;00m\u001b[38;5;21;01mio\u001b[39;00m\u001b[38;5;21;01m.\u001b[39;00m\u001b[38;5;21;01mformats\u001b[39;00m\u001b[38;5;21;01m.\u001b[39;00m\u001b[38;5;21;01mstyle\u001b[39;00m \u001b[38;5;28;01mimport\u001b[39;00m Styler\n\u001b[1;32m   1444\u001b[0m     \u001b[38;5;28;01mreturn\u001b[39;00m Styler(\u001b[38;5;28mself\u001b[39m)\n",
      "File \u001b[0;32m~/dev/acuracia_ma/.venv/lib/python3.10/site-packages/pandas/io/formats/style.py:44\u001b[0m\n\u001b[1;32m     40\u001b[0m \u001b[38;5;28;01mfrom\u001b[39;00m \u001b[38;5;21;01mpandas\u001b[39;00m\u001b[38;5;21;01m.\u001b[39;00m\u001b[38;5;21;01mcore\u001b[39;00m\u001b[38;5;21;01m.\u001b[39;00m\u001b[38;5;21;01mshared_docs\u001b[39;00m \u001b[38;5;28;01mimport\u001b[39;00m _shared_docs\n\u001b[1;32m     42\u001b[0m \u001b[38;5;28;01mfrom\u001b[39;00m \u001b[38;5;21;01mpandas\u001b[39;00m\u001b[38;5;21;01m.\u001b[39;00m\u001b[38;5;21;01mio\u001b[39;00m\u001b[38;5;21;01m.\u001b[39;00m\u001b[38;5;21;01mformats\u001b[39;00m\u001b[38;5;21;01m.\u001b[39;00m\u001b[38;5;21;01mformat\u001b[39;00m \u001b[38;5;28;01mimport\u001b[39;00m save_to_buffer\n\u001b[0;32m---> 44\u001b[0m jinja2 \u001b[38;5;241m=\u001b[39m \u001b[43mimport_optional_dependency\u001b[49m\u001b[43m(\u001b[49m\u001b[38;5;124;43m\"\u001b[39;49m\u001b[38;5;124;43mjinja2\u001b[39;49m\u001b[38;5;124;43m\"\u001b[39;49m\u001b[43m,\u001b[49m\u001b[43m \u001b[49m\u001b[43mextra\u001b[49m\u001b[38;5;241;43m=\u001b[39;49m\u001b[38;5;124;43m\"\u001b[39;49m\u001b[38;5;124;43mDataFrame.style requires jinja2.\u001b[39;49m\u001b[38;5;124;43m\"\u001b[39;49m\u001b[43m)\u001b[49m\n\u001b[1;32m     46\u001b[0m \u001b[38;5;28;01mfrom\u001b[39;00m \u001b[38;5;21;01mpandas\u001b[39;00m\u001b[38;5;21;01m.\u001b[39;00m\u001b[38;5;21;01mio\u001b[39;00m\u001b[38;5;21;01m.\u001b[39;00m\u001b[38;5;21;01mformats\u001b[39;00m\u001b[38;5;21;01m.\u001b[39;00m\u001b[38;5;21;01mstyle_render\u001b[39;00m \u001b[38;5;28;01mimport\u001b[39;00m (\n\u001b[1;32m     47\u001b[0m     CSSProperties,\n\u001b[1;32m     48\u001b[0m     CSSStyles,\n\u001b[0;32m   (...)\u001b[0m\n\u001b[1;32m     56\u001b[0m     refactor_levels,\n\u001b[1;32m     57\u001b[0m )\n\u001b[1;32m     59\u001b[0m \u001b[38;5;28;01mif\u001b[39;00m TYPE_CHECKING:\n",
      "File \u001b[0;32m~/dev/acuracia_ma/.venv/lib/python3.10/site-packages/pandas/compat/_optional.py:138\u001b[0m, in \u001b[0;36mimport_optional_dependency\u001b[0;34m(name, extra, errors, min_version)\u001b[0m\n\u001b[1;32m    136\u001b[0m \u001b[38;5;28;01mexcept\u001b[39;00m \u001b[38;5;167;01mImportError\u001b[39;00m:\n\u001b[1;32m    137\u001b[0m     \u001b[38;5;28;01mif\u001b[39;00m errors \u001b[38;5;241m==\u001b[39m \u001b[38;5;124m\"\u001b[39m\u001b[38;5;124mraise\u001b[39m\u001b[38;5;124m\"\u001b[39m:\n\u001b[0;32m--> 138\u001b[0m         \u001b[38;5;28;01mraise\u001b[39;00m \u001b[38;5;167;01mImportError\u001b[39;00m(msg)\n\u001b[1;32m    139\u001b[0m     \u001b[38;5;28;01mreturn\u001b[39;00m \u001b[38;5;28;01mNone\u001b[39;00m\n\u001b[1;32m    141\u001b[0m \u001b[38;5;66;03m# Handle submodules: if we have submodule, grab parent module from sys.modules\u001b[39;00m\n",
      "\u001b[0;31mImportError\u001b[0m: Missing optional dependency 'Jinja2'. DataFrame.style requires jinja2. Use pip or conda to install Jinja2."
     ]
    }
   ],
   "source": [
    "s_by_class = df_by_class_formatar.style\n",
    "s_by_class"
   ]
  },
  {
   "cell_type": "markdown",
   "metadata": {},
   "source": [
    "## Analise da acuracia"
   ]
  }
 ],
 "metadata": {
  "kernelspec": {
   "display_name": ".venv",
   "language": "python",
   "name": "python3"
  },
  "language_info": {
   "codemirror_mode": {
    "name": "ipython",
    "version": 3
   },
   "file_extension": ".py",
   "mimetype": "text/x-python",
   "name": "python",
   "nbconvert_exporter": "python",
   "pygments_lexer": "ipython3",
   "version": "3.10.12"
  }
 },
 "nbformat": 4,
 "nbformat_minor": 2
}
