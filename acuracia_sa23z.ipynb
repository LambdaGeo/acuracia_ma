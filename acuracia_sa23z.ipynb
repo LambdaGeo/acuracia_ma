{
 "cells": [
  {
   "cell_type": "markdown",
   "metadata": {},
   "source": [
    "# Avaliação de desempenho"
   ]
  },
  {
   "cell_type": "markdown",
   "metadata": {
    "vscode": {
     "languageId": "plaintext"
    }
   },
   "source": [
    "## Imports"
   ]
  },
  {
   "cell_type": "code",
   "execution_count": 8,
   "metadata": {},
   "outputs": [],
   "source": [
    "import pandas as pd\n",
    "import numpy as np\n",
    "import json\n"
   ]
  },
  {
   "cell_type": "markdown",
   "metadata": {},
   "source": [
    "## Parâmetros e configurações"
   ]
  },
  {
   "cell_type": "code",
   "execution_count": 21,
   "metadata": {},
   "outputs": [],
   "source": [
    "level = 'l2'\n",
    "path_acc = 'dados/sa23z_acc_mapbiomas_80_2022.csv'\n",
    "path_class_settings = 'dados/config_classes.json'\n",
    "path_strata = 'dados/strata.csv'"
   ]
  },
  {
   "cell_type": "markdown",
   "metadata": {},
   "source": [
    "## Entrada de dados"
   ]
  },
  {
   "cell_type": "markdown",
   "metadata": {},
   "source": [
    "Arquivo com os dados de classificação e os dados de referencia de 2022, gerado no google earth engine:\n",
    "\n",
    "https://code.earthengine.google.com/365963f4785378c21da4b24fa43061fb\n",
    "\n",
    "so adicionado como limite o grupode de cartas SA-23-Z"
   ]
  },
  {
   "cell_type": "code",
   "execution_count": 53,
   "metadata": {},
   "outputs": [
    {
     "data": {
      "text/html": [
       "<div>\n",
       "<style scoped>\n",
       "    .dataframe tbody tr th:only-of-type {\n",
       "        vertical-align: middle;\n",
       "    }\n",
       "\n",
       "    .dataframe tbody tr th {\n",
       "        vertical-align: top;\n",
       "    }\n",
       "\n",
       "    .dataframe thead th {\n",
       "        text-align: right;\n",
       "    }\n",
       "</style>\n",
       "<table border=\"1\" class=\"dataframe\">\n",
       "  <thead>\n",
       "    <tr style=\"text-align: right;\">\n",
       "      <th></th>\n",
       "      <th>system:index</th>\n",
       "      <th>AMOSTRAS</th>\n",
       "      <th>AMOSTRA_AM</th>\n",
       "      <th>BioNB</th>\n",
       "      <th>CARTA_2</th>\n",
       "      <th>CLASS_2022</th>\n",
       "      <th>DECLIVIDAD</th>\n",
       "      <th>LAT</th>\n",
       "      <th>LON</th>\n",
       "      <th>NEW_PROB</th>\n",
       "      <th>NEW_WEIGHT</th>\n",
       "      <th>PESO_VOT</th>\n",
       "      <th>PROB_AMOS2</th>\n",
       "      <th>StateNB</th>\n",
       "      <th>TARGETID</th>\n",
       "      <th>VAL_PESO</th>\n",
       "      <th>classification</th>\n",
       "      <th>reference</th>\n",
       "      <th>year</th>\n",
       "      <th>.geo</th>\n",
       "    </tr>\n",
       "  </thead>\n",
       "  <tbody>\n",
       "    <tr>\n",
       "      <th>0</th>\n",
       "      <td>0000000000000000508d_0</td>\n",
       "      <td>NaN</td>\n",
       "      <td>0</td>\n",
       "      <td>1</td>\n",
       "      <td>SA-23-Z</td>\n",
       "      <td>APICUM</td>\n",
       "      <td>D2</td>\n",
       "      <td>-2.368226</td>\n",
       "      <td>-43.544883</td>\n",
       "      <td>0.000011</td>\n",
       "      <td>55301.697925</td>\n",
       "      <td>0.000014</td>\n",
       "      <td>0.000014</td>\n",
       "      <td>21.0</td>\n",
       "      <td>12037</td>\n",
       "      <td>1.0</td>\n",
       "      <td>3</td>\n",
       "      <td>32</td>\n",
       "      <td>2022</td>\n",
       "      <td>{\"type\":\"MultiPoint\",\"coordinates\":[]}</td>\n",
       "    </tr>\n",
       "    <tr>\n",
       "      <th>1</th>\n",
       "      <td>00000000000000004b0e_0</td>\n",
       "      <td>NaN</td>\n",
       "      <td>0</td>\n",
       "      <td>1</td>\n",
       "      <td>SA-23-Z</td>\n",
       "      <td>CAMPO ALAGADO E ÁREA PANTANOSA</td>\n",
       "      <td>D1</td>\n",
       "      <td>-3.951507</td>\n",
       "      <td>-44.961886</td>\n",
       "      <td>0.000012</td>\n",
       "      <td>60305.967634</td>\n",
       "      <td>0.000014</td>\n",
       "      <td>0.000014</td>\n",
       "      <td>21.0</td>\n",
       "      <td>16624</td>\n",
       "      <td>1.0</td>\n",
       "      <td>11</td>\n",
       "      <td>11</td>\n",
       "      <td>2022</td>\n",
       "      <td>{\"type\":\"MultiPoint\",\"coordinates\":[]}</td>\n",
       "    </tr>\n",
       "    <tr>\n",
       "      <th>2</th>\n",
       "      <td>00000000000000004b0f_0</td>\n",
       "      <td>NaN</td>\n",
       "      <td>0</td>\n",
       "      <td>1</td>\n",
       "      <td>SA-23-Z</td>\n",
       "      <td>CAMPO ALAGADO E ÁREA PANTANOSA</td>\n",
       "      <td>D1</td>\n",
       "      <td>-3.691714</td>\n",
       "      <td>-44.849776</td>\n",
       "      <td>0.000012</td>\n",
       "      <td>60305.967634</td>\n",
       "      <td>0.000014</td>\n",
       "      <td>0.000014</td>\n",
       "      <td>21.0</td>\n",
       "      <td>16625</td>\n",
       "      <td>1.0</td>\n",
       "      <td>6</td>\n",
       "      <td>11</td>\n",
       "      <td>2022</td>\n",
       "      <td>{\"type\":\"MultiPoint\",\"coordinates\":[]}</td>\n",
       "    </tr>\n",
       "    <tr>\n",
       "      <th>3</th>\n",
       "      <td>00000000000000004b1b_0</td>\n",
       "      <td>NaN</td>\n",
       "      <td>0</td>\n",
       "      <td>1</td>\n",
       "      <td>SA-23-Z</td>\n",
       "      <td>CAMPO ALAGADO E ÁREA PANTANOSA</td>\n",
       "      <td>D1</td>\n",
       "      <td>-2.823672</td>\n",
       "      <td>-44.723653</td>\n",
       "      <td>0.000012</td>\n",
       "      <td>60305.967634</td>\n",
       "      <td>0.000014</td>\n",
       "      <td>0.000014</td>\n",
       "      <td>21.0</td>\n",
       "      <td>16656</td>\n",
       "      <td>1.0</td>\n",
       "      <td>11</td>\n",
       "      <td>11</td>\n",
       "      <td>2022</td>\n",
       "      <td>{\"type\":\"MultiPoint\",\"coordinates\":[]}</td>\n",
       "    </tr>\n",
       "    <tr>\n",
       "      <th>4</th>\n",
       "      <td>00000000000000004b26_0</td>\n",
       "      <td>Treinamento</td>\n",
       "      <td>1</td>\n",
       "      <td>1</td>\n",
       "      <td>SA-23-Z</td>\n",
       "      <td>CAMPO ALAGADO E ÁREA PANTANOSA</td>\n",
       "      <td>D1</td>\n",
       "      <td>-3.720550</td>\n",
       "      <td>-44.673527</td>\n",
       "      <td>0.000012</td>\n",
       "      <td>60305.967634</td>\n",
       "      <td>0.000014</td>\n",
       "      <td>0.000014</td>\n",
       "      <td>21.0</td>\n",
       "      <td>16694</td>\n",
       "      <td>1.0</td>\n",
       "      <td>6</td>\n",
       "      <td>11</td>\n",
       "      <td>2022</td>\n",
       "      <td>{\"type\":\"MultiPoint\",\"coordinates\":[]}</td>\n",
       "    </tr>\n",
       "  </tbody>\n",
       "</table>\n",
       "</div>"
      ],
      "text/plain": [
       "             system:index     AMOSTRAS  AMOSTRA_AM  BioNB  CARTA_2  \\\n",
       "0  0000000000000000508d_0          NaN           0      1  SA-23-Z   \n",
       "1  00000000000000004b0e_0          NaN           0      1  SA-23-Z   \n",
       "2  00000000000000004b0f_0          NaN           0      1  SA-23-Z   \n",
       "3  00000000000000004b1b_0          NaN           0      1  SA-23-Z   \n",
       "4  00000000000000004b26_0  Treinamento           1      1  SA-23-Z   \n",
       "\n",
       "                       CLASS_2022 DECLIVIDAD       LAT        LON  NEW_PROB  \\\n",
       "0                          APICUM         D2 -2.368226 -43.544883  0.000011   \n",
       "1  CAMPO ALAGADO E ÁREA PANTANOSA         D1 -3.951507 -44.961886  0.000012   \n",
       "2  CAMPO ALAGADO E ÁREA PANTANOSA         D1 -3.691714 -44.849776  0.000012   \n",
       "3  CAMPO ALAGADO E ÁREA PANTANOSA         D1 -2.823672 -44.723653  0.000012   \n",
       "4  CAMPO ALAGADO E ÁREA PANTANOSA         D1 -3.720550 -44.673527  0.000012   \n",
       "\n",
       "     NEW_WEIGHT  PESO_VOT  PROB_AMOS2  StateNB  TARGETID  VAL_PESO  \\\n",
       "0  55301.697925  0.000014    0.000014     21.0     12037       1.0   \n",
       "1  60305.967634  0.000014    0.000014     21.0     16624       1.0   \n",
       "2  60305.967634  0.000014    0.000014     21.0     16625       1.0   \n",
       "3  60305.967634  0.000014    0.000014     21.0     16656       1.0   \n",
       "4  60305.967634  0.000014    0.000014     21.0     16694       1.0   \n",
       "\n",
       "   classification  reference  year                                    .geo  \n",
       "0               3         32  2022  {\"type\":\"MultiPoint\",\"coordinates\":[]}  \n",
       "1              11         11  2022  {\"type\":\"MultiPoint\",\"coordinates\":[]}  \n",
       "2               6         11  2022  {\"type\":\"MultiPoint\",\"coordinates\":[]}  \n",
       "3              11         11  2022  {\"type\":\"MultiPoint\",\"coordinates\":[]}  \n",
       "4               6         11  2022  {\"type\":\"MultiPoint\",\"coordinates\":[]}  "
      ]
     },
     "execution_count": 53,
     "metadata": {},
     "output_type": "execute_result"
    }
   ],
   "source": [
    "df_acc = pd.read_csv(path_acc)\n",
    "df_acc.head()"
   ]
  },
  {
   "cell_type": "markdown",
   "metadata": {},
   "source": [
    "apenas as amostras SA23-Z"
   ]
  },
  {
   "cell_type": "code",
   "execution_count": 54,
   "metadata": {},
   "outputs": [
    {
     "data": {
      "text/plain": [
       "(712, 20)"
      ]
     },
     "execution_count": 54,
     "metadata": {},
     "output_type": "execute_result"
    }
   ],
   "source": [
    "df_acc.shape"
   ]
  },
  {
   "cell_type": "markdown",
   "metadata": {},
   "source": [
    "Configuracao com as classes"
   ]
  },
  {
   "cell_type": "code",
   "execution_count": 55,
   "metadata": {},
   "outputs": [
    {
     "data": {
      "text/plain": [
       "[0, 31, 32, 30, 25, 23, 5, 29]"
      ]
     },
     "execution_count": 55,
     "metadata": {},
     "output_type": "execute_result"
    }
   ],
   "source": [
    "with open(path_class_settings, 'r') as arquivo:\n",
    "    config_classes = json.load(arquivo)\n",
    "config_classes['IGNORED_CLASSES']"
   ]
  },
  {
   "cell_type": "markdown",
   "metadata": {},
   "source": [
    "Para não ignorar essas classes:"
   ]
  },
  {
   "cell_type": "code",
   "execution_count": 56,
   "metadata": {},
   "outputs": [
    {
     "data": {
      "text/plain": [
       "[0]"
      ]
     },
     "execution_count": 56,
     "metadata": {},
     "output_type": "execute_result"
    }
   ],
   "source": [
    "config_classes['IGNORED_CLASSES'] = [0]\n",
    "config_classes['IGNORED_CLASSES']"
   ]
  },
  {
   "cell_type": "markdown",
   "metadata": {},
   "source": [
    "Aqui, não irei usar o arquivo points_strata.csv, pois os dados do target_id estao errados na coleção das amostras"
   ]
  },
  {
   "cell_type": "markdown",
   "metadata": {},
   "source": [
    "pegarei apenas o dadoq que tem a populacao por estrato"
   ]
  },
  {
   "cell_type": "code",
   "execution_count": 57,
   "metadata": {},
   "outputs": [
    {
     "data": {
      "text/html": [
       "<div>\n",
       "<style scoped>\n",
       "    .dataframe tbody tr th:only-of-type {\n",
       "        vertical-align: middle;\n",
       "    }\n",
       "\n",
       "    .dataframe tbody tr th {\n",
       "        vertical-align: top;\n",
       "    }\n",
       "\n",
       "    .dataframe thead th {\n",
       "        text-align: right;\n",
       "    }\n",
       "</style>\n",
       "<table border=\"1\" class=\"dataframe\">\n",
       "  <thead>\n",
       "    <tr style=\"text-align: right;\">\n",
       "      <th></th>\n",
       "      <th>strata_id</th>\n",
       "      <th>pop</th>\n",
       "    </tr>\n",
       "  </thead>\n",
       "  <tbody>\n",
       "    <tr>\n",
       "      <th>0</th>\n",
       "      <td>SH-21-Z_D1</td>\n",
       "      <td>22049360.0</td>\n",
       "    </tr>\n",
       "    <tr>\n",
       "      <th>1</th>\n",
       "      <td>SI-22-V_D1</td>\n",
       "      <td>19367713.0</td>\n",
       "    </tr>\n",
       "    <tr>\n",
       "      <th>2</th>\n",
       "      <td>SF-24-V_D1</td>\n",
       "      <td>4483278.0</td>\n",
       "    </tr>\n",
       "    <tr>\n",
       "      <th>3</th>\n",
       "      <td>SF-23-Z_D1</td>\n",
       "      <td>3193040.0</td>\n",
       "    </tr>\n",
       "    <tr>\n",
       "      <th>4</th>\n",
       "      <td>SC-24-Z_D1</td>\n",
       "      <td>18863275.0</td>\n",
       "    </tr>\n",
       "  </tbody>\n",
       "</table>\n",
       "</div>"
      ],
      "text/plain": [
       "    strata_id         pop\n",
       "0  SH-21-Z_D1  22049360.0\n",
       "1  SI-22-V_D1  19367713.0\n",
       "2  SF-24-V_D1   4483278.0\n",
       "3  SF-23-Z_D1   3193040.0\n",
       "4  SC-24-Z_D1  18863275.0"
      ]
     },
     "execution_count": 57,
     "metadata": {},
     "output_type": "execute_result"
    }
   ],
   "source": [
    "df_strata = pd.read_csv(path_strata)\n",
    "df_strata.head()"
   ]
  },
  {
   "cell_type": "code",
   "execution_count": 58,
   "metadata": {},
   "outputs": [
    {
     "data": {
      "text/plain": [
       "(762, 2)"
      ]
     },
     "execution_count": 58,
     "metadata": {},
     "output_type": "execute_result"
    }
   ],
   "source": [
    "df_strata.shape ## todas os estratos"
   ]
  },
  {
   "cell_type": "markdown",
   "metadata": {},
   "source": [
    "## Tratamento de dados"
   ]
  },
  {
   "cell_type": "markdown",
   "metadata": {},
   "source": [
    "### Gerando a coluna strata_id"
   ]
  },
  {
   "cell_type": "markdown",
   "metadata": {},
   "source": [
    "como os estrato id estao errados nos dados que tive acesso no mapbiomas, vou criar o estrato id com base no dado do estrato e da declividade"
   ]
  },
  {
   "cell_type": "code",
   "execution_count": 60,
   "metadata": {},
   "outputs": [],
   "source": [
    "df_acc['strata_id'] = df_acc[\"CARTA_2\"] + \"_\" + df_acc[\"DECLIVIDAD\"]"
   ]
  },
  {
   "cell_type": "markdown",
   "metadata": {},
   "source": [
    "verificando os estratos"
   ]
  },
  {
   "cell_type": "code",
   "execution_count": 61,
   "metadata": {},
   "outputs": [
    {
     "data": {
      "text/plain": [
       "array(['SA-23-Z_D2', 'SA-23-Z_D1', 'SA-23-Z_D3', 'SA-23-Z_D4',\n",
       "       'SA-23-Z_D6', 'SA-23-Z_D5'], dtype=object)"
      ]
     },
     "execution_count": 61,
     "metadata": {},
     "output_type": "execute_result"
    }
   ],
   "source": [
    "df_acc[\"strata_id\"].unique()"
   ]
  },
  {
   "cell_type": "markdown",
   "metadata": {},
   "source": [
    "### Pegando os dados dado da populacao"
   ]
  },
  {
   "cell_type": "code",
   "execution_count": 62,
   "metadata": {},
   "outputs": [
    {
     "data": {
      "text/html": [
       "<div>\n",
       "<style scoped>\n",
       "    .dataframe tbody tr th:only-of-type {\n",
       "        vertical-align: middle;\n",
       "    }\n",
       "\n",
       "    .dataframe tbody tr th {\n",
       "        vertical-align: top;\n",
       "    }\n",
       "\n",
       "    .dataframe thead th {\n",
       "        text-align: right;\n",
       "    }\n",
       "</style>\n",
       "<table border=\"1\" class=\"dataframe\">\n",
       "  <thead>\n",
       "    <tr style=\"text-align: right;\">\n",
       "      <th></th>\n",
       "      <th>system:index</th>\n",
       "      <th>AMOSTRAS</th>\n",
       "      <th>AMOSTRA_AM</th>\n",
       "      <th>BioNB</th>\n",
       "      <th>CARTA_2</th>\n",
       "      <th>CLASS_2022</th>\n",
       "      <th>DECLIVIDAD</th>\n",
       "      <th>LAT</th>\n",
       "      <th>LON</th>\n",
       "      <th>NEW_PROB</th>\n",
       "      <th>...</th>\n",
       "      <th>PROB_AMOS2</th>\n",
       "      <th>StateNB</th>\n",
       "      <th>TARGETID</th>\n",
       "      <th>VAL_PESO</th>\n",
       "      <th>classification</th>\n",
       "      <th>reference</th>\n",
       "      <th>year</th>\n",
       "      <th>.geo</th>\n",
       "      <th>strata_id</th>\n",
       "      <th>pop</th>\n",
       "    </tr>\n",
       "  </thead>\n",
       "  <tbody>\n",
       "    <tr>\n",
       "      <th>0</th>\n",
       "      <td>0000000000000000508d_0</td>\n",
       "      <td>NaN</td>\n",
       "      <td>0</td>\n",
       "      <td>1</td>\n",
       "      <td>SA-23-Z</td>\n",
       "      <td>APICUM</td>\n",
       "      <td>D2</td>\n",
       "      <td>-2.368226</td>\n",
       "      <td>-43.544883</td>\n",
       "      <td>0.000011</td>\n",
       "      <td>...</td>\n",
       "      <td>0.000014</td>\n",
       "      <td>21.0</td>\n",
       "      <td>12037</td>\n",
       "      <td>1.0</td>\n",
       "      <td>3</td>\n",
       "      <td>32</td>\n",
       "      <td>2022</td>\n",
       "      <td>{\"type\":\"MultiPoint\",\"coordinates\":[]}</td>\n",
       "      <td>SA-23-Z_D2</td>\n",
       "      <td>27861902.0</td>\n",
       "    </tr>\n",
       "    <tr>\n",
       "      <th>1</th>\n",
       "      <td>00000000000000004b0e_0</td>\n",
       "      <td>NaN</td>\n",
       "      <td>0</td>\n",
       "      <td>1</td>\n",
       "      <td>SA-23-Z</td>\n",
       "      <td>CAMPO ALAGADO E ÁREA PANTANOSA</td>\n",
       "      <td>D1</td>\n",
       "      <td>-3.951507</td>\n",
       "      <td>-44.961886</td>\n",
       "      <td>0.000012</td>\n",
       "      <td>...</td>\n",
       "      <td>0.000014</td>\n",
       "      <td>21.0</td>\n",
       "      <td>16624</td>\n",
       "      <td>1.0</td>\n",
       "      <td>11</td>\n",
       "      <td>11</td>\n",
       "      <td>2022</td>\n",
       "      <td>{\"type\":\"MultiPoint\",\"coordinates\":[]}</td>\n",
       "      <td>SA-23-Z_D1</td>\n",
       "      <td>25366123.0</td>\n",
       "    </tr>\n",
       "    <tr>\n",
       "      <th>2</th>\n",
       "      <td>00000000000000004b0f_0</td>\n",
       "      <td>NaN</td>\n",
       "      <td>0</td>\n",
       "      <td>1</td>\n",
       "      <td>SA-23-Z</td>\n",
       "      <td>CAMPO ALAGADO E ÁREA PANTANOSA</td>\n",
       "      <td>D1</td>\n",
       "      <td>-3.691714</td>\n",
       "      <td>-44.849776</td>\n",
       "      <td>0.000012</td>\n",
       "      <td>...</td>\n",
       "      <td>0.000014</td>\n",
       "      <td>21.0</td>\n",
       "      <td>16625</td>\n",
       "      <td>1.0</td>\n",
       "      <td>6</td>\n",
       "      <td>11</td>\n",
       "      <td>2022</td>\n",
       "      <td>{\"type\":\"MultiPoint\",\"coordinates\":[]}</td>\n",
       "      <td>SA-23-Z_D1</td>\n",
       "      <td>25366123.0</td>\n",
       "    </tr>\n",
       "    <tr>\n",
       "      <th>3</th>\n",
       "      <td>00000000000000004b1b_0</td>\n",
       "      <td>NaN</td>\n",
       "      <td>0</td>\n",
       "      <td>1</td>\n",
       "      <td>SA-23-Z</td>\n",
       "      <td>CAMPO ALAGADO E ÁREA PANTANOSA</td>\n",
       "      <td>D1</td>\n",
       "      <td>-2.823672</td>\n",
       "      <td>-44.723653</td>\n",
       "      <td>0.000012</td>\n",
       "      <td>...</td>\n",
       "      <td>0.000014</td>\n",
       "      <td>21.0</td>\n",
       "      <td>16656</td>\n",
       "      <td>1.0</td>\n",
       "      <td>11</td>\n",
       "      <td>11</td>\n",
       "      <td>2022</td>\n",
       "      <td>{\"type\":\"MultiPoint\",\"coordinates\":[]}</td>\n",
       "      <td>SA-23-Z_D1</td>\n",
       "      <td>25366123.0</td>\n",
       "    </tr>\n",
       "    <tr>\n",
       "      <th>4</th>\n",
       "      <td>00000000000000004b26_0</td>\n",
       "      <td>Treinamento</td>\n",
       "      <td>1</td>\n",
       "      <td>1</td>\n",
       "      <td>SA-23-Z</td>\n",
       "      <td>CAMPO ALAGADO E ÁREA PANTANOSA</td>\n",
       "      <td>D1</td>\n",
       "      <td>-3.720550</td>\n",
       "      <td>-44.673527</td>\n",
       "      <td>0.000012</td>\n",
       "      <td>...</td>\n",
       "      <td>0.000014</td>\n",
       "      <td>21.0</td>\n",
       "      <td>16694</td>\n",
       "      <td>1.0</td>\n",
       "      <td>6</td>\n",
       "      <td>11</td>\n",
       "      <td>2022</td>\n",
       "      <td>{\"type\":\"MultiPoint\",\"coordinates\":[]}</td>\n",
       "      <td>SA-23-Z_D1</td>\n",
       "      <td>25366123.0</td>\n",
       "    </tr>\n",
       "  </tbody>\n",
       "</table>\n",
       "<p>5 rows × 22 columns</p>\n",
       "</div>"
      ],
      "text/plain": [
       "             system:index     AMOSTRAS  AMOSTRA_AM  BioNB  CARTA_2  \\\n",
       "0  0000000000000000508d_0          NaN           0      1  SA-23-Z   \n",
       "1  00000000000000004b0e_0          NaN           0      1  SA-23-Z   \n",
       "2  00000000000000004b0f_0          NaN           0      1  SA-23-Z   \n",
       "3  00000000000000004b1b_0          NaN           0      1  SA-23-Z   \n",
       "4  00000000000000004b26_0  Treinamento           1      1  SA-23-Z   \n",
       "\n",
       "                       CLASS_2022 DECLIVIDAD       LAT        LON  NEW_PROB  \\\n",
       "0                          APICUM         D2 -2.368226 -43.544883  0.000011   \n",
       "1  CAMPO ALAGADO E ÁREA PANTANOSA         D1 -3.951507 -44.961886  0.000012   \n",
       "2  CAMPO ALAGADO E ÁREA PANTANOSA         D1 -3.691714 -44.849776  0.000012   \n",
       "3  CAMPO ALAGADO E ÁREA PANTANOSA         D1 -2.823672 -44.723653  0.000012   \n",
       "4  CAMPO ALAGADO E ÁREA PANTANOSA         D1 -3.720550 -44.673527  0.000012   \n",
       "\n",
       "   ...  PROB_AMOS2  StateNB  TARGETID  VAL_PESO  classification  reference  \\\n",
       "0  ...    0.000014     21.0     12037       1.0               3         32   \n",
       "1  ...    0.000014     21.0     16624       1.0              11         11   \n",
       "2  ...    0.000014     21.0     16625       1.0               6         11   \n",
       "3  ...    0.000014     21.0     16656       1.0              11         11   \n",
       "4  ...    0.000014     21.0     16694       1.0               6         11   \n",
       "\n",
       "   year                                    .geo   strata_id         pop  \n",
       "0  2022  {\"type\":\"MultiPoint\",\"coordinates\":[]}  SA-23-Z_D2  27861902.0  \n",
       "1  2022  {\"type\":\"MultiPoint\",\"coordinates\":[]}  SA-23-Z_D1  25366123.0  \n",
       "2  2022  {\"type\":\"MultiPoint\",\"coordinates\":[]}  SA-23-Z_D1  25366123.0  \n",
       "3  2022  {\"type\":\"MultiPoint\",\"coordinates\":[]}  SA-23-Z_D1  25366123.0  \n",
       "4  2022  {\"type\":\"MultiPoint\",\"coordinates\":[]}  SA-23-Z_D1  25366123.0  \n",
       "\n",
       "[5 rows x 22 columns]"
      ]
     },
     "execution_count": 62,
     "metadata": {},
     "output_type": "execute_result"
    }
   ],
   "source": [
    "df_acc = pd.merge(df_acc, df_strata, how='inner', on=\"strata_id\")\n",
    "df_acc.head()"
   ]
  },
  {
   "cell_type": "code",
   "execution_count": 63,
   "metadata": {},
   "outputs": [
    {
     "data": {
      "text/plain": [
       "0    27861902.0\n",
       "1    25366123.0\n",
       "2    25366123.0\n",
       "3    25366123.0\n",
       "4    25366123.0\n",
       "Name: pop, dtype: float64"
      ]
     },
     "execution_count": 63,
     "metadata": {},
     "output_type": "execute_result"
    }
   ],
   "source": [
    "df_acc['pop'].head()"
   ]
  },
  {
   "cell_type": "markdown",
   "metadata": {},
   "source": [
    "### Pegando a quantidade de amostras por estrato"
   ]
  },
  {
   "cell_type": "markdown",
   "metadata": {},
   "source": [
    "contar a quantidade de amostras por estrato"
   ]
  },
  {
   "cell_type": "code",
   "execution_count": 64,
   "metadata": {},
   "outputs": [
    {
     "data": {
      "text/plain": [
       "<Axes: ylabel='strata_id'>"
      ]
     },
     "execution_count": 64,
     "metadata": {},
     "output_type": "execute_result"
    },
    {
     "data": {
      "image/png": "[encoded data removed]",
      "text/plain": [
       "<Figure size 640x480 with 1 Axes>"
      ]
     },
     "metadata": {},
     "output_type": "display_data"
    }
   ],
   "source": [
    "df_acc['strata_id'].value_counts(normalize=True).plot(kind='barh')"
   ]
  },
  {
   "cell_type": "code",
   "execution_count": 65,
   "metadata": {},
   "outputs": [
    {
     "data": {
      "text/html": [
       "<div>\n",
       "<style scoped>\n",
       "    .dataframe tbody tr th:only-of-type {\n",
       "        vertical-align: middle;\n",
       "    }\n",
       "\n",
       "    .dataframe tbody tr th {\n",
       "        vertical-align: top;\n",
       "    }\n",
       "\n",
       "    .dataframe thead th {\n",
       "        text-align: right;\n",
       "    }\n",
       "</style>\n",
       "<table border=\"1\" class=\"dataframe\">\n",
       "  <thead>\n",
       "    <tr style=\"text-align: right;\">\n",
       "      <th></th>\n",
       "      <th>strata_id</th>\n",
       "      <th>n_samp</th>\n",
       "    </tr>\n",
       "  </thead>\n",
       "  <tbody>\n",
       "    <tr>\n",
       "      <th>0</th>\n",
       "      <td>SA-23-Z_D2</td>\n",
       "      <td>305</td>\n",
       "    </tr>\n",
       "    <tr>\n",
       "      <th>1</th>\n",
       "      <td>SA-23-Z_D1</td>\n",
       "      <td>303</td>\n",
       "    </tr>\n",
       "    <tr>\n",
       "      <th>2</th>\n",
       "      <td>SA-23-Z_D3</td>\n",
       "      <td>89</td>\n",
       "    </tr>\n",
       "    <tr>\n",
       "      <th>3</th>\n",
       "      <td>SA-23-Z_D4</td>\n",
       "      <td>13</td>\n",
       "    </tr>\n",
       "    <tr>\n",
       "      <th>4</th>\n",
       "      <td>SA-23-Z_D6</td>\n",
       "      <td>1</td>\n",
       "    </tr>\n",
       "    <tr>\n",
       "      <th>5</th>\n",
       "      <td>SA-23-Z_D5</td>\n",
       "      <td>1</td>\n",
       "    </tr>\n",
       "  </tbody>\n",
       "</table>\n",
       "</div>"
      ],
      "text/plain": [
       "    strata_id  n_samp\n",
       "0  SA-23-Z_D2     305\n",
       "1  SA-23-Z_D1     303\n",
       "2  SA-23-Z_D3      89\n",
       "3  SA-23-Z_D4      13\n",
       "4  SA-23-Z_D6       1\n",
       "5  SA-23-Z_D5       1"
      ]
     },
     "execution_count": 65,
     "metadata": {},
     "output_type": "execute_result"
    }
   ],
   "source": [
    "df_qt_samples = df_acc['strata_id'].value_counts().reset_index(name='n_samp')\n",
    "df_qt_samples"
   ]
  },
  {
   "cell_type": "code",
   "execution_count": 66,
   "metadata": {},
   "outputs": [
    {
     "data": {
      "text/plain": [
       "strata_id    SA-23-Z_D2SA-23-Z_D1SA-23-Z_D3SA-23-Z_D4SA-23-...\n",
       "n_samp                                                     712\n",
       "dtype: object"
      ]
     },
     "execution_count": 66,
     "metadata": {},
     "output_type": "execute_result"
    }
   ],
   "source": [
    "df_qt_samples.sum()"
   ]
  },
  {
   "cell_type": "markdown",
   "metadata": {},
   "source": [
    "depois plotar um mapa os pontos por estrato"
   ]
  },
  {
   "cell_type": "code",
   "execution_count": 67,
   "metadata": {},
   "outputs": [
    {
     "data": {
      "text/html": [
       "<div>\n",
       "<style scoped>\n",
       "    .dataframe tbody tr th:only-of-type {\n",
       "        vertical-align: middle;\n",
       "    }\n",
       "\n",
       "    .dataframe tbody tr th {\n",
       "        vertical-align: top;\n",
       "    }\n",
       "\n",
       "    .dataframe thead th {\n",
       "        text-align: right;\n",
       "    }\n",
       "</style>\n",
       "<table border=\"1\" class=\"dataframe\">\n",
       "  <thead>\n",
       "    <tr style=\"text-align: right;\">\n",
       "      <th></th>\n",
       "      <th>system:index</th>\n",
       "      <th>AMOSTRAS</th>\n",
       "      <th>AMOSTRA_AM</th>\n",
       "      <th>BioNB</th>\n",
       "      <th>CARTA_2</th>\n",
       "      <th>CLASS_2022</th>\n",
       "      <th>DECLIVIDAD</th>\n",
       "      <th>LAT</th>\n",
       "      <th>LON</th>\n",
       "      <th>NEW_PROB</th>\n",
       "      <th>...</th>\n",
       "      <th>StateNB</th>\n",
       "      <th>TARGETID</th>\n",
       "      <th>VAL_PESO</th>\n",
       "      <th>classification</th>\n",
       "      <th>reference</th>\n",
       "      <th>year</th>\n",
       "      <th>.geo</th>\n",
       "      <th>strata_id</th>\n",
       "      <th>pop</th>\n",
       "      <th>n_samp</th>\n",
       "    </tr>\n",
       "  </thead>\n",
       "  <tbody>\n",
       "    <tr>\n",
       "      <th>0</th>\n",
       "      <td>0000000000000000508d_0</td>\n",
       "      <td>NaN</td>\n",
       "      <td>0</td>\n",
       "      <td>1</td>\n",
       "      <td>SA-23-Z</td>\n",
       "      <td>APICUM</td>\n",
       "      <td>D2</td>\n",
       "      <td>-2.368226</td>\n",
       "      <td>-43.544883</td>\n",
       "      <td>0.000011</td>\n",
       "      <td>...</td>\n",
       "      <td>21.0</td>\n",
       "      <td>12037</td>\n",
       "      <td>1.0</td>\n",
       "      <td>3</td>\n",
       "      <td>32</td>\n",
       "      <td>2022</td>\n",
       "      <td>{\"type\":\"MultiPoint\",\"coordinates\":[]}</td>\n",
       "      <td>SA-23-Z_D2</td>\n",
       "      <td>27861902.0</td>\n",
       "      <td>305</td>\n",
       "    </tr>\n",
       "    <tr>\n",
       "      <th>1</th>\n",
       "      <td>00000000000000004b0e_0</td>\n",
       "      <td>NaN</td>\n",
       "      <td>0</td>\n",
       "      <td>1</td>\n",
       "      <td>SA-23-Z</td>\n",
       "      <td>CAMPO ALAGADO E ÁREA PANTANOSA</td>\n",
       "      <td>D1</td>\n",
       "      <td>-3.951507</td>\n",
       "      <td>-44.961886</td>\n",
       "      <td>0.000012</td>\n",
       "      <td>...</td>\n",
       "      <td>21.0</td>\n",
       "      <td>16624</td>\n",
       "      <td>1.0</td>\n",
       "      <td>11</td>\n",
       "      <td>11</td>\n",
       "      <td>2022</td>\n",
       "      <td>{\"type\":\"MultiPoint\",\"coordinates\":[]}</td>\n",
       "      <td>SA-23-Z_D1</td>\n",
       "      <td>25366123.0</td>\n",
       "      <td>303</td>\n",
       "    </tr>\n",
       "    <tr>\n",
       "      <th>2</th>\n",
       "      <td>00000000000000004b0f_0</td>\n",
       "      <td>NaN</td>\n",
       "      <td>0</td>\n",
       "      <td>1</td>\n",
       "      <td>SA-23-Z</td>\n",
       "      <td>CAMPO ALAGADO E ÁREA PANTANOSA</td>\n",
       "      <td>D1</td>\n",
       "      <td>-3.691714</td>\n",
       "      <td>-44.849776</td>\n",
       "      <td>0.000012</td>\n",
       "      <td>...</td>\n",
       "      <td>21.0</td>\n",
       "      <td>16625</td>\n",
       "      <td>1.0</td>\n",
       "      <td>6</td>\n",
       "      <td>11</td>\n",
       "      <td>2022</td>\n",
       "      <td>{\"type\":\"MultiPoint\",\"coordinates\":[]}</td>\n",
       "      <td>SA-23-Z_D1</td>\n",
       "      <td>25366123.0</td>\n",
       "      <td>303</td>\n",
       "    </tr>\n",
       "    <tr>\n",
       "      <th>3</th>\n",
       "      <td>00000000000000004b1b_0</td>\n",
       "      <td>NaN</td>\n",
       "      <td>0</td>\n",
       "      <td>1</td>\n",
       "      <td>SA-23-Z</td>\n",
       "      <td>CAMPO ALAGADO E ÁREA PANTANOSA</td>\n",
       "      <td>D1</td>\n",
       "      <td>-2.823672</td>\n",
       "      <td>-44.723653</td>\n",
       "      <td>0.000012</td>\n",
       "      <td>...</td>\n",
       "      <td>21.0</td>\n",
       "      <td>16656</td>\n",
       "      <td>1.0</td>\n",
       "      <td>11</td>\n",
       "      <td>11</td>\n",
       "      <td>2022</td>\n",
       "      <td>{\"type\":\"MultiPoint\",\"coordinates\":[]}</td>\n",
       "      <td>SA-23-Z_D1</td>\n",
       "      <td>25366123.0</td>\n",
       "      <td>303</td>\n",
       "    </tr>\n",
       "    <tr>\n",
       "      <th>4</th>\n",
       "      <td>00000000000000004b26_0</td>\n",
       "      <td>Treinamento</td>\n",
       "      <td>1</td>\n",
       "      <td>1</td>\n",
       "      <td>SA-23-Z</td>\n",
       "      <td>CAMPO ALAGADO E ÁREA PANTANOSA</td>\n",
       "      <td>D1</td>\n",
       "      <td>-3.720550</td>\n",
       "      <td>-44.673527</td>\n",
       "      <td>0.000012</td>\n",
       "      <td>...</td>\n",
       "      <td>21.0</td>\n",
       "      <td>16694</td>\n",
       "      <td>1.0</td>\n",
       "      <td>6</td>\n",
       "      <td>11</td>\n",
       "      <td>2022</td>\n",
       "      <td>{\"type\":\"MultiPoint\",\"coordinates\":[]}</td>\n",
       "      <td>SA-23-Z_D1</td>\n",
       "      <td>25366123.0</td>\n",
       "      <td>303</td>\n",
       "    </tr>\n",
       "  </tbody>\n",
       "</table>\n",
       "<p>5 rows × 23 columns</p>\n",
       "</div>"
      ],
      "text/plain": [
       "             system:index     AMOSTRAS  AMOSTRA_AM  BioNB  CARTA_2  \\\n",
       "0  0000000000000000508d_0          NaN           0      1  SA-23-Z   \n",
       "1  00000000000000004b0e_0          NaN           0      1  SA-23-Z   \n",
       "2  00000000000000004b0f_0          NaN           0      1  SA-23-Z   \n",
       "3  00000000000000004b1b_0          NaN           0      1  SA-23-Z   \n",
       "4  00000000000000004b26_0  Treinamento           1      1  SA-23-Z   \n",
       "\n",
       "                       CLASS_2022 DECLIVIDAD       LAT        LON  NEW_PROB  \\\n",
       "0                          APICUM         D2 -2.368226 -43.544883  0.000011   \n",
       "1  CAMPO ALAGADO E ÁREA PANTANOSA         D1 -3.951507 -44.961886  0.000012   \n",
       "2  CAMPO ALAGADO E ÁREA PANTANOSA         D1 -3.691714 -44.849776  0.000012   \n",
       "3  CAMPO ALAGADO E ÁREA PANTANOSA         D1 -2.823672 -44.723653  0.000012   \n",
       "4  CAMPO ALAGADO E ÁREA PANTANOSA         D1 -3.720550 -44.673527  0.000012   \n",
       "\n",
       "   ...  StateNB  TARGETID  VAL_PESO  classification  reference  year  \\\n",
       "0  ...     21.0     12037       1.0               3         32  2022   \n",
       "1  ...     21.0     16624       1.0              11         11  2022   \n",
       "2  ...     21.0     16625       1.0               6         11  2022   \n",
       "3  ...     21.0     16656       1.0              11         11  2022   \n",
       "4  ...     21.0     16694       1.0               6         11  2022   \n",
       "\n",
       "                                     .geo   strata_id         pop n_samp  \n",
       "0  {\"type\":\"MultiPoint\",\"coordinates\":[]}  SA-23-Z_D2  27861902.0    305  \n",
       "1  {\"type\":\"MultiPoint\",\"coordinates\":[]}  SA-23-Z_D1  25366123.0    303  \n",
       "2  {\"type\":\"MultiPoint\",\"coordinates\":[]}  SA-23-Z_D1  25366123.0    303  \n",
       "3  {\"type\":\"MultiPoint\",\"coordinates\":[]}  SA-23-Z_D1  25366123.0    303  \n",
       "4  {\"type\":\"MultiPoint\",\"coordinates\":[]}  SA-23-Z_D1  25366123.0    303  \n",
       "\n",
       "[5 rows x 23 columns]"
      ]
     },
     "execution_count": 67,
     "metadata": {},
     "output_type": "execute_result"
    }
   ],
   "source": [
    "df_acc = pd.merge(df_acc, df_qt_samples, on='strata_id')\n",
    "df_acc.head()"
   ]
  },
  {
   "cell_type": "markdown",
   "metadata": {},
   "source": [
    "verificar se esta ok numero de amostras e populacao"
   ]
  },
  {
   "cell_type": "code",
   "execution_count": 69,
   "metadata": {},
   "outputs": [
    {
     "data": {
      "text/html": [
       "<div>\n",
       "<style scoped>\n",
       "    .dataframe tbody tr th:only-of-type {\n",
       "        vertical-align: middle;\n",
       "    }\n",
       "\n",
       "    .dataframe tbody tr th {\n",
       "        vertical-align: top;\n",
       "    }\n",
       "\n",
       "    .dataframe thead th {\n",
       "        text-align: right;\n",
       "    }\n",
       "</style>\n",
       "<table border=\"1\" class=\"dataframe\">\n",
       "  <thead>\n",
       "    <tr style=\"text-align: right;\">\n",
       "      <th></th>\n",
       "      <th>n_samp</th>\n",
       "      <th>pop</th>\n",
       "    </tr>\n",
       "    <tr>\n",
       "      <th>strata_id</th>\n",
       "      <th></th>\n",
       "      <th></th>\n",
       "    </tr>\n",
       "  </thead>\n",
       "  <tbody>\n",
       "    <tr>\n",
       "      <th>SA-23-Z_D1</th>\n",
       "      <td>303</td>\n",
       "      <td>25366123.0</td>\n",
       "    </tr>\n",
       "    <tr>\n",
       "      <th>SA-23-Z_D2</th>\n",
       "      <td>305</td>\n",
       "      <td>27861902.0</td>\n",
       "    </tr>\n",
       "    <tr>\n",
       "      <th>SA-23-Z_D3</th>\n",
       "      <td>89</td>\n",
       "      <td>7842002.0</td>\n",
       "    </tr>\n",
       "    <tr>\n",
       "      <th>SA-23-Z_D4</th>\n",
       "      <td>13</td>\n",
       "      <td>1111132.0</td>\n",
       "    </tr>\n",
       "    <tr>\n",
       "      <th>SA-23-Z_D5</th>\n",
       "      <td>1</td>\n",
       "      <td>4130.0</td>\n",
       "    </tr>\n",
       "    <tr>\n",
       "      <th>SA-23-Z_D6</th>\n",
       "      <td>1</td>\n",
       "      <td>2744.0</td>\n",
       "    </tr>\n",
       "  </tbody>\n",
       "</table>\n",
       "</div>"
      ],
      "text/plain": [
       "            n_samp         pop\n",
       "strata_id                     \n",
       "SA-23-Z_D1     303  25366123.0\n",
       "SA-23-Z_D2     305  27861902.0\n",
       "SA-23-Z_D3      89   7842002.0\n",
       "SA-23-Z_D4      13   1111132.0\n",
       "SA-23-Z_D5       1      4130.0\n",
       "SA-23-Z_D6       1      2744.0"
      ]
     },
     "execution_count": 69,
     "metadata": {},
     "output_type": "execute_result"
    }
   ],
   "source": [
    "df_contagem = df_acc.groupby(\"strata_id\")[['n_samp','pop']].first()\n",
    "df_contagem"
   ]
  },
  {
   "cell_type": "code",
   "execution_count": 70,
   "metadata": {},
   "outputs": [
    {
     "data": {
      "text/plain": [
       "n_samp         712.0\n",
       "pop       62188033.0\n",
       "dtype: float64"
      ]
     },
     "execution_count": 70,
     "metadata": {},
     "output_type": "execute_result"
    }
   ],
   "source": [
    "df_contagem.sum()"
   ]
  }
 ],
 "metadata": {
  "kernelspec": {
   "display_name": ".venv",
   "language": "python",
   "name": "python3"
  },
  "language_info": {
   "codemirror_mode": {
    "name": "ipython",
    "version": 3
   },
   "file_extension": ".py",
   "mimetype": "text/x-python",
   "name": "python",
   "nbconvert_exporter": "python",
   "pygments_lexer": "ipython3",
   "version": "3.10.12"
  }
 },
 "nbformat": 4,
 "nbformat_minor": 2
}
